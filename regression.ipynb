{
 "cells": [
  {
   "attachments": {},
   "cell_type": "markdown",
   "metadata": {},
   "source": [
    "# Introduction to Tensorflow Regression"
   ]
  },
  {
   "cell_type": "code",
   "execution_count": 1,
   "metadata": {},
   "outputs": [],
   "source": [
    "import tensorflow as tf\n",
    "import numpy as np\n",
    "import matplotlib.pyplot as plt\n",
    "import pandas as pd"
   ]
  },
  {
   "attachments": {},
   "cell_type": "markdown",
   "metadata": {},
   "source": [
    "### Creating Dataset"
   ]
  },
  {
   "cell_type": "code",
   "execution_count": 2,
   "metadata": {},
   "outputs": [
    {
     "data": {
      "text/plain": [
       "<matplotlib.collections.PathCollection at 0x2117aba2a40>"
      ]
     },
     "execution_count": 2,
     "metadata": {},
     "output_type": "execute_result"
    },
    {
     "data": {
      "image/png": "[encoded data removed]",
      "text/plain": [
       "<Figure size 640x480 with 1 Axes>"
      ]
     },
     "metadata": {},
     "output_type": "display_data"
    }
   ],
   "source": [
    "# Create features\n",
    "X = np.arange(-7,15,3,dtype=np.float16)\n",
    "\n",
    "# Create labels\n",
    "y = np.arange(3,25,3,dtype=np.float16)\n",
    "\n",
    "# Visualize\n",
    "plt.scatter(X,y)"
   ]
  },
  {
   "cell_type": "code",
   "execution_count": 3,
   "metadata": {},
   "outputs": [
    {
     "data": {
      "text/plain": [
       "array([ True,  True,  True,  True,  True,  True,  True,  True])"
      ]
     },
     "execution_count": 3,
     "metadata": {},
     "output_type": "execute_result"
    }
   ],
   "source": [
    "y == X+10"
   ]
  },
  {
   "attachments": {},
   "cell_type": "markdown",
   "metadata": {},
   "source": [
    "### Input and Output Shapes"
   ]
  },
  {
   "cell_type": "code",
   "execution_count": 4,
   "metadata": {},
   "outputs": [
    {
     "data": {
      "text/plain": [
       "((8,), (8,))"
      ]
     },
     "execution_count": 4,
     "metadata": {},
     "output_type": "execute_result"
    }
   ],
   "source": [
    "# Input and Output Shapes\n",
    "X.shape, y.shape"
   ]
  },
  {
   "cell_type": "code",
   "execution_count": 5,
   "metadata": {},
   "outputs": [
    {
     "data": {
      "text/plain": [
       "()"
      ]
     },
     "execution_count": 5,
     "metadata": {},
     "output_type": "execute_result"
    }
   ],
   "source": [
    "# Shape of one input element\n",
    "X[0].shape\n",
    "\n",
    "# Shape of one output element\n",
    "y[0].shape\n",
    "\n",
    "# NOTE: The shape is () since we are dealing with tensors"
   ]
  },
  {
   "cell_type": "code",
   "execution_count": 6,
   "metadata": {},
   "outputs": [
    {
     "data": {
      "text/plain": [
       "0"
      ]
     },
     "execution_count": 6,
     "metadata": {},
     "output_type": "execute_result"
    }
   ],
   "source": [
    "# Scalars have dimension 0\n",
    "X[0].ndim"
   ]
  },
  {
   "cell_type": "code",
   "execution_count": 7,
   "metadata": {},
   "outputs": [
    {
     "data": {
      "text/plain": [
       "(<tf.Tensor: shape=(8,), dtype=float16, numpy=array([-7., -4., -1.,  2.,  5.,  8., 11., 14.], dtype=float16)>,\n",
       " <tf.Tensor: shape=(8,), dtype=float16, numpy=array([ 3.,  6.,  9., 12., 15., 18., 21., 24.], dtype=float16)>)"
      ]
     },
     "execution_count": 7,
     "metadata": {},
     "output_type": "execute_result"
    }
   ],
   "source": [
    "# Turn our NumPy arrays into tensors with dtype float32\n",
    "X = tf.constant(X)\n",
    "y = tf.constant(y)\n",
    "X,y"
   ]
  },
  {
   "cell_type": "code",
   "execution_count": 8,
   "metadata": {},
   "outputs": [
    {
     "data": {
      "text/plain": [
       "(TensorShape([]), TensorShape([]))"
      ]
     },
     "execution_count": 8,
     "metadata": {},
     "output_type": "execute_result"
    }
   ],
   "source": [
    "input_shape = X[0].shape\n",
    "output_shape = y[0].shape\n",
    "input_shape,output_shape"
   ]
  },
  {
   "cell_type": "code",
   "execution_count": 9,
   "metadata": {},
   "outputs": [
    {
     "data": {
      "text/plain": [
       "<matplotlib.collections.PathCollection at 0x2117aafbee0>"
      ]
     },
     "execution_count": 9,
     "metadata": {},
     "output_type": "execute_result"
    },
    {
     "data": {
      "image/png": "[encoded data removed]",
      "text/plain": [
       "<Figure size 640x480 with 1 Axes>"
      ]
     },
     "metadata": {},
     "output_type": "display_data"
    }
   ],
   "source": [
    "plt.scatter(X,y)"
   ]
  },
  {
   "attachments": {},
   "cell_type": "markdown",
   "metadata": {},
   "source": [
    "### Modelling with TF  - Experiment, Experiment, Experiment\n",
    "1. Creating a model - define input and output layers, and the hidde layers of the NN\n",
    "2. Compiling the model - Define the loss functions, optimizer and evaluation metrics\n",
    "3. Fitting the model - Letting the model find the patterns between X & y (Features and labels)"
   ]
  },
  {
   "attachments": {},
   "cell_type": "markdown",
   "metadata": {},
   "source": [
    "Method 1:\n",
    "- Add layers after creating a model from Sequential class"
   ]
  },
  {
   "cell_type": "code",
   "execution_count": 10,
   "metadata": {},
   "outputs": [
    {
     "name": "stdout",
     "output_type": "stream",
     "text": [
      "Epoch 1/10\n",
      "1/1 [==============================] - 1s 1s/step - loss: 20.2370 - mae: 20.2370\n",
      "Epoch 2/10\n",
      "1/1 [==============================] - 0s 3ms/step - loss: 19.9558 - mae: 19.9558\n",
      "Epoch 3/10\n",
      "1/1 [==============================] - 0s 4ms/step - loss: 19.6745 - mae: 19.6745\n",
      "Epoch 4/10\n",
      "1/1 [==============================] - 0s 4ms/step - loss: 19.3933 - mae: 19.3933\n",
      "Epoch 5/10\n",
      "1/1 [==============================] - 0s 3ms/step - loss: 19.1120 - mae: 19.1120\n",
      "Epoch 6/10\n",
      "1/1 [==============================] - 0s 4ms/step - loss: 18.8308 - mae: 18.8308\n",
      "Epoch 7/10\n",
      "1/1 [==============================] - 0s 3ms/step - loss: 18.5495 - mae: 18.5495\n",
      "Epoch 8/10\n",
      "1/1 [==============================] - 0s 3ms/step - loss: 18.2683 - mae: 18.2683\n",
      "Epoch 9/10\n",
      "1/1 [==============================] - 0s 4ms/step - loss: 17.9870 - mae: 17.9870\n",
      "Epoch 10/10\n",
      "1/1 [==============================] - 0s 3ms/step - loss: 17.7058 - mae: 17.7058\n"
     ]
    },
    {
     "data": {
      "text/plain": [
       "<keras.callbacks.History at 0x2111fb174f0>"
      ]
     },
     "execution_count": 10,
     "metadata": {},
     "output_type": "execute_result"
    }
   ],
   "source": [
    "# Set random seed\n",
    "tf.random.set_seed(42)\n",
    "\n",
    "# 1. Create a model with Sequential\n",
    "model_1 = tf.keras.Sequential()\n",
    "model_1.add(tf.keras.layers.Dense(1, input_shape=(1,)))\n",
    "\n",
    "# 2. Compile the model\n",
    "model_1.compile(loss=tf.keras.losses.mae, # mae is mean absolute error\n",
    "                optimizer=tf.keras.optimizers.SGD(), # SGD is stochastic gradient descent\n",
    "                metrics=[\"mae\"])\n",
    "\n",
    "# 3. Fit the model\n",
    "model_1.fit(X,y,epochs=10)"
   ]
  },
  {
   "attachments": {},
   "cell_type": "markdown",
   "metadata": {},
   "source": [
    "Method 2:\n",
    "- Add the layers in the Sequential API while creating the model itself"
   ]
  },
  {
   "cell_type": "code",
   "execution_count": 11,
   "metadata": {},
   "outputs": [
    {
     "name": "stdout",
     "output_type": "stream",
     "text": [
      "Epoch 1/10\n",
      "1/1 [==============================] - 0s 162ms/step - loss: 13.6343 - mae: 13.6343\n",
      "Epoch 2/10\n",
      "1/1 [==============================] - 0s 5ms/step - loss: 13.5018 - mae: 13.5018\n",
      "Epoch 3/10\n",
      "1/1 [==============================] - 0s 4ms/step - loss: 13.3693 - mae: 13.3693\n",
      "Epoch 4/10\n",
      "1/1 [==============================] - 0s 3ms/step - loss: 13.2368 - mae: 13.2368\n",
      "Epoch 5/10\n",
      "1/1 [==============================] - 0s 4ms/step - loss: 13.1043 - mae: 13.1043\n",
      "Epoch 6/10\n",
      "1/1 [==============================] - 0s 3ms/step - loss: 12.9718 - mae: 12.9718\n",
      "Epoch 7/10\n",
      "1/1 [==============================] - 0s 3ms/step - loss: 12.8393 - mae: 12.8393\n",
      "Epoch 8/10\n",
      "1/1 [==============================] - 0s 4ms/step - loss: 12.7068 - mae: 12.7068\n",
      "Epoch 9/10\n",
      "1/1 [==============================] - 0s 4ms/step - loss: 12.5743 - mae: 12.5743\n",
      "Epoch 10/10\n",
      "1/1 [==============================] - 0s 3ms/step - loss: 12.4418 - mae: 12.4418\n"
     ]
    },
    {
     "data": {
      "text/plain": [
       "<keras.callbacks.History at 0x211219c3b50>"
      ]
     },
     "execution_count": 11,
     "metadata": {},
     "output_type": "execute_result"
    }
   ],
   "source": [
    "# Set random seed\n",
    "tf.random.set_seed(42)\n",
    "\n",
    "# 1. Create a model using the Sequential API\n",
    "model_2 = tf.keras.Sequential([\n",
    "    tf.keras.layers.Dense(1,input_shape = (1,)) # It is 1, since we pass only 1 data pt\n",
    "])\n",
    "\n",
    "# 2. Compile the model\n",
    "model_2.compile(loss=tf.keras.losses.mae, # mae is mean absolute error\n",
    "                optimizer=tf.keras.optimizers.SGD(), # SGD is stochastic gradient descent\n",
    "                metrics=[\"mae\"])\n",
    "\n",
    "# 3. Fit the model\n",
    "model_2.fit(X,y,epochs=10)"
   ]
  },
  {
   "attachments": {},
   "cell_type": "markdown",
   "metadata": {},
   "source": [
    "#### Predict using the trained Model"
   ]
  },
  {
   "cell_type": "code",
   "execution_count": 12,
   "metadata": {},
   "outputs": [
    {
     "name": "stdout",
     "output_type": "stream",
     "text": [
      "1/1 [==============================] - 0s 72ms/step\n",
      "1/1 [==============================] - 0s 39ms/step\n"
     ]
    },
    {
     "data": {
      "text/plain": [
       "(array([[-15.243748]], dtype=float32), array([[5.3977523]], dtype=float32))"
      ]
     },
     "execution_count": 12,
     "metadata": {},
     "output_type": "execute_result"
    }
   ],
   "source": [
    "model_1.predict([17.0]), model_2.predict([17.0])"
   ]
  },
  {
   "attachments": {},
   "cell_type": "markdown",
   "metadata": {},
   "source": [
    "### Improving the Model\n",
    "- We can improve our model by modifying the steps we took to create a model\n",
    "\n",
    "1. **Creating a model** \n",
    "    - Add more layers\n",
    "    - Increase the number of neurons in the layers\n",
    "    - Change the activation function in a each layer\n",
    "2. **Compiling a model**\n",
    "    - Change the optimizer\n",
    "    - Change the loss function\n",
    "    - Change the *learning rate* of optimizer\n",
    "3. **Fitting a model**\n",
    "    - Change the number of epochs\n",
    "    - Provide more data to learn from"
   ]
  },
  {
   "cell_type": "code",
   "execution_count": 13,
   "metadata": {},
   "outputs": [
    {
     "name": "stdout",
     "output_type": "stream",
     "text": [
      "Epoch 1/100\n",
      "1/1 [==============================] - 0s 181ms/step - loss: 8.9762 - mae: 8.9762\n",
      "Epoch 2/100\n",
      "1/1 [==============================] - 0s 3ms/step - loss: 8.8437 - mae: 8.8437\n",
      "Epoch 3/100\n",
      "1/1 [==============================] - 0s 2ms/step - loss: 8.7112 - mae: 8.7112\n",
      "Epoch 4/100\n",
      "1/1 [==============================] - 0s 3ms/step - loss: 8.5787 - mae: 8.5787\n",
      "Epoch 5/100\n",
      "1/1 [==============================] - 0s 3ms/step - loss: 8.4462 - mae: 8.4462\n",
      "Epoch 6/100\n",
      "1/1 [==============================] - 0s 3ms/step - loss: 8.3137 - mae: 8.3137\n",
      "Epoch 7/100\n",
      "1/1 [==============================] - 0s 3ms/step - loss: 8.1812 - mae: 8.1812\n",
      "Epoch 8/100\n",
      "1/1 [==============================] - 0s 3ms/step - loss: 8.0487 - mae: 8.0487\n",
      "Epoch 9/100\n",
      "1/1 [==============================] - 0s 3ms/step - loss: 7.9162 - mae: 7.9162\n",
      "Epoch 10/100\n",
      "1/1 [==============================] - 0s 3ms/step - loss: 7.7837 - mae: 7.7837\n",
      "Epoch 11/100\n",
      "1/1 [==============================] - 0s 3ms/step - loss: 7.6512 - mae: 7.6512\n",
      "Epoch 12/100\n",
      "1/1 [==============================] - 0s 2ms/step - loss: 7.5187 - mae: 7.5187\n",
      "Epoch 13/100\n",
      "1/1 [==============================] - 0s 4ms/step - loss: 7.4100 - mae: 7.4100\n",
      "Epoch 14/100\n",
      "1/1 [==============================] - 0s 3ms/step - loss: 7.4044 - mae: 7.4044\n",
      "Epoch 15/100\n",
      "1/1 [==============================] - 0s 4ms/step - loss: 7.3988 - mae: 7.3988\n",
      "Epoch 16/100\n",
      "1/1 [==============================] - 0s 3ms/step - loss: 7.3931 - mae: 7.3931\n",
      "Epoch 17/100\n",
      "1/1 [==============================] - 0s 2ms/step - loss: 7.3875 - mae: 7.3875\n",
      "Epoch 18/100\n",
      "1/1 [==============================] - 0s 3ms/step - loss: 7.3819 - mae: 7.3819\n",
      "Epoch 19/100\n",
      "1/1 [==============================] - 0s 3ms/step - loss: 7.3763 - mae: 7.3763\n",
      "Epoch 20/100\n",
      "1/1 [==============================] - 0s 3ms/step - loss: 7.3706 - mae: 7.3706\n",
      "Epoch 21/100\n",
      "1/1 [==============================] - 0s 3ms/step - loss: 7.3650 - mae: 7.3650\n",
      "Epoch 22/100\n",
      "1/1 [==============================] - 0s 2ms/step - loss: 7.3594 - mae: 7.3594\n",
      "Epoch 23/100\n",
      "1/1 [==============================] - 0s 3ms/step - loss: 7.3538 - mae: 7.3538\n",
      "Epoch 24/100\n",
      "1/1 [==============================] - 0s 3ms/step - loss: 7.3481 - mae: 7.3481\n",
      "Epoch 25/100\n",
      "1/1 [==============================] - 0s 3ms/step - loss: 7.3425 - mae: 7.3425\n",
      "Epoch 26/100\n",
      "1/1 [==============================] - 0s 4ms/step - loss: 7.3369 - mae: 7.3369\n",
      "Epoch 27/100\n",
      "1/1 [==============================] - 0s 3ms/step - loss: 7.3313 - mae: 7.3313\n",
      "Epoch 28/100\n",
      "1/1 [==============================] - 0s 3ms/step - loss: 7.3256 - mae: 7.3256\n",
      "Epoch 29/100\n",
      "1/1 [==============================] - 0s 2ms/step - loss: 7.3200 - mae: 7.3200\n",
      "Epoch 30/100\n",
      "1/1 [==============================] - 0s 4ms/step - loss: 7.3144 - mae: 7.3144\n",
      "Epoch 31/100\n",
      "1/1 [==============================] - 0s 4ms/step - loss: 7.3088 - mae: 7.3088\n",
      "Epoch 32/100\n",
      "1/1 [==============================] - 0s 3ms/step - loss: 7.3031 - mae: 7.3031\n",
      "Epoch 33/100\n",
      "1/1 [==============================] - 0s 4ms/step - loss: 7.2975 - mae: 7.2975\n",
      "Epoch 34/100\n",
      "1/1 [==============================] - 0s 3ms/step - loss: 7.2919 - mae: 7.2919\n",
      "Epoch 35/100\n",
      "1/1 [==============================] - 0s 2ms/step - loss: 7.2863 - mae: 7.2863\n",
      "Epoch 36/100\n",
      "1/1 [==============================] - 0s 2ms/step - loss: 7.2806 - mae: 7.2806\n",
      "Epoch 37/100\n",
      "1/1 [==============================] - 0s 3ms/step - loss: 7.2750 - mae: 7.2750\n",
      "Epoch 38/100\n",
      "1/1 [==============================] - 0s 2ms/step - loss: 7.2694 - mae: 7.2694\n",
      "Epoch 39/100\n",
      "1/1 [==============================] - 0s 2ms/step - loss: 7.2638 - mae: 7.2638\n",
      "Epoch 40/100\n",
      "1/1 [==============================] - 0s 3ms/step - loss: 7.2581 - mae: 7.2581\n",
      "Epoch 41/100\n",
      "1/1 [==============================] - 0s 3ms/step - loss: 7.2525 - mae: 7.2525\n",
      "Epoch 42/100\n",
      "1/1 [==============================] - 0s 2ms/step - loss: 7.2469 - mae: 7.2469\n",
      "Epoch 43/100\n",
      "1/1 [==============================] - 0s 3ms/step - loss: 7.2413 - mae: 7.2413\n",
      "Epoch 44/100\n",
      "1/1 [==============================] - 0s 4ms/step - loss: 7.2356 - mae: 7.2356\n",
      "Epoch 45/100\n",
      "1/1 [==============================] - 0s 4ms/step - loss: 7.2300 - mae: 7.2300\n",
      "Epoch 46/100\n",
      "1/1 [==============================] - 0s 3ms/step - loss: 7.2244 - mae: 7.2244\n",
      "Epoch 47/100\n",
      "1/1 [==============================] - 0s 4ms/step - loss: 7.2188 - mae: 7.2188\n",
      "Epoch 48/100\n",
      "1/1 [==============================] - 0s 3ms/step - loss: 7.2131 - mae: 7.2131\n",
      "Epoch 49/100\n",
      "1/1 [==============================] - 0s 3ms/step - loss: 7.2075 - mae: 7.2075\n",
      "Epoch 50/100\n",
      "1/1 [==============================] - 0s 3ms/step - loss: 7.2019 - mae: 7.2019\n",
      "Epoch 51/100\n",
      "1/1 [==============================] - 0s 3ms/step - loss: 7.1962 - mae: 7.1962\n",
      "Epoch 52/100\n",
      "1/1 [==============================] - 0s 3ms/step - loss: 7.1906 - mae: 7.1906\n",
      "Epoch 53/100\n",
      "1/1 [==============================] - 0s 3ms/step - loss: 7.1850 - mae: 7.1850\n",
      "Epoch 54/100\n",
      "1/1 [==============================] - 0s 4ms/step - loss: 7.1794 - mae: 7.1794\n",
      "Epoch 55/100\n",
      "1/1 [==============================] - 0s 4ms/step - loss: 7.1738 - mae: 7.1738\n",
      "Epoch 56/100\n",
      "1/1 [==============================] - 0s 4ms/step - loss: 7.1681 - mae: 7.1681\n",
      "Epoch 57/100\n",
      "1/1 [==============================] - 0s 4ms/step - loss: 7.1625 - mae: 7.1625\n",
      "Epoch 58/100\n",
      "1/1 [==============================] - 0s 3ms/step - loss: 7.1569 - mae: 7.1569\n",
      "Epoch 59/100\n",
      "1/1 [==============================] - 0s 2ms/step - loss: 7.1513 - mae: 7.1513\n",
      "Epoch 60/100\n",
      "1/1 [==============================] - 0s 4ms/step - loss: 7.1456 - mae: 7.1456\n",
      "Epoch 61/100\n",
      "1/1 [==============================] - 0s 4ms/step - loss: 7.1400 - mae: 7.1400\n",
      "Epoch 62/100\n",
      "1/1 [==============================] - 0s 3ms/step - loss: 7.1344 - mae: 7.1344\n",
      "Epoch 63/100\n",
      "1/1 [==============================] - 0s 3ms/step - loss: 7.1288 - mae: 7.1288\n",
      "Epoch 64/100\n",
      "1/1 [==============================] - 0s 3ms/step - loss: 7.1231 - mae: 7.1231\n",
      "Epoch 65/100\n",
      "1/1 [==============================] - 0s 4ms/step - loss: 7.1175 - mae: 7.1175\n",
      "Epoch 66/100\n",
      "1/1 [==============================] - 0s 4ms/step - loss: 7.1119 - mae: 7.1119\n",
      "Epoch 67/100\n",
      "1/1 [==============================] - 0s 4ms/step - loss: 7.1063 - mae: 7.1063\n",
      "Epoch 68/100\n",
      "1/1 [==============================] - 0s 4ms/step - loss: 7.1006 - mae: 7.1006\n",
      "Epoch 69/100\n",
      "1/1 [==============================] - 0s 5ms/step - loss: 7.0950 - mae: 7.0950\n",
      "Epoch 70/100\n",
      "1/1 [==============================] - 0s 4ms/step - loss: 7.0894 - mae: 7.0894\n",
      "Epoch 71/100\n",
      "1/1 [==============================] - 0s 3ms/step - loss: 7.0838 - mae: 7.0838\n",
      "Epoch 72/100\n",
      "1/1 [==============================] - 0s 5ms/step - loss: 7.0781 - mae: 7.0781\n",
      "Epoch 73/100\n",
      "1/1 [==============================] - 0s 3ms/step - loss: 7.0725 - mae: 7.0725\n",
      "Epoch 74/100\n",
      "1/1 [==============================] - 0s 3ms/step - loss: 7.0669 - mae: 7.0669\n",
      "Epoch 75/100\n",
      "1/1 [==============================] - 0s 4ms/step - loss: 7.0613 - mae: 7.0613\n",
      "Epoch 76/100\n",
      "1/1 [==============================] - 0s 3ms/step - loss: 7.0556 - mae: 7.0556\n",
      "Epoch 77/100\n",
      "1/1 [==============================] - 0s 4ms/step - loss: 7.0500 - mae: 7.0500\n",
      "Epoch 78/100\n",
      "1/1 [==============================] - 0s 4ms/step - loss: 7.0444 - mae: 7.0444\n",
      "Epoch 79/100\n",
      "1/1 [==============================] - 0s 4ms/step - loss: 7.0388 - mae: 7.0388\n",
      "Epoch 80/100\n",
      "1/1 [==============================] - 0s 4ms/step - loss: 7.0331 - mae: 7.0331\n",
      "Epoch 81/100\n",
      "1/1 [==============================] - 0s 4ms/step - loss: 7.0275 - mae: 7.0275\n",
      "Epoch 82/100\n",
      "1/1 [==============================] - 0s 3ms/step - loss: 7.0219 - mae: 7.0219\n",
      "Epoch 83/100\n",
      "1/1 [==============================] - 0s 2ms/step - loss: 7.0163 - mae: 7.0163\n",
      "Epoch 84/100\n",
      "1/1 [==============================] - 0s 2ms/step - loss: 7.0106 - mae: 7.0106\n",
      "Epoch 85/100\n",
      "1/1 [==============================] - 0s 2ms/step - loss: 7.0050 - mae: 7.0050\n",
      "Epoch 86/100\n",
      "1/1 [==============================] - 0s 3ms/step - loss: 6.9994 - mae: 6.9994\n",
      "Epoch 87/100\n",
      "1/1 [==============================] - 0s 2ms/step - loss: 6.9938 - mae: 6.9938\n",
      "Epoch 88/100\n",
      "1/1 [==============================] - 0s 5ms/step - loss: 6.9881 - mae: 6.9881\n",
      "Epoch 89/100\n",
      "1/1 [==============================] - 0s 3ms/step - loss: 6.9825 - mae: 6.9825\n",
      "Epoch 90/100\n",
      "1/1 [==============================] - 0s 2ms/step - loss: 6.9769 - mae: 6.9769\n",
      "Epoch 91/100\n",
      "1/1 [==============================] - 0s 4ms/step - loss: 6.9713 - mae: 6.9713\n",
      "Epoch 92/100\n",
      "1/1 [==============================] - 0s 3ms/step - loss: 6.9656 - mae: 6.9656\n",
      "Epoch 93/100\n",
      "1/1 [==============================] - 0s 3ms/step - loss: 6.9600 - mae: 6.9600\n",
      "Epoch 94/100\n",
      "1/1 [==============================] - 0s 5ms/step - loss: 6.9544 - mae: 6.9544\n",
      "Epoch 95/100\n",
      "1/1 [==============================] - 0s 3ms/step - loss: 6.9488 - mae: 6.9488\n",
      "Epoch 96/100\n",
      "1/1 [==============================] - 0s 3ms/step - loss: 6.9431 - mae: 6.9431\n",
      "Epoch 97/100\n",
      "1/1 [==============================] - 0s 3ms/step - loss: 6.9375 - mae: 6.9375\n",
      "Epoch 98/100\n",
      "1/1 [==============================] - 0s 4ms/step - loss: 6.9319 - mae: 6.9319\n",
      "Epoch 99/100\n",
      "1/1 [==============================] - 0s 3ms/step - loss: 6.9263 - mae: 6.9263\n",
      "Epoch 100/100\n",
      "1/1 [==============================] - 0s 2ms/step - loss: 6.9206 - mae: 6.9206\n"
     ]
    },
    {
     "data": {
      "text/plain": [
       "<keras.callbacks.History at 0x211fff238b0>"
      ]
     },
     "execution_count": 13,
     "metadata": {},
     "output_type": "execute_result"
    }
   ],
   "source": [
    "# Changes: Increase number of epochs\n",
    "\n",
    "# 1. create the model\n",
    "improv_model1 = tf.keras.Sequential([\n",
    "    tf.keras.layers.Dense(1)\n",
    "])\n",
    "\n",
    "# 2. Compile the model\n",
    "improv_model1.compile(loss=tf.keras.losses.mae,\n",
    "                        optimizer=tf.keras.optimizers.SGD(),\n",
    "                        metrics = [\"mae\"])\n",
    "\n",
    "# 3. Fit the model\n",
    "improv_model1.fit(tf.expand_dims(X, axis=-1),y,epochs=100)"
   ]
  },
  {
   "cell_type": "code",
   "execution_count": 14,
   "metadata": {},
   "outputs": [
    {
     "name": "stdout",
     "output_type": "stream",
     "text": [
      "1/1 [==============================] - 0s 64ms/step\n"
     ]
    },
    {
     "data": {
      "text/plain": [
       "array([[29.89253]], dtype=float32)"
      ]
     },
     "execution_count": 14,
     "metadata": {},
     "output_type": "execute_result"
    }
   ],
   "source": [
    "improv_model1.predict([17.0])"
   ]
  },
  {
   "attachments": {},
   "cell_type": "markdown",
   "metadata": {},
   "source": [
    "##### `NOTE`: Common ways to better our DL model:\n",
    "- Increase number of layers\n",
    "- Increase anumber of neurons in each layer\n",
    "- Change optimizer\n",
    "- Change Learning Rate (The most hyperparam for most NN)\n",
    "- Fitting on more data\n",
    "- Fitting for more epochs"
   ]
  },
  {
   "cell_type": "code",
   "execution_count": 15,
   "metadata": {},
   "outputs": [
    {
     "name": "stdout",
     "output_type": "stream",
     "text": [
      "Epoch 1/100\n",
      "1/1 [==============================] - 0s 221ms/step - loss: 11.7167 - mae: 11.7167\n",
      "Epoch 2/100\n",
      "1/1 [==============================] - 0s 5ms/step - loss: 11.0252 - mae: 11.0252\n",
      "Epoch 3/100\n",
      "1/1 [==============================] - 0s 3ms/step - loss: 10.3218 - mae: 10.3218\n",
      "Epoch 4/100\n",
      "1/1 [==============================] - 0s 3ms/step - loss: 9.6049 - mae: 9.6049\n",
      "Epoch 5/100\n",
      "1/1 [==============================] - 0s 4ms/step - loss: 8.8723 - mae: 8.8723\n",
      "Epoch 6/100\n",
      "1/1 [==============================] - 0s 4ms/step - loss: 8.1219 - mae: 8.1219\n",
      "Epoch 7/100\n",
      "1/1 [==============================] - 0s 3ms/step - loss: 7.3512 - mae: 7.3512\n",
      "Epoch 8/100\n",
      "1/1 [==============================] - 0s 4ms/step - loss: 6.9372 - mae: 6.9372\n",
      "Epoch 9/100\n",
      "1/1 [==============================] - 0s 2ms/step - loss: 7.1578 - mae: 7.1578\n",
      "Epoch 10/100\n",
      "1/1 [==============================] - 0s 3ms/step - loss: 7.4236 - mae: 7.4236\n",
      "Epoch 11/100\n",
      "1/1 [==============================] - 0s 3ms/step - loss: 7.6030 - mae: 7.6030\n",
      "Epoch 12/100\n",
      "1/1 [==============================] - 0s 3ms/step - loss: 7.6219 - mae: 7.6219\n",
      "Epoch 13/100\n",
      "1/1 [==============================] - 0s 3ms/step - loss: 7.4388 - mae: 7.4388\n",
      "Epoch 14/100\n",
      "1/1 [==============================] - 0s 3ms/step - loss: 7.1886 - mae: 7.1886\n",
      "Epoch 15/100\n",
      "1/1 [==============================] - 0s 5ms/step - loss: 6.9438 - mae: 6.9438\n",
      "Epoch 16/100\n",
      "1/1 [==============================] - 0s 3ms/step - loss: 6.6762 - mae: 6.6762\n",
      "Epoch 17/100\n",
      "1/1 [==============================] - 0s 3ms/step - loss: 6.3912 - mae: 6.3912\n",
      "Epoch 18/100\n",
      "1/1 [==============================] - 0s 3ms/step - loss: 6.2963 - mae: 6.2963\n",
      "Epoch 19/100\n",
      "1/1 [==============================] - 0s 3ms/step - loss: 6.2490 - mae: 6.2490\n",
      "Epoch 20/100\n",
      "1/1 [==============================] - 0s 2ms/step - loss: 6.4141 - mae: 6.4141\n",
      "Epoch 21/100\n",
      "1/1 [==============================] - 0s 3ms/step - loss: 6.4799 - mae: 6.4799\n",
      "Epoch 22/100\n",
      "1/1 [==============================] - 0s 4ms/step - loss: 6.4372 - mae: 6.4372\n",
      "Epoch 23/100\n",
      "1/1 [==============================] - 0s 3ms/step - loss: 6.3004 - mae: 6.3004\n",
      "Epoch 24/100\n",
      "1/1 [==============================] - 0s 3ms/step - loss: 6.0795 - mae: 6.0795\n",
      "Epoch 25/100\n",
      "1/1 [==============================] - 0s 4ms/step - loss: 5.7821 - mae: 5.7821\n",
      "Epoch 26/100\n",
      "1/1 [==============================] - 0s 3ms/step - loss: 5.6685 - mae: 5.6685\n",
      "Epoch 27/100\n",
      "1/1 [==============================] - 0s 4ms/step - loss: 5.5533 - mae: 5.5533\n",
      "Epoch 28/100\n",
      "1/1 [==============================] - 0s 3ms/step - loss: 5.6270 - mae: 5.6270\n",
      "Epoch 29/100\n",
      "1/1 [==============================] - 0s 4ms/step - loss: 5.6494 - mae: 5.6494\n",
      "Epoch 30/100\n",
      "1/1 [==============================] - 0s 4ms/step - loss: 5.6214 - mae: 5.6214\n",
      "Epoch 31/100\n",
      "1/1 [==============================] - 0s 4ms/step - loss: 5.5471 - mae: 5.5471\n",
      "Epoch 32/100\n",
      "1/1 [==============================] - 0s 4ms/step - loss: 5.4301 - mae: 5.4301\n",
      "Epoch 33/100\n",
      "1/1 [==============================] - 0s 4ms/step - loss: 5.2744 - mae: 5.2744\n",
      "Epoch 34/100\n",
      "1/1 [==============================] - 0s 2ms/step - loss: 5.0835 - mae: 5.0835\n",
      "Epoch 35/100\n",
      "1/1 [==============================] - 0s 3ms/step - loss: 4.8607 - mae: 4.8607\n",
      "Epoch 36/100\n",
      "1/1 [==============================] - 0s 3ms/step - loss: 4.6466 - mae: 4.6466\n",
      "Epoch 37/100\n",
      "1/1 [==============================] - 0s 4ms/step - loss: 4.5508 - mae: 4.5508\n",
      "Epoch 38/100\n",
      "1/1 [==============================] - 0s 4ms/step - loss: 4.4464 - mae: 4.4464\n",
      "Epoch 39/100\n",
      "1/1 [==============================] - 0s 4ms/step - loss: 4.4448 - mae: 4.4448\n",
      "Epoch 40/100\n",
      "1/1 [==============================] - 0s 3ms/step - loss: 4.3357 - mae: 4.3357\n",
      "Epoch 41/100\n",
      "1/1 [==============================] - 0s 3ms/step - loss: 4.1054 - mae: 4.1054\n",
      "Epoch 42/100\n",
      "1/1 [==============================] - 0s 3ms/step - loss: 3.8820 - mae: 3.8820\n",
      "Epoch 43/100\n",
      "1/1 [==============================] - 0s 3ms/step - loss: 3.7069 - mae: 3.7069\n",
      "Epoch 44/100\n",
      "1/1 [==============================] - 0s 3ms/step - loss: 3.6412 - mae: 3.6412\n",
      "Epoch 45/100\n",
      "1/1 [==============================] - 0s 4ms/step - loss: 3.5497 - mae: 3.5497\n",
      "Epoch 46/100\n",
      "1/1 [==============================] - 0s 2ms/step - loss: 3.4015 - mae: 3.4015\n",
      "Epoch 47/100\n",
      "1/1 [==============================] - 0s 3ms/step - loss: 3.1998 - mae: 3.1998\n",
      "Epoch 48/100\n",
      "1/1 [==============================] - 0s 5ms/step - loss: 2.9474 - mae: 2.9474\n",
      "Epoch 49/100\n",
      "1/1 [==============================] - 0s 4ms/step - loss: 2.6627 - mae: 2.6627\n",
      "Epoch 50/100\n",
      "1/1 [==============================] - 0s 3ms/step - loss: 2.4822 - mae: 2.4822\n",
      "Epoch 51/100\n",
      "1/1 [==============================] - 0s 5ms/step - loss: 2.3585 - mae: 2.3585\n",
      "Epoch 52/100\n",
      "1/1 [==============================] - 0s 3ms/step - loss: 2.1304 - mae: 2.1304\n",
      "Epoch 53/100\n",
      "1/1 [==============================] - 0s 3ms/step - loss: 1.8299 - mae: 1.8299\n",
      "Epoch 54/100\n",
      "1/1 [==============================] - 0s 3ms/step - loss: 1.6447 - mae: 1.6447\n",
      "Epoch 55/100\n",
      "1/1 [==============================] - 0s 3ms/step - loss: 1.4521 - mae: 1.4521\n",
      "Epoch 56/100\n",
      "1/1 [==============================] - 0s 3ms/step - loss: 1.1899 - mae: 1.1899\n",
      "Epoch 57/100\n",
      "1/1 [==============================] - 0s 2ms/step - loss: 0.8614 - mae: 0.8614\n",
      "Epoch 58/100\n",
      "1/1 [==============================] - 0s 3ms/step - loss: 0.6916 - mae: 0.6916\n",
      "Epoch 59/100\n",
      "1/1 [==============================] - 0s 2ms/step - loss: 0.4546 - mae: 0.4546\n",
      "Epoch 60/100\n",
      "1/1 [==============================] - 0s 4ms/step - loss: 0.0373 - mae: 0.0373\n",
      "Epoch 61/100\n",
      "1/1 [==============================] - 0s 4ms/step - loss: 0.6013 - mae: 0.6013\n",
      "Epoch 62/100\n",
      "1/1 [==============================] - 0s 4ms/step - loss: 0.9609 - mae: 0.9609\n",
      "Epoch 63/100\n",
      "1/1 [==============================] - 0s 3ms/step - loss: 1.0685 - mae: 1.0685\n",
      "Epoch 64/100\n",
      "1/1 [==============================] - 0s 4ms/step - loss: 0.9525 - mae: 0.9525\n",
      "Epoch 65/100\n",
      "1/1 [==============================] - 0s 4ms/step - loss: 0.7899 - mae: 0.7899\n",
      "Epoch 66/100\n",
      "1/1 [==============================] - 0s 4ms/step - loss: 0.9936 - mae: 0.9936\n",
      "Epoch 67/100\n",
      "1/1 [==============================] - 0s 4ms/step - loss: 0.9808 - mae: 0.9808\n",
      "Epoch 68/100\n",
      "1/1 [==============================] - 0s 4ms/step - loss: 0.7530 - mae: 0.7530\n",
      "Epoch 69/100\n",
      "1/1 [==============================] - 0s 4ms/step - loss: 0.6704 - mae: 0.6704\n",
      "Epoch 70/100\n",
      "1/1 [==============================] - 0s 3ms/step - loss: 0.6202 - mae: 0.6202\n",
      "Epoch 71/100\n",
      "1/1 [==============================] - 0s 4ms/step - loss: 0.3890 - mae: 0.3890\n",
      "Epoch 72/100\n",
      "1/1 [==============================] - 0s 3ms/step - loss: 0.4374 - mae: 0.4374\n",
      "Epoch 73/100\n",
      "1/1 [==============================] - 0s 3ms/step - loss: 0.3689 - mae: 0.3689\n",
      "Epoch 74/100\n",
      "1/1 [==============================] - 0s 3ms/step - loss: 0.0839 - mae: 0.0839\n",
      "Epoch 75/100\n",
      "1/1 [==============================] - 0s 3ms/step - loss: 0.5417 - mae: 0.5417\n",
      "Epoch 76/100\n",
      "1/1 [==============================] - 0s 3ms/step - loss: 0.6866 - mae: 0.6866\n",
      "Epoch 77/100\n",
      "1/1 [==============================] - 0s 2ms/step - loss: 0.5493 - mae: 0.5493\n",
      "Epoch 78/100\n",
      "1/1 [==============================] - 0s 3ms/step - loss: 0.3538 - mae: 0.3538\n",
      "Epoch 79/100\n",
      "1/1 [==============================] - 0s 3ms/step - loss: 0.4791 - mae: 0.4791\n",
      "Epoch 80/100\n",
      "1/1 [==============================] - 0s 3ms/step - loss: 0.4396 - mae: 0.4396\n",
      "Epoch 81/100\n",
      "1/1 [==============================] - 0s 2ms/step - loss: 0.2526 - mae: 0.2526\n",
      "Epoch 82/100\n",
      "1/1 [==============================] - 0s 3ms/step - loss: 0.4308 - mae: 0.4308\n",
      "Epoch 83/100\n",
      "1/1 [==============================] - 0s 3ms/step - loss: 0.4621 - mae: 0.4621\n",
      "Epoch 84/100\n",
      "1/1 [==============================] - 0s 2ms/step - loss: 0.1976 - mae: 0.1976\n",
      "Epoch 85/100\n",
      "1/1 [==============================] - 0s 3ms/step - loss: 0.3345 - mae: 0.3345\n",
      "Epoch 86/100\n",
      "1/1 [==============================] - 0s 2ms/step - loss: 0.5108 - mae: 0.5108\n",
      "Epoch 87/100\n",
      "1/1 [==============================] - 0s 3ms/step - loss: 0.3999 - mae: 0.3999\n",
      "Epoch 88/100\n",
      "1/1 [==============================] - 0s 3ms/step - loss: 0.2625 - mae: 0.2625\n",
      "Epoch 89/100\n",
      "1/1 [==============================] - 0s 4ms/step - loss: 0.3571 - mae: 0.3571\n",
      "Epoch 90/100\n",
      "1/1 [==============================] - 0s 3ms/step - loss: 0.2923 - mae: 0.2923\n",
      "Epoch 91/100\n",
      "1/1 [==============================] - 0s 3ms/step - loss: 0.1015 - mae: 0.1015\n",
      "Epoch 92/100\n",
      "1/1 [==============================] - 0s 3ms/step - loss: 0.1199 - mae: 0.1199\n",
      "Epoch 93/100\n",
      "1/1 [==============================] - 0s 4ms/step - loss: 0.1082 - mae: 0.1082\n",
      "Epoch 94/100\n",
      "1/1 [==============================] - 0s 3ms/step - loss: 0.1411 - mae: 0.1411\n",
      "Epoch 95/100\n",
      "1/1 [==============================] - 0s 3ms/step - loss: 0.2463 - mae: 0.2463\n",
      "Epoch 96/100\n",
      "1/1 [==============================] - 0s 3ms/step - loss: 0.2433 - mae: 0.2433\n",
      "Epoch 97/100\n",
      "1/1 [==============================] - 0s 2ms/step - loss: 0.1198 - mae: 0.1198\n",
      "Epoch 98/100\n",
      "1/1 [==============================] - 0s 3ms/step - loss: 0.1138 - mae: 0.1138\n",
      "Epoch 99/100\n",
      "1/1 [==============================] - 0s 3ms/step - loss: 0.1002 - mae: 0.1002\n",
      "Epoch 100/100\n",
      "1/1 [==============================] - 0s 3ms/step - loss: 0.0619 - mae: 0.0619\n"
     ]
    },
    {
     "data": {
      "text/plain": [
       "<keras.callbacks.History at 0x2121bd08490>"
      ]
     },
     "execution_count": 15,
     "metadata": {},
     "output_type": "execute_result"
    }
   ],
   "source": [
    "# Changes: improv1 + hidden layer with 50 layers + Cha\n",
    "\n",
    "# 1. Create a model\n",
    "improv_model2 = tf.keras.Sequential([\n",
    "    tf.keras.layers.Dense(50, activation=None),\n",
    "    tf.keras.layers.Dense(1)\n",
    "])\n",
    "\n",
    "# 2. Compile the model\n",
    "improv_model2.compile(loss = tf.losses.mae,\n",
    "                        optimizer = tf.optimizers.Adam(0.01),\n",
    "                        metrics = [\"mae\"])\n",
    "\n",
    "# 3. Fit the model\n",
    "improv_model2.fit(tf.expand_dims(X,axis=-1),y,epochs=100)"
   ]
  },
  {
   "cell_type": "code",
   "execution_count": 16,
   "metadata": {},
   "outputs": [
    {
     "name": "stdout",
     "output_type": "stream",
     "text": [
      "1/1 [==============================] - 0s 49ms/step\n"
     ]
    },
    {
     "data": {
      "text/plain": [
       "array([[26.763681]], dtype=float32)"
      ]
     },
     "execution_count": 16,
     "metadata": {},
     "output_type": "execute_result"
    }
   ],
   "source": [
    "improv_model2.predict([17.0])\n",
    "\n",
    "# Though our loss is lesser than before, its prediction is worse. This is due to overfitting.\n",
    "# Hence, our model has trained really well on training data, but on unseen data, its results are not good"
   ]
  },
  {
   "attachments": {},
   "cell_type": "markdown",
   "metadata": {},
   "source": [
    "### Evaluating a Model - Visualize, Visualize, Visualize\n",
    "* Visualize the data - What is the data you are working with? How does it look?\n",
    "* Visualize the model - What does our model look like?\n",
    "* Training of model - How does the model look while training?\n",
    "* Predictions of model - How the predictions of the model compare to the ground truth?\n"
   ]
  },
  {
   "cell_type": "code",
   "execution_count": 17,
   "metadata": {},
   "outputs": [
    {
     "data": {
      "text/plain": [
       "(<tf.Tensor: shape=(50,), dtype=int32, numpy=\n",
       " array([-100,  -96,  -92,  -88,  -84,  -80,  -76,  -72,  -68,  -64,  -60,\n",
       "         -56,  -52,  -48,  -44,  -40,  -36,  -32,  -28,  -24,  -20,  -16,\n",
       "         -12,   -8,   -4,    0,    4,    8,   12,   16,   20,   24,   28,\n",
       "          32,   36,   40,   44,   48,   52,   56,   60,   64,   68,   72,\n",
       "          76,   80,   84,   88,   92,   96])>,\n",
       " <tf.Tensor: shape=(50,), dtype=int32, numpy=\n",
       " array([-90, -86, -82, -78, -74, -70, -66, -62, -58, -54, -50, -46, -42,\n",
       "        -38, -34, -30, -26, -22, -18, -14, -10,  -6,  -2,   2,   6,  10,\n",
       "         14,  18,  22,  26,  30,  34,  38,  42,  46,  50,  54,  58,  62,\n",
       "         66,  70,  74,  78,  82,  86,  90,  94,  98, 102, 106])>)"
      ]
     },
     "execution_count": 17,
     "metadata": {},
     "output_type": "execute_result"
    }
   ],
   "source": [
    "# Make a larger dataset\n",
    "X = tf.range(-100,100,4)\n",
    "y = X+10\n",
    "X,y"
   ]
  },
  {
   "cell_type": "code",
   "execution_count": 18,
   "metadata": {},
   "outputs": [
    {
     "data": {
      "text/plain": [
       "<matplotlib.collections.PathCollection at 0x2121c334670>"
      ]
     },
     "execution_count": 18,
     "metadata": {},
     "output_type": "execute_result"
    },
    {
     "data": {
      "image/png": "[encoded data removed]",
      "text/plain": [
       "<Figure size 640x480 with 1 Axes>"
      ]
     },
     "metadata": {},
     "output_type": "display_data"
    }
   ],
   "source": [
    "# Visualize the data\n",
    "plt.plot(X,y)\n",
    "plt.scatter(X,y,color='r')"
   ]
  },
  {
   "attachments": {},
   "cell_type": "markdown",
   "metadata": {},
   "source": [
    "#### The 3 datasets\n",
    "> Training set\n",
    "* Model learns on this data. \n",
    "* This is 70-80% of total data.\n",
    "> Validation set\n",
    "* Model gets tuned on this data. \n",
    "* This is 10-15% of total data.\n",
    "> Test set\n",
    "* Model gets evaluate on this data. \n",
    "* This is 10-15% of total data.\n",
    "\n",
    "`We have these 3 sets to increase the model's ability to generalize`"
   ]
  },
  {
   "cell_type": "code",
   "execution_count": 19,
   "metadata": {},
   "outputs": [
    {
     "data": {
      "text/plain": [
       "50"
      ]
     },
     "execution_count": 19,
     "metadata": {},
     "output_type": "execute_result"
    }
   ],
   "source": [
    "len(X)"
   ]
  },
  {
   "cell_type": "code",
   "execution_count": 20,
   "metadata": {},
   "outputs": [
    {
     "data": {
      "text/plain": [
       "(40, 10, 40, 10)"
      ]
     },
     "execution_count": 20,
     "metadata": {},
     "output_type": "execute_result"
    }
   ],
   "source": [
    "X_train = X[:40] # First 40 samples (80% of the data)\n",
    "y_train = y[:40]\n",
    "\n",
    "X_test = X[40:] # remaining samples (20% of the data)\n",
    "y_test = y[40:] \n",
    "\n",
    "len(X_train),len(X_test), len(y_train), len(y_test)"
   ]
  },
  {
   "attachments": {},
   "cell_type": "markdown",
   "metadata": {},
   "source": [
    "#### Visualizing Data"
   ]
  },
  {
   "cell_type": "code",
   "execution_count": 21,
   "metadata": {},
   "outputs": [
    {
     "data": {
      "text/plain": [
       "<matplotlib.legend.Legend at 0x2121c39f100>"
      ]
     },
     "execution_count": 21,
     "metadata": {},
     "output_type": "execute_result"
    },
    {
     "data": {
      "image/png": "[encoded data removed]",
      "text/plain": [
       "<Figure size 1000x700 with 1 Axes>"
      ]
     },
     "metadata": {},
     "output_type": "display_data"
    }
   ],
   "source": [
    "plt.figure(figsize=(10,7))\n",
    "\n",
    "# Plot training data\n",
    "plt.scatter(X_train, y_train, c='b', label = \"Training data\")\n",
    "\n",
    "# Plot testing data\n",
    "plt.scatter(X_test, y_test, c='g', label = \"Testing data\")\n",
    "\n",
    "# Show legend\n",
    "plt.legend()"
   ]
  },
  {
   "attachments": {},
   "cell_type": "markdown",
   "metadata": {},
   "source": [
    "#### Visualizing Model \n",
    "- Model Summary\n",
    "- Plot_model\n"
   ]
  },
  {
   "cell_type": "code",
   "execution_count": 22,
   "metadata": {},
   "outputs": [],
   "source": [
    "# 1. Create a model\n",
    "model = tf.keras.Sequential([\n",
    "    tf.keras.layers.Dense(1)\n",
    "])\n",
    "\n",
    "# 2. compile the model\n",
    "model.compile(\n",
    "    loss = tf.keras.losses.mae,\n",
    "    optimizer = tf.keras.optimizers.SGD(),\n",
    "    metrics=[\"mae\"])\n",
    "\n",
    "# 3. fit the model\n",
    "# model.fit(X_train,y_train, epochs=100)\n"
   ]
  },
  {
   "cell_type": "code",
   "execution_count": 23,
   "metadata": {},
   "outputs": [],
   "source": [
    "## ERROR OCCURS\n",
    "# model.summary()\n",
    "# NOTE: To get model summary without fitting, we need to 'build' the model or provide the input shape so it builds automatically"
   ]
  },
  {
   "cell_type": "code",
   "execution_count": 24,
   "metadata": {},
   "outputs": [
    {
     "data": {
      "text/plain": [
       "TensorShape([])"
      ]
     },
     "execution_count": 24,
     "metadata": {},
     "output_type": "execute_result"
    }
   ],
   "source": [
    "X[0].shape"
   ]
  },
  {
   "cell_type": "code",
   "execution_count": 25,
   "metadata": {},
   "outputs": [],
   "source": [
    "# Let's create a model which builds automatically by defining the input_shape argument in first layer\n",
    "\n",
    "tf.random.set_seed(42)\n",
    "# 1. Create a model\n",
    "model = tf.keras.Sequential([\n",
    "    tf.keras.layers.Dense(10, input_shape=[1], name=\"Input_Layer\"),\n",
    "    tf.keras.layers.Dense(1, name=\"Output_Layer\")\n",
    "], name=\"model_3\")\n",
    "\n",
    "# 2. compile the model\n",
    "model.compile(\n",
    "    loss = tf.keras.losses.mae,\n",
    "    optimizer = tf.keras.optimizers.SGD(),\n",
    "    metrics=[\"mae\"])\n",
    "\n",
    "# 3. fit the model\n",
    "# model.fit(X_train,y_train, epochs=100)\n",
    "\n",
    "# NOTE: To get model summary without fitting, we need to 'build' the model or provide the input shape so it builds automatically"
   ]
  },
  {
   "cell_type": "code",
   "execution_count": 26,
   "metadata": {},
   "outputs": [
    {
     "name": "stdout",
     "output_type": "stream",
     "text": [
      "Model: \"model_3\"\n",
      "_________________________________________________________________\n",
      " Layer (type)                Output Shape              Param #   \n",
      "=================================================================\n",
      " Input_Layer (Dense)         (None, 10)                20        \n",
      "                                                                 \n",
      " Output_Layer (Dense)        (None, 1)                 11        \n",
      "                                                                 \n",
      "=================================================================\n",
      "Total params: 31\n",
      "Trainable params: 31\n",
      "Non-trainable params: 0\n",
      "_________________________________________________________________\n"
     ]
    }
   ],
   "source": [
    "model.summary()"
   ]
  },
  {
   "attachments": {},
   "cell_type": "markdown",
   "metadata": {},
   "source": [
    "* Total parameters - Total number of parameters in the model.\n",
    "* Trainable Parameters - The parameters that the model can update\n",
    "* Non-trainable parameters - The parameters that aren't updated during training (This is typical when you bring in already learned patterns and parameters from other models during **transfer learning**)\n",
    "\n",
    "**Resources:** [MIT's Introduction to Deep Learning](https://introtodeeplearning.com/2022/index.html)"
   ]
  },
  {
   "cell_type": "code",
   "execution_count": 27,
   "metadata": {},
   "outputs": [
    {
     "data": {
      "text/plain": [
       "<keras.callbacks.History at 0x2122152b880>"
      ]
     },
     "execution_count": 27,
     "metadata": {},
     "output_type": "execute_result"
    }
   ],
   "source": [
    "model.fit(X_train,y_train,epochs=100,verbose=0)"
   ]
  },
  {
   "cell_type": "code",
   "execution_count": 28,
   "metadata": {},
   "outputs": [
    {
     "data": {
      "image/png": "[encoded data removed]",
      "text/plain": [
       "<IPython.core.display.Image object>"
      ]
     },
     "execution_count": 28,
     "metadata": {},
     "output_type": "execute_result"
    }
   ],
   "source": [
    "from tensorflow.keras.utils import plot_model\n",
    "\n",
    "plot_model(model, show_shapes=True)"
   ]
  },
  {
   "attachments": {},
   "cell_type": "markdown",
   "metadata": {},
   "source": [
    "### Visualize Model's Predictions\n",
    "- Plot the predictions (y_pred) against ground truth labels( y_train / y_test )\n",
    "\n"
   ]
  },
  {
   "cell_type": "code",
   "execution_count": 29,
   "metadata": {},
   "outputs": [
    {
     "name": "stdout",
     "output_type": "stream",
     "text": [
      "WARNING:tensorflow:5 out of the last 5 calls to <function Model.make_predict_function.<locals>.predict_function at 0x00000212215E4280> triggered tf.function retracing. Tracing is expensive and the excessive number of tracings could be due to (1) creating @tf.function repeatedly in a loop, (2) passing tensors with different shapes, (3) passing Python objects instead of tensors. For (1), please define your @tf.function outside of the loop. For (2), @tf.function has reduce_retracing=True option that can avoid unnecessary retracing. For (3), please refer to https://www.tensorflow.org/guide/function#controlling_retracing and https://www.tensorflow.org/api_docs/python/tf/function for  more details.\n",
      "1/1 [==============================] - 0s 42ms/step\n"
     ]
    },
    {
     "data": {
      "text/plain": [
       "array([[ 75.98556 ],\n",
       "       [ 80.93418 ],\n",
       "       [ 85.882805],\n",
       "       [ 90.831436],\n",
       "       [ 95.78005 ],\n",
       "       [100.728676],\n",
       "       [105.6773  ],\n",
       "       [110.62592 ],\n",
       "       [115.57455 ],\n",
       "       [120.52317 ]], dtype=float32)"
      ]
     },
     "execution_count": 29,
     "metadata": {},
     "output_type": "execute_result"
    }
   ],
   "source": [
    "# Make predictions\n",
    "\n",
    "y_pred = model.predict(X_test)\n",
    "y_pred"
   ]
  },
  {
   "cell_type": "code",
   "execution_count": 30,
   "metadata": {},
   "outputs": [
    {
     "data": {
      "text/plain": [
       "<tf.Tensor: shape=(10,), dtype=int32, numpy=array([ 70,  74,  78,  82,  86,  90,  94,  98, 102, 106])>"
      ]
     },
     "execution_count": 30,
     "metadata": {},
     "output_type": "execute_result"
    }
   ],
   "source": [
    "y_test"
   ]
  },
  {
   "attachments": {},
   "cell_type": "markdown",
   "metadata": {},
   "source": [
    "Create a plotting functions"
   ]
  },
  {
   "cell_type": "code",
   "execution_count": 31,
   "metadata": {},
   "outputs": [],
   "source": [
    "# Create a plotting function\n",
    "\n",
    "def plot_predictions(train_data=X_train, train_labels=y_train, test_data=X_test, test_labels=y_test, predictions=y_pred):\n",
    "    \"\"\" Plots training data, test data and compares the predictions to the ground truth\"\"\"\n",
    "\n",
    "    plt.figure(figsize=(10,7))\n",
    "    \n",
    "    # Plot training data in blue\n",
    "    plt.scatter(train_data,train_labels,c='b',label=\"Training data\")\n",
    "    # Plot testing data in green\n",
    "    plt.scatter(test_data,test_labels,c='g',label=\"Testing data\")\n",
    "    # Plot the predictions in red (predictions were made on the test data)\n",
    "    plt.scatter(test_data,predictions,c='r',label=\"Predictions\")\n",
    "    # Show the legend\n",
    "    plt.legend()"
   ]
  },
  {
   "cell_type": "code",
   "execution_count": 32,
   "metadata": {},
   "outputs": [
    {
     "data": {
      "image/png": "[encoded data removed]",
      "text/plain": [
       "<Figure size 1000x700 with 1 Axes>"
      ]
     },
     "metadata": {},
     "output_type": "display_data"
    }
   ],
   "source": [
    "plot_predictions(train_data=X_train,\n",
    "                train_labels=y_train,\n",
    "                test_data=X_test,\n",
    "                test_labels=y_test,\n",
    "                predictions=y_pred)"
   ]
  },
  {
   "attachments": {},
   "cell_type": "markdown",
   "metadata": {},
   "source": [
    "### Evaluation Metrics for Regression Model\n",
    "\n",
    "* MAE - Mean Absolute Error\n",
    "    * Mean of absolute error\n",
    "    * A starter metric for regression problems\n",
    "    * Adv: It is most Robust to outliers.\n",
    "    * Disadv: MAE is not differential, hence can't apply optimizers like Gradient Descent\n",
    "###\n",
    "* MSE - Mean Squared Error\n",
    "    * Mean of squares of absolute error\n",
    "    * When larger errors are more significant than smaller errors\n",
    "    * Adv: MSE is differential\n",
    "    * Disadv: MSE is not Robust to outliers (Outliers are penalised the most, since the deviation itself is high and we are squaring it too)\n",
    "###\n",
    "* Huber - Combination of MSE and MAE\n",
    "    * Less sensitive to outliers than MSE\n",
    "###\n",
    "* RMSE - Root Mean Squared Error\n",
    "    * Root of mean of squares of absolute errors\n",
    "    * Adv: RMSE is differential and unit is same as output variable\n",
    "    * Disadv: RMSE is not as Robust as MAE, to outliers."
   ]
  },
  {
   "cell_type": "code",
   "execution_count": 33,
   "metadata": {},
   "outputs": [
    {
     "name": "stdout",
     "output_type": "stream",
     "text": [
      "1/1 [==============================] - 0s 108ms/step - loss: 10.2544 - mae: 10.2544\n"
     ]
    },
    {
     "data": {
      "text/plain": [
       "[10.254364967346191, 10.254364967346191]"
      ]
     },
     "execution_count": 33,
     "metadata": {},
     "output_type": "execute_result"
    }
   ],
   "source": [
    "model.evaluate(X_test,y_test)\n",
    "\n",
    "# Metrics is MAE since metrics and loss in compiling is MAE"
   ]
  },
  {
   "cell_type": "code",
   "execution_count": 34,
   "metadata": {},
   "outputs": [
    {
     "data": {
      "text/plain": [
       "(<tf.Tensor: shape=(10,), dtype=int32, numpy=array([ 70,  74,  78,  82,  86,  90,  94,  98, 102, 106])>,\n",
       " <tf.Tensor: shape=(10,), dtype=float32, numpy=\n",
       " array([ 75.98556 ,  80.93418 ,  85.882805,  90.831436,  95.78005 ,\n",
       "        100.728676, 105.6773  , 110.62592 , 115.57455 , 120.52317 ],\n",
       "       dtype=float32)>)"
      ]
     },
     "execution_count": 34,
     "metadata": {},
     "output_type": "execute_result"
    }
   ],
   "source": [
    "y_test,tf.squeeze(y_pred)"
   ]
  },
  {
   "cell_type": "code",
   "execution_count": 35,
   "metadata": {},
   "outputs": [
    {
     "data": {
      "text/plain": [
       "<tf.Tensor: shape=(), dtype=float32, numpy=10.254365>"
      ]
     },
     "execution_count": 35,
     "metadata": {},
     "output_type": "execute_result"
    }
   ],
   "source": [
    "# Calculate the MAE\n",
    "mae = tf.metrics.mean_absolute_error(y_true=y_test,y_pred=tf.squeeze(y_pred))\n",
    "mae"
   ]
  },
  {
   "cell_type": "code",
   "execution_count": 36,
   "metadata": {},
   "outputs": [
    {
     "data": {
      "text/plain": [
       "<tf.Tensor: shape=(), dtype=float32, numpy=112.576065>"
      ]
     },
     "execution_count": 36,
     "metadata": {},
     "output_type": "execute_result"
    }
   ],
   "source": [
    "# Calculate the MSE\n",
    "mse = tf.metrics.mean_squared_error(y_test,tf.squeeze(y_pred))\n",
    "mse"
   ]
  },
  {
   "cell_type": "code",
   "execution_count": 37,
   "metadata": {},
   "outputs": [],
   "source": [
    "# Make a function to reuse MAE and MSE\n",
    "\n",
    "def MAE(y_true,y_pred):\n",
    "    return tf.metrics.mean_absolute_error(y_true=y_true,y_pred=tf.squeeze(y_pred))\n",
    "\n",
    "def MSE(y_true,y_pred):\n",
    "    return tf.metrics.mean_squared_error(y_true=y_true,y_pred=tf.squeeze(y_pred))\n"
   ]
  },
  {
   "attachments": {},
   "cell_type": "markdown",
   "metadata": {},
   "source": [
    "### Experiments to Improve Models\n",
    "\n",
    "```\n",
    "Build model -> fit -> evaluate -> tweak -> fit -> evaluate -> tweak\n",
    "```\n",
    "1. Get more data for model to train on, to learn patterns and relationships between features and labels\n",
    "\n",
    "2. Build larger models (Complex models)\n",
    "    * More layers and hidden units in each layer\n",
    "##\n",
    "3. Train for more epochs\n",
    "\n",
    "\n",
    "Build 3 models:\n",
    "- Model_1 -> 1 layer and 100 epochs\n",
    "- Model_2 -> 2 layers and 100 epochs\n",
    "- Model_3 -> 2 layers and 500 epochs"
   ]
  },
  {
   "cell_type": "code",
   "execution_count": 38,
   "metadata": {},
   "outputs": [
    {
     "data": {
      "text/plain": [
       "(<tf.Tensor: shape=(40,), dtype=int32, numpy=\n",
       " array([-100,  -96,  -92,  -88,  -84,  -80,  -76,  -72,  -68,  -64,  -60,\n",
       "         -56,  -52,  -48,  -44,  -40,  -36,  -32,  -28,  -24,  -20,  -16,\n",
       "         -12,   -8,   -4,    0,    4,    8,   12,   16,   20,   24,   28,\n",
       "          32,   36,   40,   44,   48,   52,   56])>,\n",
       " <tf.Tensor: shape=(40,), dtype=int32, numpy=\n",
       " array([-90, -86, -82, -78, -74, -70, -66, -62, -58, -54, -50, -46, -42,\n",
       "        -38, -34, -30, -26, -22, -18, -14, -10,  -6,  -2,   2,   6,  10,\n",
       "         14,  18,  22,  26,  30,  34,  38,  42,  46,  50,  54,  58,  62,\n",
       "         66])>)"
      ]
     },
     "execution_count": 38,
     "metadata": {},
     "output_type": "execute_result"
    }
   ],
   "source": [
    "X_train, y_train"
   ]
  },
  {
   "cell_type": "code",
   "execution_count": 39,
   "metadata": {},
   "outputs": [
    {
     "name": "stdout",
     "output_type": "stream",
     "text": [
      "Epoch 1/100\n",
      "2/2 [==============================] - 0s 4ms/step - loss: 62.5088 - mae: 62.5088\n",
      "Epoch 2/100\n",
      "2/2 [==============================] - 0s 2ms/step - loss: 27.6074 - mae: 27.6074\n",
      "Epoch 3/100\n",
      "2/2 [==============================] - 0s 2ms/step - loss: 11.0681 - mae: 11.0681\n",
      "Epoch 4/100\n",
      "2/2 [==============================] - 0s 2ms/step - loss: 9.4820 - mae: 9.4820\n",
      "Epoch 5/100\n",
      "2/2 [==============================] - 0s 2ms/step - loss: 10.3753 - mae: 10.3753\n",
      "Epoch 6/100\n",
      "2/2 [==============================] - 0s 3ms/step - loss: 9.6155 - mae: 9.6155\n",
      "Epoch 7/100\n",
      "2/2 [==============================] - 0s 0s/step - loss: 8.7274 - mae: 8.7274\n",
      "Epoch 8/100\n",
      "2/2 [==============================] - 0s 0s/step - loss: 9.0732 - mae: 9.0732\n",
      "Epoch 9/100\n",
      "2/2 [==============================] - 0s 2ms/step - loss: 19.1140 - mae: 19.1140\n",
      "Epoch 10/100\n",
      "2/2 [==============================] - 0s 2ms/step - loss: 10.3275 - mae: 10.3275\n",
      "Epoch 11/100\n",
      "2/2 [==============================] - 0s 1ms/step - loss: 8.4911 - mae: 8.4911\n",
      "Epoch 12/100\n",
      "2/2 [==============================] - 0s 2ms/step - loss: 10.8378 - mae: 10.8378\n",
      "Epoch 13/100\n",
      "2/2 [==============================] - 0s 2ms/step - loss: 9.8931 - mae: 9.8931\n",
      "Epoch 14/100\n",
      "2/2 [==============================] - 0s 5ms/step - loss: 12.0850 - mae: 12.0850\n",
      "Epoch 15/100\n",
      "2/2 [==============================] - 0s 2ms/step - loss: 12.4296 - mae: 12.4296\n",
      "Epoch 16/100\n",
      "2/2 [==============================] - 0s 2ms/step - loss: 8.4296 - mae: 8.4296\n",
      "Epoch 17/100\n",
      "2/2 [==============================] - 0s 2ms/step - loss: 13.3660 - mae: 13.3660\n",
      "Epoch 18/100\n",
      "2/2 [==============================] - 0s 2ms/step - loss: 11.1235 - mae: 11.1235\n",
      "Epoch 19/100\n",
      "2/2 [==============================] - 0s 2ms/step - loss: 18.4529 - mae: 18.4529\n",
      "Epoch 20/100\n",
      "2/2 [==============================] - 0s 2ms/step - loss: 15.1531 - mae: 15.1531\n",
      "Epoch 21/100\n",
      "2/2 [==============================] - 0s 2ms/step - loss: 11.1115 - mae: 11.1115\n",
      "Epoch 22/100\n",
      "2/2 [==============================] - 0s 5ms/step - loss: 8.2402 - mae: 8.2402\n",
      "Epoch 23/100\n",
      "2/2 [==============================] - 0s 3ms/step - loss: 9.4760 - mae: 9.4760\n",
      "Epoch 24/100\n",
      "2/2 [==============================] - 0s 3ms/step - loss: 7.6934 - mae: 7.6934\n",
      "Epoch 25/100\n",
      "2/2 [==============================] - 0s 3ms/step - loss: 13.0719 - mae: 13.0719\n",
      "Epoch 26/100\n",
      "2/2 [==============================] - 0s 2ms/step - loss: 16.5233 - mae: 16.5233\n",
      "Epoch 27/100\n",
      "2/2 [==============================] - 0s 4ms/step - loss: 13.2535 - mae: 13.2535\n",
      "Epoch 28/100\n",
      "2/2 [==============================] - 0s 2ms/step - loss: 14.3651 - mae: 14.3651\n",
      "Epoch 29/100\n",
      "2/2 [==============================] - 0s 2ms/step - loss: 10.1082 - mae: 10.1082\n",
      "Epoch 30/100\n",
      "2/2 [==============================] - 0s 2ms/step - loss: 16.4951 - mae: 16.4951\n",
      "Epoch 31/100\n",
      "2/2 [==============================] - 0s 3ms/step - loss: 23.5153 - mae: 23.5153\n",
      "Epoch 32/100\n",
      "2/2 [==============================] - 0s 2ms/step - loss: 7.3813 - mae: 7.3813\n",
      "Epoch 33/100\n",
      "2/2 [==============================] - 0s 2ms/step - loss: 9.8250 - mae: 9.8250\n",
      "Epoch 34/100\n",
      "2/2 [==============================] - 0s 2ms/step - loss: 12.2872 - mae: 12.2872\n",
      "Epoch 35/100\n",
      "2/2 [==============================] - 0s 4ms/step - loss: 11.1568 - mae: 11.1568\n",
      "Epoch 36/100\n",
      "2/2 [==============================] - 0s 2ms/step - loss: 13.3657 - mae: 13.3657\n",
      "Epoch 37/100\n",
      "2/2 [==============================] - 0s 2ms/step - loss: 9.4747 - mae: 9.4747\n",
      "Epoch 38/100\n",
      "2/2 [==============================] - 0s 2ms/step - loss: 10.1313 - mae: 10.1313\n",
      "Epoch 39/100\n",
      "2/2 [==============================] - 0s 2ms/step - loss: 10.2087 - mae: 10.2087\n",
      "Epoch 40/100\n",
      "2/2 [==============================] - 0s 2ms/step - loss: 10.9481 - mae: 10.9481\n",
      "Epoch 41/100\n",
      "2/2 [==============================] - 0s 2ms/step - loss: 7.9373 - mae: 7.9373\n",
      "Epoch 42/100\n",
      "2/2 [==============================] - 0s 2ms/step - loss: 10.0873 - mae: 10.0873\n",
      "Epoch 43/100\n",
      "2/2 [==============================] - 0s 4ms/step - loss: 8.7062 - mae: 8.7062\n",
      "Epoch 44/100\n",
      "2/2 [==============================] - 0s 2ms/step - loss: 12.1841 - mae: 12.1841\n",
      "Epoch 45/100\n",
      "2/2 [==============================] - 0s 3ms/step - loss: 13.8362 - mae: 13.8362\n",
      "Epoch 46/100\n",
      "2/2 [==============================] - 0s 4ms/step - loss: 8.5009 - mae: 8.5009\n",
      "Epoch 47/100\n",
      "2/2 [==============================] - 0s 2ms/step - loss: 9.1309 - mae: 9.1309\n",
      "Epoch 48/100\n",
      "2/2 [==============================] - 0s 4ms/step - loss: 10.6105 - mae: 10.6105\n",
      "Epoch 49/100\n",
      "2/2 [==============================] - 0s 2ms/step - loss: 7.7494 - mae: 7.7494\n",
      "Epoch 50/100\n",
      "2/2 [==============================] - 0s 3ms/step - loss: 9.5335 - mae: 9.5335\n",
      "Epoch 51/100\n",
      "2/2 [==============================] - 0s 3ms/step - loss: 9.1660 - mae: 9.1660\n",
      "Epoch 52/100\n",
      "2/2 [==============================] - 0s 4ms/step - loss: 16.3256 - mae: 16.3256\n",
      "Epoch 53/100\n",
      "2/2 [==============================] - 0s 2ms/step - loss: 14.1569 - mae: 14.1569\n",
      "Epoch 54/100\n",
      "2/2 [==============================] - 0s 2ms/step - loss: 21.1767 - mae: 21.1767\n",
      "Epoch 55/100\n",
      "2/2 [==============================] - 0s 2ms/step - loss: 16.3650 - mae: 16.3650\n",
      "Epoch 56/100\n",
      "2/2 [==============================] - 0s 2ms/step - loss: 10.0190 - mae: 10.0190\n",
      "Epoch 57/100\n",
      "2/2 [==============================] - 0s 4ms/step - loss: 9.9555 - mae: 9.9555\n",
      "Epoch 58/100\n",
      "2/2 [==============================] - 0s 2ms/step - loss: 9.2186 - mae: 9.2186\n",
      "Epoch 59/100\n",
      "2/2 [==============================] - 0s 2ms/step - loss: 8.4200 - mae: 8.4200\n",
      "Epoch 60/100\n",
      "2/2 [==============================] - 0s 2ms/step - loss: 9.4876 - mae: 9.4876\n",
      "Epoch 61/100\n",
      "2/2 [==============================] - 0s 2ms/step - loss: 11.4235 - mae: 11.4235\n",
      "Epoch 62/100\n",
      "2/2 [==============================] - 0s 3ms/step - loss: 11.7275 - mae: 11.7275\n",
      "Epoch 63/100\n",
      "2/2 [==============================] - 0s 0s/step - loss: 7.0879 - mae: 7.0879\n",
      "Epoch 64/100\n",
      "2/2 [==============================] - 0s 0s/step - loss: 17.0056 - mae: 17.0056\n",
      "Epoch 65/100\n",
      "2/2 [==============================] - 0s 3ms/step - loss: 12.4920 - mae: 12.4920\n",
      "Epoch 66/100\n",
      "2/2 [==============================] - 0s 3ms/step - loss: 13.0571 - mae: 13.0571\n",
      "Epoch 67/100\n",
      "2/2 [==============================] - 0s 4ms/step - loss: 8.0831 - mae: 8.0831\n",
      "Epoch 68/100\n",
      "2/2 [==============================] - 0s 3ms/step - loss: 10.2177 - mae: 10.2177\n",
      "Epoch 69/100\n",
      "2/2 [==============================] - 0s 3ms/step - loss: 12.4043 - mae: 12.4043\n",
      "Epoch 70/100\n",
      "2/2 [==============================] - 0s 2ms/step - loss: 9.0498 - mae: 9.0498\n",
      "Epoch 71/100\n",
      "2/2 [==============================] - 0s 2ms/step - loss: 10.0340 - mae: 10.0340\n",
      "Epoch 72/100\n",
      "2/2 [==============================] - 0s 3ms/step - loss: 10.0515 - mae: 10.0515\n",
      "Epoch 73/100\n",
      "2/2 [==============================] - 0s 3ms/step - loss: 12.5990 - mae: 12.5990\n",
      "Epoch 74/100\n",
      "2/2 [==============================] - 0s 4ms/step - loss: 10.4230 - mae: 10.4230\n",
      "Epoch 75/100\n",
      "2/2 [==============================] - 0s 2ms/step - loss: 9.7205 - mae: 9.7205\n",
      "Epoch 76/100\n",
      "2/2 [==============================] - 0s 3ms/step - loss: 11.2178 - mae: 11.2178\n",
      "Epoch 77/100\n",
      "2/2 [==============================] - 0s 2ms/step - loss: 8.3623 - mae: 8.3623\n",
      "Epoch 78/100\n",
      "2/2 [==============================] - 0s 2ms/step - loss: 9.1155 - mae: 9.1155\n",
      "Epoch 79/100\n",
      "2/2 [==============================] - 0s 3ms/step - loss: 19.5541 - mae: 19.5541\n",
      "Epoch 80/100\n",
      "2/2 [==============================] - 0s 3ms/step - loss: 14.8675 - mae: 14.8675\n",
      "Epoch 81/100\n",
      "2/2 [==============================] - 0s 4ms/step - loss: 9.0486 - mae: 9.0486\n",
      "Epoch 82/100\n",
      "2/2 [==============================] - 0s 2ms/step - loss: 13.0005 - mae: 13.0005\n",
      "Epoch 83/100\n",
      "2/2 [==============================] - 0s 3ms/step - loss: 7.9230 - mae: 7.9230\n",
      "Epoch 84/100\n",
      "2/2 [==============================] - 0s 2ms/step - loss: 7.7083 - mae: 7.7083\n",
      "Epoch 85/100\n",
      "2/2 [==============================] - 0s 2ms/step - loss: 10.0645 - mae: 10.0645\n",
      "Epoch 86/100\n",
      "2/2 [==============================] - 0s 3ms/step - loss: 9.2681 - mae: 9.2681\n",
      "Epoch 87/100\n",
      "2/2 [==============================] - 0s 2ms/step - loss: 12.0542 - mae: 12.0542\n",
      "Epoch 88/100\n",
      "2/2 [==============================] - 0s 4ms/step - loss: 10.6745 - mae: 10.6745\n",
      "Epoch 89/100\n",
      "2/2 [==============================] - 0s 3ms/step - loss: 7.2814 - mae: 7.2814\n",
      "Epoch 90/100\n",
      "2/2 [==============================] - 0s 3ms/step - loss: 12.8170 - mae: 12.8170\n",
      "Epoch 91/100\n",
      "2/2 [==============================] - 0s 2ms/step - loss: 7.4940 - mae: 7.4940\n",
      "Epoch 92/100\n",
      "2/2 [==============================] - 0s 2ms/step - loss: 6.7651 - mae: 6.7651\n",
      "Epoch 93/100\n",
      "2/2 [==============================] - 0s 4ms/step - loss: 11.9671 - mae: 11.9671\n",
      "Epoch 94/100\n",
      "2/2 [==============================] - 0s 2ms/step - loss: 8.8983 - mae: 8.8983\n",
      "Epoch 95/100\n",
      "2/2 [==============================] - 0s 2ms/step - loss: 7.7370 - mae: 7.7370\n",
      "Epoch 96/100\n",
      "2/2 [==============================] - 0s 2ms/step - loss: 6.7643 - mae: 6.7643\n",
      "Epoch 97/100\n",
      "2/2 [==============================] - 0s 2ms/step - loss: 8.6510 - mae: 8.6510\n",
      "Epoch 98/100\n",
      "2/2 [==============================] - 0s 3ms/step - loss: 9.4021 - mae: 9.4021\n",
      "Epoch 99/100\n",
      "2/2 [==============================] - 0s 2ms/step - loss: 9.1383 - mae: 9.1383\n",
      "Epoch 100/100\n",
      "2/2 [==============================] - 0s 2ms/step - loss: 10.4937 - mae: 10.4937\n"
     ]
    },
    {
     "data": {
      "text/plain": [
       "<keras.callbacks.History at 0x21230b8b760>"
      ]
     },
     "execution_count": 39,
     "metadata": {},
     "output_type": "execute_result"
    }
   ],
   "source": [
    "# Model_1  -  1 layer and 100 epochs\n",
    "\n",
    "tf.random.set_seed(42)\n",
    "\n",
    "model1 = tf.keras.Sequential([\n",
    "    tf.keras.layers.Dense(1, input_shape=[1])\n",
    "])\n",
    "\n",
    "model1.compile(loss=tf.keras.losses.mae,\n",
    "                optimizer = tf.keras.optimizers.SGD(),\n",
    "                metrics=[\"mae\"])\n",
    "\n",
    "model1.fit(X_train,y_train, epochs=100)"
   ]
  },
  {
   "cell_type": "code",
   "execution_count": 40,
   "metadata": {},
   "outputs": [
    {
     "name": "stdout",
     "output_type": "stream",
     "text": [
      "WARNING:tensorflow:6 out of the last 6 calls to <function Model.make_predict_function.<locals>.predict_function at 0x0000021230AD6950> triggered tf.function retracing. Tracing is expensive and the excessive number of tracings could be due to (1) creating @tf.function repeatedly in a loop, (2) passing tensors with different shapes, (3) passing Python objects instead of tensors. For (1), please define your @tf.function outside of the loop. For (2), @tf.function has reduce_retracing=True option that can avoid unnecessary retracing. For (3), please refer to https://www.tensorflow.org/guide/function#controlling_retracing and https://www.tensorflow.org/api_docs/python/tf/function for  more details.\n",
      "1/1 [==============================] - 0s 35ms/step\n"
     ]
    },
    {
     "data": {
      "image/png": "[encoded data removed]",
      "text/plain": [
       "<Figure size 1000x700 with 1 Axes>"
      ]
     },
     "metadata": {},
     "output_type": "display_data"
    }
   ],
   "source": [
    "# Make and plot predictions for model1\n",
    "y_pred1 = model1.predict(X_test)\n",
    "plot_predictions(predictions=y_pred1)"
   ]
  },
  {
   "cell_type": "code",
   "execution_count": 41,
   "metadata": {},
   "outputs": [
    {
     "data": {
      "text/plain": [
       "(<tf.Tensor: shape=(), dtype=float32, numpy=14.957848>,\n",
       " <tf.Tensor: shape=(), dtype=float32, numpy=224.58145>)"
      ]
     },
     "execution_count": 41,
     "metadata": {},
     "output_type": "execute_result"
    }
   ],
   "source": [
    "# Calculate model1 evaluation metrics\n",
    "\n",
    "mae1 = MAE(y_true=y_test, y_pred=y_pred1)\n",
    "mse1 = MSE(y_true=y_test, y_pred=y_pred1)\n",
    "mae1,mse1"
   ]
  },
  {
   "cell_type": "code",
   "execution_count": 42,
   "metadata": {},
   "outputs": [
    {
     "name": "stdout",
     "output_type": "stream",
     "text": [
      "Epoch 1/100\n",
      "2/2 [==============================] - 0s 4ms/step - loss: 15.9067 - mse: 440.5117\n",
      "Epoch 2/100\n",
      "2/2 [==============================] - 0s 3ms/step - loss: 29.4141 - mse: 1346.3230\n",
      "Epoch 3/100\n",
      "2/2 [==============================] - 0s 2ms/step - loss: 22.1703 - mse: 736.2714\n",
      "Epoch 4/100\n",
      "2/2 [==============================] - 0s 3ms/step - loss: 14.1935 - mse: 278.3809\n",
      "Epoch 5/100\n",
      "2/2 [==============================] - 0s 2ms/step - loss: 20.0077 - mse: 547.0350\n",
      "Epoch 6/100\n",
      "2/2 [==============================] - 0s 8ms/step - loss: 8.6655 - mse: 105.6114\n",
      "Epoch 7/100\n",
      "2/2 [==============================] - 0s 3ms/step - loss: 16.4112 - mse: 348.7921\n",
      "Epoch 8/100\n",
      "2/2 [==============================] - 0s 5ms/step - loss: 16.8263 - mse: 385.8480\n",
      "Epoch 9/100\n",
      "2/2 [==============================] - 0s 2ms/step - loss: 29.2414 - mse: 1170.4320\n",
      "Epoch 10/100\n",
      "2/2 [==============================] - 0s 4ms/step - loss: 13.7590 - mse: 236.4497\n",
      "Epoch 11/100\n",
      "2/2 [==============================] - 0s 2ms/step - loss: 9.5075 - mse: 99.3842\n",
      "Epoch 12/100\n",
      "2/2 [==============================] - 0s 4ms/step - loss: 20.1055 - mse: 567.2154\n",
      "Epoch 13/100\n",
      "2/2 [==============================] - 0s 2ms/step - loss: 12.1435 - mse: 176.4683\n",
      "Epoch 14/100\n",
      "2/2 [==============================] - 0s 5ms/step - loss: 35.0314 - mse: 2019.9656\n",
      "Epoch 15/100\n",
      "2/2 [==============================] - 0s 3ms/step - loss: 22.8201 - mse: 740.7393\n",
      "Epoch 16/100\n",
      "2/2 [==============================] - 0s 5ms/step - loss: 9.9753 - mse: 124.7594\n",
      "Epoch 17/100\n",
      "2/2 [==============================] - 0s 2ms/step - loss: 18.3986 - mse: 451.6594\n",
      "Epoch 18/100\n",
      "2/2 [==============================] - 0s 2ms/step - loss: 11.2926 - mse: 195.0139\n",
      "Epoch 19/100\n",
      "2/2 [==============================] - 0s 3ms/step - loss: 13.8328 - mse: 297.2654\n",
      "Epoch 20/100\n",
      "2/2 [==============================] - 0s 2ms/step - loss: 11.1466 - mse: 145.7939\n",
      "Epoch 21/100\n",
      "2/2 [==============================] - 0s 3ms/step - loss: 17.1471 - mse: 415.3595\n",
      "Epoch 22/100\n",
      "2/2 [==============================] - 0s 3ms/step - loss: 15.3854 - mse: 325.6435\n",
      "Epoch 23/100\n",
      "2/2 [==============================] - 0s 5ms/step - loss: 9.2409 - mse: 118.4311\n",
      "Epoch 24/100\n",
      "2/2 [==============================] - 0s 2ms/step - loss: 17.3091 - mse: 411.2204\n",
      "Epoch 25/100\n",
      "2/2 [==============================] - 0s 4ms/step - loss: 15.9672 - mse: 335.3694\n",
      "Epoch 26/100\n",
      "2/2 [==============================] - 0s 2ms/step - loss: 21.0039 - mse: 652.8591\n",
      "Epoch 27/100\n",
      "2/2 [==============================] - 0s 3ms/step - loss: 25.7980 - mse: 1036.7693\n",
      "Epoch 28/100\n",
      "2/2 [==============================] - 0s 2ms/step - loss: 18.3170 - mse: 530.7104\n",
      "Epoch 29/100\n",
      "2/2 [==============================] - 0s 2ms/step - loss: 9.2306 - mse: 98.2544\n",
      "Epoch 30/100\n",
      "2/2 [==============================] - 0s 4ms/step - loss: 28.9286 - mse: 1490.6115\n",
      "Epoch 31/100\n",
      "2/2 [==============================] - 0s 3ms/step - loss: 52.3766 - mse: 4902.5088\n",
      "Epoch 32/100\n",
      "2/2 [==============================] - 0s 5ms/step - loss: 11.8563 - mse: 202.7565\n",
      "Epoch 33/100\n",
      "2/2 [==============================] - 0s 3ms/step - loss: 15.4119 - mse: 327.0092\n",
      "Epoch 34/100\n",
      "2/2 [==============================] - 0s 3ms/step - loss: 12.5330 - mse: 205.9360\n",
      "Epoch 35/100\n",
      "2/2 [==============================] - 0s 2ms/step - loss: 9.1640 - mse: 90.7176\n",
      "Epoch 36/100\n",
      "2/2 [==============================] - 0s 3ms/step - loss: 16.3804 - mse: 389.6552\n",
      "Epoch 37/100\n",
      "2/2 [==============================] - 0s 2ms/step - loss: 11.1043 - mse: 192.0185\n",
      "Epoch 38/100\n",
      "2/2 [==============================] - 0s 4ms/step - loss: 18.2364 - mse: 438.7996\n",
      "Epoch 39/100\n",
      "2/2 [==============================] - 0s 2ms/step - loss: 19.1648 - mse: 535.8627\n",
      "Epoch 40/100\n",
      "2/2 [==============================] - 0s 4ms/step - loss: 20.5500 - mse: 616.7858\n",
      "Epoch 41/100\n",
      "2/2 [==============================] - 0s 2ms/step - loss: 14.7492 - mse: 271.6347\n",
      "Epoch 42/100\n",
      "2/2 [==============================] - 0s 3ms/step - loss: 12.1590 - mse: 180.0143\n",
      "Epoch 43/100\n",
      "2/2 [==============================] - 0s 3ms/step - loss: 10.6712 - mse: 161.2882\n",
      "Epoch 44/100\n",
      "2/2 [==============================] - 0s 5ms/step - loss: 32.1663 - mse: 1700.5271\n",
      "Epoch 45/100\n",
      "2/2 [==============================] - 0s 3ms/step - loss: 12.4304 - mse: 199.7631\n",
      "Epoch 46/100\n",
      "2/2 [==============================] - 0s 4ms/step - loss: 17.4381 - mse: 455.4833\n",
      "Epoch 47/100\n",
      "2/2 [==============================] - 0s 2ms/step - loss: 15.7785 - mse: 340.1667\n",
      "Epoch 48/100\n",
      "2/2 [==============================] - 0s 3ms/step - loss: 8.3846 - mse: 112.6797\n",
      "Epoch 49/100\n",
      "2/2 [==============================] - 0s 3ms/step - loss: 14.2354 - mse: 284.0119\n",
      "Epoch 50/100\n",
      "2/2 [==============================] - 0s 4ms/step - loss: 15.1677 - mse: 308.7291\n",
      "Epoch 51/100\n",
      "2/2 [==============================] - 0s 2ms/step - loss: 13.6814 - mse: 256.6153\n",
      "Epoch 52/100\n",
      "2/2 [==============================] - 0s 4ms/step - loss: 18.0967 - mse: 461.8693\n",
      "Epoch 53/100\n",
      "2/2 [==============================] - 0s 3ms/step - loss: 22.7522 - mse: 748.1812\n",
      "Epoch 54/100\n",
      "2/2 [==============================] - 0s 3ms/step - loss: 26.8457 - mse: 1110.1432\n",
      "Epoch 55/100\n",
      "2/2 [==============================] - 0s 2ms/step - loss: 26.4837 - mse: 1066.5664\n",
      "Epoch 56/100\n",
      "2/2 [==============================] - 0s 2ms/step - loss: 11.3639 - mse: 171.8311\n",
      "Epoch 57/100\n",
      "2/2 [==============================] - 0s 4ms/step - loss: 13.3939 - mse: 227.0750\n",
      "Epoch 58/100\n",
      "2/2 [==============================] - 0s 3ms/step - loss: 9.9652 - mse: 109.9946\n",
      "Epoch 59/100\n",
      "2/2 [==============================] - 0s 5ms/step - loss: 13.9631 - mse: 278.2763\n",
      "Epoch 60/100\n",
      "2/2 [==============================] - 0s 3ms/step - loss: 10.0083 - mse: 118.8854\n",
      "Epoch 61/100\n",
      "2/2 [==============================] - 0s 4ms/step - loss: 15.0221 - mse: 310.6846\n",
      "Epoch 62/100\n",
      "2/2 [==============================] - 0s 3ms/step - loss: 11.9550 - mse: 198.5804\n",
      "Epoch 63/100\n",
      "2/2 [==============================] - 0s 5ms/step - loss: 10.3015 - mse: 136.4529\n",
      "Epoch 64/100\n",
      "2/2 [==============================] - 0s 2ms/step - loss: 23.9842 - mse: 845.7888\n",
      "Epoch 65/100\n",
      "2/2 [==============================] - 0s 2ms/step - loss: 10.4795 - mse: 131.2652\n",
      "Epoch 66/100\n",
      "2/2 [==============================] - 0s 3ms/step - loss: 21.0206 - mse: 650.5199\n",
      "Epoch 67/100\n",
      "2/2 [==============================] - 0s 3ms/step - loss: 10.4645 - mse: 127.1163\n",
      "Epoch 68/100\n",
      "2/2 [==============================] - 0s 4ms/step - loss: 14.2394 - mse: 305.4455\n",
      "Epoch 69/100\n",
      "2/2 [==============================] - 0s 2ms/step - loss: 10.5432 - mse: 126.9711\n",
      "Epoch 70/100\n",
      "2/2 [==============================] - 0s 3ms/step - loss: 12.6192 - mse: 202.1861\n",
      "Epoch 71/100\n",
      "2/2 [==============================] - 0s 2ms/step - loss: 13.0500 - mse: 228.1280\n",
      "Epoch 72/100\n",
      "2/2 [==============================] - 0s 4ms/step - loss: 19.4552 - mse: 537.2241\n",
      "Epoch 73/100\n",
      "2/2 [==============================] - 0s 3ms/step - loss: 11.1485 - mse: 192.4315\n",
      "Epoch 74/100\n",
      "2/2 [==============================] - 0s 3ms/step - loss: 21.7132 - mse: 733.3123\n",
      "Epoch 75/100\n",
      "2/2 [==============================] - 0s 2ms/step - loss: 7.2116 - mse: 71.4429\n",
      "Epoch 76/100\n",
      "2/2 [==============================] - 0s 4ms/step - loss: 9.4416 - mse: 149.2362\n",
      "Epoch 77/100\n",
      "2/2 [==============================] - 0s 3ms/step - loss: 22.1258 - mse: 731.1280\n",
      "Epoch 78/100\n",
      "2/2 [==============================] - 0s 3ms/step - loss: 17.5498 - mse: 468.0526\n",
      "Epoch 79/100\n",
      "2/2 [==============================] - 0s 4ms/step - loss: 14.7608 - mse: 318.8482\n",
      "Epoch 80/100\n",
      "2/2 [==============================] - 0s 5ms/step - loss: 24.9839 - mse: 951.3783\n",
      "Epoch 81/100\n",
      "2/2 [==============================] - 0s 3ms/step - loss: 10.8336 - mse: 138.2204\n",
      "Epoch 82/100\n",
      "2/2 [==============================] - 0s 5ms/step - loss: 12.7953 - mse: 233.2400\n",
      "Epoch 83/100\n",
      "2/2 [==============================] - 0s 3ms/step - loss: 17.5828 - mse: 403.3013\n",
      "Epoch 84/100\n",
      "2/2 [==============================] - 0s 4ms/step - loss: 7.2918 - mse: 73.0906\n",
      "Epoch 85/100\n",
      "2/2 [==============================] - 0s 3ms/step - loss: 15.0854 - mse: 317.6108\n",
      "Epoch 86/100\n",
      "2/2 [==============================] - 0s 3ms/step - loss: 15.3818 - mse: 317.8712\n",
      "Epoch 87/100\n",
      "2/2 [==============================] - 0s 2ms/step - loss: 19.3013 - mse: 530.0993\n",
      "Epoch 88/100\n",
      "2/2 [==============================] - 0s 4ms/step - loss: 29.3174 - mse: 1240.9414\n",
      "Epoch 89/100\n",
      "2/2 [==============================] - 0s 3ms/step - loss: 10.0993 - mse: 124.0553\n",
      "Epoch 90/100\n",
      "2/2 [==============================] - 0s 3ms/step - loss: 21.1121 - mse: 638.1315\n",
      "Epoch 91/100\n",
      "2/2 [==============================] - 0s 3ms/step - loss: 10.4719 - mse: 163.5013\n",
      "Epoch 92/100\n",
      "2/2 [==============================] - 0s 2ms/step - loss: 18.0299 - mse: 444.8307\n",
      "Epoch 93/100\n",
      "2/2 [==============================] - 0s 2ms/step - loss: 6.5455 - mse: 61.0380\n",
      "Epoch 94/100\n",
      "2/2 [==============================] - 0s 2ms/step - loss: 11.1312 - mse: 153.5282\n",
      "Epoch 95/100\n",
      "2/2 [==============================] - 0s 4ms/step - loss: 24.4451 - mse: 896.6364\n",
      "Epoch 96/100\n",
      "2/2 [==============================] - 0s 2ms/step - loss: 10.7388 - mse: 172.1354\n",
      "Epoch 97/100\n",
      "2/2 [==============================] - 0s 2ms/step - loss: 15.4066 - mse: 359.9415\n",
      "Epoch 98/100\n",
      "2/2 [==============================] - 0s 3ms/step - loss: 8.2487 - mse: 110.4495\n",
      "Epoch 99/100\n",
      "2/2 [==============================] - 0s 3ms/step - loss: 16.5848 - mse: 386.1699\n",
      "Epoch 100/100\n",
      "2/2 [==============================] - 0s 3ms/step - loss: 14.3458 - mse: 297.5217\n"
     ]
    },
    {
     "data": {
      "text/plain": [
       "<keras.callbacks.History at 0x21230b1ebf0>"
      ]
     },
     "execution_count": 42,
     "metadata": {},
     "output_type": "execute_result"
    }
   ],
   "source": [
    "# Model2 - 2 layer and 100 epochs\n",
    "\n",
    "tf.random.set_seed(42)\n",
    "\n",
    "model2 = tf.keras.Sequential([\n",
    "    tf.keras.layers.Dense(10, input_shape=[1]),\n",
    "    tf.keras.layers.Dense(1)\n",
    "])\n",
    "\n",
    "model2.compile(loss= tf.keras.losses.mae,\n",
    "                optimizer = tf.keras.optimizers.SGD(),\n",
    "                metrics=[\"mse\"])\n",
    "\n",
    "model2.fit(X_train,y_train,epochs=100)"
   ]
  },
  {
   "cell_type": "code",
   "execution_count": 43,
   "metadata": {},
   "outputs": [
    {
     "name": "stdout",
     "output_type": "stream",
     "text": [
      "1/1 [==============================] - 0s 35ms/step\n"
     ]
    },
    {
     "data": {
      "image/png": "[encoded data removed]",
      "text/plain": [
       "<Figure size 1000x700 with 1 Axes>"
      ]
     },
     "metadata": {},
     "output_type": "display_data"
    }
   ],
   "source": [
    "# Make and plot predictions for model2\n",
    "y_pred2 = model2.predict(X_test)\n",
    "plot_predictions(predictions=y_pred2)"
   ]
  },
  {
   "cell_type": "code",
   "execution_count": 44,
   "metadata": {},
   "outputs": [
    {
     "data": {
      "text/plain": [
       "(<tf.Tensor: shape=(), dtype=float32, numpy=11.045192>,\n",
       " <tf.Tensor: shape=(), dtype=float32, numpy=130.07205>)"
      ]
     },
     "execution_count": 44,
     "metadata": {},
     "output_type": "execute_result"
    }
   ],
   "source": [
    "# Calculate model2 evaluation metrics\n",
    "mae2 = MAE(y_true=y_test, y_pred=y_pred2)\n",
    "mse2 = MSE(y_true=y_test, y_pred=y_pred2)\n",
    "mae2,mse2"
   ]
  },
  {
   "cell_type": "code",
   "execution_count": 45,
   "metadata": {},
   "outputs": [
    {
     "name": "stdout",
     "output_type": "stream",
     "text": [
      "Epoch 1/500\n",
      "2/2 [==============================] - 0s 3ms/step - loss: 27.6056 - mse: 1063.3955\n",
      "Epoch 2/500\n",
      "2/2 [==============================] - 0s 4ms/step - loss: 24.7739 - mse: 795.4139\n",
      "Epoch 3/500\n",
      "2/2 [==============================] - 0s 2ms/step - loss: 30.8283 - mse: 1394.3618\n",
      "Epoch 4/500\n",
      "2/2 [==============================] - 0s 2ms/step - loss: 23.7093 - mse: 810.7444\n",
      "Epoch 5/500\n",
      "2/2 [==============================] - 0s 3ms/step - loss: 14.1260 - mse: 244.0352\n",
      "Epoch 6/500\n",
      "2/2 [==============================] - 0s 2ms/step - loss: 11.2955 - mse: 143.4629\n",
      "Epoch 7/500\n",
      "2/2 [==============================] - 0s 4ms/step - loss: 12.3065 - mse: 195.6003\n",
      "Epoch 8/500\n",
      "2/2 [==============================] - 0s 2ms/step - loss: 10.9193 - mse: 139.4254\n",
      "Epoch 9/500\n",
      "2/2 [==============================] - 0s 2ms/step - loss: 38.3514 - mse: 2281.5642\n",
      "Epoch 10/500\n",
      "2/2 [==============================] - 0s 2ms/step - loss: 25.8839 - mse: 941.8246\n",
      "Epoch 11/500\n",
      "2/2 [==============================] - 0s 3ms/step - loss: 10.2457 - mse: 149.4938\n",
      "Epoch 12/500\n",
      "2/2 [==============================] - 0s 2ms/step - loss: 25.1610 - mse: 882.8307\n",
      "Epoch 13/500\n",
      "2/2 [==============================] - 0s 3ms/step - loss: 17.1634 - mse: 410.3970\n",
      "Epoch 14/500\n",
      "2/2 [==============================] - 0s 2ms/step - loss: 26.4201 - mse: 1087.4353\n",
      "Epoch 15/500\n",
      "2/2 [==============================] - 0s 5ms/step - loss: 16.8949 - mse: 393.4357\n",
      "Epoch 16/500\n",
      "2/2 [==============================] - 0s 4ms/step - loss: 9.8349 - mse: 126.5604\n",
      "Epoch 17/500\n",
      "2/2 [==============================] - 0s 3ms/step - loss: 17.6305 - mse: 409.9601\n",
      "Epoch 18/500\n",
      "2/2 [==============================] - 0s 4ms/step - loss: 14.1031 - mse: 313.2132\n",
      "Epoch 19/500\n",
      "2/2 [==============================] - 0s 3ms/step - loss: 13.9420 - mse: 302.6404\n",
      "Epoch 20/500\n",
      "2/2 [==============================] - 0s 4ms/step - loss: 11.2042 - mse: 146.4507\n",
      "Epoch 21/500\n",
      "2/2 [==============================] - 0s 3ms/step - loss: 17.2591 - mse: 421.5937\n",
      "Epoch 22/500\n",
      "2/2 [==============================] - 0s 3ms/step - loss: 15.4967 - mse: 330.6729\n",
      "Epoch 23/500\n",
      "2/2 [==============================] - 0s 2ms/step - loss: 9.2456 - mse: 118.7227\n",
      "Epoch 24/500\n",
      "2/2 [==============================] - 0s 3ms/step - loss: 17.2762 - mse: 409.1457\n",
      "Epoch 25/500\n",
      "2/2 [==============================] - 0s 3ms/step - loss: 15.9484 - mse: 334.2634\n",
      "Epoch 26/500\n",
      "2/2 [==============================] - 0s 3ms/step - loss: 20.9494 - mse: 650.2520\n",
      "Epoch 27/500\n",
      "2/2 [==============================] - 0s 4ms/step - loss: 25.9226 - mse: 1048.0695\n",
      "Epoch 28/500\n",
      "2/2 [==============================] - 0s 3ms/step - loss: 18.4263 - mse: 537.3229\n",
      "Epoch 29/500\n",
      "2/2 [==============================] - 0s 3ms/step - loss: 9.2459 - mse: 97.9444\n",
      "Epoch 30/500\n",
      "2/2 [==============================] - 0s 2ms/step - loss: 29.0359 - mse: 1504.9969\n",
      "Epoch 31/500\n",
      "2/2 [==============================] - 0s 3ms/step - loss: 52.5846 - mse: 4943.6250\n",
      "Epoch 32/500\n",
      "2/2 [==============================] - 0s 2ms/step - loss: 11.9111 - mse: 205.7937\n",
      "Epoch 33/500\n",
      "2/2 [==============================] - 0s 5ms/step - loss: 15.4886 - mse: 330.4161\n",
      "Epoch 34/500\n",
      "2/2 [==============================] - 0s 3ms/step - loss: 12.5928 - mse: 208.7353\n",
      "Epoch 35/500\n",
      "2/2 [==============================] - 0s 5ms/step - loss: 9.1970 - mse: 91.5285\n",
      "Epoch 36/500\n",
      "2/2 [==============================] - 0s 3ms/step - loss: 16.4636 - mse: 393.7950\n",
      "Epoch 37/500\n",
      "2/2 [==============================] - 0s 6ms/step - loss: 11.0922 - mse: 192.2814\n",
      "Epoch 38/500\n",
      "2/2 [==============================] - 0s 5ms/step - loss: 18.2219 - mse: 437.6225\n",
      "Epoch 39/500\n",
      "2/2 [==============================] - 0s 3ms/step - loss: 19.1536 - mse: 534.4700\n",
      "Epoch 40/500\n",
      "2/2 [==============================] - 0s 6ms/step - loss: 20.5262 - mse: 615.3595\n",
      "Epoch 41/500\n",
      "2/2 [==============================] - 0s 4ms/step - loss: 14.7976 - mse: 273.6922\n",
      "Epoch 42/500\n",
      "2/2 [==============================] - 0s 3ms/step - loss: 12.1963 - mse: 181.5747\n",
      "Epoch 43/500\n",
      "2/2 [==============================] - 0s 2ms/step - loss: 10.6945 - mse: 162.5856\n",
      "Epoch 44/500\n",
      "2/2 [==============================] - 0s 5ms/step - loss: 32.2304 - mse: 1708.1497\n",
      "Epoch 45/500\n",
      "2/2 [==============================] - 0s 3ms/step - loss: 12.4623 - mse: 201.1466\n",
      "Epoch 46/500\n",
      "2/2 [==============================] - 0s 3ms/step - loss: 17.4873 - mse: 458.1581\n",
      "Epoch 47/500\n",
      "2/2 [==============================] - 0s 3ms/step - loss: 15.7690 - mse: 339.7888\n",
      "Epoch 48/500\n",
      "2/2 [==============================] - 0s 3ms/step - loss: 8.3853 - mse: 112.8543\n",
      "Epoch 49/500\n",
      "2/2 [==============================] - 0s 3ms/step - loss: 13.9991 - mse: 269.0965\n",
      "Epoch 50/500\n",
      "2/2 [==============================] - 0s 2ms/step - loss: 12.8378 - mse: 215.7758\n",
      "Epoch 51/500\n",
      "2/2 [==============================] - 0s 3ms/step - loss: 14.8467 - mse: 310.0360\n",
      "Epoch 52/500\n",
      "2/2 [==============================] - 0s 3ms/step - loss: 18.7312 - mse: 530.4722\n",
      "Epoch 53/500\n",
      "2/2 [==============================] - 0s 4ms/step - loss: 24.1869 - mse: 829.5194\n",
      "Epoch 54/500\n",
      "2/2 [==============================] - 0s 3ms/step - loss: 23.1370 - mse: 801.4390\n",
      "Epoch 55/500\n",
      "2/2 [==============================] - 0s 3ms/step - loss: 23.9821 - mse: 865.1520\n",
      "Epoch 56/500\n",
      "2/2 [==============================] - 0s 2ms/step - loss: 11.1486 - mse: 171.1295\n",
      "Epoch 57/500\n",
      "2/2 [==============================] - 0s 2ms/step - loss: 13.0966 - mse: 213.0610\n",
      "Epoch 58/500\n",
      "2/2 [==============================] - 0s 2ms/step - loss: 9.8010 - mse: 106.0261\n",
      "Epoch 59/500\n",
      "2/2 [==============================] - 0s 3ms/step - loss: 13.2780 - mse: 247.6634\n",
      "Epoch 60/500\n",
      "2/2 [==============================] - 0s 4ms/step - loss: 10.8565 - mse: 138.7073\n",
      "Epoch 61/500\n",
      "2/2 [==============================] - 0s 2ms/step - loss: 13.4480 - mse: 240.1193\n",
      "Epoch 62/500\n",
      "2/2 [==============================] - 0s 2ms/step - loss: 17.4461 - mse: 464.2782\n",
      "Epoch 63/500\n",
      "2/2 [==============================] - 0s 2ms/step - loss: 9.1514 - mse: 87.7160\n",
      "Epoch 64/500\n",
      "2/2 [==============================] - 0s 2ms/step - loss: 18.3172 - mse: 487.7391\n",
      "Epoch 65/500\n",
      "2/2 [==============================] - 0s 3ms/step - loss: 10.1062 - mse: 114.4149\n",
      "Epoch 66/500\n",
      "2/2 [==============================] - 0s 3ms/step - loss: 24.1621 - mse: 880.2620\n",
      "Epoch 67/500\n",
      "2/2 [==============================] - 0s 3ms/step - loss: 10.8643 - mse: 141.6065\n",
      "Epoch 68/500\n",
      "2/2 [==============================] - 0s 2ms/step - loss: 10.7536 - mse: 157.3275\n",
      "Epoch 69/500\n",
      "2/2 [==============================] - 0s 3ms/step - loss: 23.1347 - mse: 773.1798\n",
      "Epoch 70/500\n",
      "2/2 [==============================] - 0s 3ms/step - loss: 8.8369 - mse: 143.0992\n",
      "Epoch 71/500\n",
      "2/2 [==============================] - 0s 3ms/step - loss: 16.0593 - mse: 351.7204\n",
      "Epoch 72/500\n",
      "2/2 [==============================] - 0s 3ms/step - loss: 7.7553 - mse: 91.4081\n",
      "Epoch 73/500\n",
      "2/2 [==============================] - 0s 3ms/step - loss: 10.1588 - mse: 165.3764\n",
      "Epoch 74/500\n",
      "2/2 [==============================] - 0s 2ms/step - loss: 28.3342 - mse: 1123.5629\n",
      "Epoch 75/500\n",
      "2/2 [==============================] - 0s 4ms/step - loss: 10.0111 - mse: 146.2470\n",
      "Epoch 76/500\n",
      "2/2 [==============================] - 0s 3ms/step - loss: 12.9263 - mse: 207.8095\n",
      "Epoch 77/500\n",
      "2/2 [==============================] - 0s 2ms/step - loss: 17.8829 - mse: 498.3113\n",
      "Epoch 78/500\n",
      "2/2 [==============================] - 0s 3ms/step - loss: 8.9658 - mse: 87.8333\n",
      "Epoch 79/500\n",
      "2/2 [==============================] - 0s 2ms/step - loss: 28.7044 - mse: 1301.0613\n",
      "Epoch 80/500\n",
      "2/2 [==============================] - 0s 4ms/step - loss: 31.0400 - mse: 1529.7902\n",
      "Epoch 81/500\n",
      "2/2 [==============================] - 0s 2ms/step - loss: 13.4097 - mse: 251.4262\n",
      "Epoch 82/500\n",
      "2/2 [==============================] - 0s 2ms/step - loss: 14.3280 - mse: 284.7018\n",
      "Epoch 83/500\n",
      "2/2 [==============================] - 0s 2ms/step - loss: 18.8670 - mse: 472.3517\n",
      "Epoch 84/500\n",
      "2/2 [==============================] - 0s 2ms/step - loss: 9.4633 - mse: 149.0308\n",
      "Epoch 85/500\n",
      "2/2 [==============================] - 0s 3ms/step - loss: 25.2614 - mse: 893.2438\n",
      "Epoch 86/500\n",
      "2/2 [==============================] - 0s 2ms/step - loss: 16.4064 - mse: 395.9842\n",
      "Epoch 87/500\n",
      "2/2 [==============================] - 0s 3ms/step - loss: 11.4658 - mse: 156.2257\n",
      "Epoch 88/500\n",
      "2/2 [==============================] - 0s 3ms/step - loss: 26.9954 - mse: 1042.2595\n",
      "Epoch 89/500\n",
      "2/2 [==============================] - 0s 2ms/step - loss: 9.7380 - mse: 128.5140\n",
      "Epoch 90/500\n",
      "2/2 [==============================] - 0s 2ms/step - loss: 19.0453 - mse: 520.1356\n",
      "Epoch 91/500\n",
      "2/2 [==============================] - 0s 3ms/step - loss: 10.5922 - mse: 163.5933\n",
      "Epoch 92/500\n",
      "2/2 [==============================] - 0s 2ms/step - loss: 18.2579 - mse: 456.5579\n",
      "Epoch 93/500\n",
      "2/2 [==============================] - 0s 3ms/step - loss: 6.8646 - mse: 68.1562\n",
      "Epoch 94/500\n",
      "2/2 [==============================] - 0s 2ms/step - loss: 13.0508 - mse: 231.1375\n",
      "Epoch 95/500\n",
      "2/2 [==============================] - 0s 2ms/step - loss: 18.3992 - mse: 499.4063\n",
      "Epoch 96/500\n",
      "2/2 [==============================] - 0s 3ms/step - loss: 10.3981 - mse: 179.7136\n",
      "Epoch 97/500\n",
      "2/2 [==============================] - 0s 2ms/step - loss: 14.1511 - mse: 300.5191\n",
      "Epoch 98/500\n",
      "2/2 [==============================] - 0s 3ms/step - loss: 9.6359 - mse: 137.3158\n",
      "Epoch 99/500\n",
      "2/2 [==============================] - 0s 2ms/step - loss: 11.3326 - mse: 163.6938\n",
      "Epoch 100/500\n",
      "2/2 [==============================] - 0s 2ms/step - loss: 29.2312 - mse: 1315.1853\n",
      "Epoch 101/500\n",
      "2/2 [==============================] - 0s 3ms/step - loss: 15.5516 - mse: 361.7777\n",
      "Epoch 102/500\n",
      "2/2 [==============================] - 0s 2ms/step - loss: 10.9389 - mse: 161.3369\n",
      "Epoch 103/500\n",
      "2/2 [==============================] - 0s 2ms/step - loss: 9.2625 - mse: 96.7320\n",
      "Epoch 104/500\n",
      "2/2 [==============================] - 0s 2ms/step - loss: 24.1315 - mse: 873.5157\n",
      "Epoch 105/500\n",
      "2/2 [==============================] - 0s 2ms/step - loss: 10.9848 - mse: 167.4924\n",
      "Epoch 106/500\n",
      "2/2 [==============================] - 0s 5ms/step - loss: 11.4228 - mse: 183.2461\n",
      "Epoch 107/500\n",
      "2/2 [==============================] - 0s 4ms/step - loss: 21.6541 - mse: 700.5245\n",
      "Epoch 108/500\n",
      "2/2 [==============================] - 0s 3ms/step - loss: 7.2692 - mse: 74.0136\n",
      "Epoch 109/500\n",
      "2/2 [==============================] - 0s 3ms/step - loss: 18.8770 - mse: 506.0981\n",
      "Epoch 110/500\n",
      "2/2 [==============================] - 0s 3ms/step - loss: 11.0833 - mse: 199.7092\n",
      "Epoch 111/500\n",
      "2/2 [==============================] - 0s 3ms/step - loss: 17.6472 - mse: 449.1568\n",
      "Epoch 112/500\n",
      "2/2 [==============================] - 0s 3ms/step - loss: 6.6227 - mse: 64.2359\n",
      "Epoch 113/500\n",
      "2/2 [==============================] - 0s 3ms/step - loss: 13.5177 - mse: 270.0178\n",
      "Epoch 114/500\n",
      "2/2 [==============================] - 0s 2ms/step - loss: 20.0083 - mse: 605.9935\n",
      "Epoch 115/500\n",
      "2/2 [==============================] - 0s 3ms/step - loss: 10.8848 - mse: 142.6192\n",
      "Epoch 116/500\n",
      "2/2 [==============================] - 0s 3ms/step - loss: 22.1808 - mse: 713.2617\n",
      "Epoch 117/500\n",
      "2/2 [==============================] - 0s 3ms/step - loss: 9.3112 - mse: 129.7278\n",
      "Epoch 118/500\n",
      "2/2 [==============================] - 0s 3ms/step - loss: 10.3168 - mse: 131.5492\n",
      "Epoch 119/500\n",
      "2/2 [==============================] - 0s 3ms/step - loss: 8.0640 - mse: 72.5673\n",
      "Epoch 120/500\n",
      "2/2 [==============================] - 0s 3ms/step - loss: 37.3758 - mse: 2174.5249\n",
      "Epoch 121/500\n",
      "2/2 [==============================] - 0s 3ms/step - loss: 10.6184 - mse: 165.2267\n",
      "Epoch 122/500\n",
      "2/2 [==============================] - 0s 3ms/step - loss: 28.0155 - mse: 1204.0763\n",
      "Epoch 123/500\n",
      "2/2 [==============================] - 0s 4ms/step - loss: 32.5326 - mse: 1554.3071\n",
      "Epoch 124/500\n",
      "2/2 [==============================] - 0s 2ms/step - loss: 19.3724 - mse: 556.5751\n",
      "Epoch 125/500\n",
      "2/2 [==============================] - 0s 3ms/step - loss: 6.4793 - mse: 60.6043\n",
      "Epoch 126/500\n",
      "2/2 [==============================] - 0s 3ms/step - loss: 26.5820 - mse: 1025.7006\n",
      "Epoch 127/500\n",
      "2/2 [==============================] - 0s 3ms/step - loss: 8.6022 - mse: 95.5906\n",
      "Epoch 128/500\n",
      "2/2 [==============================] - 0s 3ms/step - loss: 13.7338 - mse: 263.5649\n",
      "Epoch 129/500\n",
      "2/2 [==============================] - 0s 3ms/step - loss: 10.8734 - mse: 180.0575\n",
      "Epoch 130/500\n",
      "2/2 [==============================] - 0s 5ms/step - loss: 15.3428 - mse: 341.3301\n",
      "Epoch 131/500\n",
      "2/2 [==============================] - 0s 4ms/step - loss: 8.8763 - mse: 89.2697\n",
      "Epoch 132/500\n",
      "2/2 [==============================] - 0s 3ms/step - loss: 14.8246 - mse: 330.6632\n",
      "Epoch 133/500\n",
      "2/2 [==============================] - 0s 3ms/step - loss: 7.9727 - mse: 88.1727\n",
      "Epoch 134/500\n",
      "2/2 [==============================] - 0s 4ms/step - loss: 22.4842 - mse: 730.1026\n",
      "Epoch 135/500\n",
      "2/2 [==============================] - 0s 2ms/step - loss: 19.9330 - mse: 560.4143\n",
      "Epoch 136/500\n",
      "2/2 [==============================] - 0s 2ms/step - loss: 13.8391 - mse: 265.3077\n",
      "Epoch 137/500\n",
      "2/2 [==============================] - 0s 3ms/step - loss: 25.3330 - mse: 873.9421\n",
      "Epoch 138/500\n",
      "2/2 [==============================] - 0s 3ms/step - loss: 10.0236 - mse: 142.3001\n",
      "Epoch 139/500\n",
      "2/2 [==============================] - 0s 3ms/step - loss: 9.4877 - mse: 137.3245\n",
      "Epoch 140/500\n",
      "2/2 [==============================] - 0s 3ms/step - loss: 18.5373 - mse: 490.8061\n",
      "Epoch 141/500\n",
      "2/2 [==============================] - 0s 3ms/step - loss: 8.3395 - mse: 74.2650\n",
      "Epoch 142/500\n",
      "2/2 [==============================] - 0s 4ms/step - loss: 33.1849 - mse: 1907.0026\n",
      "Epoch 143/500\n",
      "2/2 [==============================] - 0s 4ms/step - loss: 23.3310 - mse: 762.4352\n",
      "Epoch 144/500\n",
      "2/2 [==============================] - 0s 3ms/step - loss: 10.5030 - mse: 183.9770\n",
      "Epoch 145/500\n",
      "2/2 [==============================] - 0s 3ms/step - loss: 25.8548 - mse: 903.9714\n",
      "Epoch 146/500\n",
      "2/2 [==============================] - 0s 2ms/step - loss: 9.9544 - mse: 131.1003\n",
      "Epoch 147/500\n",
      "2/2 [==============================] - 0s 5ms/step - loss: 14.7611 - mse: 291.0392\n",
      "Epoch 148/500\n",
      "2/2 [==============================] - 0s 3ms/step - loss: 17.8777 - mse: 440.8226\n",
      "Epoch 149/500\n",
      "2/2 [==============================] - 0s 5ms/step - loss: 8.4522 - mse: 106.4846\n",
      "Epoch 150/500\n",
      "2/2 [==============================] - 0s 3ms/step - loss: 7.6351 - mse: 66.7929\n",
      "Epoch 151/500\n",
      "2/2 [==============================] - 0s 4ms/step - loss: 18.7799 - mse: 511.3701\n",
      "Epoch 152/500\n",
      "2/2 [==============================] - 0s 3ms/step - loss: 10.4686 - mse: 136.0250\n",
      "Epoch 153/500\n",
      "2/2 [==============================] - 0s 3ms/step - loss: 30.2543 - mse: 1326.7585\n",
      "Epoch 154/500\n",
      "2/2 [==============================] - 0s 3ms/step - loss: 10.0261 - mse: 177.9518\n",
      "Epoch 155/500\n",
      "2/2 [==============================] - 0s 3ms/step - loss: 15.7739 - mse: 369.8959\n",
      "Epoch 156/500\n",
      "2/2 [==============================] - 0s 2ms/step - loss: 17.7188 - mse: 465.9710\n",
      "Epoch 157/500\n",
      "2/2 [==============================] - 0s 3ms/step - loss: 30.9919 - mse: 1542.5664\n",
      "Epoch 158/500\n",
      "2/2 [==============================] - 0s 2ms/step - loss: 10.2030 - mse: 138.6244\n",
      "Epoch 159/500\n",
      "2/2 [==============================] - 0s 4ms/step - loss: 8.6947 - mse: 98.7188\n",
      "Epoch 160/500\n",
      "2/2 [==============================] - 0s 2ms/step - loss: 20.6541 - mse: 613.0392\n",
      "Epoch 161/500\n",
      "2/2 [==============================] - 0s 4ms/step - loss: 11.7907 - mse: 205.1203\n",
      "Epoch 162/500\n",
      "2/2 [==============================] - 0s 2ms/step - loss: 21.6266 - mse: 673.9885\n",
      "Epoch 163/500\n",
      "2/2 [==============================] - 0s 2ms/step - loss: 19.3073 - mse: 536.6959\n",
      "Epoch 164/500\n",
      "2/2 [==============================] - 0s 3ms/step - loss: 11.0936 - mse: 179.5030\n",
      "Epoch 165/500\n",
      "2/2 [==============================] - 0s 2ms/step - loss: 9.6440 - mse: 180.4647\n",
      "Epoch 166/500\n",
      "2/2 [==============================] - 0s 3ms/step - loss: 21.6023 - mse: 682.5510\n",
      "Epoch 167/500\n",
      "2/2 [==============================] - 0s 4ms/step - loss: 26.2757 - mse: 1048.4402\n",
      "Epoch 168/500\n",
      "2/2 [==============================] - 0s 2ms/step - loss: 9.9154 - mse: 119.3750\n",
      "Epoch 169/500\n",
      "2/2 [==============================] - 0s 2ms/step - loss: 22.5046 - mse: 783.7208\n",
      "Epoch 170/500\n",
      "2/2 [==============================] - 0s 6ms/step - loss: 10.1932 - mse: 196.4322\n",
      "Epoch 171/500\n",
      "2/2 [==============================] - 0s 4ms/step - loss: 18.0906 - mse: 505.1466\n",
      "Epoch 172/500\n",
      "2/2 [==============================] - 0s 4ms/step - loss: 28.7389 - mse: 1297.0415\n",
      "Epoch 173/500\n",
      "2/2 [==============================] - 0s 3ms/step - loss: 16.4702 - mse: 429.8873\n",
      "Epoch 174/500\n",
      "2/2 [==============================] - 0s 3ms/step - loss: 11.2505 - mse: 200.2736\n",
      "Epoch 175/500\n",
      "2/2 [==============================] - 0s 5ms/step - loss: 27.6159 - mse: 1099.7545\n",
      "Epoch 176/500\n",
      "2/2 [==============================] - 0s 3ms/step - loss: 8.2950 - mse: 77.9148\n",
      "Epoch 177/500\n",
      "2/2 [==============================] - 0s 3ms/step - loss: 9.2946 - mse: 109.5003\n",
      "Epoch 178/500\n",
      "2/2 [==============================] - 0s 2ms/step - loss: 18.0244 - mse: 460.7830\n",
      "Epoch 179/500\n",
      "2/2 [==============================] - 0s 2ms/step - loss: 10.6731 - mse: 149.8197\n",
      "Epoch 180/500\n",
      "2/2 [==============================] - 0s 2ms/step - loss: 7.9346 - mse: 102.6890\n",
      "Epoch 181/500\n",
      "2/2 [==============================] - 0s 3ms/step - loss: 17.2689 - mse: 432.4959\n",
      "Epoch 182/500\n",
      "2/2 [==============================] - 0s 3ms/step - loss: 11.0052 - mse: 156.6485\n",
      "Epoch 183/500\n",
      "2/2 [==============================] - 0s 3ms/step - loss: 11.6488 - mse: 202.1480\n",
      "Epoch 184/500\n",
      "2/2 [==============================] - 0s 2ms/step - loss: 30.1220 - mse: 1360.5270\n",
      "Epoch 185/500\n",
      "2/2 [==============================] - 0s 2ms/step - loss: 8.2379 - mse: 130.3681\n",
      "Epoch 186/500\n",
      "2/2 [==============================] - 0s 3ms/step - loss: 18.7452 - mse: 515.6071\n",
      "Epoch 187/500\n",
      "2/2 [==============================] - 0s 4ms/step - loss: 8.8220 - mse: 145.9429\n",
      "Epoch 188/500\n",
      "2/2 [==============================] - 0s 3ms/step - loss: 23.7372 - mse: 822.8678\n",
      "Epoch 189/500\n",
      "2/2 [==============================] - 0s 4ms/step - loss: 9.3996 - mse: 115.0605\n",
      "Epoch 190/500\n",
      "2/2 [==============================] - 0s 2ms/step - loss: 17.0064 - mse: 396.1519\n",
      "Epoch 191/500\n",
      "2/2 [==============================] - 0s 2ms/step - loss: 8.6389 - mse: 138.0737\n",
      "Epoch 192/500\n",
      "2/2 [==============================] - 0s 2ms/step - loss: 15.2058 - mse: 304.6273\n",
      "Epoch 193/500\n",
      "2/2 [==============================] - 0s 2ms/step - loss: 30.0542 - mse: 1247.6582\n",
      "Epoch 194/500\n",
      "2/2 [==============================] - 0s 4ms/step - loss: 9.7090 - mse: 165.8285\n",
      "Epoch 195/500\n",
      "2/2 [==============================] - 0s 3ms/step - loss: 12.0575 - mse: 241.8199\n",
      "Epoch 196/500\n",
      "2/2 [==============================] - 0s 2ms/step - loss: 23.4443 - mse: 794.1085\n",
      "Epoch 197/500\n",
      "2/2 [==============================] - 0s 3ms/step - loss: 17.7589 - mse: 464.2304\n",
      "Epoch 198/500\n",
      "2/2 [==============================] - 0s 2ms/step - loss: 12.5721 - mse: 239.4786\n",
      "Epoch 199/500\n",
      "2/2 [==============================] - 0s 4ms/step - loss: 18.0117 - mse: 465.4510\n",
      "Epoch 200/500\n",
      "2/2 [==============================] - 0s 2ms/step - loss: 13.8477 - mse: 286.0091\n",
      "Epoch 201/500\n",
      "2/2 [==============================] - 0s 2ms/step - loss: 6.1175 - mse: 52.6551\n",
      "Epoch 202/500\n",
      "2/2 [==============================] - 0s 2ms/step - loss: 22.7789 - mse: 740.8511\n",
      "Epoch 203/500\n",
      "2/2 [==============================] - 0s 6ms/step - loss: 9.0165 - mse: 155.5743\n",
      "Epoch 204/500\n",
      "2/2 [==============================] - 0s 3ms/step - loss: 18.7361 - mse: 526.8743\n",
      "Epoch 205/500\n",
      "2/2 [==============================] - 0s 3ms/step - loss: 9.3932 - mse: 128.4957\n",
      "Epoch 206/500\n",
      "2/2 [==============================] - 0s 3ms/step - loss: 10.4596 - mse: 142.5878\n",
      "Epoch 207/500\n",
      "2/2 [==============================] - 0s 4ms/step - loss: 20.9145 - mse: 664.7952\n",
      "Epoch 208/500\n",
      "2/2 [==============================] - 0s 2ms/step - loss: 16.3744 - mse: 386.4887\n",
      "Epoch 209/500\n",
      "2/2 [==============================] - 0s 3ms/step - loss: 14.2415 - mse: 314.3249\n",
      "Epoch 210/500\n",
      "2/2 [==============================] - 0s 3ms/step - loss: 17.1737 - mse: 430.7089\n",
      "Epoch 211/500\n",
      "2/2 [==============================] - 0s 4ms/step - loss: 10.2672 - mse: 147.4883\n",
      "Epoch 212/500\n",
      "2/2 [==============================] - 0s 2ms/step - loss: 19.5915 - mse: 576.7283\n",
      "Epoch 213/500\n",
      "2/2 [==============================] - 0s 3ms/step - loss: 14.7407 - mse: 299.3284\n",
      "Epoch 214/500\n",
      "2/2 [==============================] - 0s 3ms/step - loss: 14.4042 - mse: 284.1635\n",
      "Epoch 215/500\n",
      "2/2 [==============================] - 0s 3ms/step - loss: 22.9335 - mse: 775.4674\n",
      "Epoch 216/500\n",
      "2/2 [==============================] - 0s 3ms/step - loss: 13.8129 - mse: 293.9499\n",
      "Epoch 217/500\n",
      "2/2 [==============================] - 0s 2ms/step - loss: 10.2814 - mse: 150.2673\n",
      "Epoch 218/500\n",
      "2/2 [==============================] - 0s 3ms/step - loss: 12.3335 - mse: 201.4876\n",
      "Epoch 219/500\n",
      "2/2 [==============================] - 0s 2ms/step - loss: 6.5632 - mse: 62.5016\n",
      "Epoch 220/500\n",
      "2/2 [==============================] - 0s 3ms/step - loss: 7.1876 - mse: 53.6754\n",
      "Epoch 221/500\n",
      "2/2 [==============================] - 0s 2ms/step - loss: 37.2681 - mse: 2372.9612\n",
      "Epoch 222/500\n",
      "2/2 [==============================] - 0s 2ms/step - loss: 37.0277 - mse: 2233.9700\n",
      "Epoch 223/500\n",
      "2/2 [==============================] - 0s 3ms/step - loss: 6.7047 - mse: 85.2302\n",
      "Epoch 224/500\n",
      "2/2 [==============================] - 0s 3ms/step - loss: 13.8749 - mse: 274.5175\n",
      "Epoch 225/500\n",
      "2/2 [==============================] - 0s 4ms/step - loss: 16.0550 - mse: 331.8364\n",
      "Epoch 226/500\n",
      "2/2 [==============================] - 0s 3ms/step - loss: 15.2665 - mse: 332.7277\n",
      "Epoch 227/500\n",
      "2/2 [==============================] - 0s 2ms/step - loss: 15.6013 - mse: 340.8836\n",
      "Epoch 228/500\n",
      "2/2 [==============================] - 0s 3ms/step - loss: 13.6565 - mse: 268.1655\n",
      "Epoch 229/500\n",
      "2/2 [==============================] - 0s 4ms/step - loss: 17.7512 - mse: 437.2957\n",
      "Epoch 230/500\n",
      "2/2 [==============================] - 0s 3ms/step - loss: 15.2326 - mse: 300.5317\n",
      "Epoch 231/500\n",
      "2/2 [==============================] - 0s 4ms/step - loss: 21.1547 - mse: 666.1952\n",
      "Epoch 232/500\n",
      "2/2 [==============================] - 0s 4ms/step - loss: 25.1222 - mse: 902.3934\n",
      "Epoch 233/500\n",
      "2/2 [==============================] - 0s 3ms/step - loss: 16.2171 - mse: 383.1846\n",
      "Epoch 234/500\n",
      "2/2 [==============================] - 0s 3ms/step - loss: 7.3224 - mse: 67.2867\n",
      "Epoch 235/500\n",
      "2/2 [==============================] - 0s 3ms/step - loss: 16.8442 - mse: 396.7276\n",
      "Epoch 236/500\n",
      "2/2 [==============================] - 0s 3ms/step - loss: 7.1434 - mse: 70.8007\n",
      "Epoch 237/500\n",
      "2/2 [==============================] - 0s 3ms/step - loss: 9.1904 - mse: 119.2742\n",
      "Epoch 238/500\n",
      "2/2 [==============================] - 0s 2ms/step - loss: 8.1211 - mse: 87.7963\n",
      "Epoch 239/500\n",
      "2/2 [==============================] - 0s 2ms/step - loss: 16.6078 - mse: 415.8243\n",
      "Epoch 240/500\n",
      "2/2 [==============================] - 0s 2ms/step - loss: 9.4875 - mse: 116.2822\n",
      "Epoch 241/500\n",
      "2/2 [==============================] - 0s 4ms/step - loss: 14.4854 - mse: 320.8599\n",
      "Epoch 242/500\n",
      "2/2 [==============================] - 0s 2ms/step - loss: 8.5270 - mse: 99.8624\n",
      "Epoch 243/500\n",
      "2/2 [==============================] - 0s 3ms/step - loss: 17.3900 - mse: 465.5011\n",
      "Epoch 244/500\n",
      "2/2 [==============================] - 0s 3ms/step - loss: 14.5138 - mse: 288.6843\n",
      "Epoch 245/500\n",
      "2/2 [==============================] - 0s 2ms/step - loss: 15.0844 - mse: 310.9526\n",
      "Epoch 246/500\n",
      "2/2 [==============================] - 0s 3ms/step - loss: 16.1916 - mse: 396.4922\n",
      "Epoch 247/500\n",
      "2/2 [==============================] - 0s 2ms/step - loss: 18.1917 - mse: 450.6666\n",
      "Epoch 248/500\n",
      "2/2 [==============================] - 0s 2ms/step - loss: 13.7216 - mse: 261.2031\n",
      "Epoch 249/500\n",
      "2/2 [==============================] - 0s 4ms/step - loss: 14.8187 - mse: 305.7719\n",
      "Epoch 250/500\n",
      "2/2 [==============================] - 0s 3ms/step - loss: 23.8097 - mse: 827.9581\n",
      "Epoch 251/500\n",
      "2/2 [==============================] - 0s 2ms/step - loss: 13.5813 - mse: 279.9738\n",
      "Epoch 252/500\n",
      "2/2 [==============================] - 0s 3ms/step - loss: 22.3745 - mse: 736.3895\n",
      "Epoch 253/500\n",
      "2/2 [==============================] - 0s 3ms/step - loss: 11.6090 - mse: 205.7755\n",
      "Epoch 254/500\n",
      "2/2 [==============================] - 0s 2ms/step - loss: 7.7086 - mse: 71.4348\n",
      "Epoch 255/500\n",
      "2/2 [==============================] - 0s 3ms/step - loss: 27.4112 - mse: 1118.0334\n",
      "Epoch 256/500\n",
      "2/2 [==============================] - 0s 2ms/step - loss: 15.0753 - mse: 325.5816\n",
      "Epoch 257/500\n",
      "2/2 [==============================] - 0s 3ms/step - loss: 7.9703 - mse: 115.7243\n",
      "Epoch 258/500\n",
      "2/2 [==============================] - 0s 2ms/step - loss: 11.6870 - mse: 211.7708\n",
      "Epoch 259/500\n",
      "2/2 [==============================] - 0s 3ms/step - loss: 13.9542 - mse: 291.3098\n",
      "Epoch 260/500\n",
      "2/2 [==============================] - 0s 2ms/step - loss: 25.5005 - mse: 970.3401\n",
      "Epoch 261/500\n",
      "2/2 [==============================] - 0s 2ms/step - loss: 9.3690 - mse: 142.7326\n",
      "Epoch 262/500\n",
      "2/2 [==============================] - 0s 2ms/step - loss: 8.4772 - mse: 124.3495\n",
      "Epoch 263/500\n",
      "2/2 [==============================] - 0s 2ms/step - loss: 8.0277 - mse: 103.3759\n",
      "Epoch 264/500\n",
      "2/2 [==============================] - 0s 2ms/step - loss: 17.5542 - mse: 431.8878\n",
      "Epoch 265/500\n",
      "2/2 [==============================] - 0s 3ms/step - loss: 12.3781 - mse: 217.5220\n",
      "Epoch 266/500\n",
      "2/2 [==============================] - 0s 3ms/step - loss: 13.8915 - mse: 273.4119\n",
      "Epoch 267/500\n",
      "2/2 [==============================] - 0s 2ms/step - loss: 11.2093 - mse: 228.6999\n",
      "Epoch 268/500\n",
      "2/2 [==============================] - 0s 2ms/step - loss: 19.4183 - mse: 561.5820\n",
      "Epoch 269/500\n",
      "2/2 [==============================] - 0s 4ms/step - loss: 39.8906 - mse: 2460.5281\n",
      "Epoch 270/500\n",
      "2/2 [==============================] - 0s 3ms/step - loss: 12.3535 - mse: 233.4089\n",
      "Epoch 271/500\n",
      "2/2 [==============================] - 0s 2ms/step - loss: 14.1134 - mse: 268.9615\n",
      "Epoch 272/500\n",
      "2/2 [==============================] - 0s 2ms/step - loss: 27.9225 - mse: 1070.9901\n",
      "Epoch 273/500\n",
      "2/2 [==============================] - 0s 2ms/step - loss: 8.1206 - mse: 88.6131\n",
      "Epoch 274/500\n",
      "2/2 [==============================] - 0s 4ms/step - loss: 6.4925 - mse: 47.5031\n",
      "Epoch 275/500\n",
      "2/2 [==============================] - 0s 3ms/step - loss: 34.1136 - mse: 1758.3600\n",
      "Epoch 276/500\n",
      "2/2 [==============================] - 0s 3ms/step - loss: 8.0370 - mse: 123.2895\n",
      "Epoch 277/500\n",
      "2/2 [==============================] - 0s 2ms/step - loss: 25.3965 - mse: 870.8484\n",
      "Epoch 278/500\n",
      "2/2 [==============================] - 0s 3ms/step - loss: 11.5229 - mse: 223.3866\n",
      "Epoch 279/500\n",
      "2/2 [==============================] - 0s 4ms/step - loss: 16.2604 - mse: 401.7447\n",
      "Epoch 280/500\n",
      "2/2 [==============================] - 0s 2ms/step - loss: 21.5445 - mse: 697.3942\n",
      "Epoch 281/500\n",
      "2/2 [==============================] - 0s 2ms/step - loss: 23.0580 - mse: 810.7531\n",
      "Epoch 282/500\n",
      "2/2 [==============================] - 0s 2ms/step - loss: 8.0965 - mse: 94.0927\n",
      "Epoch 283/500\n",
      "2/2 [==============================] - 0s 2ms/step - loss: 8.3686 - mse: 93.8033\n",
      "Epoch 284/500\n",
      "2/2 [==============================] - 0s 2ms/step - loss: 25.7706 - mse: 1005.7080\n",
      "Epoch 285/500\n",
      "2/2 [==============================] - 0s 2ms/step - loss: 14.3325 - mse: 326.5262\n",
      "Epoch 286/500\n",
      "2/2 [==============================] - 0s 3ms/step - loss: 4.5948 - mse: 30.6037\n",
      "Epoch 287/500\n",
      "2/2 [==============================] - 0s 2ms/step - loss: 12.9968 - mse: 242.3264\n",
      "Epoch 288/500\n",
      "2/2 [==============================] - 0s 2ms/step - loss: 24.7848 - mse: 886.6009\n",
      "Epoch 289/500\n",
      "2/2 [==============================] - 0s 3ms/step - loss: 9.7080 - mse: 141.2934\n",
      "Epoch 290/500\n",
      "2/2 [==============================] - 0s 3ms/step - loss: 11.7045 - mse: 218.1004\n",
      "Epoch 291/500\n",
      "2/2 [==============================] - 0s 3ms/step - loss: 10.1744 - mse: 181.9575\n",
      "Epoch 292/500\n",
      "2/2 [==============================] - 0s 2ms/step - loss: 16.7884 - mse: 358.3835\n",
      "Epoch 293/500\n",
      "2/2 [==============================] - 0s 3ms/step - loss: 17.7107 - mse: 491.0406\n",
      "Epoch 294/500\n",
      "2/2 [==============================] - 0s 2ms/step - loss: 29.2612 - mse: 1363.1869\n",
      "Epoch 295/500\n",
      "2/2 [==============================] - 0s 2ms/step - loss: 7.9408 - mse: 83.5190\n",
      "Epoch 296/500\n",
      "2/2 [==============================] - 0s 2ms/step - loss: 15.6429 - mse: 356.6731\n",
      "Epoch 297/500\n",
      "2/2 [==============================] - 0s 2ms/step - loss: 14.6179 - mse: 297.9386\n",
      "Epoch 298/500\n",
      "2/2 [==============================] - 0s 2ms/step - loss: 22.1174 - mse: 725.9059\n",
      "Epoch 299/500\n",
      "2/2 [==============================] - 0s 2ms/step - loss: 20.1353 - mse: 605.9997\n",
      "Epoch 300/500\n",
      "2/2 [==============================] - 0s 2ms/step - loss: 8.3926 - mse: 103.8668\n",
      "Epoch 301/500\n",
      "2/2 [==============================] - 0s 3ms/step - loss: 19.0147 - mse: 503.2603\n",
      "Epoch 302/500\n",
      "2/2 [==============================] - 0s 3ms/step - loss: 6.8706 - mse: 79.4538\n",
      "Epoch 303/500\n",
      "2/2 [==============================] - 0s 4ms/step - loss: 15.8892 - mse: 373.1137\n",
      "Epoch 304/500\n",
      "2/2 [==============================] - 0s 3ms/step - loss: 10.8269 - mse: 169.7685\n",
      "Epoch 305/500\n",
      "2/2 [==============================] - 0s 3ms/step - loss: 12.5167 - mse: 261.9133\n",
      "Epoch 306/500\n",
      "2/2 [==============================] - 0s 4ms/step - loss: 8.2674 - mse: 91.2385\n",
      "Epoch 307/500\n",
      "2/2 [==============================] - 0s 3ms/step - loss: 12.9538 - mse: 252.4698\n",
      "Epoch 308/500\n",
      "2/2 [==============================] - 0s 2ms/step - loss: 8.1139 - mse: 89.2479\n",
      "Epoch 309/500\n",
      "2/2 [==============================] - 0s 2ms/step - loss: 11.5593 - mse: 218.6905\n",
      "Epoch 310/500\n",
      "2/2 [==============================] - 0s 2ms/step - loss: 6.3005 - mse: 73.7802\n",
      "Epoch 311/500\n",
      "2/2 [==============================] - 0s 2ms/step - loss: 5.9698 - mse: 50.2517\n",
      "Epoch 312/500\n",
      "2/2 [==============================] - 0s 4ms/step - loss: 28.3005 - mse: 1113.1980\n",
      "Epoch 313/500\n",
      "2/2 [==============================] - 0s 2ms/step - loss: 11.8001 - mse: 210.2277\n",
      "Epoch 314/500\n",
      "2/2 [==============================] - 0s 2ms/step - loss: 12.6314 - mse: 268.0845\n",
      "Epoch 315/500\n",
      "2/2 [==============================] - 0s 3ms/step - loss: 24.3908 - mse: 858.7523\n",
      "Epoch 316/500\n",
      "2/2 [==============================] - 0s 2ms/step - loss: 15.0167 - mse: 346.7076\n",
      "Epoch 317/500\n",
      "2/2 [==============================] - 0s 2ms/step - loss: 20.7990 - mse: 590.0052\n",
      "Epoch 318/500\n",
      "2/2 [==============================] - 0s 2ms/step - loss: 8.8129 - mse: 106.7947\n",
      "Epoch 319/500\n",
      "2/2 [==============================] - 0s 3ms/step - loss: 15.3529 - mse: 365.6601\n",
      "Epoch 320/500\n",
      "2/2 [==============================] - 0s 3ms/step - loss: 8.4365 - mse: 102.1651\n",
      "Epoch 321/500\n",
      "2/2 [==============================] - 0s 2ms/step - loss: 14.7530 - mse: 321.9122\n",
      "Epoch 322/500\n",
      "2/2 [==============================] - 0s 2ms/step - loss: 12.8165 - mse: 242.8424\n",
      "Epoch 323/500\n",
      "2/2 [==============================] - 0s 3ms/step - loss: 17.4374 - mse: 453.4219\n",
      "Epoch 324/500\n",
      "2/2 [==============================] - 0s 3ms/step - loss: 15.7107 - mse: 327.2248\n",
      "Epoch 325/500\n",
      "2/2 [==============================] - 0s 2ms/step - loss: 17.2718 - mse: 474.5158\n",
      "Epoch 326/500\n",
      "2/2 [==============================] - 0s 3ms/step - loss: 13.1042 - mse: 263.9794\n",
      "Epoch 327/500\n",
      "2/2 [==============================] - 0s 2ms/step - loss: 20.9474 - mse: 653.1339\n",
      "Epoch 328/500\n",
      "2/2 [==============================] - 0s 2ms/step - loss: 15.5162 - mse: 356.8724\n",
      "Epoch 329/500\n",
      "2/2 [==============================] - 0s 3ms/step - loss: 9.2374 - mse: 162.2650\n",
      "Epoch 330/500\n",
      "2/2 [==============================] - 0s 2ms/step - loss: 14.0015 - mse: 269.1556\n",
      "Epoch 331/500\n",
      "2/2 [==============================] - 0s 2ms/step - loss: 25.6128 - mse: 939.3796\n",
      "Epoch 332/500\n",
      "2/2 [==============================] - 0s 2ms/step - loss: 17.5475 - mse: 438.1467\n",
      "Epoch 333/500\n",
      "2/2 [==============================] - 0s 2ms/step - loss: 9.1149 - mse: 125.2308\n",
      "Epoch 334/500\n",
      "2/2 [==============================] - 0s 3ms/step - loss: 9.8545 - mse: 153.1361\n",
      "Epoch 335/500\n",
      "2/2 [==============================] - 0s 2ms/step - loss: 6.0508 - mse: 54.0052\n",
      "Epoch 336/500\n",
      "2/2 [==============================] - 0s 2ms/step - loss: 31.7475 - mse: 1375.3976\n",
      "Epoch 337/500\n",
      "2/2 [==============================] - 0s 2ms/step - loss: 9.1880 - mse: 157.7728\n",
      "Epoch 338/500\n",
      "2/2 [==============================] - 0s 2ms/step - loss: 19.5841 - mse: 568.5865\n",
      "Epoch 339/500\n",
      "2/2 [==============================] - 0s 4ms/step - loss: 35.3831 - mse: 1885.2100\n",
      "Epoch 340/500\n",
      "2/2 [==============================] - 0s 2ms/step - loss: 10.5764 - mse: 184.2601\n",
      "Epoch 341/500\n",
      "2/2 [==============================] - 0s 3ms/step - loss: 10.1154 - mse: 170.5828\n",
      "Epoch 342/500\n",
      "2/2 [==============================] - 0s 2ms/step - loss: 13.3228 - mse: 234.0337\n",
      "Epoch 343/500\n",
      "2/2 [==============================] - 0s 3ms/step - loss: 11.0902 - mse: 169.1262\n",
      "Epoch 344/500\n",
      "2/2 [==============================] - 0s 2ms/step - loss: 9.9809 - mse: 207.8808\n",
      "Epoch 345/500\n",
      "2/2 [==============================] - 0s 3ms/step - loss: 31.0297 - mse: 1353.3882\n",
      "Epoch 346/500\n",
      "2/2 [==============================] - 0s 4ms/step - loss: 10.7223 - mse: 252.1895\n",
      "Epoch 347/500\n",
      "2/2 [==============================] - 0s 2ms/step - loss: 25.7408 - mse: 926.9139\n",
      "Epoch 348/500\n",
      "2/2 [==============================] - 0s 3ms/step - loss: 12.7354 - mse: 252.0710\n",
      "Epoch 349/500\n",
      "2/2 [==============================] - 0s 2ms/step - loss: 12.5196 - mse: 254.0557\n",
      "Epoch 350/500\n",
      "2/2 [==============================] - 0s 3ms/step - loss: 15.2412 - mse: 306.9570\n",
      "Epoch 351/500\n",
      "2/2 [==============================] - 0s 3ms/step - loss: 32.5355 - mse: 1488.0720\n",
      "Epoch 352/500\n",
      "2/2 [==============================] - 0s 2ms/step - loss: 13.5196 - mse: 263.4864\n",
      "Epoch 353/500\n",
      "2/2 [==============================] - 0s 2ms/step - loss: 17.4144 - mse: 460.8211\n",
      "Epoch 354/500\n",
      "2/2 [==============================] - 0s 2ms/step - loss: 11.1752 - mse: 247.6093\n",
      "Epoch 355/500\n",
      "2/2 [==============================] - 0s 2ms/step - loss: 26.3964 - mse: 998.3591\n",
      "Epoch 356/500\n",
      "2/2 [==============================] - 0s 4ms/step - loss: 11.1003 - mse: 209.2816\n",
      "Epoch 357/500\n",
      "2/2 [==============================] - 0s 2ms/step - loss: 13.3688 - mse: 291.0029\n",
      "Epoch 358/500\n",
      "2/2 [==============================] - 0s 2ms/step - loss: 14.8147 - mse: 331.9632\n",
      "Epoch 359/500\n",
      "2/2 [==============================] - 0s 2ms/step - loss: 12.3157 - mse: 316.8717\n",
      "Epoch 360/500\n",
      "2/2 [==============================] - 0s 3ms/step - loss: 20.2865 - mse: 617.9324\n",
      "Epoch 361/500\n",
      "2/2 [==============================] - 0s 2ms/step - loss: 11.0261 - mse: 221.2619\n",
      "Epoch 362/500\n",
      "2/2 [==============================] - 0s 3ms/step - loss: 6.8800 - mse: 77.3506\n",
      "Epoch 363/500\n",
      "2/2 [==============================] - 0s 2ms/step - loss: 23.9429 - mse: 834.9344\n",
      "Epoch 364/500\n",
      "2/2 [==============================] - 0s 3ms/step - loss: 29.6960 - mse: 1280.5977\n",
      "Epoch 365/500\n",
      "2/2 [==============================] - 0s 2ms/step - loss: 8.3845 - mse: 108.7134\n",
      "Epoch 366/500\n",
      "2/2 [==============================] - 0s 3ms/step - loss: 6.1529 - mse: 49.4358\n",
      "Epoch 367/500\n",
      "2/2 [==============================] - 0s 2ms/step - loss: 34.7295 - mse: 1831.4008\n",
      "Epoch 368/500\n",
      "2/2 [==============================] - 0s 2ms/step - loss: 7.4335 - mse: 101.6151\n",
      "Epoch 369/500\n",
      "2/2 [==============================] - 0s 2ms/step - loss: 8.7749 - mse: 111.0239\n",
      "Epoch 370/500\n",
      "2/2 [==============================] - 0s 3ms/step - loss: 14.3291 - mse: 320.6099\n",
      "Epoch 371/500\n",
      "2/2 [==============================] - 0s 4ms/step - loss: 6.9191 - mse: 85.8218\n",
      "Epoch 372/500\n",
      "2/2 [==============================] - 0s 3ms/step - loss: 6.6055 - mse: 77.7422\n",
      "Epoch 373/500\n",
      "2/2 [==============================] - 0s 3ms/step - loss: 24.2367 - mse: 870.7332\n",
      "Epoch 374/500\n",
      "2/2 [==============================] - 0s 3ms/step - loss: 10.2192 - mse: 210.0927\n",
      "Epoch 375/500\n",
      "2/2 [==============================] - 0s 2ms/step - loss: 12.8412 - mse: 234.4172\n",
      "Epoch 376/500\n",
      "2/2 [==============================] - 0s 2ms/step - loss: 14.7102 - mse: 315.2563\n",
      "Epoch 377/500\n",
      "2/2 [==============================] - 0s 3ms/step - loss: 14.6594 - mse: 296.5973\n",
      "Epoch 378/500\n",
      "2/2 [==============================] - 0s 2ms/step - loss: 16.1860 - mse: 409.3360\n",
      "Epoch 379/500\n",
      "2/2 [==============================] - 0s 3ms/step - loss: 20.6093 - mse: 585.9979\n",
      "Epoch 380/500\n",
      "2/2 [==============================] - 0s 3ms/step - loss: 34.1934 - mse: 1757.6077\n",
      "Epoch 381/500\n",
      "2/2 [==============================] - 0s 4ms/step - loss: 8.8875 - mse: 123.6976\n",
      "Epoch 382/500\n",
      "2/2 [==============================] - 0s 3ms/step - loss: 9.6165 - mse: 163.7946\n",
      "Epoch 383/500\n",
      "2/2 [==============================] - 0s 2ms/step - loss: 5.7902 - mse: 50.6655\n",
      "Epoch 384/500\n",
      "2/2 [==============================] - 0s 2ms/step - loss: 8.7393 - mse: 125.4599\n",
      "Epoch 385/500\n",
      "2/2 [==============================] - 0s 2ms/step - loss: 4.9897 - mse: 41.7397\n",
      "Epoch 386/500\n",
      "2/2 [==============================] - 0s 3ms/step - loss: 25.1457 - mse: 907.1522\n",
      "Epoch 387/500\n",
      "2/2 [==============================] - 0s 2ms/step - loss: 15.0731 - mse: 355.1219\n",
      "Epoch 388/500\n",
      "2/2 [==============================] - 0s 2ms/step - loss: 6.6818 - mse: 100.7889\n",
      "Epoch 389/500\n",
      "2/2 [==============================] - 0s 2ms/step - loss: 17.5938 - mse: 461.7559\n",
      "Epoch 390/500\n",
      "2/2 [==============================] - 0s 3ms/step - loss: 23.8939 - mse: 851.6688\n",
      "Epoch 391/500\n",
      "2/2 [==============================] - 0s 4ms/step - loss: 16.4380 - mse: 410.0968\n",
      "Epoch 392/500\n",
      "2/2 [==============================] - 0s 2ms/step - loss: 8.4011 - mse: 171.8467\n",
      "Epoch 393/500\n",
      "2/2 [==============================] - 0s 2ms/step - loss: 18.1784 - mse: 514.6383\n",
      "Epoch 394/500\n",
      "2/2 [==============================] - 0s 2ms/step - loss: 14.2232 - mse: 279.1586\n",
      "Epoch 395/500\n",
      "2/2 [==============================] - 0s 2ms/step - loss: 28.7036 - mse: 1142.3650\n",
      "Epoch 396/500\n",
      "2/2 [==============================] - 0s 4ms/step - loss: 8.2185 - mse: 109.4414\n",
      "Epoch 397/500\n",
      "2/2 [==============================] - 0s 3ms/step - loss: 10.1666 - mse: 187.0445\n",
      "Epoch 398/500\n",
      "2/2 [==============================] - 0s 3ms/step - loss: 10.0737 - mse: 177.4122\n",
      "Epoch 399/500\n",
      "2/2 [==============================] - 0s 2ms/step - loss: 6.0922 - mse: 68.3576\n",
      "Epoch 400/500\n",
      "2/2 [==============================] - 0s 2ms/step - loss: 21.7244 - mse: 676.6448\n",
      "Epoch 401/500\n",
      "2/2 [==============================] - 0s 5ms/step - loss: 13.2779 - mse: 287.9536\n",
      "Epoch 402/500\n",
      "2/2 [==============================] - 0s 4ms/step - loss: 22.3034 - mse: 722.2079\n",
      "Epoch 403/500\n",
      "2/2 [==============================] - 0s 4ms/step - loss: 20.7650 - mse: 636.3673\n",
      "Epoch 404/500\n",
      "2/2 [==============================] - 0s 4ms/step - loss: 13.8525 - mse: 321.9940\n",
      "Epoch 405/500\n",
      "2/2 [==============================] - 0s 3ms/step - loss: 6.5176 - mse: 93.0232\n",
      "Epoch 406/500\n",
      "2/2 [==============================] - 0s 3ms/step - loss: 23.9090 - mse: 848.0770\n",
      "Epoch 407/500\n",
      "2/2 [==============================] - 0s 6ms/step - loss: 15.4021 - mse: 367.5730\n",
      "Epoch 408/500\n",
      "2/2 [==============================] - 0s 4ms/step - loss: 5.7025 - mse: 40.8565\n",
      "Epoch 409/500\n",
      "2/2 [==============================] - 0s 2ms/step - loss: 30.7567 - mse: 1463.9177\n",
      "Epoch 410/500\n",
      "2/2 [==============================] - 0s 3ms/step - loss: 9.3850 - mse: 217.1926\n",
      "Epoch 411/500\n",
      "2/2 [==============================] - 0s 3ms/step - loss: 14.9675 - mse: 289.4610\n",
      "Epoch 412/500\n",
      "2/2 [==============================] - 0s 2ms/step - loss: 21.8983 - mse: 731.6443\n",
      "Epoch 413/500\n",
      "2/2 [==============================] - 0s 4ms/step - loss: 12.3504 - mse: 239.9693\n",
      "Epoch 414/500\n",
      "2/2 [==============================] - 0s 4ms/step - loss: 6.6739 - mse: 110.9511\n",
      "Epoch 415/500\n",
      "2/2 [==============================] - 0s 2ms/step - loss: 12.7314 - mse: 229.5932\n",
      "Epoch 416/500\n",
      "2/2 [==============================] - 0s 2ms/step - loss: 26.9885 - mse: 1006.7363\n",
      "Epoch 417/500\n",
      "2/2 [==============================] - 0s 2ms/step - loss: 11.9215 - mse: 245.0891\n",
      "Epoch 418/500\n",
      "2/2 [==============================] - 0s 2ms/step - loss: 13.1170 - mse: 244.2648\n",
      "Epoch 419/500\n",
      "2/2 [==============================] - 0s 4ms/step - loss: 16.0757 - mse: 392.3161\n",
      "Epoch 420/500\n",
      "2/2 [==============================] - 0s 2ms/step - loss: 25.1417 - mse: 874.2217\n",
      "Epoch 421/500\n",
      "2/2 [==============================] - 0s 2ms/step - loss: 16.4393 - mse: 404.7712\n",
      "Epoch 422/500\n",
      "2/2 [==============================] - 0s 2ms/step - loss: 8.7393 - mse: 191.6258\n",
      "Epoch 423/500\n",
      "2/2 [==============================] - 0s 3ms/step - loss: 24.8790 - mse: 875.3281\n",
      "Epoch 424/500\n",
      "2/2 [==============================] - 0s 2ms/step - loss: 16.2061 - mse: 408.8078\n",
      "Epoch 425/500\n",
      "2/2 [==============================] - 0s 3ms/step - loss: 7.5389 - mse: 82.2865\n",
      "Epoch 426/500\n",
      "2/2 [==============================] - 0s 3ms/step - loss: 21.6325 - mse: 648.4415\n",
      "Epoch 427/500\n",
      "2/2 [==============================] - 0s 3ms/step - loss: 6.7170 - mse: 82.2325\n",
      "Epoch 428/500\n",
      "2/2 [==============================] - 0s 2ms/step - loss: 13.8536 - mse: 309.9344\n",
      "Epoch 429/500\n",
      "2/2 [==============================] - 0s 2ms/step - loss: 11.7983 - mse: 223.0170\n",
      "Epoch 430/500\n",
      "2/2 [==============================] - 0s 2ms/step - loss: 10.5488 - mse: 219.8351\n",
      "Epoch 431/500\n",
      "2/2 [==============================] - 0s 3ms/step - loss: 11.8426 - mse: 252.9344\n",
      "Epoch 432/500\n",
      "2/2 [==============================] - 0s 3ms/step - loss: 10.2776 - mse: 192.8740\n",
      "Epoch 433/500\n",
      "2/2 [==============================] - 0s 2ms/step - loss: 5.9367 - mse: 65.5268\n",
      "Epoch 434/500\n",
      "2/2 [==============================] - 0s 4ms/step - loss: 31.8937 - mse: 1565.3921\n",
      "Epoch 435/500\n",
      "2/2 [==============================] - 0s 3ms/step - loss: 11.1539 - mse: 229.1962\n",
      "Epoch 436/500\n",
      "2/2 [==============================] - 0s 4ms/step - loss: 14.4009 - mse: 293.2514\n",
      "Epoch 437/500\n",
      "2/2 [==============================] - 0s 2ms/step - loss: 15.6462 - mse: 316.3759\n",
      "Epoch 438/500\n",
      "2/2 [==============================] - 0s 4ms/step - loss: 13.6668 - mse: 261.5438\n",
      "Epoch 439/500\n",
      "2/2 [==============================] - 0s 3ms/step - loss: 31.6488 - mse: 1393.5524\n",
      "Epoch 440/500\n",
      "2/2 [==============================] - 0s 5ms/step - loss: 12.0558 - mse: 270.4172\n",
      "Epoch 441/500\n",
      "2/2 [==============================] - 0s 3ms/step - loss: 15.4133 - mse: 325.3876\n",
      "Epoch 442/500\n",
      "2/2 [==============================] - 0s 6ms/step - loss: 23.2814 - mse: 806.3651\n",
      "Epoch 443/500\n",
      "2/2 [==============================] - 0s 5ms/step - loss: 21.2373 - mse: 631.7504\n",
      "Epoch 444/500\n",
      "2/2 [==============================] - 0s 3ms/step - loss: 8.9544 - mse: 147.8799\n",
      "Epoch 445/500\n",
      "2/2 [==============================] - 0s 3ms/step - loss: 14.0125 - mse: 274.4228\n",
      "Epoch 446/500\n",
      "2/2 [==============================] - 0s 2ms/step - loss: 16.6850 - mse: 439.3607\n",
      "Epoch 447/500\n",
      "2/2 [==============================] - 0s 3ms/step - loss: 6.8939 - mse: 69.3555\n",
      "Epoch 448/500\n",
      "2/2 [==============================] - 0s 3ms/step - loss: 6.1058 - mse: 99.8125\n",
      "Epoch 449/500\n",
      "2/2 [==============================] - 0s 4ms/step - loss: 15.4187 - mse: 333.2715\n",
      "Epoch 450/500\n",
      "2/2 [==============================] - 0s 3ms/step - loss: 16.3802 - mse: 397.1104\n",
      "Epoch 451/500\n",
      "2/2 [==============================] - 0s 4ms/step - loss: 14.1412 - mse: 287.4329\n",
      "Epoch 452/500\n",
      "2/2 [==============================] - 0s 3ms/step - loss: 30.2887 - mse: 1304.2385\n",
      "Epoch 453/500\n",
      "2/2 [==============================] - 0s 3ms/step - loss: 3.3039 - mse: 15.8761\n",
      "Epoch 454/500\n",
      "2/2 [==============================] - 0s 2ms/step - loss: 39.4366 - mse: 2502.3203\n",
      "Epoch 455/500\n",
      "2/2 [==============================] - 0s 4ms/step - loss: 21.5467 - mse: 647.6777\n",
      "Epoch 456/500\n",
      "2/2 [==============================] - 0s 2ms/step - loss: 13.2241 - mse: 265.2707\n",
      "Epoch 457/500\n",
      "2/2 [==============================] - 0s 2ms/step - loss: 16.5455 - mse: 404.3999\n",
      "Epoch 458/500\n",
      "2/2 [==============================] - 0s 3ms/step - loss: 13.3589 - mse: 284.8675\n",
      "Epoch 459/500\n",
      "2/2 [==============================] - 0s 2ms/step - loss: 24.5765 - mse: 883.3854\n",
      "Epoch 460/500\n",
      "2/2 [==============================] - 0s 5ms/step - loss: 18.5074 - mse: 490.5616\n",
      "Epoch 461/500\n",
      "2/2 [==============================] - 0s 2ms/step - loss: 10.3939 - mse: 280.0315\n",
      "Epoch 462/500\n",
      "2/2 [==============================] - 0s 3ms/step - loss: 12.9315 - mse: 241.3175\n",
      "Epoch 463/500\n",
      "2/2 [==============================] - 0s 3ms/step - loss: 28.7579 - mse: 1158.9526\n",
      "Epoch 464/500\n",
      "2/2 [==============================] - 0s 3ms/step - loss: 7.6681 - mse: 114.4663\n",
      "Epoch 465/500\n",
      "2/2 [==============================] - 0s 3ms/step - loss: 15.9497 - mse: 373.8857\n",
      "Epoch 466/500\n",
      "2/2 [==============================] - 0s 4ms/step - loss: 8.7844 - mse: 219.8609\n",
      "Epoch 467/500\n",
      "2/2 [==============================] - 0s 2ms/step - loss: 22.1299 - mse: 750.2534\n",
      "Epoch 468/500\n",
      "2/2 [==============================] - 0s 4ms/step - loss: 22.5812 - mse: 711.7526\n",
      "Epoch 469/500\n",
      "2/2 [==============================] - 0s 2ms/step - loss: 19.9586 - mse: 566.2460\n",
      "Epoch 470/500\n",
      "2/2 [==============================] - 0s 5ms/step - loss: 7.5669 - mse: 95.5880\n",
      "Epoch 471/500\n",
      "2/2 [==============================] - 0s 3ms/step - loss: 27.7732 - mse: 1138.0110\n",
      "Epoch 472/500\n",
      "2/2 [==============================] - 0s 3ms/step - loss: 12.1087 - mse: 243.7780\n",
      "Epoch 473/500\n",
      "2/2 [==============================] - 0s 3ms/step - loss: 14.5516 - mse: 336.7108\n",
      "Epoch 474/500\n",
      "2/2 [==============================] - 0s 3ms/step - loss: 18.2966 - mse: 521.9380\n",
      "Epoch 475/500\n",
      "2/2 [==============================] - 0s 2ms/step - loss: 10.5384 - mse: 191.3993\n",
      "Epoch 476/500\n",
      "2/2 [==============================] - 0s 3ms/step - loss: 12.0328 - mse: 240.8946\n",
      "Epoch 477/500\n",
      "2/2 [==============================] - 0s 2ms/step - loss: 28.2125 - mse: 1119.3594\n",
      "Epoch 478/500\n",
      "2/2 [==============================] - 0s 3ms/step - loss: 7.2925 - mse: 85.2815\n",
      "Epoch 479/500\n",
      "2/2 [==============================] - 0s 5ms/step - loss: 5.9890 - mse: 61.1470\n",
      "Epoch 480/500\n",
      "2/2 [==============================] - 0s 2ms/step - loss: 19.0863 - mse: 529.2961\n",
      "Epoch 481/500\n",
      "2/2 [==============================] - 0s 4ms/step - loss: 10.3804 - mse: 271.9462\n",
      "Epoch 482/500\n",
      "2/2 [==============================] - 0s 3ms/step - loss: 18.7504 - mse: 571.7903\n",
      "Epoch 483/500\n",
      "2/2 [==============================] - 0s 4ms/step - loss: 25.2758 - mse: 945.6014\n",
      "Epoch 484/500\n",
      "2/2 [==============================] - 0s 4ms/step - loss: 23.8695 - mse: 803.1877\n",
      "Epoch 485/500\n",
      "2/2 [==============================] - 0s 4ms/step - loss: 5.7632 - mse: 53.8659\n",
      "Epoch 486/500\n",
      "2/2 [==============================] - 0s 2ms/step - loss: 19.8603 - mse: 557.1910\n",
      "Epoch 487/500\n",
      "2/2 [==============================] - 0s 4ms/step - loss: 14.0633 - mse: 287.8801\n",
      "Epoch 488/500\n",
      "2/2 [==============================] - 0s 2ms/step - loss: 30.6471 - mse: 1337.6636\n",
      "Epoch 489/500\n",
      "2/2 [==============================] - 0s 2ms/step - loss: 11.9950 - mse: 237.3676\n",
      "Epoch 490/500\n",
      "2/2 [==============================] - 0s 4ms/step - loss: 12.7643 - mse: 252.0262\n",
      "Epoch 491/500\n",
      "2/2 [==============================] - 0s 7ms/step - loss: 23.6702 - mse: 841.0994\n",
      "Epoch 492/500\n",
      "2/2 [==============================] - 0s 5ms/step - loss: 20.4019 - mse: 584.8006\n",
      "Epoch 493/500\n",
      "2/2 [==============================] - 0s 2ms/step - loss: 4.9792 - mse: 48.4376\n",
      "Epoch 494/500\n",
      "2/2 [==============================] - 0s 4ms/step - loss: 12.6808 - mse: 244.2139\n",
      "Epoch 495/500\n",
      "2/2 [==============================] - 0s 4ms/step - loss: 13.4350 - mse: 241.4110\n",
      "Epoch 496/500\n",
      "2/2 [==============================] - 0s 4ms/step - loss: 12.7140 - mse: 241.6619\n",
      "Epoch 497/500\n",
      "2/2 [==============================] - 0s 3ms/step - loss: 17.6949 - mse: 518.8125\n",
      "Epoch 498/500\n",
      "2/2 [==============================] - 0s 4ms/step - loss: 23.3996 - mse: 804.2106\n",
      "Epoch 499/500\n",
      "2/2 [==============================] - 0s 2ms/step - loss: 9.1400 - mse: 129.2221\n",
      "Epoch 500/500\n",
      "2/2 [==============================] - 0s 3ms/step - loss: 14.3848 - mse: 273.5164\n"
     ]
    },
    {
     "data": {
      "text/plain": [
       "<keras.callbacks.History at 0x21230b50490>"
      ]
     },
     "execution_count": 45,
     "metadata": {},
     "output_type": "execute_result"
    }
   ],
   "source": [
    "# Model3 - 2 layers and 500 epochs\n",
    "tf.random.set_seed(42)\n",
    "\n",
    "model3 = tf.keras.Sequential([\n",
    "    tf.keras.layers.Dense(10, input_shape=[1]),\n",
    "    tf.keras.layers.Dense(1)\n",
    "])\n",
    "\n",
    "model3.compile(loss= tf.keras.losses.mae,\n",
    "                optimizer = tf.keras.optimizers.SGD(),\n",
    "                metrics=[\"mse\"])\n",
    "\n",
    "model3.fit(X_train,y_train,epochs=500)"
   ]
  },
  {
   "cell_type": "code",
   "execution_count": 46,
   "metadata": {},
   "outputs": [
    {
     "name": "stdout",
     "output_type": "stream",
     "text": [
      "1/1 [==============================] - 0s 36ms/step\n"
     ]
    },
    {
     "data": {
      "image/png": "[encoded data removed]",
      "text/plain": [
       "<Figure size 1000x700 with 1 Axes>"
      ]
     },
     "metadata": {},
     "output_type": "display_data"
    }
   ],
   "source": [
    "# Make and plot predictions for model2\n",
    "y_pred3 = model3.predict(X_test)\n",
    "plot_predictions(predictions=y_pred3)"
   ]
  },
  {
   "cell_type": "code",
   "execution_count": 47,
   "metadata": {},
   "outputs": [
    {
     "data": {
      "text/plain": [
       "(<tf.Tensor: shape=(), dtype=float32, numpy=67.91821>,\n",
       " <tf.Tensor: shape=(), dtype=float32, numpy=4697.2666>)"
      ]
     },
     "execution_count": 47,
     "metadata": {},
     "output_type": "execute_result"
    }
   ],
   "source": [
    "# Create Evaluation metrics\n",
    "\n",
    "mae3 = MAE(y_test, y_pred3)\n",
    "mse3 = MSE(y_test, y_pred3)\n",
    "mae3, mse3"
   ]
  },
  {
   "attachments": {},
   "cell_type": "markdown",
   "metadata": {},
   "source": [
    "**NOTE:** Start with small experiments and make sure they work and then increase their scale when necessary."
   ]
  },
  {
   "attachments": {},
   "cell_type": "markdown",
   "metadata": {},
   "source": [
    "### Comparing the results of our Experiments"
   ]
  },
  {
   "cell_type": "code",
   "execution_count": 48,
   "metadata": {},
   "outputs": [
    {
     "data": {
      "text/html": [
       "<div>\n",
       "<style scoped>\n",
       "    .dataframe tbody tr th:only-of-type {\n",
       "        vertical-align: middle;\n",
       "    }\n",
       "\n",
       "    .dataframe tbody tr th {\n",
       "        vertical-align: top;\n",
       "    }\n",
       "\n",
       "    .dataframe thead th {\n",
       "        text-align: right;\n",
       "    }\n",
       "</style>\n",
       "<table border=\"1\" class=\"dataframe\">\n",
       "  <thead>\n",
       "    <tr style=\"text-align: right;\">\n",
       "      <th></th>\n",
       "      <th>Model</th>\n",
       "      <th>MAE</th>\n",
       "      <th>MSE</th>\n",
       "    </tr>\n",
       "  </thead>\n",
       "  <tbody>\n",
       "    <tr>\n",
       "      <th>0</th>\n",
       "      <td>model1</td>\n",
       "      <td>14.957848</td>\n",
       "      <td>224.581451</td>\n",
       "    </tr>\n",
       "    <tr>\n",
       "      <th>1</th>\n",
       "      <td>model2</td>\n",
       "      <td>11.045192</td>\n",
       "      <td>130.072052</td>\n",
       "    </tr>\n",
       "    <tr>\n",
       "      <th>2</th>\n",
       "      <td>model3</td>\n",
       "      <td>67.918213</td>\n",
       "      <td>4697.266602</td>\n",
       "    </tr>\n",
       "  </tbody>\n",
       "</table>\n",
       "</div>"
      ],
      "text/plain": [
       "    Model        MAE          MSE\n",
       "0  model1  14.957848   224.581451\n",
       "1  model2  11.045192   130.072052\n",
       "2  model3  67.918213  4697.266602"
      ]
     },
     "execution_count": 48,
     "metadata": {},
     "output_type": "execute_result"
    }
   ],
   "source": [
    "# Let's compare our model results with pandas dataframe\n",
    "\n",
    "model_results = [[\"model1\", mae1.numpy(), mse1.numpy()],\n",
    "                [\"model2\", mae2.numpy(), mse2.numpy()],\n",
    "                [\"model3\", mae3.numpy(), mse3.numpy()]]\n",
    "\n",
    "results = pd.DataFrame(model_results, columns=[\"Model\",\"MAE\",\"MSE\"])\n",
    "results"
   ]
  },
  {
   "cell_type": "code",
   "execution_count": 52,
   "metadata": {},
   "outputs": [
    {
     "name": "stdout",
     "output_type": "stream",
     "text": [
      "Model: \"sequential_6\"\n",
      "_________________________________________________________________\n",
      " Layer (type)                Output Shape              Param #   \n",
      "=================================================================\n",
      " dense_7 (Dense)             (None, 10)                20        \n",
      "                                                                 \n",
      " dense_8 (Dense)             (None, 1)                 11        \n",
      "                                                                 \n",
      "=================================================================\n",
      "Total params: 31\n",
      "Trainable params: 31\n",
      "Non-trainable params: 0\n",
      "_________________________________________________________________\n"
     ]
    }
   ],
   "source": [
    "model2.summary()"
   ]
  },
  {
   "cell_type": "code",
   "execution_count": 53,
   "metadata": {},
   "outputs": [
    {
     "data": {
      "image/png": "[encoded data removed]",
      "text/plain": [
       "<IPython.core.display.Image object>"
      ]
     },
     "execution_count": 53,
     "metadata": {},
     "output_type": "execute_result"
    }
   ],
   "source": [
    "plot_model(model2, show_shapes=True)"
   ]
  },
  {
   "attachments": {},
   "cell_type": "markdown",
   "metadata": {},
   "source": [
    "**NOTE:** A main goal should be to minimize the time between each experiment.\n",
    "EXPERIMENT, EXPERIMENT, EXPERIMENT"
   ]
  },
  {
   "attachments": {},
   "cell_type": "markdown",
   "metadata": {},
   "source": [
    "#### Tracking Model Experiments\n",
    "\n",
    "To track the results of your experiments:\n",
    "**Resource:**\n",
    "- Tensorboard\n",
    "    * A component of TensorFlow lib, to help track modelling experiments\n",
    "##\n",
    "- Weights & Bias\n",
    "    * A tool for tracking all kinds of ML Experiments(plugs directly into Tensorboard)"
   ]
  },
  {
   "attachments": {},
   "cell_type": "markdown",
   "metadata": {},
   "source": [
    "#### Saving Models\n",
    "\n",
    "Format:\n",
    "- SavedModel Format - A way to serialize models. Restored with load_model\n",
    "- HDF5 Format - Saved using HDF5 standards. Uses the .h5 \n",
    "    - Best format when using the model universally"
   ]
  },
  {
   "cell_type": "code",
   "execution_count": 59,
   "metadata": {},
   "outputs": [
    {
     "name": "stdout",
     "output_type": "stream",
     "text": [
      "INFO:tensorflow:Assets written to: Best_Reg_model\\assets\n"
     ]
    }
   ],
   "source": [
    "# Save model using SavedModel format\n",
    "model2.save(\"Best_Reg_model\")"
   ]
  },
  {
   "cell_type": "code",
   "execution_count": 58,
   "metadata": {},
   "outputs": [],
   "source": [
    "# Save model using HDF5 format\n",
    "model2.save(\"Best_reg_model_hd5f.h5\")"
   ]
  },
  {
   "attachments": {},
   "cell_type": "markdown",
   "metadata": {},
   "source": [
    "#### Load Models"
   ]
  },
  {
   "cell_type": "code",
   "execution_count": 57,
   "metadata": {},
   "outputs": [
    {
     "name": "stdout",
     "output_type": "stream",
     "text": [
      "Model: \"sequential_6\"\n",
      "_________________________________________________________________\n",
      " Layer (type)                Output Shape              Param #   \n",
      "=================================================================\n",
      " dense_7 (Dense)             (None, 10)                20        \n",
      "                                                                 \n",
      " dense_8 (Dense)             (None, 1)                 11        \n",
      "                                                                 \n",
      "=================================================================\n",
      "Total params: 31\n",
      "Trainable params: 31\n",
      "Non-trainable params: 0\n",
      "_________________________________________________________________\n"
     ]
    }
   ],
   "source": [
    "# Load in SavedModel format model\n",
    "loaded_savedmodel = tf.keras.models.load_model(\"./Best_Reg_model/\")\n",
    "loaded_savedmodel.summary()"
   ]
  },
  {
   "cell_type": "code",
   "execution_count": 68,
   "metadata": {},
   "outputs": [
    {
     "name": "stdout",
     "output_type": "stream",
     "text": [
      "1/1 [==============================] - 0s 40ms/step\n",
      "1/1 [==============================] - 0s 17ms/step\n"
     ]
    },
    {
     "data": {
      "text/plain": [
       "array([[ True],\n",
       "       [ True],\n",
       "       [ True],\n",
       "       [ True],\n",
       "       [ True],\n",
       "       [ True],\n",
       "       [ True],\n",
       "       [ True],\n",
       "       [ True],\n",
       "       [ True]])"
      ]
     },
     "execution_count": 68,
     "metadata": {},
     "output_type": "execute_result"
    }
   ],
   "source": [
    "# compare the model_2 predictions with savedModel format predictions\n",
    "# The predictions are same\n",
    "\n",
    "y_pred2 = model2.predict(X_test)\n",
    "loaded_savedmodel_pred = loaded_savedmodel.predict(X_test)\n",
    "y_pred2 == loaded_savedmodel_pred"
   ]
  },
  {
   "cell_type": "code",
   "execution_count": 70,
   "metadata": {},
   "outputs": [
    {
     "data": {
      "text/plain": [
       "<tf.Tensor: shape=(), dtype=bool, numpy=True>"
      ]
     },
     "execution_count": 70,
     "metadata": {},
     "output_type": "execute_result"
    }
   ],
   "source": [
    "MAE(y_true=y_test, y_pred = y_pred2) == MAE(y_true=y_test, y_pred=loaded_savedmodel_pred)"
   ]
  },
  {
   "cell_type": "code",
   "execution_count": 62,
   "metadata": {},
   "outputs": [
    {
     "name": "stdout",
     "output_type": "stream",
     "text": [
      "Model: \"sequential_6\"\n",
      "_________________________________________________________________\n",
      " Layer (type)                Output Shape              Param #   \n",
      "=================================================================\n",
      " dense_7 (Dense)             (None, 10)                20        \n",
      "                                                                 \n",
      " dense_8 (Dense)             (None, 1)                 11        \n",
      "                                                                 \n",
      "=================================================================\n",
      "Total params: 31\n",
      "Trainable params: 31\n",
      "Non-trainable params: 0\n",
      "_________________________________________________________________\n"
     ]
    }
   ],
   "source": [
    "# Load in HDF5 format model\n",
    "loaded_HDF5_model = tf.keras.models.load_model(\"Best_reg_model_hd5f.h5\")\n",
    "loaded_HDF5_model.summary()"
   ]
  },
  {
   "cell_type": "code",
   "execution_count": 71,
   "metadata": {},
   "outputs": [
    {
     "name": "stdout",
     "output_type": "stream",
     "text": [
      "1/1 [==============================] - 0s 23ms/step\n",
      "1/1 [==============================] - 0s 40ms/step\n"
     ]
    },
    {
     "data": {
      "text/plain": [
       "array([[ True],\n",
       "       [ True],\n",
       "       [ True],\n",
       "       [ True],\n",
       "       [ True],\n",
       "       [ True],\n",
       "       [ True],\n",
       "       [ True],\n",
       "       [ True],\n",
       "       [ True]])"
      ]
     },
     "execution_count": 71,
     "metadata": {},
     "output_type": "execute_result"
    }
   ],
   "source": [
    "y_pred2 = model2.predict(X_test)\n",
    "loaded_HDF5_model_pred = loaded_HDF5_model.predict(X_test)\n",
    "y_pred2 == loaded_HDF5_model_pred"
   ]
  }
 ],
 "metadata": {
  "kernelspec": {
   "display_name": "Python 3",
   "language": "python",
   "name": "python3"
  },
  "language_info": {
   "codemirror_mode": {
    "name": "ipython",
    "version": 3
   },
   "file_extension": ".py",
   "mimetype": "text/x-python",
   "name": "python",
   "nbconvert_exporter": "python",
   "pygments_lexer": "ipython3",
   "version": "3.10.7"
  },
  "orig_nbformat": 4
 },
 "nbformat": 4,
 "nbformat_minor": 2
}
