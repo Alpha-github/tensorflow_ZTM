{
 "cells": [
  {
   "attachments": {},
   "cell_type": "markdown",
   "metadata": {},
   "source": [
    "# Introduction to Tensorflow Regression"
   ]
  },
  {
   "cell_type": "code",
   "execution_count": 3,
   "metadata": {},
   "outputs": [],
   "source": [
    "import tensorflow as tf\n",
    "import numpy as np\n",
    "import matplotlib.pyplot as plt"
   ]
  },
  {
   "attachments": {},
   "cell_type": "markdown",
   "metadata": {},
   "source": [
    "### Creating Dataset"
   ]
  },
  {
   "cell_type": "code",
   "execution_count": 4,
   "metadata": {},
   "outputs": [
    {
     "data": {
      "text/plain": [
       "<matplotlib.collections.PathCollection at 0x1a23b886fb0>"
      ]
     },
     "execution_count": 4,
     "metadata": {},
     "output_type": "execute_result"
    },
    {
     "data": {
      "image/png": "[encoded data removed]",
      "text/plain": [
       "<Figure size 640x480 with 1 Axes>"
      ]
     },
     "metadata": {},
     "output_type": "display_data"
    }
   ],
   "source": [
    "# Create features\n",
    "X = np.arange(-7,15,3,dtype=np.float16)\n",
    "\n",
    "# Create labels\n",
    "y = np.arange(3,25,3,dtype=np.float16)\n",
    "\n",
    "# Visualize\n",
    "plt.scatter(X,y)"
   ]
  },
  {
   "cell_type": "code",
   "execution_count": 5,
   "metadata": {},
   "outputs": [
    {
     "data": {
      "text/plain": [
       "array([ True,  True,  True,  True,  True,  True,  True,  True])"
      ]
     },
     "execution_count": 5,
     "metadata": {},
     "output_type": "execute_result"
    }
   ],
   "source": [
    "y == X+10"
   ]
  },
  {
   "attachments": {},
   "cell_type": "markdown",
   "metadata": {},
   "source": [
    "### Input and Output Shapes"
   ]
  },
  {
   "cell_type": "code",
   "execution_count": 6,
   "metadata": {},
   "outputs": [
    {
     "data": {
      "text/plain": [
       "((8,), (8,))"
      ]
     },
     "execution_count": 6,
     "metadata": {},
     "output_type": "execute_result"
    }
   ],
   "source": [
    "# Input and Output Shapes\n",
    "X.shape, y.shape"
   ]
  },
  {
   "cell_type": "code",
   "execution_count": 7,
   "metadata": {},
   "outputs": [
    {
     "data": {
      "text/plain": [
       "()"
      ]
     },
     "execution_count": 7,
     "metadata": {},
     "output_type": "execute_result"
    }
   ],
   "source": [
    "# Shape of one input element\n",
    "X[0].shape\n",
    "\n",
    "# Shape of one output element\n",
    "y[0].shape\n",
    "\n",
    "# NOTE: The shape is () since we are dealing with tensors"
   ]
  },
  {
   "cell_type": "code",
   "execution_count": 8,
   "metadata": {},
   "outputs": [
    {
     "data": {
      "text/plain": [
       "0"
      ]
     },
     "execution_count": 8,
     "metadata": {},
     "output_type": "execute_result"
    }
   ],
   "source": [
    "# Scalars have dimension 0\n",
    "X[0].ndim"
   ]
  },
  {
   "cell_type": "code",
   "execution_count": 9,
   "metadata": {},
   "outputs": [
    {
     "data": {
      "text/plain": [
       "(<tf.Tensor: shape=(8,), dtype=float16, numpy=array([-7., -4., -1.,  2.,  5.,  8., 11., 14.], dtype=float16)>,\n",
       " <tf.Tensor: shape=(8,), dtype=float16, numpy=array([ 3.,  6.,  9., 12., 15., 18., 21., 24.], dtype=float16)>)"
      ]
     },
     "execution_count": 9,
     "metadata": {},
     "output_type": "execute_result"
    }
   ],
   "source": [
    "# Turn our NumPy arrays into tensors with dtype float32\n",
    "X = tf.constant(X)\n",
    "y = tf.constant(y)\n",
    "X,y"
   ]
  },
  {
   "cell_type": "code",
   "execution_count": 10,
   "metadata": {},
   "outputs": [
    {
     "data": {
      "text/plain": [
       "(TensorShape([]), TensorShape([]))"
      ]
     },
     "execution_count": 10,
     "metadata": {},
     "output_type": "execute_result"
    }
   ],
   "source": [
    "input_shape = X[0].shape\n",
    "output_shape = y[0].shape\n",
    "input_shape,output_shape"
   ]
  },
  {
   "cell_type": "code",
   "execution_count": 11,
   "metadata": {},
   "outputs": [
    {
     "data": {
      "text/plain": [
       "<matplotlib.collections.PathCollection at 0x1a24558c6d0>"
      ]
     },
     "execution_count": 11,
     "metadata": {},
     "output_type": "execute_result"
    },
    {
     "data": {
      "image/png": "[encoded data removed]",
      "text/plain": [
       "<Figure size 640x480 with 1 Axes>"
      ]
     },
     "metadata": {},
     "output_type": "display_data"
    }
   ],
   "source": [
    "plt.scatter(X,y)"
   ]
  },
  {
   "attachments": {},
   "cell_type": "markdown",
   "metadata": {},
   "source": [
    "### Modelling with TF  - Experiment, Experiment, Experiment\n",
    "1. Creating a model - define input and output layers, and the hidde layers of the NN\n",
    "2. Compiling the model - Define the loss functions, optimizer and evaluation metrics\n",
    "3. Fitting the model - Letting the model find the patterns between X & y (Features and labels)"
   ]
  },
  {
   "attachments": {},
   "cell_type": "markdown",
   "metadata": {},
   "source": [
    "Method 1:\n",
    "- Add layers after creating a model from Sequential class"
   ]
  },
  {
   "cell_type": "code",
   "execution_count": 12,
   "metadata": {},
   "outputs": [
    {
     "name": "stdout",
     "output_type": "stream",
     "text": [
      "Epoch 1/10\n",
      "1/1 [==============================] - 2s 2s/step - loss: 11.1068 - mae: 11.1068\n",
      "Epoch 2/10\n",
      "1/1 [==============================] - 0s 3ms/step - loss: 10.9743 - mae: 10.9743\n",
      "Epoch 3/10\n",
      "1/1 [==============================] - 0s 4ms/step - loss: 10.8418 - mae: 10.8418\n",
      "Epoch 4/10\n",
      "1/1 [==============================] - 0s 2ms/step - loss: 10.7093 - mae: 10.7093\n",
      "Epoch 5/10\n",
      "1/1 [==============================] - 0s 3ms/step - loss: 10.5768 - mae: 10.5768\n",
      "Epoch 6/10\n",
      "1/1 [==============================] - 0s 6ms/step - loss: 10.4443 - mae: 10.4443\n",
      "Epoch 7/10\n",
      "1/1 [==============================] - 0s 4ms/step - loss: 10.3118 - mae: 10.3118\n",
      "Epoch 8/10\n",
      "1/1 [==============================] - 0s 5ms/step - loss: 10.1793 - mae: 10.1793\n",
      "Epoch 9/10\n",
      "1/1 [==============================] - 0s 3ms/step - loss: 10.0468 - mae: 10.0468\n",
      "Epoch 10/10\n",
      "1/1 [==============================] - 0s 3ms/step - loss: 9.9143 - mae: 9.9143\n"
     ]
    },
    {
     "data": {
      "text/plain": [
       "<keras.callbacks.History at 0x1a26562d330>"
      ]
     },
     "execution_count": 12,
     "metadata": {},
     "output_type": "execute_result"
    }
   ],
   "source": [
    "# Set random seed\n",
    "tf.random.set_seed(42)\n",
    "\n",
    "# 1. Create a model with Sequential\n",
    "model_1 = tf.keras.Sequential()\n",
    "model_1.add(tf.keras.layers.Dense(1, input_shape=(1,)))\n",
    "\n",
    "# 2. Compile the model\n",
    "model_1.compile(loss=tf.keras.losses.mae, # mae is mean absolute error\n",
    "                optimizer=tf.keras.optimizers.SGD(), # SGD is stochastic gradient descent\n",
    "                metrics=[\"mae\"])\n",
    "\n",
    "# 3. Fit the model\n",
    "model_1.fit(X,y,epochs=10)"
   ]
  },
  {
   "attachments": {},
   "cell_type": "markdown",
   "metadata": {},
   "source": [
    "Method 2:\n",
    "- Add the layers in the Sequential API while creating the model itself"
   ]
  },
  {
   "cell_type": "code",
   "execution_count": 13,
   "metadata": {},
   "outputs": [
    {
     "name": "stdout",
     "output_type": "stream",
     "text": [
      "Epoch 1/10\n",
      "1/1 [==============================] - 0s 168ms/step - loss: 18.5034 - mae: 18.5034\n",
      "Epoch 2/10\n",
      "1/1 [==============================] - 0s 6ms/step - loss: 18.2222 - mae: 18.2222\n",
      "Epoch 3/10\n",
      "1/1 [==============================] - 0s 3ms/step - loss: 17.9409 - mae: 17.9409\n",
      "Epoch 4/10\n",
      "1/1 [==============================] - 0s 3ms/step - loss: 17.6597 - mae: 17.6597\n",
      "Epoch 5/10\n",
      "1/1 [==============================] - 0s 3ms/step - loss: 17.3784 - mae: 17.3784\n",
      "Epoch 6/10\n",
      "1/1 [==============================] - 0s 3ms/step - loss: 17.0972 - mae: 17.0972\n",
      "Epoch 7/10\n",
      "1/1 [==============================] - 0s 4ms/step - loss: 16.8159 - mae: 16.8159\n",
      "Epoch 8/10\n",
      "1/1 [==============================] - 0s 4ms/step - loss: 16.5347 - mae: 16.5347\n",
      "Epoch 9/10\n",
      "1/1 [==============================] - 0s 8ms/step - loss: 16.2534 - mae: 16.2534\n",
      "Epoch 10/10\n",
      "1/1 [==============================] - 0s 3ms/step - loss: 15.9722 - mae: 15.9722\n"
     ]
    },
    {
     "data": {
      "text/plain": [
       "<keras.callbacks.History at 0x1a266db0490>"
      ]
     },
     "execution_count": 13,
     "metadata": {},
     "output_type": "execute_result"
    }
   ],
   "source": [
    "# Set random seed\n",
    "tf.random.set_seed(42)\n",
    "\n",
    "# 1. Create a model using the Sequential API\n",
    "model_2 = tf.keras.Sequential([\n",
    "    tf.keras.layers.Dense(1,input_shape = (1,)) # It is 1, since we pass only 1 data pt\n",
    "])\n",
    "\n",
    "# 2. Compile the model\n",
    "model_2.compile(loss=tf.keras.losses.mae, # mae is mean absolute error\n",
    "                optimizer=tf.keras.optimizers.SGD(), # SGD is stochastic gradient descent\n",
    "                metrics=[\"mae\"])\n",
    "\n",
    "# 3. Fit the model\n",
    "model_2.fit(X,y,epochs=10)"
   ]
  },
  {
   "attachments": {},
   "cell_type": "markdown",
   "metadata": {},
   "source": [
    "#### Predict using the trained Model"
   ]
  },
  {
   "cell_type": "code",
   "execution_count": 14,
   "metadata": {},
   "outputs": [
    {
     "name": "stdout",
     "output_type": "stream",
     "text": [
      "1/1 [==============================] - 0s 68ms/step\n",
      "1/1 [==============================] - 0s 47ms/step\n"
     ]
    },
    {
     "data": {
      "text/plain": [
       "(array([[17.674177]], dtype=float32), array([[-9.6301775]], dtype=float32))"
      ]
     },
     "execution_count": 14,
     "metadata": {},
     "output_type": "execute_result"
    }
   ],
   "source": [
    "model_1.predict([17.0]), model_2.predict([17.0])"
   ]
  },
  {
   "attachments": {},
   "cell_type": "markdown",
   "metadata": {},
   "source": [
    "### Improving the Model\n",
    "- We can improve our model by modifying the steps we took to create a model\n",
    "\n",
    "1. **Creating a model** \n",
    "    - Add more layers\n",
    "    - Increase the number of neurons in the layers\n",
    "    - Change the activation function in a each layer\n",
    "2. **Compiling a model**\n",
    "    - Change the optimizer\n",
    "    - Change the loss function\n",
    "    - Change the *learning rate* of optimizer\n",
    "3. **Fitting a model**\n",
    "    - Change the number of epochs\n",
    "    - Provide more data to learn from"
   ]
  },
  {
   "cell_type": "code",
   "execution_count": 15,
   "metadata": {},
   "outputs": [
    {
     "name": "stdout",
     "output_type": "stream",
     "text": [
      "Epoch 1/100\n",
      "1/1 [==============================] - 0s 171ms/step - loss: 9.7214 - mae: 9.7214\n",
      "Epoch 2/100\n",
      "1/1 [==============================] - 0s 3ms/step - loss: 9.5889 - mae: 9.5889\n",
      "Epoch 3/100\n",
      "1/1 [==============================] - 0s 3ms/step - loss: 9.4564 - mae: 9.4564\n",
      "Epoch 4/100\n",
      "1/1 [==============================] - 0s 3ms/step - loss: 9.3239 - mae: 9.3239\n",
      "Epoch 5/100\n",
      "1/1 [==============================] - 0s 2ms/step - loss: 9.1914 - mae: 9.1914\n",
      "Epoch 6/100\n",
      "1/1 [==============================] - 0s 2ms/step - loss: 9.0589 - mae: 9.0589\n",
      "Epoch 7/100\n",
      "1/1 [==============================] - 0s 2ms/step - loss: 8.9264 - mae: 8.9264\n",
      "Epoch 8/100\n",
      "1/1 [==============================] - 0s 5ms/step - loss: 8.7939 - mae: 8.7939\n",
      "Epoch 9/100\n",
      "1/1 [==============================] - 0s 3ms/step - loss: 8.6614 - mae: 8.6614\n",
      "Epoch 10/100\n",
      "1/1 [==============================] - 0s 3ms/step - loss: 8.5289 - mae: 8.5289\n",
      "Epoch 11/100\n",
      "1/1 [==============================] - 0s 3ms/step - loss: 8.3964 - mae: 8.3964\n",
      "Epoch 12/100\n",
      "1/1 [==============================] - 0s 4ms/step - loss: 8.2639 - mae: 8.2639\n",
      "Epoch 13/100\n",
      "1/1 [==============================] - 0s 3ms/step - loss: 8.1314 - mae: 8.1314\n",
      "Epoch 14/100\n",
      "1/1 [==============================] - 0s 2ms/step - loss: 7.9989 - mae: 7.9989\n",
      "Epoch 15/100\n",
      "1/1 [==============================] - 0s 3ms/step - loss: 7.8664 - mae: 7.8664\n",
      "Epoch 16/100\n",
      "1/1 [==============================] - 0s 4ms/step - loss: 7.7339 - mae: 7.7339\n",
      "Epoch 17/100\n",
      "1/1 [==============================] - 0s 3ms/step - loss: 7.6014 - mae: 7.6014\n",
      "Epoch 18/100\n",
      "1/1 [==============================] - 0s 4ms/step - loss: 7.4689 - mae: 7.4689\n",
      "Epoch 19/100\n",
      "1/1 [==============================] - 0s 3ms/step - loss: 7.3650 - mae: 7.3650\n",
      "Epoch 20/100\n",
      "1/1 [==============================] - 0s 2ms/step - loss: 7.3594 - mae: 7.3594\n",
      "Epoch 21/100\n",
      "1/1 [==============================] - 0s 2ms/step - loss: 7.3537 - mae: 7.3537\n",
      "Epoch 22/100\n",
      "1/1 [==============================] - 0s 6ms/step - loss: 7.3481 - mae: 7.3481\n",
      "Epoch 23/100\n",
      "1/1 [==============================] - 0s 4ms/step - loss: 7.3425 - mae: 7.3425\n",
      "Epoch 24/100\n",
      "1/1 [==============================] - 0s 3ms/step - loss: 7.3369 - mae: 7.3369\n",
      "Epoch 25/100\n",
      "1/1 [==============================] - 0s 5ms/step - loss: 7.3312 - mae: 7.3312\n",
      "Epoch 26/100\n",
      "1/1 [==============================] - 0s 2ms/step - loss: 7.3256 - mae: 7.3256\n",
      "Epoch 27/100\n",
      "1/1 [==============================] - 0s 3ms/step - loss: 7.3200 - mae: 7.3200\n",
      "Epoch 28/100\n",
      "1/1 [==============================] - 0s 2ms/step - loss: 7.3144 - mae: 7.3144\n",
      "Epoch 29/100\n",
      "1/1 [==============================] - 0s 4ms/step - loss: 7.3088 - mae: 7.3088\n",
      "Epoch 30/100\n",
      "1/1 [==============================] - 0s 3ms/step - loss: 7.3031 - mae: 7.3031\n",
      "Epoch 31/100\n",
      "1/1 [==============================] - 0s 3ms/step - loss: 7.2975 - mae: 7.2975\n",
      "Epoch 32/100\n",
      "1/1 [==============================] - 0s 10ms/step - loss: 7.2919 - mae: 7.2919\n",
      "Epoch 33/100\n",
      "1/1 [==============================] - 0s 4ms/step - loss: 7.2863 - mae: 7.2863\n",
      "Epoch 34/100\n",
      "1/1 [==============================] - 0s 7ms/step - loss: 7.2806 - mae: 7.2806\n",
      "Epoch 35/100\n",
      "1/1 [==============================] - 0s 5ms/step - loss: 7.2750 - mae: 7.2750\n",
      "Epoch 36/100\n",
      "1/1 [==============================] - 0s 4ms/step - loss: 7.2694 - mae: 7.2694\n",
      "Epoch 37/100\n",
      "1/1 [==============================] - 0s 3ms/step - loss: 7.2638 - mae: 7.2638\n",
      "Epoch 38/100\n",
      "1/1 [==============================] - 0s 3ms/step - loss: 7.2581 - mae: 7.2581\n",
      "Epoch 39/100\n",
      "1/1 [==============================] - 0s 4ms/step - loss: 7.2525 - mae: 7.2525\n",
      "Epoch 40/100\n",
      "1/1 [==============================] - 0s 3ms/step - loss: 7.2469 - mae: 7.2469\n",
      "Epoch 41/100\n",
      "1/1 [==============================] - 0s 2ms/step - loss: 7.2413 - mae: 7.2413\n",
      "Epoch 42/100\n",
      "1/1 [==============================] - 0s 3ms/step - loss: 7.2356 - mae: 7.2356\n",
      "Epoch 43/100\n",
      "1/1 [==============================] - 0s 4ms/step - loss: 7.2300 - mae: 7.2300\n",
      "Epoch 44/100\n",
      "1/1 [==============================] - 0s 3ms/step - loss: 7.2244 - mae: 7.2244\n",
      "Epoch 45/100\n",
      "1/1 [==============================] - 0s 9ms/step - loss: 7.2188 - mae: 7.2188\n",
      "Epoch 46/100\n",
      "1/1 [==============================] - 0s 4ms/step - loss: 7.2131 - mae: 7.2131\n",
      "Epoch 47/100\n",
      "1/1 [==============================] - 0s 9ms/step - loss: 7.2075 - mae: 7.2075\n",
      "Epoch 48/100\n",
      "1/1 [==============================] - 0s 3ms/step - loss: 7.2019 - mae: 7.2019\n",
      "Epoch 49/100\n",
      "1/1 [==============================] - 0s 3ms/step - loss: 7.1962 - mae: 7.1962\n",
      "Epoch 50/100\n",
      "1/1 [==============================] - 0s 3ms/step - loss: 7.1906 - mae: 7.1906\n",
      "Epoch 51/100\n",
      "1/1 [==============================] - 0s 3ms/step - loss: 7.1850 - mae: 7.1850\n",
      "Epoch 52/100\n",
      "1/1 [==============================] - 0s 2ms/step - loss: 7.1794 - mae: 7.1794\n",
      "Epoch 53/100\n",
      "1/1 [==============================] - 0s 3ms/step - loss: 7.1737 - mae: 7.1737\n",
      "Epoch 54/100\n",
      "1/1 [==============================] - 0s 3ms/step - loss: 7.1681 - mae: 7.1681\n",
      "Epoch 55/100\n",
      "1/1 [==============================] - 0s 3ms/step - loss: 7.1625 - mae: 7.1625\n",
      "Epoch 56/100\n",
      "1/1 [==============================] - 0s 3ms/step - loss: 7.1569 - mae: 7.1569\n",
      "Epoch 57/100\n",
      "1/1 [==============================] - 0s 3ms/step - loss: 7.1513 - mae: 7.1513\n",
      "Epoch 58/100\n",
      "1/1 [==============================] - 0s 4ms/step - loss: 7.1456 - mae: 7.1456\n",
      "Epoch 59/100\n",
      "1/1 [==============================] - 0s 4ms/step - loss: 7.1400 - mae: 7.1400\n",
      "Epoch 60/100\n",
      "1/1 [==============================] - 0s 3ms/step - loss: 7.1344 - mae: 7.1344\n",
      "Epoch 61/100\n",
      "1/1 [==============================] - 0s 3ms/step - loss: 7.1288 - mae: 7.1288\n",
      "Epoch 62/100\n",
      "1/1 [==============================] - 0s 2ms/step - loss: 7.1231 - mae: 7.1231\n",
      "Epoch 63/100\n",
      "1/1 [==============================] - 0s 3ms/step - loss: 7.1175 - mae: 7.1175\n",
      "Epoch 64/100\n",
      "1/1 [==============================] - 0s 3ms/step - loss: 7.1119 - mae: 7.1119\n",
      "Epoch 65/100\n",
      "1/1 [==============================] - 0s 3ms/step - loss: 7.1062 - mae: 7.1062\n",
      "Epoch 66/100\n",
      "1/1 [==============================] - 0s 3ms/step - loss: 7.1006 - mae: 7.1006\n",
      "Epoch 67/100\n",
      "1/1 [==============================] - 0s 4ms/step - loss: 7.0950 - mae: 7.0950\n",
      "Epoch 68/100\n",
      "1/1 [==============================] - 0s 3ms/step - loss: 7.0894 - mae: 7.0894\n",
      "Epoch 69/100\n",
      "1/1 [==============================] - 0s 3ms/step - loss: 7.0838 - mae: 7.0838\n",
      "Epoch 70/100\n",
      "1/1 [==============================] - 0s 7ms/step - loss: 7.0781 - mae: 7.0781\n",
      "Epoch 71/100\n",
      "1/1 [==============================] - 0s 3ms/step - loss: 7.0725 - mae: 7.0725\n",
      "Epoch 72/100\n",
      "1/1 [==============================] - 0s 3ms/step - loss: 7.0669 - mae: 7.0669\n",
      "Epoch 73/100\n",
      "1/1 [==============================] - 0s 7ms/step - loss: 7.0612 - mae: 7.0612\n",
      "Epoch 74/100\n",
      "1/1 [==============================] - 0s 4ms/step - loss: 7.0556 - mae: 7.0556\n",
      "Epoch 75/100\n",
      "1/1 [==============================] - 0s 3ms/step - loss: 7.0500 - mae: 7.0500\n",
      "Epoch 76/100\n",
      "1/1 [==============================] - 0s 4ms/step - loss: 7.0444 - mae: 7.0444\n",
      "Epoch 77/100\n",
      "1/1 [==============================] - 0s 3ms/step - loss: 7.0387 - mae: 7.0387\n",
      "Epoch 78/100\n",
      "1/1 [==============================] - 0s 3ms/step - loss: 7.0331 - mae: 7.0331\n",
      "Epoch 79/100\n",
      "1/1 [==============================] - 0s 3ms/step - loss: 7.0275 - mae: 7.0275\n",
      "Epoch 80/100\n",
      "1/1 [==============================] - 0s 6ms/step - loss: 7.0219 - mae: 7.0219\n",
      "Epoch 81/100\n",
      "1/1 [==============================] - 0s 4ms/step - loss: 7.0163 - mae: 7.0163\n",
      "Epoch 82/100\n",
      "1/1 [==============================] - 0s 3ms/step - loss: 7.0106 - mae: 7.0106\n",
      "Epoch 83/100\n",
      "1/1 [==============================] - 0s 7ms/step - loss: 7.0050 - mae: 7.0050\n",
      "Epoch 84/100\n",
      "1/1 [==============================] - 0s 4ms/step - loss: 6.9994 - mae: 6.9994\n",
      "Epoch 85/100\n",
      "1/1 [==============================] - 0s 2ms/step - loss: 6.9938 - mae: 6.9938\n",
      "Epoch 86/100\n",
      "1/1 [==============================] - 0s 3ms/step - loss: 6.9881 - mae: 6.9881\n",
      "Epoch 87/100\n",
      "1/1 [==============================] - 0s 3ms/step - loss: 6.9825 - mae: 6.9825\n",
      "Epoch 88/100\n",
      "1/1 [==============================] - 0s 2ms/step - loss: 6.9769 - mae: 6.9769\n",
      "Epoch 89/100\n",
      "1/1 [==============================] - 0s 3ms/step - loss: 6.9713 - mae: 6.9713\n",
      "Epoch 90/100\n",
      "1/1 [==============================] - 0s 5ms/step - loss: 6.9656 - mae: 6.9656\n",
      "Epoch 91/100\n",
      "1/1 [==============================] - 0s 4ms/step - loss: 6.9600 - mae: 6.9600\n",
      "Epoch 92/100\n",
      "1/1 [==============================] - 0s 2ms/step - loss: 6.9544 - mae: 6.9544\n",
      "Epoch 93/100\n",
      "1/1 [==============================] - 0s 2ms/step - loss: 6.9488 - mae: 6.9488\n",
      "Epoch 94/100\n",
      "1/1 [==============================] - 0s 2ms/step - loss: 6.9431 - mae: 6.9431\n",
      "Epoch 95/100\n",
      "1/1 [==============================] - 0s 2ms/step - loss: 6.9375 - mae: 6.9375\n",
      "Epoch 96/100\n",
      "1/1 [==============================] - 0s 4ms/step - loss: 6.9319 - mae: 6.9319\n",
      "Epoch 97/100\n",
      "1/1 [==============================] - 0s 3ms/step - loss: 6.9263 - mae: 6.9263\n",
      "Epoch 98/100\n",
      "1/1 [==============================] - 0s 4ms/step - loss: 6.9206 - mae: 6.9206\n",
      "Epoch 99/100\n",
      "1/1 [==============================] - 0s 3ms/step - loss: 6.9150 - mae: 6.9150\n",
      "Epoch 100/100\n",
      "1/1 [==============================] - 0s 4ms/step - loss: 6.9094 - mae: 6.9094\n"
     ]
    },
    {
     "data": {
      "text/plain": [
       "<keras.callbacks.History at 0x1a2ff007bb0>"
      ]
     },
     "execution_count": 15,
     "metadata": {},
     "output_type": "execute_result"
    }
   ],
   "source": [
    "# Changes: Increase number of epochs\n",
    "\n",
    "# 1. create the model\n",
    "improv_model1 = tf.keras.Sequential([\n",
    "    tf.keras.layers.Dense(1)\n",
    "])\n",
    "\n",
    "# 2. Compile the model\n",
    "improv_model1.compile(loss=tf.keras.losses.mae,\n",
    "                        optimizer=tf.keras.optimizers.SGD(),\n",
    "                        metrics = [\"mae\"])\n",
    "\n",
    "# 3. Fit the model\n",
    "improv_model1.fit(tf.expand_dims(X, axis=-1),y,epochs=100)"
   ]
  },
  {
   "cell_type": "code",
   "execution_count": 16,
   "metadata": {},
   "outputs": [
    {
     "name": "stdout",
     "output_type": "stream",
     "text": [
      "1/1 [==============================] - 0s 50ms/step\n"
     ]
    },
    {
     "data": {
      "text/plain": [
       "array([[29.858072]], dtype=float32)"
      ]
     },
     "execution_count": 16,
     "metadata": {},
     "output_type": "execute_result"
    }
   ],
   "source": [
    "improv_model1.predict([17.0])"
   ]
  },
  {
   "attachments": {},
   "cell_type": "markdown",
   "metadata": {},
   "source": [
    "##### `NOTE`: Common ways to better our DL model:\n",
    "- Increase number of layers\n",
    "- Increase anumber of neurons in each layer\n",
    "- Change optimizer\n",
    "- Change Learning Rate (The most hyperparam for most NN)\n",
    "- Fitting on more data\n",
    "- Fitting for more epochs"
   ]
  },
  {
   "cell_type": "code",
   "execution_count": 17,
   "metadata": {},
   "outputs": [
    {
     "name": "stdout",
     "output_type": "stream",
     "text": [
      "Epoch 1/100\n",
      "1/1 [==============================] - 0s 294ms/step - loss: 13.9486 - mae: 13.9486\n",
      "Epoch 2/100\n",
      "1/1 [==============================] - 0s 4ms/step - loss: 13.3295 - mae: 13.3295\n",
      "Epoch 3/100\n",
      "1/1 [==============================] - 0s 3ms/step - loss: 12.7166 - mae: 12.7166\n",
      "Epoch 4/100\n",
      "1/1 [==============================] - 0s 3ms/step - loss: 12.1080 - mae: 12.1080\n",
      "Epoch 5/100\n",
      "1/1 [==============================] - 0s 3ms/step - loss: 11.5000 - mae: 11.5000\n",
      "Epoch 6/100\n",
      "1/1 [==============================] - 0s 3ms/step - loss: 10.8895 - mae: 10.8895\n",
      "Epoch 7/100\n",
      "1/1 [==============================] - 0s 2ms/step - loss: 10.2735 - mae: 10.2735\n",
      "Epoch 8/100\n",
      "1/1 [==============================] - 0s 4ms/step - loss: 9.6489 - mae: 9.6489\n",
      "Epoch 9/100\n",
      "1/1 [==============================] - 0s 3ms/step - loss: 9.0122 - mae: 9.0122\n",
      "Epoch 10/100\n",
      "1/1 [==============================] - 0s 3ms/step - loss: 8.3598 - mae: 8.3598\n",
      "Epoch 11/100\n",
      "1/1 [==============================] - 0s 4ms/step - loss: 7.6883 - mae: 7.6883\n",
      "Epoch 12/100\n",
      "1/1 [==============================] - 0s 2ms/step - loss: 6.9941 - mae: 6.9941\n",
      "Epoch 13/100\n",
      "1/1 [==============================] - 0s 3ms/step - loss: 6.6422 - mae: 6.6422\n",
      "Epoch 14/100\n",
      "1/1 [==============================] - 0s 3ms/step - loss: 6.8365 - mae: 6.8365\n",
      "Epoch 15/100\n",
      "1/1 [==============================] - 0s 5ms/step - loss: 7.1069 - mae: 7.1069\n",
      "Epoch 16/100\n",
      "1/1 [==============================] - 0s 4ms/step - loss: 7.3526 - mae: 7.3526\n",
      "Epoch 17/100\n",
      "1/1 [==============================] - 0s 4ms/step - loss: 7.4729 - mae: 7.4729\n",
      "Epoch 18/100\n",
      "1/1 [==============================] - 0s 5ms/step - loss: 7.4068 - mae: 7.4068\n",
      "Epoch 19/100\n",
      "1/1 [==============================] - 0s 4ms/step - loss: 7.1988 - mae: 7.1988\n",
      "Epoch 20/100\n",
      "1/1 [==============================] - 0s 3ms/step - loss: 6.9015 - mae: 6.9015\n",
      "Epoch 21/100\n",
      "1/1 [==============================] - 0s 4ms/step - loss: 6.6790 - mae: 6.6790\n",
      "Epoch 22/100\n",
      "1/1 [==============================] - 0s 3ms/step - loss: 6.4413 - mae: 6.4413\n",
      "Epoch 23/100\n",
      "1/1 [==============================] - 0s 3ms/step - loss: 6.1926 - mae: 6.1926\n",
      "Epoch 24/100\n",
      "1/1 [==============================] - 0s 2ms/step - loss: 6.0146 - mae: 6.0146\n",
      "Epoch 25/100\n",
      "1/1 [==============================] - 0s 4ms/step - loss: 5.9772 - mae: 5.9772\n",
      "Epoch 26/100\n",
      "1/1 [==============================] - 0s 3ms/step - loss: 5.9451 - mae: 5.9451\n",
      "Epoch 27/100\n",
      "1/1 [==============================] - 0s 3ms/step - loss: 6.0009 - mae: 6.0009\n",
      "Epoch 28/100\n",
      "1/1 [==============================] - 0s 4ms/step - loss: 5.9607 - mae: 5.9607\n",
      "Epoch 29/100\n",
      "1/1 [==============================] - 0s 4ms/step - loss: 5.8360 - mae: 5.8360\n",
      "Epoch 30/100\n",
      "1/1 [==============================] - 0s 3ms/step - loss: 5.6350 - mae: 5.6350\n",
      "Epoch 31/100\n",
      "1/1 [==============================] - 0s 3ms/step - loss: 5.5277 - mae: 5.5277\n",
      "Epoch 32/100\n",
      "1/1 [==============================] - 0s 4ms/step - loss: 5.4194 - mae: 5.4194\n",
      "Epoch 33/100\n",
      "1/1 [==============================] - 0s 3ms/step - loss: 5.3137 - mae: 5.3137\n",
      "Epoch 34/100\n",
      "1/1 [==============================] - 0s 3ms/step - loss: 5.2978 - mae: 5.2978\n",
      "Epoch 35/100\n",
      "1/1 [==============================] - 0s 3ms/step - loss: 5.2450 - mae: 5.2450\n",
      "Epoch 36/100\n",
      "1/1 [==============================] - 0s 4ms/step - loss: 5.1580 - mae: 5.1580\n",
      "Epoch 37/100\n",
      "1/1 [==============================] - 0s 3ms/step - loss: 5.0396 - mae: 5.0396\n",
      "Epoch 38/100\n",
      "1/1 [==============================] - 0s 3ms/step - loss: 4.8923 - mae: 4.8923\n",
      "Epoch 39/100\n",
      "1/1 [==============================] - 0s 6ms/step - loss: 4.7383 - mae: 4.7383\n",
      "Epoch 40/100\n",
      "1/1 [==============================] - 0s 4ms/step - loss: 4.6454 - mae: 4.6454\n",
      "Epoch 41/100\n",
      "1/1 [==============================] - 0s 4ms/step - loss: 4.5444 - mae: 4.5444\n",
      "Epoch 42/100\n",
      "1/1 [==============================] - 0s 5ms/step - loss: 4.4353 - mae: 4.4353\n",
      "Epoch 43/100\n",
      "1/1 [==============================] - 0s 5ms/step - loss: 4.3180 - mae: 4.3180\n",
      "Epoch 44/100\n",
      "1/1 [==============================] - 0s 6ms/step - loss: 4.1922 - mae: 4.1922\n",
      "Epoch 45/100\n",
      "1/1 [==============================] - 0s 3ms/step - loss: 4.0580 - mae: 4.0580\n",
      "Epoch 46/100\n",
      "1/1 [==============================] - 0s 6ms/step - loss: 3.9150 - mae: 3.9150\n",
      "Epoch 47/100\n",
      "1/1 [==============================] - 0s 4ms/step - loss: 3.7630 - mae: 3.7630\n",
      "Epoch 48/100\n",
      "1/1 [==============================] - 0s 3ms/step - loss: 3.6018 - mae: 3.6018\n",
      "Epoch 49/100\n",
      "1/1 [==============================] - 0s 5ms/step - loss: 3.4312 - mae: 3.4312\n",
      "Epoch 50/100\n",
      "1/1 [==============================] - 0s 3ms/step - loss: 3.2509 - mae: 3.2509\n",
      "Epoch 51/100\n",
      "1/1 [==============================] - 0s 2ms/step - loss: 3.0606 - mae: 3.0606\n",
      "Epoch 52/100\n",
      "1/1 [==============================] - 0s 3ms/step - loss: 2.8871 - mae: 2.8871\n",
      "Epoch 53/100\n",
      "1/1 [==============================] - 0s 3ms/step - loss: 2.6905 - mae: 2.6905\n",
      "Epoch 54/100\n",
      "1/1 [==============================] - 0s 2ms/step - loss: 2.4669 - mae: 2.4669\n",
      "Epoch 55/100\n",
      "1/1 [==============================] - 0s 2ms/step - loss: 2.2585 - mae: 2.2585\n",
      "Epoch 56/100\n",
      "1/1 [==============================] - 0s 9ms/step - loss: 2.0369 - mae: 2.0369\n",
      "Epoch 57/100\n",
      "1/1 [==============================] - 0s 4ms/step - loss: 1.8022 - mae: 1.8022\n",
      "Epoch 58/100\n",
      "1/1 [==============================] - 0s 6ms/step - loss: 1.5599 - mae: 1.5599\n",
      "Epoch 59/100\n",
      "1/1 [==============================] - 0s 3ms/step - loss: 1.2873 - mae: 1.2873\n",
      "Epoch 60/100\n",
      "1/1 [==============================] - 0s 4ms/step - loss: 1.0547 - mae: 1.0547\n",
      "Epoch 61/100\n",
      "1/1 [==============================] - 0s 4ms/step - loss: 0.7451 - mae: 0.7451\n",
      "Epoch 62/100\n",
      "1/1 [==============================] - 0s 4ms/step - loss: 0.5459 - mae: 0.5459\n",
      "Epoch 63/100\n",
      "1/1 [==============================] - 0s 2ms/step - loss: 0.2292 - mae: 0.2292\n",
      "Epoch 64/100\n",
      "1/1 [==============================] - 0s 3ms/step - loss: 0.2785 - mae: 0.2785\n",
      "Epoch 65/100\n",
      "1/1 [==============================] - 0s 3ms/step - loss: 0.5064 - mae: 0.5064\n",
      "Epoch 66/100\n",
      "1/1 [==============================] - 0s 3ms/step - loss: 0.5836 - mae: 0.5836\n",
      "Epoch 67/100\n",
      "1/1 [==============================] - 0s 5ms/step - loss: 0.7296 - mae: 0.7296\n",
      "Epoch 68/100\n",
      "1/1 [==============================] - 0s 3ms/step - loss: 0.7561 - mae: 0.7561\n",
      "Epoch 69/100\n",
      "1/1 [==============================] - 0s 3ms/step - loss: 0.8409 - mae: 0.8409\n",
      "Epoch 70/100\n",
      "1/1 [==============================] - 0s 6ms/step - loss: 0.7790 - mae: 0.7790\n",
      "Epoch 71/100\n",
      "1/1 [==============================] - 0s 3ms/step - loss: 0.7447 - mae: 0.7447\n",
      "Epoch 72/100\n",
      "1/1 [==============================] - 0s 3ms/step - loss: 0.7590 - mae: 0.7590\n",
      "Epoch 73/100\n",
      "1/1 [==============================] - 0s 3ms/step - loss: 0.5458 - mae: 0.5458\n",
      "Epoch 74/100\n",
      "1/1 [==============================] - 0s 4ms/step - loss: 0.4744 - mae: 0.4744\n",
      "Epoch 75/100\n",
      "1/1 [==============================] - 0s 4ms/step - loss: 0.4019 - mae: 0.4019\n",
      "Epoch 76/100\n",
      "1/1 [==============================] - 0s 3ms/step - loss: 0.1893 - mae: 0.1893\n",
      "Epoch 77/100\n",
      "1/1 [==============================] - 0s 4ms/step - loss: 0.3068 - mae: 0.3068\n",
      "Epoch 78/100\n",
      "1/1 [==============================] - 0s 4ms/step - loss: 0.4912 - mae: 0.4912\n",
      "Epoch 79/100\n",
      "1/1 [==============================] - 0s 3ms/step - loss: 0.4933 - mae: 0.4933\n",
      "Epoch 80/100\n",
      "1/1 [==============================] - 0s 4ms/step - loss: 0.3445 - mae: 0.3445\n",
      "Epoch 81/100\n",
      "1/1 [==============================] - 0s 3ms/step - loss: 0.4954 - mae: 0.4954\n",
      "Epoch 82/100\n",
      "1/1 [==============================] - 0s 4ms/step - loss: 0.5198 - mae: 0.5198\n",
      "Epoch 83/100\n",
      "1/1 [==============================] - 0s 4ms/step - loss: 0.3070 - mae: 0.3070\n",
      "Epoch 84/100\n",
      "1/1 [==============================] - 0s 4ms/step - loss: 0.4114 - mae: 0.4114\n",
      "Epoch 85/100\n",
      "1/1 [==============================] - 0s 3ms/step - loss: 0.5012 - mae: 0.5012\n",
      "Epoch 86/100\n",
      "1/1 [==============================] - 0s 3ms/step - loss: 0.3563 - mae: 0.3563\n",
      "Epoch 87/100\n",
      "1/1 [==============================] - 0s 5ms/step - loss: 0.0786 - mae: 0.0786\n",
      "Epoch 88/100\n",
      "1/1 [==============================] - 0s 2ms/step - loss: 0.2062 - mae: 0.2062\n",
      "Epoch 89/100\n",
      "1/1 [==============================] - 0s 3ms/step - loss: 0.1255 - mae: 0.1255\n",
      "Epoch 90/100\n",
      "1/1 [==============================] - 0s 3ms/step - loss: 0.3342 - mae: 0.3342\n",
      "Epoch 91/100\n",
      "1/1 [==============================] - 0s 4ms/step - loss: 0.3322 - mae: 0.3322\n",
      "Epoch 92/100\n",
      "1/1 [==============================] - 0s 3ms/step - loss: 0.0614 - mae: 0.0614\n",
      "Epoch 93/100\n",
      "1/1 [==============================] - 0s 2ms/step - loss: 0.4186 - mae: 0.4186\n",
      "Epoch 94/100\n",
      "1/1 [==============================] - 0s 5ms/step - loss: 0.5454 - mae: 0.5454\n",
      "Epoch 95/100\n",
      "1/1 [==============================] - 0s 4ms/step - loss: 0.3808 - mae: 0.3808\n",
      "Epoch 96/100\n",
      "1/1 [==============================] - 0s 4ms/step - loss: 0.1362 - mae: 0.1362\n",
      "Epoch 97/100\n",
      "1/1 [==============================] - 0s 4ms/step - loss: 0.2749 - mae: 0.2749\n",
      "Epoch 98/100\n",
      "1/1 [==============================] - 0s 3ms/step - loss: 0.2204 - mae: 0.2204\n",
      "Epoch 99/100\n",
      "1/1 [==============================] - 0s 2ms/step - loss: 0.0923 - mae: 0.0923\n",
      "Epoch 100/100\n",
      "1/1 [==============================] - 0s 4ms/step - loss: 0.1219 - mae: 0.1219\n"
     ]
    },
    {
     "data": {
      "text/plain": [
       "<keras.callbacks.History at 0x1a302d344f0>"
      ]
     },
     "execution_count": 17,
     "metadata": {},
     "output_type": "execute_result"
    }
   ],
   "source": [
    "# Changes: improv1 + hidden layer with 50 layers + Cha\n",
    "\n",
    "# 1. Create a model\n",
    "improv_model2 = tf.keras.Sequential([\n",
    "    tf.keras.layers.Dense(50, activation=None),\n",
    "    tf.keras.layers.Dense(1)\n",
    "])\n",
    "\n",
    "# 2. Compile the model\n",
    "improv_model2.compile(loss = tf.losses.mae,\n",
    "                        optimizer = tf.optimizers.Adam(0.01),\n",
    "                        metrics = [\"mae\"])\n",
    "\n",
    "# 3. Fit the model\n",
    "improv_model2.fit(tf.expand_dims(X,axis=-1),y,epochs=100)"
   ]
  },
  {
   "cell_type": "code",
   "execution_count": 18,
   "metadata": {},
   "outputs": [
    {
     "name": "stdout",
     "output_type": "stream",
     "text": [
      "1/1 [==============================] - 0s 59ms/step\n"
     ]
    },
    {
     "data": {
      "text/plain": [
       "array([[26.724403]], dtype=float32)"
      ]
     },
     "execution_count": 18,
     "metadata": {},
     "output_type": "execute_result"
    }
   ],
   "source": [
    "improv_model2.predict([17.0])\n",
    "\n",
    "# Though our loss is lesser than before, its prediction is worse. This is due to overfitting.\n",
    "# Hence, our model has trained really well on training data, but on unseen data, its results are not good"
   ]
  },
  {
   "attachments": {},
   "cell_type": "markdown",
   "metadata": {},
   "source": [
    "### Evaluating a Model - Visualize, Visualize, Visualize\n",
    "* Visualize the data - What is the data you are working with? How does it look?\n",
    "* Visualize the model - What does our model look like?\n",
    "* Training of model - How does the model look while training?\n",
    "* Predictions of model - How the predictions of the model compare to the ground truth?\n"
   ]
  },
  {
   "cell_type": "code",
   "execution_count": 19,
   "metadata": {},
   "outputs": [
    {
     "data": {
      "text/plain": [
       "(<tf.Tensor: shape=(51,), dtype=int32, numpy=\n",
       " array([-100,  -96,  -92,  -88,  -84,  -80,  -76,  -72,  -68,  -64,  -60,\n",
       "         -56,  -52,  -48,  -44,  -40,  -36,  -32,  -28,  -24,  -20,  -16,\n",
       "         -12,   -8,   -4,    0,    4,    8,   12,   16,   20,   24,   28,\n",
       "          32,   36,   40,   44,   48,   52,   56,   60,   64,   68,   72,\n",
       "          76,   80,   84,   88,   92,   96,  100])>,\n",
       " <tf.Tensor: shape=(51,), dtype=int32, numpy=\n",
       " array([-90, -86, -82, -78, -74, -70, -66, -62, -58, -54, -50, -46, -42,\n",
       "        -38, -34, -30, -26, -22, -18, -14, -10,  -6,  -2,   2,   6,  10,\n",
       "         14,  18,  22,  26,  30,  34,  38,  42,  46,  50,  54,  58,  62,\n",
       "         66,  70,  74,  78,  82,  86,  90,  94,  98, 102, 106, 110])>)"
      ]
     },
     "execution_count": 19,
     "metadata": {},
     "output_type": "execute_result"
    }
   ],
   "source": [
    "# Make a larger dataset\n",
    "X = tf.range(-100,101,4)\n",
    "y = X+10\n",
    "X,y"
   ]
  },
  {
   "cell_type": "code",
   "execution_count": 22,
   "metadata": {},
   "outputs": [
    {
     "data": {
      "text/plain": [
       "<matplotlib.collections.PathCollection at 0x1a30e7b0c70>"
      ]
     },
     "execution_count": 22,
     "metadata": {},
     "output_type": "execute_result"
    },
    {
     "data": {
      "image/png": "[encoded data removed]",
      "text/plain": [
       "<Figure size 640x480 with 1 Axes>"
      ]
     },
     "metadata": {},
     "output_type": "display_data"
    }
   ],
   "source": [
    "# Visualize the data\n",
    "plt.plot(X,y)\n",
    "plt.scatter(X,y,color='r')"
   ]
  },
  {
   "cell_type": "code",
   "execution_count": null,
   "metadata": {},
   "outputs": [],
   "source": []
  }
 ],
 "metadata": {
  "kernelspec": {
   "display_name": "Python 3",
   "language": "python",
   "name": "python3"
  },
  "language_info": {
   "codemirror_mode": {
    "name": "ipython",
    "version": 3
   },
   "file_extension": ".py",
   "mimetype": "text/x-python",
   "name": "python",
   "nbconvert_exporter": "python",
   "pygments_lexer": "ipython3",
   "version": "3.10.7"
  },
  "orig_nbformat": 4
 },
 "nbformat": 4,
 "nbformat_minor": 2
}
