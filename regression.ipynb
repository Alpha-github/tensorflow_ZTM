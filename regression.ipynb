{
 "cells": [
  {
   "attachments": {},
   "cell_type": "markdown",
   "metadata": {},
   "source": [
    "# Introduction to Tensorflow Regression"
   ]
  },
  {
   "cell_type": "code",
   "execution_count": 82,
   "metadata": {},
   "outputs": [],
   "source": [
    "import tensorflow as tf\n",
    "import numpy as np\n",
    "import matplotlib.pyplot as plt\n",
    "import pandas as pd"
   ]
  },
  {
   "attachments": {},
   "cell_type": "markdown",
   "metadata": {},
   "source": [
    "### Creating Dataset"
   ]
  },
  {
   "cell_type": "code",
   "execution_count": 2,
   "metadata": {},
   "outputs": [
    {
     "data": {
      "text/plain": [
       "<matplotlib.collections.PathCollection at 0x1dd690fea10>"
      ]
     },
     "execution_count": 2,
     "metadata": {},
     "output_type": "execute_result"
    },
    {
     "data": {
      "image/png": "[encoded data removed]",
      "text/plain": [
       "<Figure size 640x480 with 1 Axes>"
      ]
     },
     "metadata": {},
     "output_type": "display_data"
    }
   ],
   "source": [
    "# Create features\n",
    "X = np.arange(-7,15,3,dtype=np.float16)\n",
    "\n",
    "# Create labels\n",
    "y = np.arange(3,25,3,dtype=np.float16)\n",
    "\n",
    "# Visualize\n",
    "plt.scatter(X,y)"
   ]
  },
  {
   "cell_type": "code",
   "execution_count": 3,
   "metadata": {},
   "outputs": [
    {
     "data": {
      "text/plain": [
       "array([ True,  True,  True,  True,  True,  True,  True,  True])"
      ]
     },
     "execution_count": 3,
     "metadata": {},
     "output_type": "execute_result"
    }
   ],
   "source": [
    "y == X+10"
   ]
  },
  {
   "attachments": {},
   "cell_type": "markdown",
   "metadata": {},
   "source": [
    "### Input and Output Shapes"
   ]
  },
  {
   "cell_type": "code",
   "execution_count": 4,
   "metadata": {},
   "outputs": [
    {
     "data": {
      "text/plain": [
       "((8,), (8,))"
      ]
     },
     "execution_count": 4,
     "metadata": {},
     "output_type": "execute_result"
    }
   ],
   "source": [
    "# Input and Output Shapes\n",
    "X.shape, y.shape"
   ]
  },
  {
   "cell_type": "code",
   "execution_count": 5,
   "metadata": {},
   "outputs": [
    {
     "data": {
      "text/plain": [
       "()"
      ]
     },
     "execution_count": 5,
     "metadata": {},
     "output_type": "execute_result"
    }
   ],
   "source": [
    "# Shape of one input element\n",
    "X[0].shape\n",
    "\n",
    "# Shape of one output element\n",
    "y[0].shape\n",
    "\n",
    "# NOTE: The shape is () since we are dealing with tensors"
   ]
  },
  {
   "cell_type": "code",
   "execution_count": 6,
   "metadata": {},
   "outputs": [
    {
     "data": {
      "text/plain": [
       "0"
      ]
     },
     "execution_count": 6,
     "metadata": {},
     "output_type": "execute_result"
    }
   ],
   "source": [
    "# Scalars have dimension 0\n",
    "X[0].ndim"
   ]
  },
  {
   "cell_type": "code",
   "execution_count": 7,
   "metadata": {},
   "outputs": [
    {
     "data": {
      "text/plain": [
       "(<tf.Tensor: shape=(8,), dtype=float16, numpy=array([-7., -4., -1.,  2.,  5.,  8., 11., 14.], dtype=float16)>,\n",
       " <tf.Tensor: shape=(8,), dtype=float16, numpy=array([ 3.,  6.,  9., 12., 15., 18., 21., 24.], dtype=float16)>)"
      ]
     },
     "execution_count": 7,
     "metadata": {},
     "output_type": "execute_result"
    }
   ],
   "source": [
    "# Turn our NumPy arrays into tensors with dtype float32\n",
    "X = tf.constant(X)\n",
    "y = tf.constant(y)\n",
    "X,y"
   ]
  },
  {
   "cell_type": "code",
   "execution_count": 8,
   "metadata": {},
   "outputs": [
    {
     "data": {
      "text/plain": [
       "(TensorShape([]), TensorShape([]))"
      ]
     },
     "execution_count": 8,
     "metadata": {},
     "output_type": "execute_result"
    }
   ],
   "source": [
    "input_shape = X[0].shape\n",
    "output_shape = y[0].shape\n",
    "input_shape,output_shape"
   ]
  },
  {
   "cell_type": "code",
   "execution_count": 9,
   "metadata": {},
   "outputs": [
    {
     "data": {
      "text/plain": [
       "<matplotlib.collections.PathCollection at 0x1dd21b39390>"
      ]
     },
     "execution_count": 9,
     "metadata": {},
     "output_type": "execute_result"
    },
    {
     "data": {
      "image/png": "[encoded data removed]",
      "text/plain": [
       "<Figure size 640x480 with 1 Axes>"
      ]
     },
     "metadata": {},
     "output_type": "display_data"
    }
   ],
   "source": [
    "plt.scatter(X,y)"
   ]
  },
  {
   "attachments": {},
   "cell_type": "markdown",
   "metadata": {},
   "source": [
    "### Modelling with TF  - Experiment, Experiment, Experiment\n",
    "1. Creating a model - define input and output layers, and the hidde layers of the NN\n",
    "2. Compiling the model - Define the loss functions, optimizer and evaluation metrics\n",
    "3. Fitting the model - Letting the model find the patterns between X & y (Features and labels)"
   ]
  },
  {
   "attachments": {},
   "cell_type": "markdown",
   "metadata": {},
   "source": [
    "Method 1:\n",
    "- Add layers after creating a model from Sequential class"
   ]
  },
  {
   "cell_type": "code",
   "execution_count": 10,
   "metadata": {},
   "outputs": [
    {
     "name": "stdout",
     "output_type": "stream",
     "text": [
      "Epoch 1/10\n",
      "1/1 [==============================] - 1s 1s/step - loss: 18.2598 - mae: 18.2598\n",
      "Epoch 2/10\n",
      "1/1 [==============================] - 0s 4ms/step - loss: 17.9785 - mae: 17.9785\n",
      "Epoch 3/10\n",
      "1/1 [==============================] - 0s 4ms/step - loss: 17.6973 - mae: 17.6973\n",
      "Epoch 4/10\n",
      "1/1 [==============================] - 0s 4ms/step - loss: 17.4160 - mae: 17.4160\n",
      "Epoch 5/10\n",
      "1/1 [==============================] - 0s 4ms/step - loss: 17.1348 - mae: 17.1348\n",
      "Epoch 6/10\n",
      "1/1 [==============================] - 0s 3ms/step - loss: 16.8535 - mae: 16.8535\n",
      "Epoch 7/10\n",
      "1/1 [==============================] - 0s 4ms/step - loss: 16.5723 - mae: 16.5723\n",
      "Epoch 8/10\n",
      "1/1 [==============================] - 0s 3ms/step - loss: 16.2910 - mae: 16.2910\n",
      "Epoch 9/10\n",
      "1/1 [==============================] - 0s 4ms/step - loss: 16.0098 - mae: 16.0098\n",
      "Epoch 10/10\n",
      "1/1 [==============================] - 0s 4ms/step - loss: 15.7285 - mae: 15.7285\n"
     ]
    },
    {
     "data": {
      "text/plain": [
       "<keras.callbacks.History at 0x1dd00377490>"
      ]
     },
     "execution_count": 10,
     "metadata": {},
     "output_type": "execute_result"
    }
   ],
   "source": [
    "# Set random seed\n",
    "tf.random.set_seed(42)\n",
    "\n",
    "# 1. Create a model with Sequential\n",
    "model_1 = tf.keras.Sequential()\n",
    "model_1.add(tf.keras.layers.Dense(1, input_shape=(1,)))\n",
    "\n",
    "# 2. Compile the model\n",
    "model_1.compile(loss=tf.keras.losses.mae, # mae is mean absolute error\n",
    "                optimizer=tf.keras.optimizers.SGD(), # SGD is stochastic gradient descent\n",
    "                metrics=[\"mae\"])\n",
    "\n",
    "# 3. Fit the model\n",
    "model_1.fit(X,y,epochs=10)"
   ]
  },
  {
   "attachments": {},
   "cell_type": "markdown",
   "metadata": {},
   "source": [
    "Method 2:\n",
    "- Add the layers in the Sequential API while creating the model itself"
   ]
  },
  {
   "cell_type": "code",
   "execution_count": 11,
   "metadata": {},
   "outputs": [
    {
     "name": "stdout",
     "output_type": "stream",
     "text": [
      "Epoch 1/10\n",
      "1/1 [==============================] - 0s 165ms/step - loss: 17.3107 - mae: 17.3107\n",
      "Epoch 2/10\n",
      "1/1 [==============================] - 0s 3ms/step - loss: 17.0295 - mae: 17.0295\n",
      "Epoch 3/10\n",
      "1/1 [==============================] - 0s 2ms/step - loss: 16.7482 - mae: 16.7482\n",
      "Epoch 4/10\n",
      "1/1 [==============================] - 0s 2ms/step - loss: 16.4670 - mae: 16.4670\n",
      "Epoch 5/10\n",
      "1/1 [==============================] - 0s 2ms/step - loss: 16.1857 - mae: 16.1857\n",
      "Epoch 6/10\n",
      "1/1 [==============================] - 0s 3ms/step - loss: 15.9045 - mae: 15.9045\n",
      "Epoch 7/10\n",
      "1/1 [==============================] - 0s 3ms/step - loss: 15.6232 - mae: 15.6232\n",
      "Epoch 8/10\n",
      "1/1 [==============================] - 0s 3ms/step - loss: 15.3420 - mae: 15.3420\n",
      "Epoch 9/10\n",
      "1/1 [==============================] - 0s 3ms/step - loss: 15.0607 - mae: 15.0607\n",
      "Epoch 10/10\n",
      "1/1 [==============================] - 0s 3ms/step - loss: 14.8192 - mae: 14.8192\n"
     ]
    },
    {
     "data": {
      "text/plain": [
       "<keras.callbacks.History at 0x1dd0f82bac0>"
      ]
     },
     "execution_count": 11,
     "metadata": {},
     "output_type": "execute_result"
    }
   ],
   "source": [
    "# Set random seed\n",
    "tf.random.set_seed(42)\n",
    "\n",
    "# 1. Create a model using the Sequential API\n",
    "model_2 = tf.keras.Sequential([\n",
    "    tf.keras.layers.Dense(1,input_shape = (1,)) # It is 1, since we pass only 1 data pt\n",
    "])\n",
    "\n",
    "# 2. Compile the model\n",
    "model_2.compile(loss=tf.keras.losses.mae, # mae is mean absolute error\n",
    "                optimizer=tf.keras.optimizers.SGD(), # SGD is stochastic gradient descent\n",
    "                metrics=[\"mae\"])\n",
    "\n",
    "# 3. Fit the model\n",
    "model_2.fit(X,y,epochs=10)"
   ]
  },
  {
   "attachments": {},
   "cell_type": "markdown",
   "metadata": {},
   "source": [
    "#### Predict using the trained Model"
   ]
  },
  {
   "cell_type": "code",
   "execution_count": 12,
   "metadata": {},
   "outputs": [
    {
     "name": "stdout",
     "output_type": "stream",
     "text": [
      "1/1 [==============================] - 0s 64ms/step\n",
      "1/1 [==============================] - 0s 49ms/step\n"
     ]
    },
    {
     "data": {
      "text/plain": [
       "(array([[-8.84117]], dtype=float32), array([[-6.0630684]], dtype=float32))"
      ]
     },
     "execution_count": 12,
     "metadata": {},
     "output_type": "execute_result"
    }
   ],
   "source": [
    "model_1.predict([17.0]), model_2.predict([17.0])"
   ]
  },
  {
   "attachments": {},
   "cell_type": "markdown",
   "metadata": {},
   "source": [
    "### Improving the Model\n",
    "- We can improve our model by modifying the steps we took to create a model\n",
    "\n",
    "1. **Creating a model** \n",
    "    - Add more layers\n",
    "    - Increase the number of neurons in the layers\n",
    "    - Change the activation function in a each layer\n",
    "2. **Compiling a model**\n",
    "    - Change the optimizer\n",
    "    - Change the loss function\n",
    "    - Change the *learning rate* of optimizer\n",
    "3. **Fitting a model**\n",
    "    - Change the number of epochs\n",
    "    - Provide more data to learn from"
   ]
  },
  {
   "cell_type": "code",
   "execution_count": 13,
   "metadata": {},
   "outputs": [
    {
     "name": "stdout",
     "output_type": "stream",
     "text": [
      "Epoch 1/100\n",
      "1/1 [==============================] - 0s 167ms/step - loss: 10.4918 - mae: 10.4918\n",
      "Epoch 2/100\n",
      "1/1 [==============================] - 0s 3ms/step - loss: 10.3593 - mae: 10.3593\n",
      "Epoch 3/100\n",
      "1/1 [==============================] - 0s 3ms/step - loss: 10.2268 - mae: 10.2268\n",
      "Epoch 4/100\n",
      "1/1 [==============================] - 0s 4ms/step - loss: 10.0943 - mae: 10.0943\n",
      "Epoch 5/100\n",
      "1/1 [==============================] - 0s 4ms/step - loss: 9.9618 - mae: 9.9618\n",
      "Epoch 6/100\n",
      "1/1 [==============================] - 0s 3ms/step - loss: 9.8293 - mae: 9.8293\n",
      "Epoch 7/100\n",
      "1/1 [==============================] - 0s 2ms/step - loss: 9.6968 - mae: 9.6968\n",
      "Epoch 8/100\n",
      "1/1 [==============================] - 0s 3ms/step - loss: 9.5643 - mae: 9.5643\n",
      "Epoch 9/100\n",
      "1/1 [==============================] - 0s 4ms/step - loss: 9.4318 - mae: 9.4318\n",
      "Epoch 10/100\n",
      "1/1 [==============================] - 0s 3ms/step - loss: 9.2993 - mae: 9.2993\n",
      "Epoch 11/100\n",
      "1/1 [==============================] - 0s 5ms/step - loss: 9.1668 - mae: 9.1668\n",
      "Epoch 12/100\n",
      "1/1 [==============================] - 0s 2ms/step - loss: 9.0343 - mae: 9.0343\n",
      "Epoch 13/100\n",
      "1/1 [==============================] - 0s 2ms/step - loss: 8.9018 - mae: 8.9018\n",
      "Epoch 14/100\n",
      "1/1 [==============================] - 0s 3ms/step - loss: 8.7693 - mae: 8.7693\n",
      "Epoch 15/100\n",
      "1/1 [==============================] - 0s 3ms/step - loss: 8.6368 - mae: 8.6368\n",
      "Epoch 16/100\n",
      "1/1 [==============================] - 0s 2ms/step - loss: 8.5043 - mae: 8.5043\n",
      "Epoch 17/100\n",
      "1/1 [==============================] - 0s 3ms/step - loss: 8.3718 - mae: 8.3718\n",
      "Epoch 18/100\n",
      "1/1 [==============================] - 0s 2ms/step - loss: 8.2393 - mae: 8.2393\n",
      "Epoch 19/100\n",
      "1/1 [==============================] - 0s 5ms/step - loss: 8.1068 - mae: 8.1068\n",
      "Epoch 20/100\n",
      "1/1 [==============================] - 0s 2ms/step - loss: 7.9743 - mae: 7.9743\n",
      "Epoch 21/100\n",
      "1/1 [==============================] - 0s 2ms/step - loss: 7.8418 - mae: 7.8418\n",
      "Epoch 22/100\n",
      "1/1 [==============================] - 0s 2ms/step - loss: 7.7093 - mae: 7.7093\n",
      "Epoch 23/100\n",
      "1/1 [==============================] - 0s 3ms/step - loss: 7.5768 - mae: 7.5768\n",
      "Epoch 24/100\n",
      "1/1 [==============================] - 0s 2ms/step - loss: 7.4443 - mae: 7.4443\n",
      "Epoch 25/100\n",
      "1/1 [==============================] - 0s 3ms/step - loss: 7.3200 - mae: 7.3200\n",
      "Epoch 26/100\n",
      "1/1 [==============================] - 0s 3ms/step - loss: 7.3144 - mae: 7.3144\n",
      "Epoch 27/100\n",
      "1/1 [==============================] - 0s 4ms/step - loss: 7.3088 - mae: 7.3088\n",
      "Epoch 28/100\n",
      "1/1 [==============================] - 0s 3ms/step - loss: 7.3031 - mae: 7.3031\n",
      "Epoch 29/100\n",
      "1/1 [==============================] - 0s 3ms/step - loss: 7.2975 - mae: 7.2975\n",
      "Epoch 30/100\n",
      "1/1 [==============================] - 0s 3ms/step - loss: 7.2919 - mae: 7.2919\n",
      "Epoch 31/100\n",
      "1/1 [==============================] - 0s 2ms/step - loss: 7.2863 - mae: 7.2863\n",
      "Epoch 32/100\n",
      "1/1 [==============================] - 0s 3ms/step - loss: 7.2806 - mae: 7.2806\n",
      "Epoch 33/100\n",
      "1/1 [==============================] - 0s 5ms/step - loss: 7.2750 - mae: 7.2750\n",
      "Epoch 34/100\n",
      "1/1 [==============================] - 0s 4ms/step - loss: 7.2694 - mae: 7.2694\n",
      "Epoch 35/100\n",
      "1/1 [==============================] - 0s 3ms/step - loss: 7.2638 - mae: 7.2638\n",
      "Epoch 36/100\n",
      "1/1 [==============================] - 0s 4ms/step - loss: 7.2581 - mae: 7.2581\n",
      "Epoch 37/100\n",
      "1/1 [==============================] - 0s 2ms/step - loss: 7.2525 - mae: 7.2525\n",
      "Epoch 38/100\n",
      "1/1 [==============================] - 0s 3ms/step - loss: 7.2469 - mae: 7.2469\n",
      "Epoch 39/100\n",
      "1/1 [==============================] - 0s 3ms/step - loss: 7.2413 - mae: 7.2413\n",
      "Epoch 40/100\n",
      "1/1 [==============================] - 0s 3ms/step - loss: 7.2356 - mae: 7.2356\n",
      "Epoch 41/100\n",
      "1/1 [==============================] - 0s 3ms/step - loss: 7.2300 - mae: 7.2300\n",
      "Epoch 42/100\n",
      "1/1 [==============================] - 0s 4ms/step - loss: 7.2244 - mae: 7.2244\n",
      "Epoch 43/100\n",
      "1/1 [==============================] - 0s 3ms/step - loss: 7.2188 - mae: 7.2188\n",
      "Epoch 44/100\n",
      "1/1 [==============================] - 0s 4ms/step - loss: 7.2131 - mae: 7.2131\n",
      "Epoch 45/100\n",
      "1/1 [==============================] - 0s 5ms/step - loss: 7.2075 - mae: 7.2075\n",
      "Epoch 46/100\n",
      "1/1 [==============================] - 0s 3ms/step - loss: 7.2019 - mae: 7.2019\n",
      "Epoch 47/100\n",
      "1/1 [==============================] - 0s 3ms/step - loss: 7.1963 - mae: 7.1963\n",
      "Epoch 48/100\n",
      "1/1 [==============================] - 0s 4ms/step - loss: 7.1906 - mae: 7.1906\n",
      "Epoch 49/100\n",
      "1/1 [==============================] - 0s 3ms/step - loss: 7.1850 - mae: 7.1850\n",
      "Epoch 50/100\n",
      "1/1 [==============================] - 0s 3ms/step - loss: 7.1794 - mae: 7.1794\n",
      "Epoch 51/100\n",
      "1/1 [==============================] - 0s 6ms/step - loss: 7.1738 - mae: 7.1738\n",
      "Epoch 52/100\n",
      "1/1 [==============================] - 0s 3ms/step - loss: 7.1681 - mae: 7.1681\n",
      "Epoch 53/100\n",
      "1/1 [==============================] - 0s 3ms/step - loss: 7.1625 - mae: 7.1625\n",
      "Epoch 54/100\n",
      "1/1 [==============================] - 0s 3ms/step - loss: 7.1569 - mae: 7.1569\n",
      "Epoch 55/100\n",
      "1/1 [==============================] - 0s 3ms/step - loss: 7.1512 - mae: 7.1512\n",
      "Epoch 56/100\n",
      "1/1 [==============================] - 0s 3ms/step - loss: 7.1456 - mae: 7.1456\n",
      "Epoch 57/100\n",
      "1/1 [==============================] - 0s 2ms/step - loss: 7.1400 - mae: 7.1400\n",
      "Epoch 58/100\n",
      "1/1 [==============================] - 0s 4ms/step - loss: 7.1344 - mae: 7.1344\n",
      "Epoch 59/100\n",
      "1/1 [==============================] - 0s 3ms/step - loss: 7.1288 - mae: 7.1288\n",
      "Epoch 60/100\n",
      "1/1 [==============================] - 0s 3ms/step - loss: 7.1231 - mae: 7.1231\n",
      "Epoch 61/100\n",
      "1/1 [==============================] - 0s 4ms/step - loss: 7.1175 - mae: 7.1175\n",
      "Epoch 62/100\n",
      "1/1 [==============================] - 0s 3ms/step - loss: 7.1119 - mae: 7.1119\n",
      "Epoch 63/100\n",
      "1/1 [==============================] - 0s 4ms/step - loss: 7.1063 - mae: 7.1063\n",
      "Epoch 64/100\n",
      "1/1 [==============================] - 0s 5ms/step - loss: 7.1006 - mae: 7.1006\n",
      "Epoch 65/100\n",
      "1/1 [==============================] - 0s 2ms/step - loss: 7.0950 - mae: 7.0950\n",
      "Epoch 66/100\n",
      "1/1 [==============================] - 0s 2ms/step - loss: 7.0894 - mae: 7.0894\n",
      "Epoch 67/100\n",
      "1/1 [==============================] - 0s 3ms/step - loss: 7.0838 - mae: 7.0838\n",
      "Epoch 68/100\n",
      "1/1 [==============================] - 0s 4ms/step - loss: 7.0781 - mae: 7.0781\n",
      "Epoch 69/100\n",
      "1/1 [==============================] - 0s 3ms/step - loss: 7.0725 - mae: 7.0725\n",
      "Epoch 70/100\n",
      "1/1 [==============================] - 0s 3ms/step - loss: 7.0669 - mae: 7.0669\n",
      "Epoch 71/100\n",
      "1/1 [==============================] - 0s 5ms/step - loss: 7.0612 - mae: 7.0612\n",
      "Epoch 72/100\n",
      "1/1 [==============================] - 0s 3ms/step - loss: 7.0556 - mae: 7.0556\n",
      "Epoch 73/100\n",
      "1/1 [==============================] - 0s 4ms/step - loss: 7.0500 - mae: 7.0500\n",
      "Epoch 74/100\n",
      "1/1 [==============================] - 0s 3ms/step - loss: 7.0444 - mae: 7.0444\n",
      "Epoch 75/100\n",
      "1/1 [==============================] - 0s 3ms/step - loss: 7.0388 - mae: 7.0388\n",
      "Epoch 76/100\n",
      "1/1 [==============================] - 0s 3ms/step - loss: 7.0331 - mae: 7.0331\n",
      "Epoch 77/100\n",
      "1/1 [==============================] - 0s 3ms/step - loss: 7.0275 - mae: 7.0275\n",
      "Epoch 78/100\n",
      "1/1 [==============================] - 0s 4ms/step - loss: 7.0219 - mae: 7.0219\n",
      "Epoch 79/100\n",
      "1/1 [==============================] - 0s 3ms/step - loss: 7.0163 - mae: 7.0163\n",
      "Epoch 80/100\n",
      "1/1 [==============================] - 0s 4ms/step - loss: 7.0106 - mae: 7.0106\n",
      "Epoch 81/100\n",
      "1/1 [==============================] - 0s 3ms/step - loss: 7.0050 - mae: 7.0050\n",
      "Epoch 82/100\n",
      "1/1 [==============================] - 0s 2ms/step - loss: 6.9994 - mae: 6.9994\n",
      "Epoch 83/100\n",
      "1/1 [==============================] - 0s 3ms/step - loss: 6.9938 - mae: 6.9938\n",
      "Epoch 84/100\n",
      "1/1 [==============================] - 0s 3ms/step - loss: 6.9881 - mae: 6.9881\n",
      "Epoch 85/100\n",
      "1/1 [==============================] - 0s 3ms/step - loss: 6.9825 - mae: 6.9825\n",
      "Epoch 86/100\n",
      "1/1 [==============================] - 0s 2ms/step - loss: 6.9769 - mae: 6.9769\n",
      "Epoch 87/100\n",
      "1/1 [==============================] - 0s 2ms/step - loss: 6.9713 - mae: 6.9713\n",
      "Epoch 88/100\n",
      "1/1 [==============================] - 0s 2ms/step - loss: 6.9656 - mae: 6.9656\n",
      "Epoch 89/100\n",
      "1/1 [==============================] - 0s 2ms/step - loss: 6.9600 - mae: 6.9600\n",
      "Epoch 90/100\n",
      "1/1 [==============================] - 0s 2ms/step - loss: 6.9544 - mae: 6.9544\n",
      "Epoch 91/100\n",
      "1/1 [==============================] - 0s 2ms/step - loss: 6.9488 - mae: 6.9488\n",
      "Epoch 92/100\n",
      "1/1 [==============================] - 0s 3ms/step - loss: 6.9431 - mae: 6.9431\n",
      "Epoch 93/100\n",
      "1/1 [==============================] - 0s 3ms/step - loss: 6.9375 - mae: 6.9375\n",
      "Epoch 94/100\n",
      "1/1 [==============================] - 0s 3ms/step - loss: 6.9319 - mae: 6.9319\n",
      "Epoch 95/100\n",
      "1/1 [==============================] - 0s 3ms/step - loss: 6.9263 - mae: 6.9263\n",
      "Epoch 96/100\n",
      "1/1 [==============================] - 0s 3ms/step - loss: 6.9206 - mae: 6.9206\n",
      "Epoch 97/100\n",
      "1/1 [==============================] - 0s 3ms/step - loss: 6.9150 - mae: 6.9150\n",
      "Epoch 98/100\n",
      "1/1 [==============================] - 0s 3ms/step - loss: 6.9094 - mae: 6.9094\n",
      "Epoch 99/100\n",
      "1/1 [==============================] - 0s 3ms/step - loss: 6.9038 - mae: 6.9038\n",
      "Epoch 100/100\n",
      "1/1 [==============================] - 0s 4ms/step - loss: 6.8981 - mae: 6.8981\n"
     ]
    },
    {
     "data": {
      "text/plain": [
       "<keras.callbacks.History at 0x1dd1bfd9a50>"
      ]
     },
     "execution_count": 13,
     "metadata": {},
     "output_type": "execute_result"
    }
   ],
   "source": [
    "# Changes: Increase number of epochs\n",
    "\n",
    "# 1. create the model\n",
    "improv_model1 = tf.keras.Sequential([\n",
    "    tf.keras.layers.Dense(1)\n",
    "])\n",
    "\n",
    "# 2. Compile the model\n",
    "improv_model1.compile(loss=tf.keras.losses.mae,\n",
    "                        optimizer=tf.keras.optimizers.SGD(),\n",
    "                        metrics = [\"mae\"])\n",
    "\n",
    "# 3. Fit the model\n",
    "improv_model1.fit(tf.expand_dims(X, axis=-1),y,epochs=100)"
   ]
  },
  {
   "cell_type": "code",
   "execution_count": 14,
   "metadata": {},
   "outputs": [
    {
     "name": "stdout",
     "output_type": "stream",
     "text": [
      "1/1 [==============================] - 0s 51ms/step\n"
     ]
    },
    {
     "data": {
      "text/plain": [
       "array([[29.70136]], dtype=float32)"
      ]
     },
     "execution_count": 14,
     "metadata": {},
     "output_type": "execute_result"
    }
   ],
   "source": [
    "improv_model1.predict([17.0])"
   ]
  },
  {
   "attachments": {},
   "cell_type": "markdown",
   "metadata": {},
   "source": [
    "##### `NOTE`: Common ways to better our DL model:\n",
    "- Increase number of layers\n",
    "- Increase anumber of neurons in each layer\n",
    "- Change optimizer\n",
    "- Change Learning Rate (The most hyperparam for most NN)\n",
    "- Fitting on more data\n",
    "- Fitting for more epochs"
   ]
  },
  {
   "cell_type": "code",
   "execution_count": 15,
   "metadata": {},
   "outputs": [
    {
     "name": "stdout",
     "output_type": "stream",
     "text": [
      "Epoch 1/100\n",
      "1/1 [==============================] - 0s 225ms/step - loss: 13.4840 - mae: 13.4840\n",
      "Epoch 2/100\n",
      "1/1 [==============================] - 0s 3ms/step - loss: 12.7695 - mae: 12.7695\n",
      "Epoch 3/100\n",
      "1/1 [==============================] - 0s 4ms/step - loss: 12.0565 - mae: 12.0565\n",
      "Epoch 4/100\n",
      "1/1 [==============================] - 0s 4ms/step - loss: 11.3392 - mae: 11.3392\n",
      "Epoch 5/100\n",
      "1/1 [==============================] - 0s 3ms/step - loss: 10.6147 - mae: 10.6147\n",
      "Epoch 6/100\n",
      "1/1 [==============================] - 0s 3ms/step - loss: 9.8813 - mae: 9.8813\n",
      "Epoch 7/100\n",
      "1/1 [==============================] - 0s 4ms/step - loss: 9.1373 - mae: 9.1373\n",
      "Epoch 8/100\n",
      "1/1 [==============================] - 0s 3ms/step - loss: 8.3808 - mae: 8.3808\n",
      "Epoch 9/100\n",
      "1/1 [==============================] - 0s 2ms/step - loss: 7.6093 - mae: 7.6093\n",
      "Epoch 10/100\n",
      "1/1 [==============================] - 0s 2ms/step - loss: 6.8202 - mae: 6.8202\n",
      "Epoch 11/100\n",
      "1/1 [==============================] - 0s 4ms/step - loss: 6.7148 - mae: 6.7148\n",
      "Epoch 12/100\n",
      "1/1 [==============================] - 0s 3ms/step - loss: 7.0551 - mae: 7.0551\n",
      "Epoch 13/100\n",
      "1/1 [==============================] - 0s 4ms/step - loss: 7.2781 - mae: 7.2781\n",
      "Epoch 14/100\n",
      "1/1 [==============================] - 0s 3ms/step - loss: 7.5367 - mae: 7.5367\n",
      "Epoch 15/100\n",
      "1/1 [==============================] - 0s 3ms/step - loss: 7.5723 - mae: 7.5723\n",
      "Epoch 16/100\n",
      "1/1 [==============================] - 0s 4ms/step - loss: 7.4262 - mae: 7.4262\n",
      "Epoch 17/100\n",
      "1/1 [==============================] - 0s 5ms/step - loss: 7.1426 - mae: 7.1426\n",
      "Epoch 18/100\n",
      "1/1 [==============================] - 0s 4ms/step - loss: 6.8328 - mae: 6.8328\n",
      "Epoch 19/100\n",
      "1/1 [==============================] - 0s 2ms/step - loss: 6.5669 - mae: 6.5669\n",
      "Epoch 20/100\n",
      "1/1 [==============================] - 0s 3ms/step - loss: 6.2869 - mae: 6.2869\n",
      "Epoch 21/100\n",
      "1/1 [==============================] - 0s 3ms/step - loss: 6.0330 - mae: 6.0330\n",
      "Epoch 22/100\n",
      "1/1 [==============================] - 0s 3ms/step - loss: 5.9849 - mae: 5.9849\n",
      "Epoch 23/100\n",
      "1/1 [==============================] - 0s 4ms/step - loss: 5.9473 - mae: 5.9473\n",
      "Epoch 24/100\n",
      "1/1 [==============================] - 0s 4ms/step - loss: 6.0159 - mae: 6.0159\n",
      "Epoch 25/100\n",
      "1/1 [==============================] - 0s 3ms/step - loss: 5.9830 - mae: 5.9830\n",
      "Epoch 26/100\n",
      "1/1 [==============================] - 0s 4ms/step - loss: 5.8609 - mae: 5.8609\n",
      "Epoch 27/100\n",
      "1/1 [==============================] - 0s 3ms/step - loss: 5.6587 - mae: 5.6587\n",
      "Epoch 28/100\n",
      "1/1 [==============================] - 0s 4ms/step - loss: 5.5104 - mae: 5.5104\n",
      "Epoch 29/100\n",
      "1/1 [==============================] - 0s 3ms/step - loss: 5.4037 - mae: 5.4037\n",
      "Epoch 30/100\n",
      "1/1 [==============================] - 0s 5ms/step - loss: 5.2937 - mae: 5.2937\n",
      "Epoch 31/100\n",
      "1/1 [==============================] - 0s 3ms/step - loss: 5.2918 - mae: 5.2918\n",
      "Epoch 32/100\n",
      "1/1 [==============================] - 0s 4ms/step - loss: 5.2640 - mae: 5.2640\n",
      "Epoch 33/100\n",
      "1/1 [==============================] - 0s 3ms/step - loss: 5.1932 - mae: 5.1932\n",
      "Epoch 34/100\n",
      "1/1 [==============================] - 0s 3ms/step - loss: 5.0828 - mae: 5.0828\n",
      "Epoch 35/100\n",
      "1/1 [==============================] - 0s 3ms/step - loss: 4.9360 - mae: 4.9360\n",
      "Epoch 36/100\n",
      "1/1 [==============================] - 0s 3ms/step - loss: 4.7560 - mae: 4.7560\n",
      "Epoch 37/100\n",
      "1/1 [==============================] - 0s 5ms/step - loss: 4.5780 - mae: 4.5780\n",
      "Epoch 38/100\n",
      "1/1 [==============================] - 0s 4ms/step - loss: 4.4776 - mae: 4.4776\n",
      "Epoch 39/100\n",
      "1/1 [==============================] - 0s 3ms/step - loss: 4.3695 - mae: 4.3695\n",
      "Epoch 40/100\n",
      "1/1 [==============================] - 0s 2ms/step - loss: 4.2539 - mae: 4.2539\n",
      "Epoch 41/100\n",
      "1/1 [==============================] - 0s 5ms/step - loss: 4.1749 - mae: 4.1749\n",
      "Epoch 42/100\n",
      "1/1 [==============================] - 0s 5ms/step - loss: 4.0079 - mae: 4.0079\n",
      "Epoch 43/100\n",
      "1/1 [==============================] - 0s 7ms/step - loss: 3.8322 - mae: 3.8322\n",
      "Epoch 44/100\n",
      "1/1 [==============================] - 0s 6ms/step - loss: 3.6679 - mae: 3.6679\n",
      "Epoch 45/100\n",
      "1/1 [==============================] - 0s 4ms/step - loss: 3.5219 - mae: 3.5219\n",
      "Epoch 46/100\n",
      "1/1 [==============================] - 0s 5ms/step - loss: 3.4066 - mae: 3.4066\n",
      "Epoch 47/100\n",
      "1/1 [==============================] - 0s 3ms/step - loss: 3.2393 - mae: 3.2393\n",
      "Epoch 48/100\n",
      "1/1 [==============================] - 0s 5ms/step - loss: 3.0226 - mae: 3.0226\n",
      "Epoch 49/100\n",
      "1/1 [==============================] - 0s 4ms/step - loss: 2.8392 - mae: 2.8392\n",
      "Epoch 50/100\n",
      "1/1 [==============================] - 0s 3ms/step - loss: 2.6666 - mae: 2.6666\n",
      "Epoch 51/100\n",
      "1/1 [==============================] - 0s 4ms/step - loss: 2.5512 - mae: 2.5512\n",
      "Epoch 52/100\n",
      "1/1 [==============================] - 0s 3ms/step - loss: 2.3163 - mae: 2.3163\n",
      "Epoch 53/100\n",
      "1/1 [==============================] - 0s 2ms/step - loss: 2.0491 - mae: 2.0491\n",
      "Epoch 54/100\n",
      "1/1 [==============================] - 0s 8ms/step - loss: 1.8880 - mae: 1.8880\n",
      "Epoch 55/100\n",
      "1/1 [==============================] - 0s 4ms/step - loss: 1.7172 - mae: 1.7172\n",
      "Epoch 56/100\n",
      "1/1 [==============================] - 0s 4ms/step - loss: 1.4795 - mae: 1.4795\n",
      "Epoch 57/100\n",
      "1/1 [==============================] - 0s 3ms/step - loss: 1.1780 - mae: 1.1780\n",
      "Epoch 58/100\n",
      "1/1 [==============================] - 0s 2ms/step - loss: 0.8842 - mae: 0.8842\n",
      "Epoch 59/100\n",
      "1/1 [==============================] - 0s 3ms/step - loss: 0.6533 - mae: 0.6533\n",
      "Epoch 60/100\n",
      "1/1 [==============================] - 0s 4ms/step - loss: 0.3840 - mae: 0.3840\n",
      "Epoch 61/100\n",
      "1/1 [==============================] - 0s 3ms/step - loss: 0.0974 - mae: 0.0974\n",
      "Epoch 62/100\n",
      "1/1 [==============================] - 0s 3ms/step - loss: 0.4119 - mae: 0.4119\n",
      "Epoch 63/100\n",
      "1/1 [==============================] - 0s 3ms/step - loss: 0.5392 - mae: 0.5392\n",
      "Epoch 64/100\n",
      "1/1 [==============================] - 0s 3ms/step - loss: 0.6662 - mae: 0.6662\n",
      "Epoch 65/100\n",
      "1/1 [==============================] - 0s 4ms/step - loss: 0.8138 - mae: 0.8138\n",
      "Epoch 66/100\n",
      "1/1 [==============================] - 0s 3ms/step - loss: 0.8125 - mae: 0.8125\n",
      "Epoch 67/100\n",
      "1/1 [==============================] - 0s 5ms/step - loss: 0.9129 - mae: 0.9129\n",
      "Epoch 68/100\n",
      "1/1 [==============================] - 0s 2ms/step - loss: 0.9317 - mae: 0.9317\n",
      "Epoch 69/100\n",
      "1/1 [==============================] - 0s 3ms/step - loss: 0.7911 - mae: 0.7911\n",
      "Epoch 70/100\n",
      "1/1 [==============================] - 0s 3ms/step - loss: 0.8109 - mae: 0.8109\n",
      "Epoch 71/100\n",
      "1/1 [==============================] - 0s 4ms/step - loss: 0.7449 - mae: 0.7449\n",
      "Epoch 72/100\n",
      "1/1 [==============================] - 0s 3ms/step - loss: 0.5016 - mae: 0.5016\n",
      "Epoch 73/100\n",
      "1/1 [==============================] - 0s 4ms/step - loss: 0.4923 - mae: 0.4923\n",
      "Epoch 74/100\n",
      "1/1 [==============================] - 0s 4ms/step - loss: 0.4258 - mae: 0.4258\n",
      "Epoch 75/100\n",
      "1/1 [==============================] - 0s 3ms/step - loss: 0.0881 - mae: 0.0881\n",
      "Epoch 76/100\n",
      "1/1 [==============================] - 0s 3ms/step - loss: 0.5178 - mae: 0.5178\n",
      "Epoch 77/100\n",
      "1/1 [==============================] - 0s 3ms/step - loss: 0.7293 - mae: 0.7293\n",
      "Epoch 78/100\n",
      "1/1 [==============================] - 0s 3ms/step - loss: 0.6692 - mae: 0.6692\n",
      "Epoch 79/100\n",
      "1/1 [==============================] - 0s 2ms/step - loss: 0.4366 - mae: 0.4366\n",
      "Epoch 80/100\n",
      "1/1 [==============================] - 0s 2ms/step - loss: 0.6315 - mae: 0.6315\n",
      "Epoch 81/100\n",
      "1/1 [==============================] - 0s 5ms/step - loss: 0.7616 - mae: 0.7616\n",
      "Epoch 82/100\n",
      "1/1 [==============================] - 0s 3ms/step - loss: 0.7317 - mae: 0.7317\n",
      "Epoch 83/100\n",
      "1/1 [==============================] - 0s 3ms/step - loss: 0.5588 - mae: 0.5588\n",
      "Epoch 84/100\n",
      "1/1 [==============================] - 0s 3ms/step - loss: 0.2713 - mae: 0.2713\n",
      "Epoch 85/100\n",
      "1/1 [==============================] - 0s 3ms/step - loss: 0.4304 - mae: 0.4304\n",
      "Epoch 86/100\n",
      "1/1 [==============================] - 0s 4ms/step - loss: 0.4316 - mae: 0.4316\n",
      "Epoch 87/100\n",
      "1/1 [==============================] - 0s 2ms/step - loss: 0.1636 - mae: 0.1636\n",
      "Epoch 88/100\n",
      "1/1 [==============================] - 0s 5ms/step - loss: 0.3662 - mae: 0.3662\n",
      "Epoch 89/100\n",
      "1/1 [==============================] - 0s 2ms/step - loss: 0.5520 - mae: 0.5520\n",
      "Epoch 90/100\n",
      "1/1 [==============================] - 0s 2ms/step - loss: 0.4773 - mae: 0.4773\n",
      "Epoch 91/100\n",
      "1/1 [==============================] - 0s 3ms/step - loss: 0.2291 - mae: 0.2291\n",
      "Epoch 92/100\n",
      "1/1 [==============================] - 0s 3ms/step - loss: 0.4433 - mae: 0.4433\n",
      "Epoch 93/100\n",
      "1/1 [==============================] - 0s 3ms/step - loss: 0.5608 - mae: 0.5608\n",
      "Epoch 94/100\n",
      "1/1 [==============================] - 0s 3ms/step - loss: 0.4742 - mae: 0.4742\n",
      "Epoch 95/100\n",
      "1/1 [==============================] - 0s 3ms/step - loss: 0.1263 - mae: 0.1263\n",
      "Epoch 96/100\n",
      "1/1 [==============================] - 0s 3ms/step - loss: 0.4450 - mae: 0.4450\n",
      "Epoch 97/100\n",
      "1/1 [==============================] - 0s 3ms/step - loss: 0.6911 - mae: 0.6911\n",
      "Epoch 98/100\n",
      "1/1 [==============================] - 0s 3ms/step - loss: 0.6563 - mae: 0.6563\n",
      "Epoch 99/100\n",
      "1/1 [==============================] - 0s 5ms/step - loss: 0.3956 - mae: 0.3956\n",
      "Epoch 100/100\n",
      "1/1 [==============================] - 0s 3ms/step - loss: 0.2020 - mae: 0.2020\n"
     ]
    },
    {
     "data": {
      "text/plain": [
       "<keras.callbacks.History at 0x1ddf87e78b0>"
      ]
     },
     "execution_count": 15,
     "metadata": {},
     "output_type": "execute_result"
    }
   ],
   "source": [
    "# Changes: improv1 + hidden layer with 50 layers + Cha\n",
    "\n",
    "# 1. Create a model\n",
    "improv_model2 = tf.keras.Sequential([\n",
    "    tf.keras.layers.Dense(50, activation=None),\n",
    "    tf.keras.layers.Dense(1)\n",
    "])\n",
    "\n",
    "# 2. Compile the model\n",
    "improv_model2.compile(loss = tf.losses.mae,\n",
    "                        optimizer = tf.optimizers.Adam(0.01),\n",
    "                        metrics = [\"mae\"])\n",
    "\n",
    "# 3. Fit the model\n",
    "improv_model2.fit(tf.expand_dims(X,axis=-1),y,epochs=100)"
   ]
  },
  {
   "cell_type": "code",
   "execution_count": 16,
   "metadata": {},
   "outputs": [
    {
     "name": "stdout",
     "output_type": "stream",
     "text": [
      "1/1 [==============================] - 0s 55ms/step\n"
     ]
    },
    {
     "data": {
      "text/plain": [
       "array([[28.01403]], dtype=float32)"
      ]
     },
     "execution_count": 16,
     "metadata": {},
     "output_type": "execute_result"
    }
   ],
   "source": [
    "improv_model2.predict([17.0])\n",
    "\n",
    "# Though our loss is lesser than before, its prediction is worse. This is due to overfitting.\n",
    "# Hence, our model has trained really well on training data, but on unseen data, its results are not good"
   ]
  },
  {
   "attachments": {},
   "cell_type": "markdown",
   "metadata": {},
   "source": [
    "### Evaluating a Model - Visualize, Visualize, Visualize\n",
    "* Visualize the data - What is the data you are working with? How does it look?\n",
    "* Visualize the model - What does our model look like?\n",
    "* Training of model - How does the model look while training?\n",
    "* Predictions of model - How the predictions of the model compare to the ground truth?\n"
   ]
  },
  {
   "cell_type": "code",
   "execution_count": 17,
   "metadata": {},
   "outputs": [
    {
     "data": {
      "text/plain": [
       "(<tf.Tensor: shape=(50,), dtype=int32, numpy=\n",
       " array([-100,  -96,  -92,  -88,  -84,  -80,  -76,  -72,  -68,  -64,  -60,\n",
       "         -56,  -52,  -48,  -44,  -40,  -36,  -32,  -28,  -24,  -20,  -16,\n",
       "         -12,   -8,   -4,    0,    4,    8,   12,   16,   20,   24,   28,\n",
       "          32,   36,   40,   44,   48,   52,   56,   60,   64,   68,   72,\n",
       "          76,   80,   84,   88,   92,   96])>,\n",
       " <tf.Tensor: shape=(50,), dtype=int32, numpy=\n",
       " array([-90, -86, -82, -78, -74, -70, -66, -62, -58, -54, -50, -46, -42,\n",
       "        -38, -34, -30, -26, -22, -18, -14, -10,  -6,  -2,   2,   6,  10,\n",
       "         14,  18,  22,  26,  30,  34,  38,  42,  46,  50,  54,  58,  62,\n",
       "         66,  70,  74,  78,  82,  86,  90,  94,  98, 102, 106])>)"
      ]
     },
     "execution_count": 17,
     "metadata": {},
     "output_type": "execute_result"
    }
   ],
   "source": [
    "# Make a larger dataset\n",
    "X = tf.range(-100,100,4)\n",
    "y = X+10\n",
    "X,y"
   ]
  },
  {
   "cell_type": "code",
   "execution_count": 18,
   "metadata": {},
   "outputs": [
    {
     "data": {
      "text/plain": [
       "<matplotlib.collections.PathCollection at 0x1de0598ae90>"
      ]
     },
     "execution_count": 18,
     "metadata": {},
     "output_type": "execute_result"
    },
    {
     "data": {
      "image/png": "[encoded data removed]",
      "text/plain": [
       "<Figure size 640x480 with 1 Axes>"
      ]
     },
     "metadata": {},
     "output_type": "display_data"
    }
   ],
   "source": [
    "# Visualize the data\n",
    "plt.plot(X,y)\n",
    "plt.scatter(X,y,color='r')"
   ]
  },
  {
   "attachments": {},
   "cell_type": "markdown",
   "metadata": {},
   "source": [
    "#### The 3 datasets\n",
    "> Training set\n",
    "* Model learns on this data. \n",
    "* This is 70-80% of total data.\n",
    "> Validation set\n",
    "* Model gets tuned on this data. \n",
    "* This is 10-15% of total data.\n",
    "> Test set\n",
    "* Model gets evaluate on this data. \n",
    "* This is 10-15% of total data.\n",
    "\n",
    "`We have these 3 sets to increase the model's ability to generalize`"
   ]
  },
  {
   "cell_type": "code",
   "execution_count": 19,
   "metadata": {},
   "outputs": [
    {
     "data": {
      "text/plain": [
       "50"
      ]
     },
     "execution_count": 19,
     "metadata": {},
     "output_type": "execute_result"
    }
   ],
   "source": [
    "len(X)"
   ]
  },
  {
   "cell_type": "code",
   "execution_count": 20,
   "metadata": {},
   "outputs": [
    {
     "data": {
      "text/plain": [
       "(40, 10, 40, 10)"
      ]
     },
     "execution_count": 20,
     "metadata": {},
     "output_type": "execute_result"
    }
   ],
   "source": [
    "X_train = X[:40] # First 40 samples (80% of the data)\n",
    "y_train = y[:40]\n",
    "\n",
    "X_test = X[40:] # remaining samples (20% of the data)\n",
    "y_test = y[40:] \n",
    "\n",
    "len(X_train),len(X_test), len(y_train), len(y_test)"
   ]
  },
  {
   "attachments": {},
   "cell_type": "markdown",
   "metadata": {},
   "source": [
    "#### Visualizing Data"
   ]
  },
  {
   "cell_type": "code",
   "execution_count": 21,
   "metadata": {},
   "outputs": [
    {
     "data": {
      "text/plain": [
       "<matplotlib.legend.Legend at 0x1de05961d50>"
      ]
     },
     "execution_count": 21,
     "metadata": {},
     "output_type": "execute_result"
    },
    {
     "data": {
      "image/png": "[encoded data removed]",
      "text/plain": [
       "<Figure size 1000x700 with 1 Axes>"
      ]
     },
     "metadata": {},
     "output_type": "display_data"
    }
   ],
   "source": [
    "plt.figure(figsize=(10,7))\n",
    "\n",
    "# Plot training data\n",
    "plt.scatter(X_train, y_train, c='b', label = \"Training data\")\n",
    "\n",
    "# Plot testing data\n",
    "plt.scatter(X_test, y_test, c='g', label = \"Testing data\")\n",
    "\n",
    "# Show legend\n",
    "plt.legend()"
   ]
  },
  {
   "attachments": {},
   "cell_type": "markdown",
   "metadata": {},
   "source": [
    "#### Visualizing Model \n",
    "- Model Summary\n",
    "- Plot_model\n"
   ]
  },
  {
   "cell_type": "code",
   "execution_count": 22,
   "metadata": {},
   "outputs": [],
   "source": [
    "# 1. Create a model\n",
    "model = tf.keras.Sequential([\n",
    "    tf.keras.layers.Dense(1)\n",
    "])\n",
    "\n",
    "# 2. compile the model\n",
    "model.compile(\n",
    "    loss = tf.keras.losses.mae,\n",
    "    optimizer = tf.keras.optimizers.SGD(),\n",
    "    metrics=[\"mae\"])\n",
    "\n",
    "# 3. fit the model\n",
    "# model.fit(X_train,y_train, epochs=100)\n"
   ]
  },
  {
   "cell_type": "code",
   "execution_count": 23,
   "metadata": {},
   "outputs": [],
   "source": [
    "## ERROR OCCURS\n",
    "# model.summary()\n",
    "# NOTE: To get model summary without fitting, we need to 'build' the model or provide the input shape so it builds automatically"
   ]
  },
  {
   "cell_type": "code",
   "execution_count": 24,
   "metadata": {},
   "outputs": [
    {
     "data": {
      "text/plain": [
       "TensorShape([])"
      ]
     },
     "execution_count": 24,
     "metadata": {},
     "output_type": "execute_result"
    }
   ],
   "source": [
    "X[0].shape"
   ]
  },
  {
   "cell_type": "code",
   "execution_count": 45,
   "metadata": {},
   "outputs": [],
   "source": [
    "# Let's create a model which builds automatically by defining the input_shape argument in first layer\n",
    "\n",
    "tf.random.set_seed(42)\n",
    "# 1. Create a model\n",
    "model = tf.keras.Sequential([\n",
    "    tf.keras.layers.Dense(10, input_shape=[1], name=\"Input_Layer\"),\n",
    "    tf.keras.layers.Dense(1, name=\"Output_Layer\")\n",
    "], name=\"model_3\")\n",
    "\n",
    "# 2. compile the model\n",
    "model.compile(\n",
    "    loss = tf.keras.losses.mae,\n",
    "    optimizer = tf.keras.optimizers.SGD(),\n",
    "    metrics=[\"mae\"])\n",
    "\n",
    "# 3. fit the model\n",
    "# model.fit(X_train,y_train, epochs=100)\n",
    "\n",
    "# NOTE: To get model summary without fitting, we need to 'build' the model or provide the input shape so it builds automatically"
   ]
  },
  {
   "cell_type": "code",
   "execution_count": 46,
   "metadata": {},
   "outputs": [
    {
     "name": "stdout",
     "output_type": "stream",
     "text": [
      "Model: \"model_3\"\n",
      "_________________________________________________________________\n",
      " Layer (type)                Output Shape              Param #   \n",
      "=================================================================\n",
      " Input_Layer (Dense)         (None, 10)                20        \n",
      "                                                                 \n",
      " Output_Layer (Dense)        (None, 1)                 11        \n",
      "                                                                 \n",
      "=================================================================\n",
      "Total params: 31\n",
      "Trainable params: 31\n",
      "Non-trainable params: 0\n",
      "_________________________________________________________________\n"
     ]
    }
   ],
   "source": [
    "model.summary()"
   ]
  },
  {
   "attachments": {},
   "cell_type": "markdown",
   "metadata": {},
   "source": [
    "* Total parameters - Total number of parameters in the model.\n",
    "* Trainable Parameters - The parameters that the model can update\n",
    "* Non-trainable parameters - The parameters that aren't updated during training (This is typical when you bring in already learned patterns and parameters from other models during **transfer learning**)\n",
    "\n",
    "**Resources:** [MIT's Introduction to Deep Learning](https://introtodeeplearning.com/2022/index.html)"
   ]
  },
  {
   "cell_type": "code",
   "execution_count": 47,
   "metadata": {},
   "outputs": [
    {
     "data": {
      "text/plain": [
       "<keras.callbacks.History at 0x1dd69175a20>"
      ]
     },
     "execution_count": 47,
     "metadata": {},
     "output_type": "execute_result"
    }
   ],
   "source": [
    "model.fit(X_train,y_train,epochs=100,verbose=0)"
   ]
  },
  {
   "cell_type": "code",
   "execution_count": 48,
   "metadata": {},
   "outputs": [
    {
     "data": {
      "image/png": "[encoded data removed]",
      "text/plain": [
       "<IPython.core.display.Image object>"
      ]
     },
     "execution_count": 48,
     "metadata": {},
     "output_type": "execute_result"
    }
   ],
   "source": [
    "from tensorflow.keras.utils import plot_model\n",
    "\n",
    "plot_model(model, show_shapes=True)"
   ]
  },
  {
   "attachments": {},
   "cell_type": "markdown",
   "metadata": {},
   "source": [
    "### Visualize Model's Predictions\n",
    "- Plot the predictions (y_pred) against ground truth labels( y_train / y_test )\n",
    "\n"
   ]
  },
  {
   "cell_type": "code",
   "execution_count": 49,
   "metadata": {},
   "outputs": [
    {
     "name": "stdout",
     "output_type": "stream",
     "text": [
      "1/1 [==============================] - 0s 37ms/step\n"
     ]
    },
    {
     "data": {
      "text/plain": [
       "array([[ 70.383934],\n",
       "       [ 74.96215 ],\n",
       "       [ 79.54037 ],\n",
       "       [ 84.1186  ],\n",
       "       [ 88.696815],\n",
       "       [ 93.27503 ],\n",
       "       [ 97.85325 ],\n",
       "       [102.431465],\n",
       "       [107.00969 ],\n",
       "       [111.58791 ]], dtype=float32)"
      ]
     },
     "execution_count": 49,
     "metadata": {},
     "output_type": "execute_result"
    }
   ],
   "source": [
    "# Make predictions\n",
    "\n",
    "y_pred = model.predict(X_test)\n",
    "y_pred"
   ]
  },
  {
   "cell_type": "code",
   "execution_count": 50,
   "metadata": {},
   "outputs": [
    {
     "data": {
      "text/plain": [
       "<tf.Tensor: shape=(10,), dtype=int32, numpy=array([ 70,  74,  78,  82,  86,  90,  94,  98, 102, 106])>"
      ]
     },
     "execution_count": 50,
     "metadata": {},
     "output_type": "execute_result"
    }
   ],
   "source": [
    "y_test"
   ]
  },
  {
   "attachments": {},
   "cell_type": "markdown",
   "metadata": {},
   "source": [
    "Create a plotting functions"
   ]
  },
  {
   "cell_type": "code",
   "execution_count": 51,
   "metadata": {},
   "outputs": [],
   "source": [
    "# Create a plotting function\n",
    "\n",
    "def plot_predictions(train_data=X_train, train_labels=y_train, test_data=X_test, test_labels=y_test, predictions=y_pred):\n",
    "    \"\"\" Plots training data, test data and compares the predictions to the ground truth\"\"\"\n",
    "\n",
    "    plt.figure(figsize=(10,7))\n",
    "    \n",
    "    # Plot training data in blue\n",
    "    plt.scatter(train_data,train_labels,c='b',label=\"Training data\")\n",
    "    # Plot testing data in green\n",
    "    plt.scatter(test_data,test_labels,c='g',label=\"Testing data\")\n",
    "    # Plot the predictions in red (predictions were made on the test data)\n",
    "    plt.scatter(test_data,predictions,c='r',label=\"Predictions\")\n",
    "    # Show the legend\n",
    "    plt.legend()"
   ]
  },
  {
   "cell_type": "code",
   "execution_count": 52,
   "metadata": {},
   "outputs": [
    {
     "data": {
      "image/png": "[encoded data removed]",
      "text/plain": [
       "<Figure size 1000x700 with 1 Axes>"
      ]
     },
     "metadata": {},
     "output_type": "display_data"
    }
   ],
   "source": [
    "plot_predictions(train_data=X_train,\n",
    "                train_labels=y_train,\n",
    "                test_data=X_test,\n",
    "                test_labels=y_test,\n",
    "                predictions=y_pred)"
   ]
  },
  {
   "attachments": {},
   "cell_type": "markdown",
   "metadata": {},
   "source": [
    "### Evaluation Metrics for Regression Model\n",
    "\n",
    "* MAE - Mean Absolute Error\n",
    "    * Mean of absolute error\n",
    "    * A starter metric for regression problems\n",
    "    * Adv: It is most Robust to outliers.\n",
    "    * Disadv: MAE is not differential, hence can't apply optimizers like Gradient Descent\n",
    "###\n",
    "* MSE - Mean Squared Error\n",
    "    * Mean of squares of absolute error\n",
    "    * When larger errors are more significant than smaller errors\n",
    "    * Adv: MSE is differential\n",
    "    * Disadv: MSE is not Robust to outliers (Outliers are penalised the most, since the deviation itself is high and we are squaring it too)\n",
    "###\n",
    "* Huber - Combination of MSE and MAE\n",
    "    * Less sensitive to outliers than MSE\n",
    "###\n",
    "* RMSE - Root Mean Squared Error\n",
    "    * Root of mean of squares of absolute errors\n",
    "    * Adv: RMSE is differential and unit is same as output variable\n",
    "    * Disadv: RMSE is not as Robust as MAE, to outliers."
   ]
  },
  {
   "cell_type": "code",
   "execution_count": 53,
   "metadata": {},
   "outputs": [
    {
     "name": "stdout",
     "output_type": "stream",
     "text": [
      "1/1 [==============================] - 0s 83ms/step - loss: 2.9859 - mae: 2.9859\n"
     ]
    },
    {
     "data": {
      "text/plain": [
       "[2.9859213829040527, 2.9859213829040527]"
      ]
     },
     "execution_count": 53,
     "metadata": {},
     "output_type": "execute_result"
    }
   ],
   "source": [
    "model.evaluate(X_test,y_test)\n",
    "\n",
    "# Metrics is MAE since metrics and loss in compiling is MAE"
   ]
  },
  {
   "cell_type": "code",
   "execution_count": 54,
   "metadata": {},
   "outputs": [
    {
     "data": {
      "text/plain": [
       "(<tf.Tensor: shape=(10,), dtype=int32, numpy=array([ 70,  74,  78,  82,  86,  90,  94,  98, 102, 106])>,\n",
       " <tf.Tensor: shape=(10,), dtype=float32, numpy=\n",
       " array([ 70.383934,  74.96215 ,  79.54037 ,  84.1186  ,  88.696815,\n",
       "         93.27503 ,  97.85325 , 102.431465, 107.00969 , 111.58791 ],\n",
       "       dtype=float32)>)"
      ]
     },
     "execution_count": 54,
     "metadata": {},
     "output_type": "execute_result"
    }
   ],
   "source": [
    "y_test,tf.squeeze(y_pred)"
   ]
  },
  {
   "cell_type": "code",
   "execution_count": 55,
   "metadata": {},
   "outputs": [
    {
     "data": {
      "text/plain": [
       "<tf.Tensor: shape=(), dtype=float32, numpy=2.9859214>"
      ]
     },
     "execution_count": 55,
     "metadata": {},
     "output_type": "execute_result"
    }
   ],
   "source": [
    "# Calculate the MAE\n",
    "mae = tf.metrics.mean_absolute_error(y_true=y_test,y_pred=tf.squeeze(y_pred))\n",
    "mae"
   ]
  },
  {
   "cell_type": "code",
   "execution_count": 56,
   "metadata": {},
   "outputs": [
    {
     "data": {
      "text/plain": [
       "<tf.Tensor: shape=(), dtype=float32, numpy=11.674015>"
      ]
     },
     "execution_count": 56,
     "metadata": {},
     "output_type": "execute_result"
    }
   ],
   "source": [
    "# Calculate the MSE\n",
    "mse = tf.metrics.mean_squared_error(y_test,tf.squeeze(y_pred))\n",
    "mse"
   ]
  },
  {
   "cell_type": "code",
   "execution_count": 57,
   "metadata": {},
   "outputs": [],
   "source": [
    "# Make a function to reuse MAE and MSE\n",
    "\n",
    "def MAE(y_true,y_pred):\n",
    "    return tf.metrics.mean_absolute_error(y_true=y_true,y_pred=tf.squeeze(y_pred))\n",
    "\n",
    "def MSE(y_true,y_pred):\n",
    "    return tf.metrics.mean_squared_error(y_true=y_true,y_pred=tf.squeeze(y_pred))\n"
   ]
  },
  {
   "attachments": {},
   "cell_type": "markdown",
   "metadata": {},
   "source": [
    "### Experiments to Improve Models\n",
    "\n",
    "```\n",
    "Build model -> fit -> evaluate -> tweak -> fit -> evaluate -> tweak\n",
    "```\n",
    "1. Get more data for model to train on, to learn patterns and relationships between features and labels\n",
    "\n",
    "2. Build larger models (Complex models)\n",
    "    * More layers and hidden units in each layer\n",
    "##\n",
    "3. Train for more epochs\n",
    "\n",
    "\n",
    "Build 3 models:\n",
    "- Model_1 -> 1 layer and 100 epochs\n",
    "- Model_2 -> 2 layers and 100 epochs\n",
    "- Model_3 -> 2 layers and 500 epochs"
   ]
  },
  {
   "cell_type": "code",
   "execution_count": 58,
   "metadata": {},
   "outputs": [
    {
     "data": {
      "text/plain": [
       "(<tf.Tensor: shape=(40,), dtype=int32, numpy=\n",
       " array([-100,  -96,  -92,  -88,  -84,  -80,  -76,  -72,  -68,  -64,  -60,\n",
       "         -56,  -52,  -48,  -44,  -40,  -36,  -32,  -28,  -24,  -20,  -16,\n",
       "         -12,   -8,   -4,    0,    4,    8,   12,   16,   20,   24,   28,\n",
       "          32,   36,   40,   44,   48,   52,   56])>,\n",
       " <tf.Tensor: shape=(40,), dtype=int32, numpy=\n",
       " array([-90, -86, -82, -78, -74, -70, -66, -62, -58, -54, -50, -46, -42,\n",
       "        -38, -34, -30, -26, -22, -18, -14, -10,  -6,  -2,   2,   6,  10,\n",
       "         14,  18,  22,  26,  30,  34,  38,  42,  46,  50,  54,  58,  62,\n",
       "         66])>)"
      ]
     },
     "execution_count": 58,
     "metadata": {},
     "output_type": "execute_result"
    }
   ],
   "source": [
    "X_train, y_train"
   ]
  },
  {
   "cell_type": "code",
   "execution_count": 71,
   "metadata": {},
   "outputs": [
    {
     "name": "stdout",
     "output_type": "stream",
     "text": [
      "Epoch 1/100\n",
      "2/2 [==============================] - 0s 6ms/step - loss: 53.3777 - mae: 53.3777\n",
      "Epoch 2/100\n",
      "2/2 [==============================] - 0s 2ms/step - loss: 19.6346 - mae: 19.6346\n",
      "Epoch 3/100\n",
      "2/2 [==============================] - 0s 5ms/step - loss: 11.2559 - mae: 11.2559\n",
      "Epoch 4/100\n",
      "2/2 [==============================] - 0s 3ms/step - loss: 9.5965 - mae: 9.5965\n",
      "Epoch 5/100\n",
      "2/2 [==============================] - 0s 2ms/step - loss: 10.5081 - mae: 10.5081\n",
      "Epoch 6/100\n",
      "2/2 [==============================] - 0s 3ms/step - loss: 9.7316 - mae: 9.7316\n",
      "Epoch 7/100\n",
      "2/2 [==============================] - 0s 4ms/step - loss: 8.8239 - mae: 8.8239\n",
      "Epoch 8/100\n",
      "2/2 [==============================] - 0s 6ms/step - loss: 9.0768 - mae: 9.0768\n",
      "Epoch 9/100\n",
      "2/2 [==============================] - 0s 8ms/step - loss: 19.3643 - mae: 19.3643\n",
      "Epoch 10/100\n",
      "2/2 [==============================] - 0s 3ms/step - loss: 10.4634 - mae: 10.4634\n",
      "Epoch 11/100\n",
      "2/2 [==============================] - 0s 2ms/step - loss: 8.5411 - mae: 8.5411\n",
      "Epoch 12/100\n",
      "2/2 [==============================] - 0s 14ms/step - loss: 10.9573 - mae: 10.9573\n",
      "Epoch 13/100\n",
      "2/2 [==============================] - 0s 2ms/step - loss: 7.5763 - mae: 7.5763\n",
      "Epoch 14/100\n",
      "2/2 [==============================] - 0s 8ms/step - loss: 16.0058 - mae: 16.0058\n",
      "Epoch 15/100\n",
      "2/2 [==============================] - 0s 3ms/step - loss: 13.0857 - mae: 13.0857\n",
      "Epoch 16/100\n",
      "2/2 [==============================] - 0s 3ms/step - loss: 7.9454 - mae: 7.9454\n",
      "Epoch 17/100\n",
      "2/2 [==============================] - 0s 3ms/step - loss: 11.2878 - mae: 11.2878\n",
      "Epoch 18/100\n",
      "2/2 [==============================] - 0s 3ms/step - loss: 10.2558 - mae: 10.2558\n",
      "Epoch 19/100\n",
      "2/2 [==============================] - 0s 3ms/step - loss: 19.5327 - mae: 19.5327\n",
      "Epoch 20/100\n",
      "2/2 [==============================] - 0s 4ms/step - loss: 16.1856 - mae: 16.1856\n",
      "Epoch 21/100\n",
      "2/2 [==============================] - 0s 3ms/step - loss: 12.0840 - mae: 12.0840\n",
      "Epoch 22/100\n",
      "2/2 [==============================] - 0s 3ms/step - loss: 8.6842 - mae: 8.6842\n",
      "Epoch 23/100\n",
      "2/2 [==============================] - 0s 5ms/step - loss: 9.6663 - mae: 9.6663\n",
      "Epoch 24/100\n",
      "2/2 [==============================] - 0s 2ms/step - loss: 8.5823 - mae: 8.5823\n",
      "Epoch 25/100\n",
      "2/2 [==============================] - 0s 3ms/step - loss: 11.5548 - mae: 11.5548\n",
      "Epoch 26/100\n",
      "2/2 [==============================] - 0s 3ms/step - loss: 15.1995 - mae: 15.1995\n",
      "Epoch 27/100\n",
      "2/2 [==============================] - 0s 7ms/step - loss: 12.0805 - mae: 12.0805\n",
      "Epoch 28/100\n",
      "2/2 [==============================] - 0s 2ms/step - loss: 13.3804 - mae: 13.3804\n",
      "Epoch 29/100\n",
      "2/2 [==============================] - 0s 2ms/step - loss: 9.6144 - mae: 9.6144\n",
      "Epoch 30/100\n",
      "2/2 [==============================] - 0s 2ms/step - loss: 17.1786 - mae: 17.1786\n",
      "Epoch 31/100\n",
      "2/2 [==============================] - 0s 6ms/step - loss: 22.8889 - mae: 22.8889\n",
      "Epoch 32/100\n",
      "2/2 [==============================] - 0s 5ms/step - loss: 7.9242 - mae: 7.9242\n",
      "Epoch 33/100\n",
      "2/2 [==============================] - 0s 3ms/step - loss: 14.1322 - mae: 14.1322\n",
      "Epoch 34/100\n",
      "2/2 [==============================] - 0s 18ms/step - loss: 12.3761 - mae: 12.3761\n",
      "Epoch 35/100\n",
      "2/2 [==============================] - 0s 3ms/step - loss: 8.2717 - mae: 8.2717\n",
      "Epoch 36/100\n",
      "2/2 [==============================] - 0s 7ms/step - loss: 10.4942 - mae: 10.4942\n",
      "Epoch 37/100\n",
      "2/2 [==============================] - 0s 2ms/step - loss: 10.1384 - mae: 10.1384\n",
      "Epoch 38/100\n",
      "2/2 [==============================] - 0s 4ms/step - loss: 11.3352 - mae: 11.3352\n",
      "Epoch 39/100\n",
      "2/2 [==============================] - 0s 2ms/step - loss: 14.7552 - mae: 14.7552\n",
      "Epoch 40/100\n",
      "2/2 [==============================] - 0s 4ms/step - loss: 12.8855 - mae: 12.8855\n",
      "Epoch 41/100\n",
      "2/2 [==============================] - 0s 3ms/step - loss: 9.2749 - mae: 9.2749\n",
      "Epoch 42/100\n",
      "2/2 [==============================] - 0s 3ms/step - loss: 11.0154 - mae: 11.0154\n",
      "Epoch 43/100\n",
      "2/2 [==============================] - 0s 6ms/step - loss: 8.3420 - mae: 8.3420\n",
      "Epoch 44/100\n",
      "2/2 [==============================] - 0s 4ms/step - loss: 13.0601 - mae: 13.0601\n",
      "Epoch 45/100\n",
      "2/2 [==============================] - 0s 11ms/step - loss: 13.6751 - mae: 13.6751\n",
      "Epoch 46/100\n",
      "2/2 [==============================] - 0s 5ms/step - loss: 8.2899 - mae: 8.2899\n",
      "Epoch 47/100\n",
      "2/2 [==============================] - 0s 8ms/step - loss: 8.7347 - mae: 8.7347\n",
      "Epoch 48/100\n",
      "2/2 [==============================] - 0s 4ms/step - loss: 10.0357 - mae: 10.0357\n",
      "Epoch 49/100\n",
      "2/2 [==============================] - 0s 4ms/step - loss: 8.5196 - mae: 8.5196\n",
      "Epoch 50/100\n",
      "2/2 [==============================] - 0s 3ms/step - loss: 9.0253 - mae: 9.0253\n",
      "Epoch 51/100\n",
      "2/2 [==============================] - 0s 2ms/step - loss: 9.3824 - mae: 9.3824\n",
      "Epoch 52/100\n",
      "2/2 [==============================] - 0s 3ms/step - loss: 14.1814 - mae: 14.1814\n",
      "Epoch 53/100\n",
      "2/2 [==============================] - 0s 3ms/step - loss: 14.8871 - mae: 14.8871\n",
      "Epoch 54/100\n",
      "2/2 [==============================] - 0s 5ms/step - loss: 14.8251 - mae: 14.8251\n",
      "Epoch 55/100\n",
      "2/2 [==============================] - 0s 2ms/step - loss: 12.6070 - mae: 12.6070\n",
      "Epoch 56/100\n",
      "2/2 [==============================] - 0s 2ms/step - loss: 7.5996 - mae: 7.5996\n",
      "Epoch 57/100\n",
      "2/2 [==============================] - 0s 3ms/step - loss: 8.8005 - mae: 8.8005\n",
      "Epoch 58/100\n",
      "2/2 [==============================] - 0s 2ms/step - loss: 8.3879 - mae: 8.3879\n",
      "Epoch 59/100\n",
      "2/2 [==============================] - 0s 2ms/step - loss: 9.1849 - mae: 9.1849\n",
      "Epoch 60/100\n",
      "2/2 [==============================] - 0s 2ms/step - loss: 9.1270 - mae: 9.1270\n",
      "Epoch 61/100\n",
      "2/2 [==============================] - 0s 5ms/step - loss: 10.6673 - mae: 10.6673\n",
      "Epoch 62/100\n",
      "2/2 [==============================] - 0s 2ms/step - loss: 7.4433 - mae: 7.4433\n",
      "Epoch 63/100\n",
      "2/2 [==============================] - 0s 3ms/step - loss: 10.5336 - mae: 10.5336\n",
      "Epoch 64/100\n",
      "2/2 [==============================] - 0s 2ms/step - loss: 12.1394 - mae: 12.1394\n",
      "Epoch 65/100\n",
      "2/2 [==============================] - 0s 999us/step - loss: 9.4652 - mae: 9.4652\n",
      "Epoch 66/100\n",
      "2/2 [==============================] - 0s 2ms/step - loss: 11.5452 - mae: 11.5452\n",
      "Epoch 67/100\n",
      "2/2 [==============================] - 0s 2ms/step - loss: 8.0322 - mae: 8.0322\n",
      "Epoch 68/100\n",
      "2/2 [==============================] - 0s 2ms/step - loss: 8.5650 - mae: 8.5650\n",
      "Epoch 69/100\n",
      "2/2 [==============================] - 0s 4ms/step - loss: 12.2366 - mae: 12.2366\n",
      "Epoch 70/100\n",
      "2/2 [==============================] - 0s 7ms/step - loss: 8.9500 - mae: 8.9500\n",
      "Epoch 71/100\n",
      "2/2 [==============================] - 0s 2ms/step - loss: 9.9235 - mae: 9.9235\n",
      "Epoch 72/100\n",
      "2/2 [==============================] - 0s 3ms/step - loss: 9.9658 - mae: 9.9658\n",
      "Epoch 73/100\n",
      "2/2 [==============================] - 0s 2ms/step - loss: 12.4198 - mae: 12.4198\n",
      "Epoch 74/100\n",
      "2/2 [==============================] - 0s 4ms/step - loss: 10.6058 - mae: 10.6058\n",
      "Epoch 75/100\n",
      "2/2 [==============================] - 0s 2ms/step - loss: 9.6228 - mae: 9.6228\n",
      "Epoch 76/100\n",
      "2/2 [==============================] - 0s 5ms/step - loss: 11.0839 - mae: 11.0839\n",
      "Epoch 77/100\n",
      "2/2 [==============================] - 0s 3ms/step - loss: 8.2721 - mae: 8.2721\n",
      "Epoch 78/100\n",
      "2/2 [==============================] - 0s 3ms/step - loss: 8.9528 - mae: 8.9528\n",
      "Epoch 79/100\n",
      "2/2 [==============================] - 0s 5ms/step - loss: 19.8309 - mae: 19.8309\n",
      "Epoch 80/100\n",
      "2/2 [==============================] - 0s 2ms/step - loss: 17.7891 - mae: 17.7891\n",
      "Epoch 81/100\n",
      "2/2 [==============================] - 0s 2ms/step - loss: 7.0991 - mae: 7.0991\n",
      "Epoch 82/100\n",
      "2/2 [==============================] - 0s 2ms/step - loss: 10.3981 - mae: 10.3981\n",
      "Epoch 83/100\n",
      "2/2 [==============================] - 0s 2ms/step - loss: 9.8178 - mae: 9.8178\n",
      "Epoch 84/100\n",
      "2/2 [==============================] - 0s 2ms/step - loss: 7.9526 - mae: 7.9526\n",
      "Epoch 85/100\n",
      "2/2 [==============================] - 0s 2ms/step - loss: 9.4674 - mae: 9.4674\n",
      "Epoch 86/100\n",
      "2/2 [==============================] - 0s 9ms/step - loss: 9.5096 - mae: 9.5096\n",
      "Epoch 87/100\n",
      "2/2 [==============================] - 0s 2ms/step - loss: 11.4604 - mae: 11.4604\n",
      "Epoch 88/100\n",
      "2/2 [==============================] - 0s 2ms/step - loss: 9.9590 - mae: 9.9590\n",
      "Epoch 89/100\n",
      "2/2 [==============================] - 0s 1ms/step - loss: 7.2595 - mae: 7.2595\n",
      "Epoch 90/100\n",
      "2/2 [==============================] - 0s 3ms/step - loss: 12.7228 - mae: 12.7228\n",
      "Epoch 91/100\n",
      "2/2 [==============================] - 0s 2ms/step - loss: 7.3256 - mae: 7.3256\n",
      "Epoch 92/100\n",
      "2/2 [==============================] - 0s 2ms/step - loss: 7.6909 - mae: 7.6909\n",
      "Epoch 93/100\n",
      "2/2 [==============================] - 0s 2ms/step - loss: 7.1236 - mae: 7.1236\n",
      "Epoch 94/100\n",
      "2/2 [==============================] - 0s 2ms/step - loss: 12.5684 - mae: 12.5684\n",
      "Epoch 95/100\n",
      "2/2 [==============================] - 0s 2ms/step - loss: 9.9440 - mae: 9.9440\n",
      "Epoch 96/100\n",
      "2/2 [==============================] - 0s 3ms/step - loss: 9.1375 - mae: 9.1375\n",
      "Epoch 97/100\n",
      "2/2 [==============================] - 0s 3ms/step - loss: 12.0699 - mae: 12.0699\n",
      "Epoch 98/100\n",
      "2/2 [==============================] - 0s 2ms/step - loss: 9.0898 - mae: 9.0898\n",
      "Epoch 99/100\n",
      "2/2 [==============================] - 0s 2ms/step - loss: 8.4978 - mae: 8.4978\n",
      "Epoch 100/100\n",
      "2/2 [==============================] - 0s 4ms/step - loss: 14.4372 - mae: 14.4372\n"
     ]
    },
    {
     "data": {
      "text/plain": [
       "<keras.callbacks.History at 0x1de31a7f8b0>"
      ]
     },
     "execution_count": 71,
     "metadata": {},
     "output_type": "execute_result"
    }
   ],
   "source": [
    "# Model_1  -  1 layer and 100 epochs\n",
    "\n",
    "tf.random.set_seed(42)\n",
    "\n",
    "model1 = tf.keras.Sequential([\n",
    "    tf.keras.layers.Dense(1, input_shape=[1])\n",
    "])\n",
    "\n",
    "model1.compile(loss=tf.keras.losses.mae,\n",
    "                optimizer = tf.keras.optimizers.SGD(),\n",
    "                metrics=[\"mae\"])\n",
    "\n",
    "model1.fit(X_train,y_train, epochs=100)"
   ]
  },
  {
   "cell_type": "code",
   "execution_count": 72,
   "metadata": {},
   "outputs": [
    {
     "name": "stdout",
     "output_type": "stream",
     "text": [
      "1/1 [==============================] - 0s 35ms/step\n"
     ]
    },
    {
     "data": {
      "image/png": "[encoded data removed]",
      "text/plain": [
       "<Figure size 1000x700 with 1 Axes>"
      ]
     },
     "metadata": {},
     "output_type": "display_data"
    }
   ],
   "source": [
    "# Make and plot predictions for model1\n",
    "y_pred1 = model1.predict(X_test)\n",
    "plot_predictions(predictions=y_pred1)"
   ]
  },
  {
   "cell_type": "code",
   "execution_count": 73,
   "metadata": {},
   "outputs": [
    {
     "data": {
      "text/plain": [
       "(<tf.Tensor: shape=(), dtype=float32, numpy=30.674597>,\n",
       " <tf.Tensor: shape=(), dtype=float32, numpy=951.4004>)"
      ]
     },
     "execution_count": 73,
     "metadata": {},
     "output_type": "execute_result"
    }
   ],
   "source": [
    "# Calculate model1 evaluation metrics\n",
    "\n",
    "mae1 = MAE(y_true=y_test, y_pred=y_pred1)\n",
    "mse1 = MSE(y_true=y_test, y_pred=y_pred1)\n",
    "mae1,mse1"
   ]
  },
  {
   "cell_type": "code",
   "execution_count": 74,
   "metadata": {},
   "outputs": [
    {
     "name": "stdout",
     "output_type": "stream",
     "text": [
      "Epoch 1/100\n",
      "2/2 [==============================] - 0s 3ms/step - loss: 36.7745 - mse: 1976.8217\n",
      "Epoch 2/100\n",
      "2/2 [==============================] - 0s 3ms/step - loss: 29.7012 - mse: 1165.2068\n",
      "Epoch 3/100\n",
      "2/2 [==============================] - 0s 2ms/step - loss: 33.0303 - mse: 1670.0690\n",
      "Epoch 4/100\n",
      "2/2 [==============================] - 0s 3ms/step - loss: 17.5512 - mse: 433.2603\n",
      "Epoch 5/100\n",
      "2/2 [==============================] - 0s 3ms/step - loss: 23.5778 - mse: 820.5426\n",
      "Epoch 6/100\n",
      "2/2 [==============================] - 0s 3ms/step - loss: 10.9567 - mse: 133.3079\n",
      "Epoch 7/100\n",
      "2/2 [==============================] - 0s 3ms/step - loss: 12.0126 - mse: 181.1525\n",
      "Epoch 8/100\n",
      "2/2 [==============================] - 0s 2ms/step - loss: 13.0966 - mse: 237.8725\n",
      "Epoch 9/100\n",
      "2/2 [==============================] - 0s 3ms/step - loss: 34.6924 - mse: 1814.2777\n",
      "Epoch 10/100\n",
      "2/2 [==============================] - 0s 2ms/step - loss: 24.0690 - mse: 810.9003\n",
      "Epoch 11/100\n",
      "2/2 [==============================] - 0s 1000us/step - loss: 11.8434 - mse: 216.3776\n",
      "Epoch 12/100\n",
      "2/2 [==============================] - 0s 2ms/step - loss: 23.7464 - mse: 798.3186\n",
      "Epoch 13/100\n",
      "2/2 [==============================] - 0s 2ms/step - loss: 21.0074 - mse: 628.0995\n",
      "Epoch 14/100\n",
      "2/2 [==============================] - 0s 4ms/step - loss: 23.4301 - mse: 840.6788\n",
      "Epoch 15/100\n",
      "2/2 [==============================] - 0s 3ms/step - loss: 15.2419 - mse: 312.9413\n",
      "Epoch 16/100\n",
      "2/2 [==============================] - 0s 3ms/step - loss: 11.3518 - mse: 149.5196\n",
      "Epoch 17/100\n",
      "2/2 [==============================] - 0s 2ms/step - loss: 23.1681 - mse: 751.2087\n",
      "Epoch 18/100\n",
      "2/2 [==============================] - 0s 2ms/step - loss: 11.7723 - mse: 212.2643\n",
      "Epoch 19/100\n",
      "2/2 [==============================] - 0s 3ms/step - loss: 16.4567 - mse: 434.3999\n",
      "Epoch 20/100\n",
      "2/2 [==============================] - 0s 2ms/step - loss: 8.2484 - mse: 93.4571\n",
      "Epoch 21/100\n",
      "2/2 [==============================] - 0s 3ms/step - loss: 14.4330 - mse: 288.8641\n",
      "Epoch 22/100\n",
      "2/2 [==============================] - 0s 3ms/step - loss: 12.8464 - mse: 246.0125\n",
      "Epoch 23/100\n",
      "2/2 [==============================] - 0s 2ms/step - loss: 15.4841 - mse: 315.1480\n",
      "Epoch 24/100\n",
      "2/2 [==============================] - 0s 3ms/step - loss: 15.2725 - mse: 316.0987\n",
      "Epoch 25/100\n",
      "2/2 [==============================] - 0s 2ms/step - loss: 14.3457 - mse: 272.8530\n",
      "Epoch 26/100\n",
      "2/2 [==============================] - 0s 2ms/step - loss: 19.3503 - mse: 568.1942\n",
      "Epoch 27/100\n",
      "2/2 [==============================] - 0s 3ms/step - loss: 11.4551 - mse: 168.9966\n",
      "Epoch 28/100\n",
      "2/2 [==============================] - 0s 2ms/step - loss: 29.0849 - mse: 1375.0143\n",
      "Epoch 29/100\n",
      "2/2 [==============================] - 0s 3ms/step - loss: 9.2556 - mse: 94.6078\n",
      "Epoch 30/100\n",
      "2/2 [==============================] - 0s 4ms/step - loss: 29.8224 - mse: 1610.7599\n",
      "Epoch 31/100\n",
      "2/2 [==============================] - 0s 2ms/step - loss: 54.1135 - mse: 5246.0576\n",
      "Epoch 32/100\n",
      "2/2 [==============================] - 0s 3ms/step - loss: 9.5727 - mse: 101.2343\n",
      "Epoch 33/100\n",
      "2/2 [==============================] - 0s 2ms/step - loss: 12.1639 - mse: 180.9903\n",
      "Epoch 34/100\n",
      "2/2 [==============================] - 0s 3ms/step - loss: 23.8856 - mse: 864.3882\n",
      "Epoch 35/100\n",
      "2/2 [==============================] - 0s 4ms/step - loss: 12.6297 - mse: 242.7359\n",
      "Epoch 36/100\n",
      "2/2 [==============================] - 0s 2ms/step - loss: 21.5402 - mse: 661.7285\n",
      "Epoch 37/100\n",
      "2/2 [==============================] - 0s 2ms/step - loss: 11.3758 - mse: 150.0075\n",
      "Epoch 38/100\n",
      "2/2 [==============================] - 0s 3ms/step - loss: 13.4531 - mse: 268.5362\n",
      "Epoch 39/100\n",
      "2/2 [==============================] - 0s 3ms/step - loss: 10.7885 - mse: 138.9638\n",
      "Epoch 40/100\n",
      "2/2 [==============================] - 0s 3ms/step - loss: 16.5807 - mse: 398.9541\n",
      "Epoch 41/100\n",
      "2/2 [==============================] - 0s 2ms/step - loss: 10.9694 - mse: 180.0443\n",
      "Epoch 42/100\n",
      "2/2 [==============================] - 0s 2ms/step - loss: 9.2993 - mse: 115.2828\n",
      "Epoch 43/100\n",
      "2/2 [==============================] - 0s 4ms/step - loss: 9.5958 - mse: 111.1401\n",
      "Epoch 44/100\n",
      "2/2 [==============================] - 0s 2ms/step - loss: 27.9700 - mse: 1254.5868\n",
      "Epoch 45/100\n",
      "2/2 [==============================] - 0s 2ms/step - loss: 11.2837 - mse: 146.8768\n",
      "Epoch 46/100\n",
      "2/2 [==============================] - 0s 3ms/step - loss: 14.0584 - mse: 288.3105\n",
      "Epoch 47/100\n",
      "2/2 [==============================] - 0s 2ms/step - loss: 13.5085 - mse: 256.8106\n",
      "Epoch 48/100\n",
      "2/2 [==============================] - 0s 4ms/step - loss: 17.3476 - mse: 408.2680\n",
      "Epoch 49/100\n",
      "2/2 [==============================] - 0s 2ms/step - loss: 9.5166 - mse: 98.6264\n",
      "Epoch 50/100\n",
      "2/2 [==============================] - 0s 2ms/step - loss: 13.7041 - mse: 253.3022\n",
      "Epoch 51/100\n",
      "2/2 [==============================] - 0s 3ms/step - loss: 11.5626 - mse: 153.0448\n",
      "Epoch 52/100\n",
      "2/2 [==============================] - 0s 2ms/step - loss: 30.2060 - mse: 1573.4396\n",
      "Epoch 53/100\n",
      "2/2 [==============================] - 0s 2ms/step - loss: 13.7268 - mse: 278.7076\n",
      "Epoch 54/100\n",
      "2/2 [==============================] - 0s 2ms/step - loss: 26.4298 - mse: 1071.2653\n",
      "Epoch 55/100\n",
      "2/2 [==============================] - 0s 2ms/step - loss: 26.0193 - mse: 1027.2366\n",
      "Epoch 56/100\n",
      "2/2 [==============================] - 0s 5ms/step - loss: 11.2409 - mse: 171.5120\n",
      "Epoch 57/100\n",
      "2/2 [==============================] - 0s 2ms/step - loss: 13.2197 - mse: 218.4156\n",
      "Epoch 58/100\n",
      "2/2 [==============================] - 0s 2ms/step - loss: 9.8733 - mse: 107.5733\n",
      "Epoch 59/100\n",
      "2/2 [==============================] - 0s 2ms/step - loss: 13.4127 - mse: 255.1595\n",
      "Epoch 60/100\n",
      "2/2 [==============================] - 0s 4ms/step - loss: 10.9398 - mse: 141.6306\n",
      "Epoch 61/100\n",
      "2/2 [==============================] - 0s 4ms/step - loss: 13.5635 - mse: 246.4649\n",
      "Epoch 62/100\n",
      "2/2 [==============================] - 0s 2ms/step - loss: 17.8820 - mse: 486.9001\n",
      "Epoch 63/100\n",
      "2/2 [==============================] - 0s 2ms/step - loss: 8.7424 - mse: 92.0845\n",
      "Epoch 64/100\n",
      "2/2 [==============================] - 0s 3ms/step - loss: 16.1437 - mse: 373.5670\n",
      "Epoch 65/100\n",
      "2/2 [==============================] - 0s 3ms/step - loss: 10.7517 - mse: 146.8275\n",
      "Epoch 66/100\n",
      "2/2 [==============================] - 0s 3ms/step - loss: 22.1963 - mse: 729.9515\n",
      "Epoch 67/100\n",
      "2/2 [==============================] - 0s 2ms/step - loss: 10.2749 - mse: 121.3552\n",
      "Epoch 68/100\n",
      "2/2 [==============================] - 0s 2ms/step - loss: 13.4783 - mse: 269.4557\n",
      "Epoch 69/100\n",
      "2/2 [==============================] - 0s 2ms/step - loss: 11.4414 - mse: 163.5164\n",
      "Epoch 70/100\n",
      "2/2 [==============================] - 0s 3ms/step - loss: 13.6279 - mse: 246.2721\n",
      "Epoch 71/100\n",
      "2/2 [==============================] - 0s 2ms/step - loss: 15.6404 - mse: 347.5531\n",
      "Epoch 72/100\n",
      "2/2 [==============================] - 0s 3ms/step - loss: 11.8627 - mse: 168.7612\n",
      "Epoch 73/100\n",
      "2/2 [==============================] - 0s 2ms/step - loss: 16.6426 - mse: 373.2169\n",
      "Epoch 74/100\n",
      "2/2 [==============================] - 0s 4ms/step - loss: 24.1723 - mse: 919.7401\n",
      "Epoch 75/100\n",
      "2/2 [==============================] - 0s 3ms/step - loss: 9.6423 - mse: 149.2065\n",
      "Epoch 76/100\n",
      "2/2 [==============================] - 0s 2ms/step - loss: 12.4961 - mse: 190.2215\n",
      "Epoch 77/100\n",
      "2/2 [==============================] - 0s 2ms/step - loss: 16.7405 - mse: 434.5986\n",
      "Epoch 78/100\n",
      "2/2 [==============================] - 0s 2ms/step - loss: 9.0921 - mse: 96.7478\n",
      "Epoch 79/100\n",
      "2/2 [==============================] - 0s 3ms/step - loss: 24.0676 - mse: 872.4580\n",
      "Epoch 80/100\n",
      "2/2 [==============================] - 0s 2ms/step - loss: 26.8688 - mse: 1115.6351\n",
      "Epoch 81/100\n",
      "2/2 [==============================] - 0s 3ms/step - loss: 11.7469 - mse: 173.5830\n",
      "Epoch 82/100\n",
      "2/2 [==============================] - 0s 5ms/step - loss: 11.9972 - mse: 211.6283\n",
      "Epoch 83/100\n",
      "2/2 [==============================] - 0s 2ms/step - loss: 17.3868 - mse: 393.7740\n",
      "Epoch 84/100\n",
      "2/2 [==============================] - 0s 3ms/step - loss: 7.2747 - mse: 73.5122\n",
      "Epoch 85/100\n",
      "2/2 [==============================] - 0s 3ms/step - loss: 14.9430 - mse: 311.9385\n",
      "Epoch 86/100\n",
      "2/2 [==============================] - 0s 2ms/step - loss: 15.2705 - mse: 315.1154\n",
      "Epoch 87/100\n",
      "2/2 [==============================] - 0s 3ms/step - loss: 19.0669 - mse: 519.3207\n",
      "Epoch 88/100\n",
      "2/2 [==============================] - 0s 2ms/step - loss: 29.9389 - mse: 1297.9475\n",
      "Epoch 89/100\n",
      "2/2 [==============================] - 0s 3ms/step - loss: 10.2108 - mse: 124.5643\n",
      "Epoch 90/100\n",
      "2/2 [==============================] - 0s 3ms/step - loss: 21.6158 - mse: 669.7817\n",
      "Epoch 91/100\n",
      "2/2 [==============================] - 0s 2ms/step - loss: 10.6119 - mse: 161.8038\n",
      "Epoch 92/100\n",
      "2/2 [==============================] - 0s 2ms/step - loss: 18.4794 - mse: 468.4605\n",
      "Epoch 93/100\n",
      "2/2 [==============================] - 0s 2ms/step - loss: 7.4376 - mse: 81.8019\n",
      "Epoch 94/100\n",
      "2/2 [==============================] - 0s 2ms/step - loss: 17.8085 - mse: 449.3985\n",
      "Epoch 95/100\n",
      "2/2 [==============================] - 0s 3ms/step - loss: 11.1569 - mse: 166.0096\n",
      "Epoch 96/100\n",
      "2/2 [==============================] - 0s 2ms/step - loss: 19.5064 - mse: 514.1904\n",
      "Epoch 97/100\n",
      "2/2 [==============================] - 0s 3ms/step - loss: 12.5359 - mse: 225.7110\n",
      "Epoch 98/100\n",
      "2/2 [==============================] - 0s 4ms/step - loss: 10.3231 - mse: 137.6642\n",
      "Epoch 99/100\n",
      "2/2 [==============================] - 0s 2ms/step - loss: 13.8613 - mse: 264.2047\n",
      "Epoch 100/100\n",
      "2/2 [==============================] - 0s 2ms/step - loss: 20.1698 - mse: 605.1470\n"
     ]
    },
    {
     "data": {
      "text/plain": [
       "<keras.callbacks.History at 0x1de317ef700>"
      ]
     },
     "execution_count": 74,
     "metadata": {},
     "output_type": "execute_result"
    }
   ],
   "source": [
    "# Model2 - 2 layer and 100 epochs\n",
    "\n",
    "tf.random.set_seed(42)\n",
    "\n",
    "model2 = tf.keras.Sequential([\n",
    "    tf.keras.layers.Dense(10, input_shape=[1]),\n",
    "    tf.keras.layers.Dense(1)\n",
    "])\n",
    "\n",
    "model2.compile(loss= tf.keras.losses.mae,\n",
    "                optimizer = tf.keras.optimizers.SGD(),\n",
    "                metrics=[\"mse\"])\n",
    "\n",
    "model2.fit(X_train,y_train,epochs=100)"
   ]
  },
  {
   "cell_type": "code",
   "execution_count": 75,
   "metadata": {},
   "outputs": [
    {
     "name": "stdout",
     "output_type": "stream",
     "text": [
      "1/1 [==============================] - 0s 39ms/step\n"
     ]
    },
    {
     "data": {
      "image/png": "[encoded data removed]",
      "text/plain": [
       "<Figure size 1000x700 with 1 Axes>"
      ]
     },
     "metadata": {},
     "output_type": "display_data"
    }
   ],
   "source": [
    "# Make and plot predictions for model2\n",
    "y_pred2 = model2.predict(X_test)\n",
    "plot_predictions(predictions=y_pred2)"
   ]
  },
  {
   "cell_type": "code",
   "execution_count": 76,
   "metadata": {},
   "outputs": [
    {
     "data": {
      "text/plain": [
       "(<tf.Tensor: shape=(), dtype=float32, numpy=2.992288>,\n",
       " <tf.Tensor: shape=(), dtype=float32, numpy=11.7176075>)"
      ]
     },
     "execution_count": 76,
     "metadata": {},
     "output_type": "execute_result"
    }
   ],
   "source": [
    "# Calculate model2 evaluation metrics\n",
    "mae2 = MAE(y_true=y_test, y_pred=y_pred2)\n",
    "mse2 = MSE(y_true=y_test, y_pred=y_pred2)\n",
    "mae2,mse2"
   ]
  },
  {
   "cell_type": "code",
   "execution_count": 77,
   "metadata": {},
   "outputs": [
    {
     "name": "stdout",
     "output_type": "stream",
     "text": [
      "Epoch 1/500\n",
      "2/2 [==============================] - 0s 4ms/step - loss: 64.6669 - mse: 6238.8442\n",
      "Epoch 2/500\n",
      "2/2 [==============================] - 0s 3ms/step - loss: 43.5354 - mse: 2812.5017\n",
      "Epoch 3/500\n",
      "2/2 [==============================] - 0s 2ms/step - loss: 36.3352 - mse: 2005.9789\n",
      "Epoch 4/500\n",
      "2/2 [==============================] - 0s 3ms/step - loss: 17.8549 - mse: 493.3866\n",
      "Epoch 5/500\n",
      "2/2 [==============================] - 0s 4ms/step - loss: 22.6903 - mse: 761.7213\n",
      "Epoch 6/500\n",
      "2/2 [==============================] - 0s 2ms/step - loss: 13.1554 - mse: 239.6394\n",
      "Epoch 7/500\n",
      "2/2 [==============================] - 0s 2ms/step - loss: 12.4309 - mse: 200.1911\n",
      "Epoch 8/500\n",
      "2/2 [==============================] - 0s 4ms/step - loss: 14.2342 - mse: 288.8228\n",
      "Epoch 9/500\n",
      "2/2 [==============================] - 0s 4ms/step - loss: 32.8919 - mse: 1595.2261\n",
      "Epoch 10/500\n",
      "2/2 [==============================] - 0s 3ms/step - loss: 22.3572 - mse: 697.4058\n",
      "Epoch 11/500\n",
      "2/2 [==============================] - 0s 4ms/step - loss: 11.0686 - mse: 181.2829\n",
      "Epoch 12/500\n",
      "2/2 [==============================] - 0s 4ms/step - loss: 24.6032 - mse: 850.3389\n",
      "Epoch 13/500\n",
      "2/2 [==============================] - 0s 7ms/step - loss: 19.2866 - mse: 523.3146\n",
      "Epoch 14/500\n",
      "2/2 [==============================] - 0s 3ms/step - loss: 23.5197 - mse: 847.5681\n",
      "Epoch 15/500\n",
      "2/2 [==============================] - 0s 7ms/step - loss: 15.2949 - mse: 315.7159\n",
      "Epoch 16/500\n",
      "2/2 [==============================] - 0s 6ms/step - loss: 11.3752 - mse: 150.6158\n",
      "Epoch 17/500\n",
      "2/2 [==============================] - 0s 5ms/step - loss: 23.2481 - mse: 757.1368\n",
      "Epoch 18/500\n",
      "2/2 [==============================] - 0s 4ms/step - loss: 11.8060 - mse: 214.4892\n",
      "Epoch 19/500\n",
      "2/2 [==============================] - 0s 3ms/step - loss: 16.5326 - mse: 438.3306\n",
      "Epoch 20/500\n",
      "2/2 [==============================] - 0s 3ms/step - loss: 8.2409 - mse: 93.3630\n",
      "Epoch 21/500\n",
      "2/2 [==============================] - 0s 3ms/step - loss: 14.4051 - mse: 288.0745\n",
      "Epoch 22/500\n",
      "2/2 [==============================] - 0s 3ms/step - loss: 12.8163 - mse: 245.2931\n",
      "Epoch 23/500\n",
      "2/2 [==============================] - 0s 2ms/step - loss: 15.4567 - mse: 314.5721\n",
      "Epoch 24/500\n",
      "2/2 [==============================] - 0s 3ms/step - loss: 15.2447 - mse: 315.2260\n",
      "Epoch 25/500\n",
      "2/2 [==============================] - 0s 2ms/step - loss: 14.3272 - mse: 272.5421\n",
      "Epoch 26/500\n",
      "2/2 [==============================] - 0s 4ms/step - loss: 19.3172 - mse: 566.3564\n",
      "Epoch 27/500\n",
      "2/2 [==============================] - 0s 3ms/step - loss: 11.4711 - mse: 170.3977\n",
      "Epoch 28/500\n",
      "2/2 [==============================] - 0s 2ms/step - loss: 29.1907 - mse: 1385.5309\n",
      "Epoch 29/500\n",
      "2/2 [==============================] - 0s 3ms/step - loss: 9.2554 - mse: 94.3164\n",
      "Epoch 30/500\n",
      "2/2 [==============================] - 0s 3ms/step - loss: 29.9048 - mse: 1622.0525\n",
      "Epoch 31/500\n",
      "2/2 [==============================] - 0s 2ms/step - loss: 54.2748 - mse: 5278.2549\n",
      "Epoch 32/500\n",
      "2/2 [==============================] - 0s 3ms/step - loss: 9.5907 - mse: 101.4155\n",
      "Epoch 33/500\n",
      "2/2 [==============================] - 0s 2ms/step - loss: 12.1849 - mse: 182.4623\n",
      "Epoch 34/500\n",
      "2/2 [==============================] - 0s 3ms/step - loss: 23.9770 - mse: 871.3657\n",
      "Epoch 35/500\n",
      "2/2 [==============================] - 0s 3ms/step - loss: 12.6154 - mse: 243.2946\n",
      "Epoch 36/500\n",
      "2/2 [==============================] - 0s 5ms/step - loss: 21.5097 - mse: 659.9027\n",
      "Epoch 37/500\n",
      "2/2 [==============================] - 0s 2ms/step - loss: 11.4000 - mse: 150.5680\n",
      "Epoch 38/500\n",
      "2/2 [==============================] - 0s 4ms/step - loss: 13.4945 - mse: 270.6589\n",
      "Epoch 39/500\n",
      "2/2 [==============================] - 0s 2ms/step - loss: 10.8079 - mse: 140.0096\n",
      "Epoch 40/500\n",
      "2/2 [==============================] - 0s 4ms/step - loss: 16.6406 - mse: 401.6557\n",
      "Epoch 41/500\n",
      "2/2 [==============================] - 0s 4ms/step - loss: 10.9976 - mse: 179.9483\n",
      "Epoch 42/500\n",
      "2/2 [==============================] - 0s 3ms/step - loss: 9.3198 - mse: 115.0070\n",
      "Epoch 43/500\n",
      "2/2 [==============================] - 0s 2ms/step - loss: 9.6012 - mse: 110.7805\n",
      "Epoch 44/500\n",
      "2/2 [==============================] - 0s 2ms/step - loss: 28.0575 - mse: 1263.0549\n",
      "Epoch 45/500\n",
      "2/2 [==============================] - 0s 3ms/step - loss: 11.3057 - mse: 147.5918\n",
      "Epoch 46/500\n",
      "2/2 [==============================] - 0s 3ms/step - loss: 14.1128 - mse: 290.9424\n",
      "Epoch 47/500\n",
      "2/2 [==============================] - 0s 3ms/step - loss: 13.4887 - mse: 256.3083\n",
      "Epoch 48/500\n",
      "2/2 [==============================] - 0s 2ms/step - loss: 17.3185 - mse: 406.8466\n",
      "Epoch 49/500\n",
      "2/2 [==============================] - 0s 3ms/step - loss: 9.5337 - mse: 98.9696\n",
      "Epoch 50/500\n",
      "2/2 [==============================] - 0s 3ms/step - loss: 13.7356 - mse: 255.1242\n",
      "Epoch 51/500\n",
      "2/2 [==============================] - 0s 3ms/step - loss: 11.5734 - mse: 153.5131\n",
      "Epoch 52/500\n",
      "2/2 [==============================] - 0s 3ms/step - loss: 30.2893 - mse: 1582.9326\n",
      "Epoch 53/500\n",
      "2/2 [==============================] - 0s 2ms/step - loss: 14.2452 - mse: 297.2953\n",
      "Epoch 54/500\n",
      "2/2 [==============================] - 0s 2ms/step - loss: 23.5474 - mse: 834.3670\n",
      "Epoch 55/500\n",
      "2/2 [==============================] - 0s 3ms/step - loss: 24.4625 - mse: 902.9095\n",
      "Epoch 56/500\n",
      "2/2 [==============================] - 0s 3ms/step - loss: 11.3070 - mse: 171.7417\n",
      "Epoch 57/500\n",
      "2/2 [==============================] - 0s 3ms/step - loss: 13.3102 - mse: 222.6977\n",
      "Epoch 58/500\n",
      "2/2 [==============================] - 0s 2ms/step - loss: 9.9228 - mse: 108.7802\n",
      "Epoch 59/500\n",
      "2/2 [==============================] - 0s 2ms/step - loss: 13.8449 - mse: 271.8521\n",
      "Epoch 60/500\n",
      "2/2 [==============================] - 0s 3ms/step - loss: 9.9653 - mse: 118.6850\n",
      "Epoch 61/500\n",
      "2/2 [==============================] - 0s 3ms/step - loss: 14.8993 - mse: 304.5568\n",
      "Epoch 62/500\n",
      "2/2 [==============================] - 0s 3ms/step - loss: 11.8838 - mse: 193.8345\n",
      "Epoch 63/500\n",
      "2/2 [==============================] - 0s 3ms/step - loss: 10.2665 - mse: 132.8391\n",
      "Epoch 64/500\n",
      "2/2 [==============================] - 0s 3ms/step - loss: 23.7547 - mse: 828.8458\n",
      "Epoch 65/500\n",
      "2/2 [==============================] - 0s 3ms/step - loss: 10.4418 - mse: 128.7811\n",
      "Epoch 66/500\n",
      "2/2 [==============================] - 0s 4ms/step - loss: 20.8160 - mse: 636.4576\n",
      "Epoch 67/500\n",
      "2/2 [==============================] - 0s 3ms/step - loss: 10.4114 - mse: 125.2614\n",
      "Epoch 68/500\n",
      "2/2 [==============================] - 0s 2ms/step - loss: 14.0945 - mse: 298.8902\n",
      "Epoch 69/500\n",
      "2/2 [==============================] - 0s 3ms/step - loss: 10.4737 - mse: 124.7269\n",
      "Epoch 70/500\n",
      "2/2 [==============================] - 0s 3ms/step - loss: 12.5395 - mse: 199.2421\n",
      "Epoch 71/500\n",
      "2/2 [==============================] - 0s 2ms/step - loss: 12.9687 - mse: 223.3855\n",
      "Epoch 72/500\n",
      "2/2 [==============================] - 0s 2ms/step - loss: 19.2428 - mse: 525.2416\n",
      "Epoch 73/500\n",
      "2/2 [==============================] - 0s 3ms/step - loss: 11.1042 - mse: 194.3153\n",
      "Epoch 74/500\n",
      "2/2 [==============================] - 0s 3ms/step - loss: 21.3133 - mse: 708.3579\n",
      "Epoch 75/500\n",
      "2/2 [==============================] - 0s 3ms/step - loss: 9.4263 - mse: 152.3993\n",
      "Epoch 76/500\n",
      "2/2 [==============================] - 0s 4ms/step - loss: 12.2423 - mse: 181.5738\n",
      "Epoch 77/500\n",
      "2/2 [==============================] - 0s 3ms/step - loss: 16.2229 - mse: 404.7244\n",
      "Epoch 78/500\n",
      "2/2 [==============================] - 0s 2ms/step - loss: 8.9991 - mse: 91.1870\n",
      "Epoch 79/500\n",
      "2/2 [==============================] - 0s 2ms/step - loss: 23.4455 - mse: 822.1603\n",
      "Epoch 80/500\n",
      "2/2 [==============================] - 0s 3ms/step - loss: 26.1171 - mse: 1048.0427\n",
      "Epoch 81/500\n",
      "2/2 [==============================] - 0s 4ms/step - loss: 11.3779 - mse: 158.2325\n",
      "Epoch 82/500\n",
      "2/2 [==============================] - 0s 3ms/step - loss: 12.4843 - mse: 227.3087\n",
      "Epoch 83/500\n",
      "2/2 [==============================] - 0s 3ms/step - loss: 17.1655 - mse: 383.3921\n",
      "Epoch 84/500\n",
      "2/2 [==============================] - 0s 4ms/step - loss: 6.5743 - mse: 64.0974\n",
      "Epoch 85/500\n",
      "2/2 [==============================] - 0s 3ms/step - loss: 20.3237 - mse: 577.7070\n",
      "Epoch 86/500\n",
      "2/2 [==============================] - 0s 4ms/step - loss: 10.1580 - mse: 115.8606\n",
      "Epoch 87/500\n",
      "2/2 [==============================] - 0s 3ms/step - loss: 24.3811 - mse: 831.8709\n",
      "Epoch 88/500\n",
      "2/2 [==============================] - 0s 2ms/step - loss: 19.0459 - mse: 515.0503\n",
      "Epoch 89/500\n",
      "2/2 [==============================] - 0s 3ms/step - loss: 7.1499 - mse: 69.8111\n",
      "Epoch 90/500\n",
      "2/2 [==============================] - 0s 3ms/step - loss: 18.2334 - mse: 493.2232\n",
      "Epoch 91/500\n",
      "2/2 [==============================] - 0s 3ms/step - loss: 13.2813 - mse: 255.0944\n",
      "Epoch 92/500\n",
      "2/2 [==============================] - 0s 2ms/step - loss: 14.8218 - mse: 309.7425\n",
      "Epoch 93/500\n",
      "2/2 [==============================] - 0s 2ms/step - loss: 11.6193 - mse: 250.6605\n",
      "Epoch 94/500\n",
      "2/2 [==============================] - 0s 3ms/step - loss: 16.1750 - mse: 369.6083\n",
      "Epoch 95/500\n",
      "2/2 [==============================] - 0s 2ms/step - loss: 15.5159 - mse: 320.6013\n",
      "Epoch 96/500\n",
      "2/2 [==============================] - 0s 3ms/step - loss: 15.0447 - mse: 322.8948\n",
      "Epoch 97/500\n",
      "2/2 [==============================] - 0s 3ms/step - loss: 10.8746 - mse: 188.0770\n",
      "Epoch 98/500\n",
      "2/2 [==============================] - 0s 4ms/step - loss: 14.3327 - mse: 285.3345\n",
      "Epoch 99/500\n",
      "2/2 [==============================] - 0s 4ms/step - loss: 13.3582 - mse: 251.0129\n",
      "Epoch 100/500\n",
      "2/2 [==============================] - 0s 5ms/step - loss: 19.9567 - mse: 582.4954\n",
      "Epoch 101/500\n",
      "2/2 [==============================] - 0s 9ms/step - loss: 22.6048 - mse: 777.5080\n",
      "Epoch 102/500\n",
      "2/2 [==============================] - 0s 5ms/step - loss: 11.2999 - mse: 165.6997\n",
      "Epoch 103/500\n",
      "2/2 [==============================] - 0s 6ms/step - loss: 9.3603 - mse: 96.4906\n",
      "Epoch 104/500\n",
      "2/2 [==============================] - 0s 3ms/step - loss: 25.2552 - mse: 960.5197\n",
      "Epoch 105/500\n",
      "2/2 [==============================] - 0s 4ms/step - loss: 12.4622 - mse: 234.1337\n",
      "Epoch 106/500\n",
      "2/2 [==============================] - 0s 2ms/step - loss: 9.4011 - mse: 106.0130\n",
      "Epoch 107/500\n",
      "2/2 [==============================] - 0s 4ms/step - loss: 23.2857 - mse: 817.6937\n",
      "Epoch 108/500\n",
      "2/2 [==============================] - 0s 2ms/step - loss: 8.2834 - mse: 88.0168\n",
      "Epoch 109/500\n",
      "2/2 [==============================] - 0s 2ms/step - loss: 14.0844 - mse: 281.3783\n",
      "Epoch 110/500\n",
      "2/2 [==============================] - 0s 2ms/step - loss: 10.6050 - mse: 205.6998\n",
      "Epoch 111/500\n",
      "2/2 [==============================] - 0s 2ms/step - loss: 16.9111 - mse: 407.1519\n",
      "Epoch 112/500\n",
      "2/2 [==============================] - 0s 3ms/step - loss: 8.2728 - mse: 96.2033\n",
      "Epoch 113/500\n",
      "2/2 [==============================] - 0s 3ms/step - loss: 19.7574 - mse: 564.1262\n",
      "Epoch 114/500\n",
      "2/2 [==============================] - 0s 4ms/step - loss: 17.4554 - mse: 456.8526\n",
      "Epoch 115/500\n",
      "2/2 [==============================] - 0s 2ms/step - loss: 11.2447 - mse: 160.6597\n",
      "Epoch 116/500\n",
      "2/2 [==============================] - 0s 3ms/step - loss: 23.6530 - mse: 816.9020\n",
      "Epoch 117/500\n",
      "2/2 [==============================] - 0s 3ms/step - loss: 9.7518 - mse: 126.6875\n",
      "Epoch 118/500\n",
      "2/2 [==============================] - 0s 3ms/step - loss: 10.8390 - mse: 144.2072\n",
      "Epoch 119/500\n",
      "2/2 [==============================] - 0s 3ms/step - loss: 8.0873 - mse: 81.1543\n",
      "Epoch 120/500\n",
      "2/2 [==============================] - 0s 3ms/step - loss: 30.0415 - mse: 1350.2185\n",
      "Epoch 121/500\n",
      "2/2 [==============================] - 0s 2ms/step - loss: 8.1167 - mse: 71.8539\n",
      "Epoch 122/500\n",
      "2/2 [==============================] - 0s 3ms/step - loss: 28.5850 - mse: 1262.4952\n",
      "Epoch 123/500\n",
      "2/2 [==============================] - 0s 3ms/step - loss: 33.2407 - mse: 1628.4861\n",
      "Epoch 124/500\n",
      "2/2 [==============================] - 0s 3ms/step - loss: 19.8939 - mse: 587.7018\n",
      "Epoch 125/500\n",
      "2/2 [==============================] - 0s 4ms/step - loss: 7.6904 - mse: 93.4646\n",
      "Epoch 126/500\n",
      "2/2 [==============================] - 0s 2ms/step - loss: 17.1498 - mse: 404.1959\n",
      "Epoch 127/500\n",
      "2/2 [==============================] - 0s 2ms/step - loss: 7.5228 - mse: 68.0980\n",
      "Epoch 128/500\n",
      "2/2 [==============================] - 0s 5ms/step - loss: 18.1382 - mse: 474.9294\n",
      "Epoch 129/500\n",
      "2/2 [==============================] - 0s 2ms/step - loss: 8.7919 - mse: 100.5304\n",
      "Epoch 130/500\n",
      "2/2 [==============================] - 0s 3ms/step - loss: 22.5430 - mse: 715.1674\n",
      "Epoch 131/500\n",
      "2/2 [==============================] - 0s 4ms/step - loss: 10.2507 - mse: 147.6740\n",
      "Epoch 132/500\n",
      "2/2 [==============================] - 0s 3ms/step - loss: 15.0130 - mse: 338.6009\n",
      "Epoch 133/500\n",
      "2/2 [==============================] - 0s 3ms/step - loss: 7.1029 - mse: 66.1631\n",
      "Epoch 134/500\n",
      "2/2 [==============================] - 0s 3ms/step - loss: 23.8832 - mse: 814.8910\n",
      "Epoch 135/500\n",
      "2/2 [==============================] - 0s 2ms/step - loss: 16.5817 - mse: 385.7228\n",
      "Epoch 136/500\n",
      "2/2 [==============================] - 0s 3ms/step - loss: 14.8104 - mse: 307.0132\n",
      "Epoch 137/500\n",
      "2/2 [==============================] - 0s 3ms/step - loss: 23.0348 - mse: 715.5771\n",
      "Epoch 138/500\n",
      "2/2 [==============================] - 0s 4ms/step - loss: 9.0970 - mse: 140.1312\n",
      "Epoch 139/500\n",
      "2/2 [==============================] - 0s 2ms/step - loss: 8.8977 - mse: 145.8565\n",
      "Epoch 140/500\n",
      "2/2 [==============================] - 0s 4ms/step - loss: 16.3725 - mse: 384.7712\n",
      "Epoch 141/500\n",
      "2/2 [==============================] - 0s 3ms/step - loss: 8.4294 - mse: 90.4097\n",
      "Epoch 142/500\n",
      "2/2 [==============================] - 0s 8ms/step - loss: 36.7375 - mse: 2374.3657\n",
      "Epoch 143/500\n",
      "2/2 [==============================] - 0s 4ms/step - loss: 25.4151 - mse: 914.1551\n",
      "Epoch 144/500\n",
      "2/2 [==============================] - 0s 2ms/step - loss: 9.5575 - mse: 143.4045\n",
      "Epoch 145/500\n",
      "2/2 [==============================] - 0s 3ms/step - loss: 26.6584 - mse: 960.7380\n",
      "Epoch 146/500\n",
      "2/2 [==============================] - 0s 2ms/step - loss: 8.6652 - mse: 108.7989\n",
      "Epoch 147/500\n",
      "2/2 [==============================] - 0s 3ms/step - loss: 15.6714 - mse: 312.2885\n",
      "Epoch 148/500\n",
      "2/2 [==============================] - 0s 3ms/step - loss: 18.3761 - mse: 468.4439\n",
      "Epoch 149/500\n",
      "2/2 [==============================] - 0s 3ms/step - loss: 8.1567 - mse: 107.2641\n",
      "Epoch 150/500\n",
      "2/2 [==============================] - 0s 4ms/step - loss: 7.4893 - mse: 67.0519\n",
      "Epoch 151/500\n",
      "2/2 [==============================] - 0s 4ms/step - loss: 18.1912 - mse: 477.7042\n",
      "Epoch 152/500\n",
      "2/2 [==============================] - 0s 2ms/step - loss: 10.2648 - mse: 129.4476\n",
      "Epoch 153/500\n",
      "2/2 [==============================] - 0s 2ms/step - loss: 29.4065 - mse: 1246.0623\n",
      "Epoch 154/500\n",
      "2/2 [==============================] - 0s 2ms/step - loss: 10.6088 - mse: 200.4064\n",
      "Epoch 155/500\n",
      "2/2 [==============================] - 0s 3ms/step - loss: 15.5020 - mse: 350.3409\n",
      "Epoch 156/500\n",
      "2/2 [==============================] - 0s 3ms/step - loss: 17.1191 - mse: 442.6522\n",
      "Epoch 157/500\n",
      "2/2 [==============================] - 0s 3ms/step - loss: 32.5588 - mse: 1714.9281\n",
      "Epoch 158/500\n",
      "2/2 [==============================] - 0s 3ms/step - loss: 10.6410 - mse: 149.1347\n",
      "Epoch 159/500\n",
      "2/2 [==============================] - 0s 3ms/step - loss: 8.8830 - mse: 97.7478\n",
      "Epoch 160/500\n",
      "2/2 [==============================] - 0s 3ms/step - loss: 21.9394 - mse: 696.1279\n",
      "Epoch 161/500\n",
      "2/2 [==============================] - 0s 3ms/step - loss: 11.1101 - mse: 177.3403\n",
      "Epoch 162/500\n",
      "2/2 [==============================] - 0s 2ms/step - loss: 21.4709 - mse: 663.5384\n",
      "Epoch 163/500\n",
      "2/2 [==============================] - 0s 3ms/step - loss: 19.1529 - mse: 528.0620\n",
      "Epoch 164/500\n",
      "2/2 [==============================] - 0s 2ms/step - loss: 10.9627 - mse: 175.4033\n",
      "Epoch 165/500\n",
      "2/2 [==============================] - 0s 3ms/step - loss: 9.6418 - mse: 178.8844\n",
      "Epoch 166/500\n",
      "2/2 [==============================] - 0s 3ms/step - loss: 21.6477 - mse: 684.8855\n",
      "Epoch 167/500\n",
      "2/2 [==============================] - 0s 3ms/step - loss: 26.1475 - mse: 1037.3289\n",
      "Epoch 168/500\n",
      "2/2 [==============================] - 0s 3ms/step - loss: 9.8376 - mse: 118.1397\n",
      "Epoch 169/500\n",
      "2/2 [==============================] - 0s 4ms/step - loss: 22.4203 - mse: 777.0231\n",
      "Epoch 170/500\n",
      "2/2 [==============================] - 0s 3ms/step - loss: 10.1790 - mse: 195.1458\n",
      "Epoch 171/500\n",
      "2/2 [==============================] - 0s 2ms/step - loss: 18.1102 - mse: 506.2668\n",
      "Epoch 172/500\n",
      "2/2 [==============================] - 0s 2ms/step - loss: 28.6854 - mse: 1290.8303\n",
      "Epoch 173/500\n",
      "2/2 [==============================] - 0s 3ms/step - loss: 16.4112 - mse: 426.7667\n",
      "Epoch 174/500\n",
      "2/2 [==============================] - 0s 3ms/step - loss: 11.7361 - mse: 226.2322\n",
      "Epoch 175/500\n",
      "2/2 [==============================] - 0s 2ms/step - loss: 27.1760 - mse: 1068.6946\n",
      "Epoch 176/500\n",
      "2/2 [==============================] - 0s 3ms/step - loss: 8.7497 - mse: 89.3290\n",
      "Epoch 177/500\n",
      "2/2 [==============================] - 0s 4ms/step - loss: 8.7685 - mse: 104.8430\n",
      "Epoch 178/500\n",
      "2/2 [==============================] - 0s 3ms/step - loss: 16.1936 - mse: 377.4785\n",
      "Epoch 179/500\n",
      "2/2 [==============================] - 0s 3ms/step - loss: 10.4041 - mse: 143.4960\n",
      "Epoch 180/500\n",
      "2/2 [==============================] - 0s 2ms/step - loss: 7.9894 - mse: 98.1871\n",
      "Epoch 181/500\n",
      "2/2 [==============================] - 0s 2ms/step - loss: 17.7703 - mse: 456.4868\n",
      "Epoch 182/500\n",
      "2/2 [==============================] - 0s 3ms/step - loss: 11.1901 - mse: 162.1384\n",
      "Epoch 183/500\n",
      "2/2 [==============================] - 0s 2ms/step - loss: 12.3992 - mse: 232.2527\n",
      "Epoch 184/500\n",
      "2/2 [==============================] - 0s 4ms/step - loss: 27.3822 - mse: 1113.3715\n",
      "Epoch 185/500\n",
      "2/2 [==============================] - 0s 6ms/step - loss: 7.5579 - mse: 99.5714\n",
      "Epoch 186/500\n",
      "2/2 [==============================] - 0s 3ms/step - loss: 15.9409 - mse: 367.0342\n",
      "Epoch 187/500\n",
      "2/2 [==============================] - 0s 5ms/step - loss: 8.5912 - mse: 85.6789\n",
      "Epoch 188/500\n",
      "2/2 [==============================] - 0s 4ms/step - loss: 28.8931 - mse: 1189.6780\n",
      "Epoch 189/500\n",
      "2/2 [==============================] - 0s 3ms/step - loss: 13.1418 - mse: 271.9769\n",
      "Epoch 190/500\n",
      "2/2 [==============================] - 0s 2ms/step - loss: 18.2807 - mse: 510.1474\n",
      "Epoch 191/500\n",
      "2/2 [==============================] - 0s 5ms/step - loss: 13.7032 - mse: 263.6805\n",
      "Epoch 192/500\n",
      "2/2 [==============================] - 0s 2ms/step - loss: 13.7029 - mse: 261.6517\n",
      "Epoch 193/500\n",
      "2/2 [==============================] - 0s 3ms/step - loss: 28.5538 - mse: 1132.7737\n",
      "Epoch 194/500\n",
      "2/2 [==============================] - 0s 3ms/step - loss: 7.1187 - mse: 78.7282\n",
      "Epoch 195/500\n",
      "2/2 [==============================] - 0s 3ms/step - loss: 7.0667 - mse: 75.4064\n",
      "Epoch 196/500\n",
      "2/2 [==============================] - 0s 2ms/step - loss: 21.9685 - mse: 707.1359\n",
      "Epoch 197/500\n",
      "2/2 [==============================] - 0s 2ms/step - loss: 20.9262 - mse: 649.0096\n",
      "Epoch 198/500\n",
      "2/2 [==============================] - 0s 3ms/step - loss: 12.5238 - mse: 238.2051\n",
      "Epoch 199/500\n",
      "2/2 [==============================] - 0s 3ms/step - loss: 17.9801 - mse: 463.8379\n",
      "Epoch 200/500\n",
      "2/2 [==============================] - 0s 4ms/step - loss: 13.8157 - mse: 285.0078\n",
      "Epoch 201/500\n",
      "2/2 [==============================] - 0s 3ms/step - loss: 6.0464 - mse: 51.5323\n",
      "Epoch 202/500\n",
      "2/2 [==============================] - 0s 3ms/step - loss: 22.8128 - mse: 742.3442\n",
      "Epoch 203/500\n",
      "2/2 [==============================] - 0s 3ms/step - loss: 8.9533 - mse: 153.8841\n",
      "Epoch 204/500\n",
      "2/2 [==============================] - 0s 3ms/step - loss: 18.7951 - mse: 529.8742\n",
      "Epoch 205/500\n",
      "2/2 [==============================] - 0s 2ms/step - loss: 9.3522 - mse: 127.2528\n",
      "Epoch 206/500\n",
      "2/2 [==============================] - 0s 2ms/step - loss: 10.4221 - mse: 142.9696\n",
      "Epoch 207/500\n",
      "2/2 [==============================] - 0s 4ms/step - loss: 21.0652 - mse: 674.4325\n",
      "Epoch 208/500\n",
      "2/2 [==============================] - 0s 2ms/step - loss: 16.4459 - mse: 389.4687\n",
      "Epoch 209/500\n",
      "2/2 [==============================] - 0s 7ms/step - loss: 14.3454 - mse: 317.5591\n",
      "Epoch 210/500\n",
      "2/2 [==============================] - 0s 3ms/step - loss: 19.3448 - mse: 545.2658\n",
      "Epoch 211/500\n",
      "2/2 [==============================] - 0s 3ms/step - loss: 10.3043 - mse: 146.8614\n",
      "Epoch 212/500\n",
      "2/2 [==============================] - 0s 3ms/step - loss: 20.1163 - mse: 607.3763\n",
      "Epoch 213/500\n",
      "2/2 [==============================] - 0s 3ms/step - loss: 15.0833 - mse: 309.0417\n",
      "Epoch 214/500\n",
      "2/2 [==============================] - 0s 3ms/step - loss: 14.6185 - mse: 295.0736\n",
      "Epoch 215/500\n",
      "2/2 [==============================] - 0s 2ms/step - loss: 23.3531 - mse: 802.3646\n",
      "Epoch 216/500\n",
      "2/2 [==============================] - 0s 4ms/step - loss: 13.2830 - mse: 275.4678\n",
      "Epoch 217/500\n",
      "2/2 [==============================] - 0s 5ms/step - loss: 9.8088 - mse: 134.3443\n",
      "Epoch 218/500\n",
      "2/2 [==============================] - 0s 2ms/step - loss: 12.6144 - mse: 208.4751\n",
      "Epoch 219/500\n",
      "2/2 [==============================] - 0s 2ms/step - loss: 5.3498 - mse: 39.6292\n",
      "Epoch 220/500\n",
      "2/2 [==============================] - 0s 6ms/step - loss: 14.7038 - mse: 284.3494\n",
      "Epoch 221/500\n",
      "2/2 [==============================] - 0s 3ms/step - loss: 33.5474 - mse: 1537.5671\n",
      "Epoch 222/500\n",
      "2/2 [==============================] - 0s 3ms/step - loss: 13.9091 - mse: 238.4342\n",
      "Epoch 223/500\n",
      "2/2 [==============================] - 0s 4ms/step - loss: 11.0044 - mse: 179.9053\n",
      "Epoch 224/500\n",
      "2/2 [==============================] - 0s 3ms/step - loss: 14.9600 - mse: 334.5881\n",
      "Epoch 225/500\n",
      "2/2 [==============================] - 0s 3ms/step - loss: 17.0095 - mse: 375.3339\n",
      "Epoch 226/500\n",
      "2/2 [==============================] - 0s 3ms/step - loss: 16.1973 - mse: 386.3366\n",
      "Epoch 227/500\n",
      "2/2 [==============================] - 0s 4ms/step - loss: 16.5187 - mse: 386.1604\n",
      "Epoch 228/500\n",
      "2/2 [==============================] - 0s 4ms/step - loss: 9.9547 - mse: 185.0938\n",
      "Epoch 229/500\n",
      "2/2 [==============================] - 0s 3ms/step - loss: 17.8552 - mse: 444.6657\n",
      "Epoch 230/500\n",
      "2/2 [==============================] - 0s 6ms/step - loss: 15.4739 - mse: 311.0507\n",
      "Epoch 231/500\n",
      "2/2 [==============================] - 0s 2ms/step - loss: 20.9081 - mse: 655.9268\n",
      "Epoch 232/500\n",
      "2/2 [==============================] - 0s 6ms/step - loss: 25.9517 - mse: 966.6555\n",
      "Epoch 233/500\n",
      "2/2 [==============================] - 0s 4ms/step - loss: 17.0290 - mse: 422.2093\n",
      "Epoch 234/500\n",
      "2/2 [==============================] - 0s 2ms/step - loss: 7.0438 - mse: 65.7987\n",
      "Epoch 235/500\n",
      "2/2 [==============================] - 0s 3ms/step - loss: 15.9974 - mse: 358.9338\n",
      "Epoch 236/500\n",
      "2/2 [==============================] - 0s 2ms/step - loss: 6.7911 - mse: 70.6478\n",
      "Epoch 237/500\n",
      "2/2 [==============================] - 0s 4ms/step - loss: 8.7386 - mse: 114.8633\n",
      "Epoch 238/500\n",
      "2/2 [==============================] - 0s 4ms/step - loss: 7.8453 - mse: 87.4602\n",
      "Epoch 239/500\n",
      "2/2 [==============================] - 0s 2ms/step - loss: 15.8957 - mse: 383.4861\n",
      "Epoch 240/500\n",
      "2/2 [==============================] - 0s 3ms/step - loss: 9.1210 - mse: 110.4973\n",
      "Epoch 241/500\n",
      "2/2 [==============================] - 0s 3ms/step - loss: 13.6176 - mse: 284.9727\n",
      "Epoch 242/500\n",
      "2/2 [==============================] - 0s 3ms/step - loss: 8.9832 - mse: 110.0393\n",
      "Epoch 243/500\n",
      "2/2 [==============================] - 0s 3ms/step - loss: 19.6121 - mse: 586.8348\n",
      "Epoch 244/500\n",
      "2/2 [==============================] - 0s 3ms/step - loss: 13.8023 - mse: 269.8192\n",
      "Epoch 245/500\n",
      "2/2 [==============================] - 0s 4ms/step - loss: 14.4667 - mse: 279.6508\n",
      "Epoch 246/500\n",
      "2/2 [==============================] - 0s 3ms/step - loss: 18.1210 - mse: 527.3103\n",
      "Epoch 247/500\n",
      "2/2 [==============================] - 0s 3ms/step - loss: 37.2089 - mse: 2164.6978\n",
      "Epoch 248/500\n",
      "2/2 [==============================] - 0s 5ms/step - loss: 6.7769 - mse: 77.0441\n",
      "Epoch 249/500\n",
      "2/2 [==============================] - 0s 5ms/step - loss: 8.0076 - mse: 81.8034\n",
      "Epoch 250/500\n",
      "2/2 [==============================] - 0s 5ms/step - loss: 24.9385 - mse: 954.2482\n",
      "Epoch 251/500\n",
      "2/2 [==============================] - 0s 3ms/step - loss: 10.4377 - mse: 214.4034\n",
      "Epoch 252/500\n",
      "2/2 [==============================] - 0s 4ms/step - loss: 30.8347 - mse: 1323.9854\n",
      "Epoch 253/500\n",
      "2/2 [==============================] - 0s 2ms/step - loss: 8.1513 - mse: 153.2297\n",
      "Epoch 254/500\n",
      "2/2 [==============================] - 0s 3ms/step - loss: 16.3046 - mse: 410.1247\n",
      "Epoch 255/500\n",
      "2/2 [==============================] - 0s 2ms/step - loss: 22.0537 - mse: 737.3727\n",
      "Epoch 256/500\n",
      "2/2 [==============================] - 0s 4ms/step - loss: 26.7993 - mse: 1018.8947\n",
      "Epoch 257/500\n",
      "2/2 [==============================] - 0s 2ms/step - loss: 11.8760 - mse: 216.7202\n",
      "Epoch 258/500\n",
      "2/2 [==============================] - 0s 4ms/step - loss: 8.5085 - mse: 93.2499\n",
      "Epoch 259/500\n",
      "2/2 [==============================] - 0s 3ms/step - loss: 22.8018 - mse: 776.5804\n",
      "Epoch 260/500\n",
      "2/2 [==============================] - 0s 3ms/step - loss: 31.2584 - mse: 1491.0343\n",
      "Epoch 261/500\n",
      "2/2 [==============================] - 0s 2ms/step - loss: 11.0912 - mse: 175.3186\n",
      "Epoch 262/500\n",
      "2/2 [==============================] - 0s 3ms/step - loss: 9.9602 - mse: 137.7184\n",
      "Epoch 263/500\n",
      "2/2 [==============================] - 0s 2ms/step - loss: 8.9130 - mse: 102.8007\n",
      "Epoch 264/500\n",
      "2/2 [==============================] - 0s 2ms/step - loss: 21.2087 - mse: 631.5667\n",
      "Epoch 265/500\n",
      "2/2 [==============================] - 0s 4ms/step - loss: 11.5543 - mse: 199.8522\n",
      "Epoch 266/500\n",
      "2/2 [==============================] - 0s 2ms/step - loss: 13.4082 - mse: 257.6546\n",
      "Epoch 267/500\n",
      "2/2 [==============================] - 0s 4ms/step - loss: 11.1507 - mse: 230.5192\n",
      "Epoch 268/500\n",
      "2/2 [==============================] - 0s 3ms/step - loss: 19.3036 - mse: 556.4987\n",
      "Epoch 269/500\n",
      "2/2 [==============================] - 0s 3ms/step - loss: 40.2593 - mse: 2509.5635\n",
      "Epoch 270/500\n",
      "2/2 [==============================] - 0s 4ms/step - loss: 12.7003 - mse: 249.1541\n",
      "Epoch 271/500\n",
      "2/2 [==============================] - 0s 4ms/step - loss: 14.8147 - mse: 280.7994\n",
      "Epoch 272/500\n",
      "2/2 [==============================] - 0s 4ms/step - loss: 28.5953 - mse: 1122.0784\n",
      "Epoch 273/500\n",
      "2/2 [==============================] - 0s 2ms/step - loss: 7.3004 - mse: 84.4630\n",
      "Epoch 274/500\n",
      "2/2 [==============================] - 0s 2ms/step - loss: 6.3775 - mse: 46.6013\n",
      "Epoch 275/500\n",
      "2/2 [==============================] - 0s 3ms/step - loss: 36.4567 - mse: 2032.2487\n",
      "Epoch 276/500\n",
      "2/2 [==============================] - 0s 3ms/step - loss: 8.2699 - mse: 111.7637\n",
      "Epoch 277/500\n",
      "2/2 [==============================] - 0s 2ms/step - loss: 27.3478 - mse: 1021.5222\n",
      "Epoch 278/500\n",
      "2/2 [==============================] - 0s 2ms/step - loss: 10.7649 - mse: 210.3123\n",
      "Epoch 279/500\n",
      "2/2 [==============================] - 0s 4ms/step - loss: 16.1791 - mse: 395.3218\n",
      "Epoch 280/500\n",
      "2/2 [==============================] - 0s 2ms/step - loss: 21.3773 - mse: 688.7560\n",
      "Epoch 281/500\n",
      "2/2 [==============================] - 0s 2ms/step - loss: 23.4535 - mse: 839.7220\n",
      "Epoch 282/500\n",
      "2/2 [==============================] - 0s 4ms/step - loss: 8.1869 - mse: 95.3203\n",
      "Epoch 283/500\n",
      "2/2 [==============================] - 0s 3ms/step - loss: 8.4099 - mse: 96.2842\n",
      "Epoch 284/500\n",
      "2/2 [==============================] - 0s 5ms/step - loss: 26.1797 - mse: 1041.0144\n",
      "Epoch 285/500\n",
      "2/2 [==============================] - 0s 2ms/step - loss: 14.8137 - mse: 347.7141\n",
      "Epoch 286/500\n",
      "2/2 [==============================] - 0s 3ms/step - loss: 8.6743 - mse: 152.2906\n",
      "Epoch 287/500\n",
      "2/2 [==============================] - 0s 4ms/step - loss: 22.4820 - mse: 740.0316\n",
      "Epoch 288/500\n",
      "2/2 [==============================] - 0s 3ms/step - loss: 22.8967 - mse: 783.5010\n",
      "Epoch 289/500\n",
      "2/2 [==============================] - 0s 2ms/step - loss: 12.1891 - mse: 242.2213\n",
      "Epoch 290/500\n",
      "2/2 [==============================] - 0s 3ms/step - loss: 16.7486 - mse: 378.7701\n",
      "Epoch 291/500\n",
      "2/2 [==============================] - 0s 2ms/step - loss: 17.0795 - mse: 429.2873\n",
      "Epoch 292/500\n",
      "2/2 [==============================] - 0s 3ms/step - loss: 10.2411 - mse: 248.0544\n",
      "Epoch 293/500\n",
      "2/2 [==============================] - 0s 5ms/step - loss: 15.0106 - mse: 304.7324\n",
      "Epoch 294/500\n",
      "2/2 [==============================] - 0s 4ms/step - loss: 22.1689 - mse: 748.9378\n",
      "Epoch 295/500\n",
      "2/2 [==============================] - 0s 6ms/step - loss: 19.1554 - mse: 525.9940\n",
      "Epoch 296/500\n",
      "2/2 [==============================] - 0s 3ms/step - loss: 6.7042 - mse: 60.4678\n",
      "Epoch 297/500\n",
      "2/2 [==============================] - 0s 4ms/step - loss: 9.7298 - mse: 202.5962\n",
      "Epoch 298/500\n",
      "2/2 [==============================] - 0s 3ms/step - loss: 23.8711 - mse: 829.0555\n",
      "Epoch 299/500\n",
      "2/2 [==============================] - 0s 2ms/step - loss: 18.7399 - mse: 524.2604\n",
      "Epoch 300/500\n",
      "2/2 [==============================] - 0s 3ms/step - loss: 8.2978 - mse: 101.3289\n",
      "Epoch 301/500\n",
      "2/2 [==============================] - 0s 4ms/step - loss: 18.8479 - mse: 494.9784\n",
      "Epoch 302/500\n",
      "2/2 [==============================] - 0s 2ms/step - loss: 6.7949 - mse: 79.4704\n",
      "Epoch 303/500\n",
      "2/2 [==============================] - 0s 3ms/step - loss: 15.7749 - mse: 368.2271\n",
      "Epoch 304/500\n",
      "2/2 [==============================] - 0s 2ms/step - loss: 10.7247 - mse: 167.7904\n",
      "Epoch 305/500\n",
      "2/2 [==============================] - 0s 7ms/step - loss: 12.4400 - mse: 260.0397\n",
      "Epoch 306/500\n",
      "2/2 [==============================] - 0s 6ms/step - loss: 8.1956 - mse: 90.1476\n",
      "Epoch 307/500\n",
      "2/2 [==============================] - 0s 4ms/step - loss: 12.8906 - mse: 250.6691\n",
      "Epoch 308/500\n",
      "2/2 [==============================] - 0s 4ms/step - loss: 8.0551 - mse: 88.3331\n",
      "Epoch 309/500\n",
      "2/2 [==============================] - 0s 3ms/step - loss: 11.5276 - mse: 217.9337\n",
      "Epoch 310/500\n",
      "2/2 [==============================] - 0s 4ms/step - loss: 6.2548 - mse: 73.1793\n",
      "Epoch 311/500\n",
      "2/2 [==============================] - 0s 3ms/step - loss: 5.9261 - mse: 49.7250\n",
      "Epoch 312/500\n",
      "2/2 [==============================] - 0s 3ms/step - loss: 28.2877 - mse: 1112.5574\n",
      "Epoch 313/500\n",
      "2/2 [==============================] - 0s 3ms/step - loss: 11.8072 - mse: 210.4787\n",
      "Epoch 314/500\n",
      "2/2 [==============================] - 0s 4ms/step - loss: 12.6058 - mse: 268.4402\n",
      "Epoch 315/500\n",
      "2/2 [==============================] - 0s 5ms/step - loss: 24.3525 - mse: 856.7189\n",
      "Epoch 316/500\n",
      "2/2 [==============================] - 0s 3ms/step - loss: 15.0782 - mse: 348.8308\n",
      "Epoch 317/500\n",
      "2/2 [==============================] - 0s 2ms/step - loss: 20.8755 - mse: 594.1196\n",
      "Epoch 318/500\n",
      "2/2 [==============================] - 0s 3ms/step - loss: 9.2668 - mse: 121.7776\n",
      "Epoch 319/500\n",
      "2/2 [==============================] - 0s 5ms/step - loss: 11.8611 - mse: 235.2078\n",
      "Epoch 320/500\n",
      "2/2 [==============================] - 0s 3ms/step - loss: 12.5002 - mse: 258.6740\n",
      "Epoch 321/500\n",
      "2/2 [==============================] - 0s 3ms/step - loss: 5.3741 - mse: 62.9409\n",
      "Epoch 322/500\n",
      "2/2 [==============================] - 0s 2ms/step - loss: 14.1888 - mse: 274.8295\n",
      "Epoch 323/500\n",
      "2/2 [==============================] - 0s 3ms/step - loss: 18.5932 - mse: 533.7540\n",
      "Epoch 324/500\n",
      "2/2 [==============================] - 0s 3ms/step - loss: 18.0958 - mse: 489.2573\n",
      "Epoch 325/500\n",
      "2/2 [==============================] - 0s 4ms/step - loss: 7.2456 - mse: 119.0815\n",
      "Epoch 326/500\n",
      "2/2 [==============================] - 0s 3ms/step - loss: 22.0919 - mse: 720.2428\n",
      "Epoch 327/500\n",
      "2/2 [==============================] - 0s 2ms/step - loss: 22.0881 - mse: 688.0224\n",
      "Epoch 328/500\n",
      "2/2 [==============================] - 0s 2ms/step - loss: 13.2723 - mse: 251.8233\n",
      "Epoch 329/500\n",
      "2/2 [==============================] - 0s 3ms/step - loss: 16.1763 - mse: 395.1428\n",
      "Epoch 330/500\n",
      "2/2 [==============================] - 0s 3ms/step - loss: 11.9506 - mse: 295.3672\n",
      "Epoch 331/500\n",
      "2/2 [==============================] - 0s 2ms/step - loss: 22.1297 - mse: 726.9847\n",
      "Epoch 332/500\n",
      "2/2 [==============================] - 0s 3ms/step - loss: 21.1905 - mse: 627.0297\n",
      "Epoch 333/500\n",
      "2/2 [==============================] - 0s 3ms/step - loss: 12.0137 - mse: 227.8386\n",
      "Epoch 334/500\n",
      "2/2 [==============================] - 0s 3ms/step - loss: 8.3314 - mse: 171.6766\n",
      "Epoch 335/500\n",
      "2/2 [==============================] - 0s 2ms/step - loss: 12.5126 - mse: 281.0855\n",
      "Epoch 336/500\n",
      "2/2 [==============================] - 0s 4ms/step - loss: 32.1820 - mse: 1412.2745\n",
      "Epoch 337/500\n",
      "2/2 [==============================] - 0s 3ms/step - loss: 10.4224 - mse: 180.7576\n",
      "Epoch 338/500\n",
      "2/2 [==============================] - 0s 3ms/step - loss: 19.6193 - mse: 569.9357\n",
      "Epoch 339/500\n",
      "2/2 [==============================] - 0s 5ms/step - loss: 35.2651 - mse: 1871.6211\n",
      "Epoch 340/500\n",
      "2/2 [==============================] - 0s 2ms/step - loss: 10.1065 - mse: 160.3093\n",
      "Epoch 341/500\n",
      "2/2 [==============================] - 0s 2ms/step - loss: 13.7979 - mse: 287.6268\n",
      "Epoch 342/500\n",
      "2/2 [==============================] - 0s 2ms/step - loss: 15.3619 - mse: 330.1774\n",
      "Epoch 343/500\n",
      "2/2 [==============================] - 0s 3ms/step - loss: 11.0016 - mse: 167.6327\n",
      "Epoch 344/500\n",
      "2/2 [==============================] - 0s 4ms/step - loss: 9.9969 - mse: 212.2281\n",
      "Epoch 345/500\n",
      "2/2 [==============================] - 0s 3ms/step - loss: 30.9811 - mse: 1349.2068\n",
      "Epoch 346/500\n",
      "2/2 [==============================] - 0s 3ms/step - loss: 10.7010 - mse: 255.7751\n",
      "Epoch 347/500\n",
      "2/2 [==============================] - 0s 3ms/step - loss: 25.6736 - mse: 922.2167\n",
      "Epoch 348/500\n",
      "2/2 [==============================] - 0s 3ms/step - loss: 13.0486 - mse: 265.6697\n",
      "Epoch 349/500\n",
      "2/2 [==============================] - 0s 4ms/step - loss: 13.1484 - mse: 250.0412\n",
      "Epoch 350/500\n",
      "2/2 [==============================] - 0s 2ms/step - loss: 15.4537 - mse: 332.0451\n",
      "Epoch 351/500\n",
      "2/2 [==============================] - 0s 3ms/step - loss: 32.9353 - mse: 1522.1233\n",
      "Epoch 352/500\n",
      "2/2 [==============================] - 0s 2ms/step - loss: 14.1939 - mse: 282.5143\n",
      "Epoch 353/500\n",
      "2/2 [==============================] - 0s 4ms/step - loss: 15.9122 - mse: 372.8647\n",
      "Epoch 354/500\n",
      "2/2 [==============================] - 0s 2ms/step - loss: 19.0650 - mse: 533.2770\n",
      "Epoch 355/500\n",
      "2/2 [==============================] - 0s 3ms/step - loss: 34.1972 - mse: 1792.7986\n",
      "Epoch 356/500\n",
      "2/2 [==============================] - 0s 2ms/step - loss: 7.7632 - mse: 92.2181\n",
      "Epoch 357/500\n",
      "2/2 [==============================] - 0s 6ms/step - loss: 25.2398 - mse: 976.8050\n",
      "Epoch 358/500\n",
      "2/2 [==============================] - 0s 4ms/step - loss: 22.7236 - mse: 745.6669\n",
      "Epoch 359/500\n",
      "2/2 [==============================] - 0s 8ms/step - loss: 8.9413 - mse: 199.8470\n",
      "Epoch 360/500\n",
      "2/2 [==============================] - 0s 5ms/step - loss: 21.4870 - mse: 687.4732\n",
      "Epoch 361/500\n",
      "2/2 [==============================] - 0s 3ms/step - loss: 20.5844 - mse: 615.7931\n",
      "Epoch 362/500\n",
      "2/2 [==============================] - 0s 3ms/step - loss: 7.1492 - mse: 70.4208\n",
      "Epoch 363/500\n",
      "2/2 [==============================] - 0s 3ms/step - loss: 25.7493 - mse: 989.7935\n",
      "Epoch 364/500\n",
      "2/2 [==============================] - 0s 3ms/step - loss: 32.1534 - mse: 1520.4001\n",
      "Epoch 365/500\n",
      "2/2 [==============================] - 0s 4ms/step - loss: 10.0428 - mse: 162.0990\n",
      "Epoch 366/500\n",
      "2/2 [==============================] - 0s 3ms/step - loss: 9.7343 - mse: 226.4252\n",
      "Epoch 367/500\n",
      "2/2 [==============================] - 0s 3ms/step - loss: 30.4480 - mse: 1296.4528\n",
      "Epoch 368/500\n",
      "2/2 [==============================] - 0s 4ms/step - loss: 10.5630 - mse: 235.0682\n",
      "Epoch 369/500\n",
      "2/2 [==============================] - 0s 3ms/step - loss: 15.0529 - mse: 333.5400\n",
      "Epoch 370/500\n",
      "2/2 [==============================] - 0s 3ms/step - loss: 14.7019 - mse: 310.5803\n",
      "Epoch 371/500\n",
      "2/2 [==============================] - 0s 5ms/step - loss: 23.4496 - mse: 792.9684\n",
      "Epoch 372/500\n",
      "2/2 [==============================] - 0s 3ms/step - loss: 12.9916 - mse: 287.7419\n",
      "Epoch 373/500\n",
      "2/2 [==============================] - 0s 3ms/step - loss: 8.9269 - mse: 126.2760\n",
      "Epoch 374/500\n",
      "2/2 [==============================] - 0s 2ms/step - loss: 5.9213 - mse: 69.6486\n",
      "Epoch 375/500\n",
      "2/2 [==============================] - 0s 4ms/step - loss: 14.8043 - mse: 306.9775\n",
      "Epoch 376/500\n",
      "2/2 [==============================] - 0s 2ms/step - loss: 16.5586 - mse: 425.0447\n",
      "Epoch 377/500\n",
      "2/2 [==============================] - 0s 2ms/step - loss: 5.4012 - mse: 47.0473\n",
      "Epoch 378/500\n",
      "2/2 [==============================] - 0s 3ms/step - loss: 20.0344 - mse: 593.9998\n",
      "Epoch 379/500\n",
      "2/2 [==============================] - 0s 3ms/step - loss: 30.7201 - mse: 1363.7288\n",
      "Epoch 380/500\n",
      "2/2 [==============================] - 0s 2ms/step - loss: 26.7281 - mse: 1041.2773\n",
      "Epoch 381/500\n",
      "2/2 [==============================] - 0s 2ms/step - loss: 6.5730 - mse: 93.5365\n",
      "Epoch 382/500\n",
      "2/2 [==============================] - 0s 2ms/step - loss: 7.5962 - mse: 91.3115\n",
      "Epoch 383/500\n",
      "2/2 [==============================] - 0s 2ms/step - loss: 15.3880 - mse: 315.8987\n",
      "Epoch 384/500\n",
      "2/2 [==============================] - 0s 3ms/step - loss: 15.9812 - mse: 383.7814\n",
      "Epoch 385/500\n",
      "2/2 [==============================] - 0s 5ms/step - loss: 11.6164 - mse: 256.8084\n",
      "Epoch 386/500\n",
      "2/2 [==============================] - 0s 3ms/step - loss: 19.8979 - mse: 607.0978\n",
      "Epoch 387/500\n",
      "2/2 [==============================] - 0s 5ms/step - loss: 24.5057 - mse: 870.7777\n",
      "Epoch 388/500\n",
      "2/2 [==============================] - 0s 3ms/step - loss: 8.2585 - mse: 108.7009\n",
      "Epoch 389/500\n",
      "2/2 [==============================] - 0s 4ms/step - loss: 10.7359 - mse: 187.0585\n",
      "Epoch 390/500\n",
      "2/2 [==============================] - 0s 2ms/step - loss: 4.8520 - mse: 40.0647\n",
      "Epoch 391/500\n",
      "2/2 [==============================] - 0s 3ms/step - loss: 18.8866 - mse: 541.3244\n",
      "Epoch 392/500\n",
      "2/2 [==============================] - 0s 3ms/step - loss: 26.8689 - mse: 1019.6981\n",
      "Epoch 393/500\n",
      "2/2 [==============================] - 0s 4ms/step - loss: 12.2433 - mse: 245.2538\n",
      "Epoch 394/500\n",
      "2/2 [==============================] - 0s 2ms/step - loss: 11.8806 - mse: 273.7284\n",
      "Epoch 395/500\n",
      "2/2 [==============================] - 0s 4ms/step - loss: 25.3521 - mse: 906.2446\n",
      "Epoch 396/500\n",
      "2/2 [==============================] - 0s 3ms/step - loss: 18.1292 - mse: 473.0484\n",
      "Epoch 397/500\n",
      "2/2 [==============================] - 0s 3ms/step - loss: 11.8629 - mse: 268.6378\n",
      "Epoch 398/500\n",
      "2/2 [==============================] - 0s 3ms/step - loss: 19.7426 - mse: 604.7983\n",
      "Epoch 399/500\n",
      "2/2 [==============================] - 0s 2ms/step - loss: 24.7674 - mse: 911.3136\n",
      "Epoch 400/500\n",
      "2/2 [==============================] - 0s 3ms/step - loss: 14.4745 - mse: 307.1406\n",
      "Epoch 401/500\n",
      "2/2 [==============================] - 0s 5ms/step - loss: 14.5920 - mse: 282.4597\n",
      "Epoch 402/500\n",
      "2/2 [==============================] - 0s 5ms/step - loss: 24.0629 - mse: 824.1863\n",
      "Epoch 403/500\n",
      "2/2 [==============================] - 0s 4ms/step - loss: 16.8623 - mse: 419.5068\n",
      "Epoch 404/500\n",
      "2/2 [==============================] - 0s 4ms/step - loss: 9.8109 - mse: 185.5251\n",
      "Epoch 405/500\n",
      "2/2 [==============================] - 0s 4ms/step - loss: 6.9985 - mse: 73.8456\n",
      "Epoch 406/500\n",
      "2/2 [==============================] - 0s 3ms/step - loss: 20.1191 - mse: 610.1613\n",
      "Epoch 407/500\n",
      "2/2 [==============================] - 0s 3ms/step - loss: 9.7222 - mse: 234.3721\n",
      "Epoch 408/500\n",
      "2/2 [==============================] - 0s 2ms/step - loss: 21.2687 - mse: 689.2960\n",
      "Epoch 409/500\n",
      "2/2 [==============================] - 0s 4ms/step - loss: 29.7278 - mse: 1363.0316\n",
      "Epoch 410/500\n",
      "2/2 [==============================] - 0s 3ms/step - loss: 10.0147 - mse: 238.3684\n",
      "Epoch 411/500\n",
      "2/2 [==============================] - 0s 3ms/step - loss: 14.8411 - mse: 284.9319\n",
      "Epoch 412/500\n",
      "2/2 [==============================] - 0s 3ms/step - loss: 21.6522 - mse: 716.2183\n",
      "Epoch 413/500\n",
      "2/2 [==============================] - 0s 3ms/step - loss: 12.8334 - mse: 254.1224\n",
      "Epoch 414/500\n",
      "2/2 [==============================] - 0s 2ms/step - loss: 5.5968 - mse: 67.8174\n",
      "Epoch 415/500\n",
      "2/2 [==============================] - 0s 3ms/step - loss: 13.5988 - mse: 252.7769\n",
      "Epoch 416/500\n",
      "2/2 [==============================] - 0s 3ms/step - loss: 28.1905 - mse: 1093.3024\n",
      "Epoch 417/500\n",
      "2/2 [==============================] - 0s 2ms/step - loss: 7.9104 - mse: 112.0151\n",
      "Epoch 418/500\n",
      "2/2 [==============================] - 0s 3ms/step - loss: 6.2853 - mse: 71.9765\n",
      "Epoch 419/500\n",
      "2/2 [==============================] - 0s 3ms/step - loss: 10.7627 - mse: 214.5785\n",
      "Epoch 420/500\n",
      "2/2 [==============================] - 0s 3ms/step - loss: 13.8250 - mse: 324.4096\n",
      "Epoch 421/500\n",
      "2/2 [==============================] - 0s 3ms/step - loss: 9.8719 - mse: 235.6933\n",
      "Epoch 422/500\n",
      "2/2 [==============================] - 0s 4ms/step - loss: 16.0744 - mse: 371.2627\n",
      "Epoch 423/500\n",
      "2/2 [==============================] - 0s 3ms/step - loss: 21.5616 - mse: 683.3374\n",
      "Epoch 424/500\n",
      "2/2 [==============================] - 0s 3ms/step - loss: 24.0147 - mse: 840.6298\n",
      "Epoch 425/500\n",
      "2/2 [==============================] - 0s 2ms/step - loss: 13.9312 - mse: 289.4284\n",
      "Epoch 426/500\n",
      "2/2 [==============================] - 0s 2ms/step - loss: 7.3672 - mse: 114.4631\n",
      "Epoch 427/500\n",
      "2/2 [==============================] - 0s 4ms/step - loss: 10.1983 - mse: 179.2663\n",
      "Epoch 428/500\n",
      "2/2 [==============================] - 0s 2ms/step - loss: 6.4404 - mse: 67.4698\n",
      "Epoch 429/500\n",
      "2/2 [==============================] - 0s 3ms/step - loss: 26.0953 - mse: 1079.6071\n",
      "Epoch 430/500\n",
      "2/2 [==============================] - 0s 3ms/step - loss: 19.5860 - mse: 560.8559\n",
      "Epoch 431/500\n",
      "2/2 [==============================] - 0s 3ms/step - loss: 12.7614 - mse: 283.2698\n",
      "Epoch 432/500\n",
      "2/2 [==============================] - 0s 4ms/step - loss: 8.5285 - mse: 119.3806\n",
      "Epoch 433/500\n",
      "2/2 [==============================] - 0s 4ms/step - loss: 12.2646 - mse: 261.7552\n",
      "Epoch 434/500\n",
      "2/2 [==============================] - 0s 3ms/step - loss: 18.0403 - mse: 474.2034\n",
      "Epoch 435/500\n",
      "2/2 [==============================] - 0s 3ms/step - loss: 9.7964 - mse: 254.7881\n",
      "Epoch 436/500\n",
      "2/2 [==============================] - 0s 3ms/step - loss: 27.7218 - mse: 1130.3751\n",
      "Epoch 437/500\n",
      "2/2 [==============================] - 0s 3ms/step - loss: 5.4676 - mse: 61.8631\n",
      "Epoch 438/500\n",
      "2/2 [==============================] - 0s 4ms/step - loss: 5.6635 - mse: 40.3211\n",
      "Epoch 439/500\n",
      "2/2 [==============================] - 0s 5ms/step - loss: 42.6334 - mse: 3111.3604\n",
      "Epoch 440/500\n",
      "2/2 [==============================] - 0s 2ms/step - loss: 23.6773 - mse: 857.0789\n",
      "Epoch 441/500\n",
      "2/2 [==============================] - 0s 4ms/step - loss: 5.7339 - mse: 52.8959\n",
      "Epoch 442/500\n",
      "2/2 [==============================] - 0s 3ms/step - loss: 21.1609 - mse: 626.8005\n",
      "Epoch 443/500\n",
      "2/2 [==============================] - 0s 6ms/step - loss: 6.6327 - mse: 82.0321\n",
      "Epoch 444/500\n",
      "2/2 [==============================] - 0s 4ms/step - loss: 18.6021 - mse: 506.2722\n",
      "Epoch 445/500\n",
      "2/2 [==============================] - 0s 3ms/step - loss: 14.3423 - mse: 287.3286\n",
      "Epoch 446/500\n",
      "2/2 [==============================] - 0s 5ms/step - loss: 17.1623 - mse: 464.1172\n",
      "Epoch 447/500\n",
      "2/2 [==============================] - 0s 4ms/step - loss: 6.4619 - mse: 60.5078\n",
      "Epoch 448/500\n",
      "2/2 [==============================] - 0s 2ms/step - loss: 8.1629 - mse: 190.3777\n",
      "Epoch 449/500\n",
      "2/2 [==============================] - 0s 5ms/step - loss: 14.6824 - mse: 299.3587\n",
      "Epoch 450/500\n",
      "2/2 [==============================] - 0s 3ms/step - loss: 17.4448 - mse: 472.2752\n",
      "Epoch 451/500\n",
      "2/2 [==============================] - 0s 4ms/step - loss: 14.5991 - mse: 336.9336\n",
      "Epoch 452/500\n",
      "2/2 [==============================] - 0s 2ms/step - loss: 31.1916 - mse: 1375.5555\n",
      "Epoch 453/500\n",
      "2/2 [==============================] - 0s 3ms/step - loss: 10.5274 - mse: 295.1200\n",
      "Epoch 454/500\n",
      "2/2 [==============================] - 0s 3ms/step - loss: 26.6888 - mse: 999.4186\n",
      "Epoch 455/500\n",
      "2/2 [==============================] - 0s 6ms/step - loss: 12.8181 - mse: 268.0215\n",
      "Epoch 456/500\n",
      "2/2 [==============================] - 0s 9ms/step - loss: 15.2377 - mse: 311.8856\n",
      "Epoch 457/500\n",
      "2/2 [==============================] - 0s 9ms/step - loss: 18.8258 - mse: 531.7621\n",
      "Epoch 458/500\n",
      "2/2 [==============================] - 0s 3ms/step - loss: 23.9677 - mse: 854.4489\n",
      "Epoch 459/500\n",
      "2/2 [==============================] - 0s 5ms/step - loss: 17.4040 - mse: 427.9958\n",
      "Epoch 460/500\n",
      "2/2 [==============================] - 0s 6ms/step - loss: 4.8040 - mse: 50.3220\n",
      "Epoch 461/500\n",
      "2/2 [==============================] - 0s 6ms/step - loss: 17.1420 - mse: 416.5854\n",
      "Epoch 462/500\n",
      "2/2 [==============================] - 0s 3ms/step - loss: 13.9916 - mse: 281.9737\n",
      "Epoch 463/500\n",
      "2/2 [==============================] - 0s 5ms/step - loss: 26.5302 - mse: 998.7557\n",
      "Epoch 464/500\n",
      "2/2 [==============================] - 0s 5ms/step - loss: 13.2932 - mse: 274.6244\n",
      "Epoch 465/500\n",
      "2/2 [==============================] - 0s 3ms/step - loss: 7.3723 - mse: 102.9531\n",
      "Epoch 466/500\n",
      "2/2 [==============================] - 0s 4ms/step - loss: 12.0171 - mse: 261.1350\n",
      "Epoch 467/500\n",
      "2/2 [==============================] - 0s 3ms/step - loss: 5.9496 - mse: 69.1978\n",
      "Epoch 468/500\n",
      "2/2 [==============================] - 0s 6ms/step - loss: 13.2996 - mse: 287.8579\n",
      "Epoch 469/500\n",
      "2/2 [==============================] - 0s 4ms/step - loss: 13.2142 - mse: 288.0321\n",
      "Epoch 470/500\n",
      "2/2 [==============================] - 0s 2ms/step - loss: 5.6703 - mse: 67.7526\n",
      "Epoch 471/500\n",
      "2/2 [==============================] - 0s 3ms/step - loss: 30.2630 - mse: 1361.1345\n",
      "Epoch 472/500\n",
      "2/2 [==============================] - 0s 4ms/step - loss: 11.5636 - mse: 255.9012\n",
      "Epoch 473/500\n",
      "2/2 [==============================] - 0s 3ms/step - loss: 14.1655 - mse: 309.0660\n",
      "Epoch 474/500\n",
      "2/2 [==============================] - 0s 4ms/step - loss: 17.9050 - mse: 485.3461\n",
      "Epoch 475/500\n",
      "2/2 [==============================] - 0s 3ms/step - loss: 19.7827 - mse: 599.8458\n",
      "Epoch 476/500\n",
      "2/2 [==============================] - 0s 3ms/step - loss: 6.2152 - mse: 70.2750\n",
      "Epoch 477/500\n",
      "2/2 [==============================] - 0s 4ms/step - loss: 26.8275 - mse: 1070.0231\n",
      "Epoch 478/500\n",
      "2/2 [==============================] - 0s 4ms/step - loss: 8.7605 - mse: 135.2195\n",
      "Epoch 479/500\n",
      "2/2 [==============================] - 0s 3ms/step - loss: 12.1110 - mse: 262.6807\n",
      "Epoch 480/500\n",
      "2/2 [==============================] - 0s 3ms/step - loss: 18.3914 - mse: 522.6925\n",
      "Epoch 481/500\n",
      "2/2 [==============================] - 0s 3ms/step - loss: 16.2505 - mse: 399.6623\n",
      "Epoch 482/500\n",
      "2/2 [==============================] - 0s 3ms/step - loss: 15.0378 - mse: 347.5905\n",
      "Epoch 483/500\n",
      "2/2 [==============================] - 0s 4ms/step - loss: 20.4923 - mse: 632.2336\n",
      "Epoch 484/500\n",
      "2/2 [==============================] - 0s 4ms/step - loss: 35.2824 - mse: 1902.3779\n",
      "Epoch 485/500\n",
      "2/2 [==============================] - 0s 3ms/step - loss: 13.9040 - mse: 309.7696\n",
      "Epoch 486/500\n",
      "2/2 [==============================] - 0s 3ms/step - loss: 7.0118 - mse: 98.2650\n",
      "Epoch 487/500\n",
      "2/2 [==============================] - 0s 3ms/step - loss: 6.3510 - mse: 73.6226\n",
      "Epoch 488/500\n",
      "2/2 [==============================] - 0s 3ms/step - loss: 29.6677 - mse: 1291.6018\n",
      "Epoch 489/500\n",
      "2/2 [==============================] - 0s 3ms/step - loss: 12.7126 - mse: 239.4926\n",
      "Epoch 490/500\n",
      "2/2 [==============================] - 0s 2ms/step - loss: 13.1385 - mse: 248.2453\n",
      "Epoch 491/500\n",
      "2/2 [==============================] - 0s 3ms/step - loss: 24.4165 - mse: 886.0958\n",
      "Epoch 492/500\n",
      "2/2 [==============================] - 0s 3ms/step - loss: 18.4909 - mse: 484.8700\n",
      "Epoch 493/500\n",
      "2/2 [==============================] - 0s 3ms/step - loss: 4.8163 - mse: 51.9945\n",
      "Epoch 494/500\n",
      "2/2 [==============================] - 0s 2ms/step - loss: 11.8670 - mse: 221.5275\n",
      "Epoch 495/500\n",
      "2/2 [==============================] - 0s 3ms/step - loss: 13.7937 - mse: 256.5136\n",
      "Epoch 496/500\n",
      "2/2 [==============================] - 0s 3ms/step - loss: 12.0810 - mse: 234.9023\n",
      "Epoch 497/500\n",
      "2/2 [==============================] - 0s 3ms/step - loss: 17.1127 - mse: 491.0736\n",
      "Epoch 498/500\n",
      "2/2 [==============================] - 0s 3ms/step - loss: 9.1383 - mse: 214.2647\n",
      "Epoch 499/500\n",
      "2/2 [==============================] - 0s 3ms/step - loss: 20.6968 - mse: 649.8599\n",
      "Epoch 500/500\n",
      "2/2 [==============================] - 0s 4ms/step - loss: 14.3759 - mse: 272.5631\n"
     ]
    },
    {
     "data": {
      "text/plain": [
       "<keras.callbacks.History at 0x1de39ef77f0>"
      ]
     },
     "execution_count": 77,
     "metadata": {},
     "output_type": "execute_result"
    }
   ],
   "source": [
    "# Model3 - 2 layers and 500 epochs\n",
    "tf.random.set_seed(42)\n",
    "\n",
    "model3 = tf.keras.Sequential([\n",
    "    tf.keras.layers.Dense(10, input_shape=[1]),\n",
    "    tf.keras.layers.Dense(1)\n",
    "])\n",
    "\n",
    "model3.compile(loss= tf.keras.losses.mae,\n",
    "                optimizer = tf.keras.optimizers.SGD(),\n",
    "                metrics=[\"mse\"])\n",
    "\n",
    "model3.fit(X_train,y_train,epochs=500)"
   ]
  },
  {
   "cell_type": "code",
   "execution_count": 78,
   "metadata": {},
   "outputs": [
    {
     "name": "stdout",
     "output_type": "stream",
     "text": [
      "1/1 [==============================] - 0s 40ms/step\n"
     ]
    },
    {
     "data": {
      "image/png": "[encoded data removed]",
      "text/plain": [
       "<Figure size 1000x700 with 1 Axes>"
      ]
     },
     "metadata": {},
     "output_type": "display_data"
    }
   ],
   "source": [
    "# Make and plot predictions for model2\n",
    "y_pred3 = model3.predict(X_test)\n",
    "plot_predictions(predictions=y_pred3)"
   ]
  },
  {
   "cell_type": "code",
   "execution_count": 79,
   "metadata": {},
   "outputs": [
    {
     "data": {
      "text/plain": [
       "(<tf.Tensor: shape=(), dtype=float32, numpy=67.91172>,\n",
       " <tf.Tensor: shape=(), dtype=float32, numpy=4696.5986>)"
      ]
     },
     "execution_count": 79,
     "metadata": {},
     "output_type": "execute_result"
    }
   ],
   "source": [
    "# Create Evaluation metrics\n",
    "\n",
    "mae3 = MAE(y_test, y_pred3)\n",
    "mse3 = MSE(y_test, y_pred3)\n",
    "mae3, mse3"
   ]
  },
  {
   "attachments": {},
   "cell_type": "markdown",
   "metadata": {},
   "source": [
    "**NOTE:** Start with small experiments and make sure they work and then increase their scale when necessary."
   ]
  },
  {
   "attachments": {},
   "cell_type": "markdown",
   "metadata": {},
   "source": [
    "### Comparing the results of our Experiments"
   ]
  },
  {
   "cell_type": "code",
   "execution_count": 94,
   "metadata": {},
   "outputs": [
    {
     "data": {
      "text/html": [
       "<div>\n",
       "<style scoped>\n",
       "    .dataframe tbody tr th:only-of-type {\n",
       "        vertical-align: middle;\n",
       "    }\n",
       "\n",
       "    .dataframe tbody tr th {\n",
       "        vertical-align: top;\n",
       "    }\n",
       "\n",
       "    .dataframe thead th {\n",
       "        text-align: right;\n",
       "    }\n",
       "</style>\n",
       "<table border=\"1\" class=\"dataframe\">\n",
       "  <thead>\n",
       "    <tr style=\"text-align: right;\">\n",
       "      <th></th>\n",
       "      <th>Model</th>\n",
       "      <th>MAE</th>\n",
       "      <th>MSE</th>\n",
       "    </tr>\n",
       "  </thead>\n",
       "  <tbody>\n",
       "    <tr>\n",
       "      <th>0</th>\n",
       "      <td>model1</td>\n",
       "      <td>30.674597</td>\n",
       "      <td>951.400391</td>\n",
       "    </tr>\n",
       "    <tr>\n",
       "      <th>1</th>\n",
       "      <td>model2</td>\n",
       "      <td>2.992288</td>\n",
       "      <td>11.717607</td>\n",
       "    </tr>\n",
       "    <tr>\n",
       "      <th>2</th>\n",
       "      <td>model3</td>\n",
       "      <td>67.911720</td>\n",
       "      <td>4696.598633</td>\n",
       "    </tr>\n",
       "  </tbody>\n",
       "</table>\n",
       "</div>"
      ],
      "text/plain": [
       "    Model        MAE          MSE\n",
       "0  model1  30.674597   951.400391\n",
       "1  model2   2.992288    11.717607\n",
       "2  model3  67.911720  4696.598633"
      ]
     },
     "execution_count": 94,
     "metadata": {},
     "output_type": "execute_result"
    }
   ],
   "source": [
    "# Let's compare our model results with pandas dataframe\n",
    "\n",
    "model_results = [[\"model1\", mae1.numpy(), mse1.numpy()],\n",
    "                [\"model2\", mae2.numpy(), mse2.numpy()],\n",
    "                [\"model3\", mae3.numpy(), mse3.numpy()]]\n",
    "\n",
    "results = pandas.DataFrame(model_results, columns=[\"Model\",\"MAE\",\"MSE\"])\n",
    "results"
   ]
  },
  {
   "cell_type": "code",
   "execution_count": 95,
   "metadata": {},
   "outputs": [
    {
     "name": "stdout",
     "output_type": "stream",
     "text": [
      "Model: \"sequential_9\"\n",
      "_________________________________________________________________\n",
      " Layer (type)                Output Shape              Param #   \n",
      "=================================================================\n",
      " dense_12 (Dense)            (None, 10)                20        \n",
      "                                                                 \n",
      " dense_13 (Dense)            (None, 1)                 11        \n",
      "                                                                 \n",
      "=================================================================\n",
      "Total params: 31\n",
      "Trainable params: 31\n",
      "Non-trainable params: 0\n",
      "_________________________________________________________________\n"
     ]
    }
   ],
   "source": [
    "model2.summary()"
   ]
  },
  {
   "cell_type": "code",
   "execution_count": 96,
   "metadata": {},
   "outputs": [
    {
     "data": {
      "image/png": "[encoded data removed]",
      "text/plain": [
       "<IPython.core.display.Image object>"
      ]
     },
     "execution_count": 96,
     "metadata": {},
     "output_type": "execute_result"
    }
   ],
   "source": [
    "plot_model(model2, show_shapes=True)"
   ]
  },
  {
   "cell_type": "code",
   "execution_count": null,
   "metadata": {},
   "outputs": [],
   "source": []
  }
 ],
 "metadata": {
  "kernelspec": {
   "display_name": "Python 3",
   "language": "python",
   "name": "python3"
  },
  "language_info": {
   "codemirror_mode": {
    "name": "ipython",
    "version": 3
   },
   "file_extension": ".py",
   "mimetype": "text/x-python",
   "name": "python",
   "nbconvert_exporter": "python",
   "pygments_lexer": "ipython3",
   "version": "3.10.7"
  },
  "orig_nbformat": 4
 },
 "nbformat": 4,
 "nbformat_minor": 2
}
