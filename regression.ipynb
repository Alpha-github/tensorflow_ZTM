{
 "cells": [
  {
   "attachments": {},
   "cell_type": "markdown",
   "metadata": {},
   "source": [
    "# Introduction to Tensorflow Regression"
   ]
  },
  {
   "cell_type": "code",
   "execution_count": 85,
   "metadata": {},
   "outputs": [],
   "source": [
    "import tensorflow as tf\n",
    "import numpy as np\n",
    "import matplotlib.pyplot as plt\n",
    "import pandas as pd"
   ]
  },
  {
   "attachments": {},
   "cell_type": "markdown",
   "metadata": {},
   "source": [
    "### Creating Dataset"
   ]
  },
  {
   "cell_type": "code",
   "execution_count": 86,
   "metadata": {},
   "outputs": [
    {
     "data": {
      "text/plain": [
       "<matplotlib.collections.PathCollection at 0x212bd16e6e0>"
      ]
     },
     "execution_count": 86,
     "metadata": {},
     "output_type": "execute_result"
    },
    {
     "data": {
      "image/png": "[encoded data removed]",
      "text/plain": [
       "<Figure size 640x480 with 1 Axes>"
      ]
     },
     "metadata": {},
     "output_type": "display_data"
    }
   ],
   "source": [
    "# Create features\n",
    "X = np.arange(-7,15,3,dtype=np.float16)\n",
    "\n",
    "# Create labels\n",
    "y = np.arange(3,25,3,dtype=np.float16)\n",
    "\n",
    "# Visualize\n",
    "plt.scatter(X,y)"
   ]
  },
  {
   "cell_type": "code",
   "execution_count": 87,
   "metadata": {},
   "outputs": [
    {
     "data": {
      "text/plain": [
       "array([ True,  True,  True,  True,  True,  True,  True,  True])"
      ]
     },
     "execution_count": 87,
     "metadata": {},
     "output_type": "execute_result"
    }
   ],
   "source": [
    "y == X+10"
   ]
  },
  {
   "attachments": {},
   "cell_type": "markdown",
   "metadata": {},
   "source": [
    "### Input and Output Shapes"
   ]
  },
  {
   "cell_type": "code",
   "execution_count": 88,
   "metadata": {},
   "outputs": [
    {
     "data": {
      "text/plain": [
       "((8,), (8,))"
      ]
     },
     "execution_count": 88,
     "metadata": {},
     "output_type": "execute_result"
    }
   ],
   "source": [
    "# Input and Output Shapes\n",
    "X.shape, y.shape"
   ]
  },
  {
   "cell_type": "code",
   "execution_count": 89,
   "metadata": {},
   "outputs": [
    {
     "data": {
      "text/plain": [
       "()"
      ]
     },
     "execution_count": 89,
     "metadata": {},
     "output_type": "execute_result"
    }
   ],
   "source": [
    "# Shape of one input element\n",
    "X[0].shape\n",
    "\n",
    "# Shape of one output element\n",
    "y[0].shape\n",
    "\n",
    "# NOTE: The shape is () since we are dealing with tensors"
   ]
  },
  {
   "cell_type": "code",
   "execution_count": 90,
   "metadata": {},
   "outputs": [
    {
     "data": {
      "text/plain": [
       "0"
      ]
     },
     "execution_count": 90,
     "metadata": {},
     "output_type": "execute_result"
    }
   ],
   "source": [
    "# Scalars have dimension 0\n",
    "X[0].ndim"
   ]
  },
  {
   "cell_type": "code",
   "execution_count": 91,
   "metadata": {},
   "outputs": [
    {
     "data": {
      "text/plain": [
       "(<tf.Tensor: shape=(8,), dtype=float16, numpy=array([-7., -4., -1.,  2.,  5.,  8., 11., 14.], dtype=float16)>,\n",
       " <tf.Tensor: shape=(8,), dtype=float16, numpy=array([ 3.,  6.,  9., 12., 15., 18., 21., 24.], dtype=float16)>)"
      ]
     },
     "execution_count": 91,
     "metadata": {},
     "output_type": "execute_result"
    }
   ],
   "source": [
    "# Turn our NumPy arrays into tensors with dtype float32\n",
    "X = tf.constant(X)\n",
    "y = tf.constant(y)\n",
    "X,y"
   ]
  },
  {
   "cell_type": "code",
   "execution_count": 92,
   "metadata": {},
   "outputs": [
    {
     "data": {
      "text/plain": [
       "(TensorShape([]), TensorShape([]))"
      ]
     },
     "execution_count": 92,
     "metadata": {},
     "output_type": "execute_result"
    }
   ],
   "source": [
    "input_shape = X[0].shape\n",
    "output_shape = y[0].shape\n",
    "input_shape,output_shape"
   ]
  },
  {
   "cell_type": "code",
   "execution_count": 93,
   "metadata": {},
   "outputs": [
    {
     "data": {
      "text/plain": [
       "<matplotlib.collections.PathCollection at 0x212b4512320>"
      ]
     },
     "execution_count": 93,
     "metadata": {},
     "output_type": "execute_result"
    },
    {
     "data": {
      "image/png": "[encoded data removed]",
      "text/plain": [
       "<Figure size 640x480 with 1 Axes>"
      ]
     },
     "metadata": {},
     "output_type": "display_data"
    }
   ],
   "source": [
    "plt.scatter(X,y)"
   ]
  },
  {
   "attachments": {},
   "cell_type": "markdown",
   "metadata": {},
   "source": [
    "### Modelling with TF  - Experiment, Experiment, Experiment\n",
    "1. Creating a model - define input and output layers, and the hidde layers of the NN\n",
    "2. Compiling the model - Define the loss functions, optimizer and evaluation metrics\n",
    "3. Fitting the model - Letting the model find the patterns between X & y (Features and labels)"
   ]
  },
  {
   "attachments": {},
   "cell_type": "markdown",
   "metadata": {},
   "source": [
    "Method 1:\n",
    "- Add layers after creating a model from Sequential class"
   ]
  },
  {
   "cell_type": "code",
   "execution_count": 94,
   "metadata": {},
   "outputs": [
    {
     "name": "stdout",
     "output_type": "stream",
     "text": [
      "Epoch 1/10\n",
      "1/1 [==============================] - 0s 416ms/step - loss: 15.3232 - mae: 15.3232\n",
      "Epoch 2/10\n",
      "1/1 [==============================] - 0s 9ms/step - loss: 15.0419 - mae: 15.0419\n",
      "Epoch 3/10\n",
      "1/1 [==============================] - 0s 16ms/step - loss: 14.8329 - mae: 14.8329\n",
      "Epoch 4/10\n",
      "1/1 [==============================] - 0s 16ms/step - loss: 14.7004 - mae: 14.7004\n",
      "Epoch 5/10\n",
      "1/1 [==============================] - 0s 8ms/step - loss: 14.5679 - mae: 14.5679\n",
      "Epoch 6/10\n",
      "1/1 [==============================] - 0s 8ms/step - loss: 14.4354 - mae: 14.4354\n",
      "Epoch 7/10\n",
      "1/1 [==============================] - 0s 8ms/step - loss: 14.3029 - mae: 14.3029\n",
      "Epoch 8/10\n",
      "1/1 [==============================] - 0s 8ms/step - loss: 14.1704 - mae: 14.1704\n",
      "Epoch 9/10\n",
      "1/1 [==============================] - 0s 16ms/step - loss: 14.0379 - mae: 14.0379\n",
      "Epoch 10/10\n",
      "1/1 [==============================] - 0s 4ms/step - loss: 13.9054 - mae: 13.9054\n"
     ]
    },
    {
     "data": {
      "text/plain": [
       "<keras.callbacks.History at 0x212abc4dde0>"
      ]
     },
     "execution_count": 94,
     "metadata": {},
     "output_type": "execute_result"
    }
   ],
   "source": [
    "# Set random seed\n",
    "tf.random.set_seed(42)\n",
    "\n",
    "# 1. Create a model with Sequential\n",
    "model_1 = tf.keras.Sequential()\n",
    "model_1.add(tf.keras.layers.Dense(1, input_shape=(1,)))\n",
    "\n",
    "# 2. Compile the model\n",
    "model_1.compile(loss=tf.keras.losses.mae, # mae is mean absolute error\n",
    "                optimizer=tf.keras.optimizers.SGD(), # SGD is stochastic gradient descent\n",
    "                metrics=[\"mae\"])\n",
    "\n",
    "# 3. Fit the model\n",
    "model_1.fit(X,y,epochs=10)"
   ]
  },
  {
   "attachments": {},
   "cell_type": "markdown",
   "metadata": {},
   "source": [
    "Method 2:\n",
    "- Add the layers in the Sequential API while creating the model itself"
   ]
  },
  {
   "cell_type": "code",
   "execution_count": 95,
   "metadata": {},
   "outputs": [
    {
     "name": "stdout",
     "output_type": "stream",
     "text": [
      "Epoch 1/10\n",
      "1/1 [==============================] - 0s 330ms/step - loss: 15.8771 - mae: 15.8771\n",
      "Epoch 2/10\n",
      "1/1 [==============================] - 0s 8ms/step - loss: 15.5959 - mae: 15.5959\n",
      "Epoch 3/10\n",
      "1/1 [==============================] - 0s 9ms/step - loss: 15.3146 - mae: 15.3146\n",
      "Epoch 4/10\n",
      "1/1 [==============================] - 0s 0s/step - loss: 15.0334 - mae: 15.0334\n",
      "Epoch 5/10\n",
      "1/1 [==============================] - 0s 8ms/step - loss: 14.8197 - mae: 14.8197\n",
      "Epoch 6/10\n",
      "1/1 [==============================] - 0s 8ms/step - loss: 14.6872 - mae: 14.6872\n",
      "Epoch 7/10\n",
      "1/1 [==============================] - 0s 0s/step - loss: 14.5547 - mae: 14.5547\n",
      "Epoch 8/10\n",
      "1/1 [==============================] - 0s 7ms/step - loss: 14.4222 - mae: 14.4222\n",
      "Epoch 9/10\n",
      "1/1 [==============================] - 0s 8ms/step - loss: 14.2897 - mae: 14.2897\n",
      "Epoch 10/10\n",
      "1/1 [==============================] - 0s 10ms/step - loss: 14.1572 - mae: 14.1572\n"
     ]
    },
    {
     "data": {
      "text/plain": [
       "<keras.callbacks.History at 0x212b0a65000>"
      ]
     },
     "execution_count": 95,
     "metadata": {},
     "output_type": "execute_result"
    }
   ],
   "source": [
    "# Set random seed\n",
    "tf.random.set_seed(42)\n",
    "\n",
    "# 1. Create a model using the Sequential API\n",
    "model_2 = tf.keras.Sequential([\n",
    "    tf.keras.layers.Dense(1,input_shape = (1,)) # It is 1, since we pass only 1 data pt\n",
    "])\n",
    "\n",
    "# 2. Compile the model\n",
    "model_2.compile(loss=tf.keras.losses.mae, # mae is mean absolute error\n",
    "                optimizer=tf.keras.optimizers.SGD(), # SGD is stochastic gradient descent\n",
    "                metrics=[\"mae\"])\n",
    "\n",
    "# 3. Fit the model\n",
    "model_2.fit(X,y,epochs=10)"
   ]
  },
  {
   "attachments": {},
   "cell_type": "markdown",
   "metadata": {},
   "source": [
    "#### Predict using the trained Model"
   ]
  },
  {
   "cell_type": "code",
   "execution_count": 96,
   "metadata": {},
   "outputs": [
    {
     "name": "stdout",
     "output_type": "stream",
     "text": [
      "1/1 [==============================] - 0s 88ms/step\n",
      "1/1 [==============================] - 0s 78ms/step\n"
     ]
    },
    {
     "data": {
      "text/plain": [
       "(array([[-1.6921302]], dtype=float32), array([[-2.8959193]], dtype=float32))"
      ]
     },
     "execution_count": 96,
     "metadata": {},
     "output_type": "execute_result"
    }
   ],
   "source": [
    "model_1.predict([17.0]), model_2.predict([17.0])"
   ]
  },
  {
   "attachments": {},
   "cell_type": "markdown",
   "metadata": {},
   "source": [
    "### Improving the Model\n",
    "- We can improve our model by modifying the steps we took to create a model\n",
    "\n",
    "1. **Creating a model** \n",
    "    - Add more layers\n",
    "    - Increase the number of neurons in the layers\n",
    "    - Change the activation function in a each layer\n",
    "2. **Compiling a model**\n",
    "    - Change the optimizer\n",
    "    - Change the loss function\n",
    "    - Change the *learning rate* of optimizer\n",
    "3. **Fitting a model**\n",
    "    - Change the number of epochs\n",
    "    - Provide more data to learn from"
   ]
  },
  {
   "cell_type": "code",
   "execution_count": 97,
   "metadata": {},
   "outputs": [
    {
     "name": "stdout",
     "output_type": "stream",
     "text": [
      "Epoch 1/100\n",
      "1/1 [==============================] - 0s 273ms/step - loss: 14.3903 - mae: 14.3903\n",
      "Epoch 2/100\n",
      "1/1 [==============================] - 0s 8ms/step - loss: 14.2578 - mae: 14.2578\n",
      "Epoch 3/100\n",
      "1/1 [==============================] - 0s 0s/step - loss: 14.1253 - mae: 14.1253\n",
      "Epoch 4/100\n",
      "1/1 [==============================] - 0s 8ms/step - loss: 13.9928 - mae: 13.9928\n",
      "Epoch 5/100\n",
      "1/1 [==============================] - 0s 8ms/step - loss: 13.8603 - mae: 13.8603\n",
      "Epoch 6/100\n",
      "1/1 [==============================] - 0s 8ms/step - loss: 13.7278 - mae: 13.7278\n",
      "Epoch 7/100\n",
      "1/1 [==============================] - 0s 8ms/step - loss: 13.5953 - mae: 13.5953\n",
      "Epoch 8/100\n",
      "1/1 [==============================] - 0s 8ms/step - loss: 13.4628 - mae: 13.4628\n",
      "Epoch 9/100\n",
      "1/1 [==============================] - 0s 9ms/step - loss: 13.3303 - mae: 13.3303\n",
      "Epoch 10/100\n",
      "1/1 [==============================] - 0s 8ms/step - loss: 13.1978 - mae: 13.1978\n",
      "Epoch 11/100\n",
      "1/1 [==============================] - 0s 8ms/step - loss: 13.0653 - mae: 13.0653\n",
      "Epoch 12/100\n",
      "1/1 [==============================] - 0s 0s/step - loss: 12.9328 - mae: 12.9328\n",
      "Epoch 13/100\n",
      "1/1 [==============================] - 0s 8ms/step - loss: 12.8003 - mae: 12.8003\n",
      "Epoch 14/100\n",
      "1/1 [==============================] - 0s 8ms/step - loss: 12.6678 - mae: 12.6678\n",
      "Epoch 15/100\n",
      "1/1 [==============================] - 0s 8ms/step - loss: 12.5353 - mae: 12.5353\n",
      "Epoch 16/100\n",
      "1/1 [==============================] - 0s 8ms/step - loss: 12.4028 - mae: 12.4028\n",
      "Epoch 17/100\n",
      "1/1 [==============================] - 0s 8ms/step - loss: 12.2703 - mae: 12.2703\n",
      "Epoch 18/100\n",
      "1/1 [==============================] - 0s 5ms/step - loss: 12.1378 - mae: 12.1378\n",
      "Epoch 19/100\n",
      "1/1 [==============================] - 0s 8ms/step - loss: 12.0053 - mae: 12.0053\n",
      "Epoch 20/100\n",
      "1/1 [==============================] - 0s 8ms/step - loss: 11.8728 - mae: 11.8728\n",
      "Epoch 21/100\n",
      "1/1 [==============================] - 0s 0s/step - loss: 11.7403 - mae: 11.7403\n",
      "Epoch 22/100\n",
      "1/1 [==============================] - 0s 8ms/step - loss: 11.6078 - mae: 11.6078\n",
      "Epoch 23/100\n",
      "1/1 [==============================] - 0s 0s/step - loss: 11.4753 - mae: 11.4753\n",
      "Epoch 24/100\n",
      "1/1 [==============================] - 0s 8ms/step - loss: 11.3428 - mae: 11.3428\n",
      "Epoch 25/100\n",
      "1/1 [==============================] - 0s 8ms/step - loss: 11.2103 - mae: 11.2103\n",
      "Epoch 26/100\n",
      "1/1 [==============================] - 0s 8ms/step - loss: 11.0778 - mae: 11.0778\n",
      "Epoch 27/100\n",
      "1/1 [==============================] - 0s 9ms/step - loss: 10.9453 - mae: 10.9453\n",
      "Epoch 28/100\n",
      "1/1 [==============================] - 0s 8ms/step - loss: 10.8128 - mae: 10.8128\n",
      "Epoch 29/100\n",
      "1/1 [==============================] - 0s 8ms/step - loss: 10.6803 - mae: 10.6803\n",
      "Epoch 30/100\n",
      "1/1 [==============================] - 0s 8ms/step - loss: 10.5478 - mae: 10.5478\n",
      "Epoch 31/100\n",
      "1/1 [==============================] - 0s 8ms/step - loss: 10.4153 - mae: 10.4153\n",
      "Epoch 32/100\n",
      "1/1 [==============================] - 0s 16ms/step - loss: 10.2828 - mae: 10.2828\n",
      "Epoch 33/100\n",
      "1/1 [==============================] - 0s 8ms/step - loss: 10.1503 - mae: 10.1503\n",
      "Epoch 34/100\n",
      "1/1 [==============================] - 0s 0s/step - loss: 10.0178 - mae: 10.0178\n",
      "Epoch 35/100\n",
      "1/1 [==============================] - 0s 8ms/step - loss: 9.8853 - mae: 9.8853\n",
      "Epoch 36/100\n",
      "1/1 [==============================] - 0s 8ms/step - loss: 9.7528 - mae: 9.7528\n",
      "Epoch 37/100\n",
      "1/1 [==============================] - 0s 0s/step - loss: 9.6203 - mae: 9.6203\n",
      "Epoch 38/100\n",
      "1/1 [==============================] - 0s 8ms/step - loss: 9.4878 - mae: 9.4878\n",
      "Epoch 39/100\n",
      "1/1 [==============================] - 0s 8ms/step - loss: 9.3553 - mae: 9.3553\n",
      "Epoch 40/100\n",
      "1/1 [==============================] - 0s 8ms/step - loss: 9.2228 - mae: 9.2228\n",
      "Epoch 41/100\n",
      "1/1 [==============================] - 0s 8ms/step - loss: 9.0903 - mae: 9.0903\n",
      "Epoch 42/100\n",
      "1/1 [==============================] - 0s 0s/step - loss: 8.9578 - mae: 8.9578\n",
      "Epoch 43/100\n",
      "1/1 [==============================] - 0s 8ms/step - loss: 8.8253 - mae: 8.8253\n",
      "Epoch 44/100\n",
      "1/1 [==============================] - 0s 0s/step - loss: 8.6928 - mae: 8.6928\n",
      "Epoch 45/100\n",
      "1/1 [==============================] - 0s 8ms/step - loss: 8.5603 - mae: 8.5603\n",
      "Epoch 46/100\n",
      "1/1 [==============================] - 0s 0s/step - loss: 8.4278 - mae: 8.4278\n",
      "Epoch 47/100\n",
      "1/1 [==============================] - 0s 8ms/step - loss: 8.2953 - mae: 8.2953\n",
      "Epoch 48/100\n",
      "1/1 [==============================] - 0s 8ms/step - loss: 8.1628 - mae: 8.1628\n",
      "Epoch 49/100\n",
      "1/1 [==============================] - 0s 8ms/step - loss: 8.0303 - mae: 8.0303\n",
      "Epoch 50/100\n",
      "1/1 [==============================] - 0s 0s/step - loss: 7.8978 - mae: 7.8978\n",
      "Epoch 51/100\n",
      "1/1 [==============================] - 0s 8ms/step - loss: 7.7653 - mae: 7.7653\n",
      "Epoch 52/100\n",
      "1/1 [==============================] - 0s 12ms/step - loss: 7.6328 - mae: 7.6328\n",
      "Epoch 53/100\n",
      "1/1 [==============================] - 0s 8ms/step - loss: 7.5003 - mae: 7.5003\n",
      "Epoch 54/100\n",
      "1/1 [==============================] - 0s 8ms/step - loss: 7.3678 - mae: 7.3678\n",
      "Epoch 55/100\n",
      "1/1 [==============================] - 0s 8ms/step - loss: 7.2353 - mae: 7.2353\n",
      "Epoch 56/100\n",
      "1/1 [==============================] - 0s 8ms/step - loss: 7.1028 - mae: 7.1028\n",
      "Epoch 57/100\n",
      "1/1 [==============================] - 0s 8ms/step - loss: 7.0800 - mae: 7.0800\n",
      "Epoch 58/100\n",
      "1/1 [==============================] - 0s 0s/step - loss: 7.0744 - mae: 7.0744\n",
      "Epoch 59/100\n",
      "1/1 [==============================] - 0s 8ms/step - loss: 7.0688 - mae: 7.0688\n",
      "Epoch 60/100\n",
      "1/1 [==============================] - 0s 8ms/step - loss: 7.0631 - mae: 7.0631\n",
      "Epoch 61/100\n",
      "1/1 [==============================] - 0s 8ms/step - loss: 7.0575 - mae: 7.0575\n",
      "Epoch 62/100\n",
      "1/1 [==============================] - 0s 8ms/step - loss: 7.0519 - mae: 7.0519\n",
      "Epoch 63/100\n",
      "1/1 [==============================] - 0s 8ms/step - loss: 7.0463 - mae: 7.0463\n",
      "Epoch 64/100\n",
      "1/1 [==============================] - 0s 0s/step - loss: 7.0406 - mae: 7.0406\n",
      "Epoch 65/100\n",
      "1/1 [==============================] - 0s 8ms/step - loss: 7.0350 - mae: 7.0350\n",
      "Epoch 66/100\n",
      "1/1 [==============================] - 0s 8ms/step - loss: 7.0294 - mae: 7.0294\n",
      "Epoch 67/100\n",
      "1/1 [==============================] - 0s 8ms/step - loss: 7.0238 - mae: 7.0238\n",
      "Epoch 68/100\n",
      "1/1 [==============================] - 0s 12ms/step - loss: 7.0181 - mae: 7.0181\n",
      "Epoch 69/100\n",
      "1/1 [==============================] - 0s 4ms/step - loss: 7.0125 - mae: 7.0125\n",
      "Epoch 70/100\n",
      "1/1 [==============================] - 0s 8ms/step - loss: 7.0069 - mae: 7.0069\n",
      "Epoch 71/100\n",
      "1/1 [==============================] - 0s 8ms/step - loss: 7.0013 - mae: 7.0013\n",
      "Epoch 72/100\n",
      "1/1 [==============================] - 0s 0s/step - loss: 6.9956 - mae: 6.9956\n",
      "Epoch 73/100\n",
      "1/1 [==============================] - 0s 8ms/step - loss: 6.9900 - mae: 6.9900\n",
      "Epoch 74/100\n",
      "1/1 [==============================] - 0s 8ms/step - loss: 6.9844 - mae: 6.9844\n",
      "Epoch 75/100\n",
      "1/1 [==============================] - 0s 8ms/step - loss: 6.9788 - mae: 6.9788\n",
      "Epoch 76/100\n",
      "1/1 [==============================] - 0s 0s/step - loss: 6.9731 - mae: 6.9731\n",
      "Epoch 77/100\n",
      "1/1 [==============================] - 0s 0s/step - loss: 6.9675 - mae: 6.9675\n",
      "Epoch 78/100\n",
      "1/1 [==============================] - 0s 8ms/step - loss: 6.9619 - mae: 6.9619\n",
      "Epoch 79/100\n",
      "1/1 [==============================] - 0s 8ms/step - loss: 6.9563 - mae: 6.9563\n",
      "Epoch 80/100\n",
      "1/1 [==============================] - 0s 0s/step - loss: 6.9506 - mae: 6.9506\n",
      "Epoch 81/100\n",
      "1/1 [==============================] - 0s 8ms/step - loss: 6.9450 - mae: 6.9450\n",
      "Epoch 82/100\n",
      "1/1 [==============================] - 0s 8ms/step - loss: 6.9394 - mae: 6.9394\n",
      "Epoch 83/100\n",
      "1/1 [==============================] - 0s 8ms/step - loss: 6.9338 - mae: 6.9338\n",
      "Epoch 84/100\n",
      "1/1 [==============================] - 0s 8ms/step - loss: 6.9281 - mae: 6.9281\n",
      "Epoch 85/100\n",
      "1/1 [==============================] - 0s 0s/step - loss: 6.9225 - mae: 6.9225\n",
      "Epoch 86/100\n",
      "1/1 [==============================] - 0s 8ms/step - loss: 6.9169 - mae: 6.9169\n",
      "Epoch 87/100\n",
      "1/1 [==============================] - 0s 8ms/step - loss: 6.9113 - mae: 6.9113\n",
      "Epoch 88/100\n",
      "1/1 [==============================] - 0s 4ms/step - loss: 6.9056 - mae: 6.9056\n",
      "Epoch 89/100\n",
      "1/1 [==============================] - 0s 8ms/step - loss: 6.9000 - mae: 6.9000\n",
      "Epoch 90/100\n",
      "1/1 [==============================] - 0s 8ms/step - loss: 6.8944 - mae: 6.8944\n",
      "Epoch 91/100\n",
      "1/1 [==============================] - 0s 8ms/step - loss: 6.8888 - mae: 6.8888\n",
      "Epoch 92/100\n",
      "1/1 [==============================] - 0s 3ms/step - loss: 6.8831 - mae: 6.8831\n",
      "Epoch 93/100\n",
      "1/1 [==============================] - 0s 8ms/step - loss: 6.8775 - mae: 6.8775\n",
      "Epoch 94/100\n",
      "1/1 [==============================] - 0s 0s/step - loss: 6.8719 - mae: 6.8719\n",
      "Epoch 95/100\n",
      "1/1 [==============================] - 0s 8ms/step - loss: 6.8663 - mae: 6.8663\n",
      "Epoch 96/100\n",
      "1/1 [==============================] - 0s 6ms/step - loss: 6.8606 - mae: 6.8606\n",
      "Epoch 97/100\n",
      "1/1 [==============================] - 0s 8ms/step - loss: 6.8550 - mae: 6.8550\n",
      "Epoch 98/100\n",
      "1/1 [==============================] - 0s 8ms/step - loss: 6.8494 - mae: 6.8494\n",
      "Epoch 99/100\n",
      "1/1 [==============================] - 0s 8ms/step - loss: 6.8438 - mae: 6.8438\n",
      "Epoch 100/100\n",
      "1/1 [==============================] - 0s 0s/step - loss: 6.8381 - mae: 6.8381\n"
     ]
    },
    {
     "data": {
      "text/plain": [
       "<keras.callbacks.History at 0x211c5b01930>"
      ]
     },
     "execution_count": 97,
     "metadata": {},
     "output_type": "execute_result"
    }
   ],
   "source": [
    "# Changes: Increase number of epochs\n",
    "\n",
    "# 1. create the model\n",
    "improv_model1 = tf.keras.Sequential([\n",
    "    tf.keras.layers.Dense(1)\n",
    "])\n",
    "\n",
    "# 2. Compile the model\n",
    "improv_model1.compile(loss=tf.keras.losses.mae,\n",
    "                        optimizer=tf.keras.optimizers.SGD(),\n",
    "                        metrics = [\"mae\"])\n",
    "\n",
    "# 3. Fit the model\n",
    "improv_model1.fit(tf.expand_dims(X, axis=-1),y,epochs=100)"
   ]
  },
  {
   "cell_type": "code",
   "execution_count": 98,
   "metadata": {},
   "outputs": [
    {
     "name": "stdout",
     "output_type": "stream",
     "text": [
      "1/1 [==============================] - 0s 122ms/step\n"
     ]
    },
    {
     "data": {
      "text/plain": [
       "array([[29.885801]], dtype=float32)"
      ]
     },
     "execution_count": 98,
     "metadata": {},
     "output_type": "execute_result"
    }
   ],
   "source": [
    "improv_model1.predict([17.0])"
   ]
  },
  {
   "attachments": {},
   "cell_type": "markdown",
   "metadata": {},
   "source": [
    "##### `NOTE`: Common ways to better our DL model:\n",
    "- Increase number of layers\n",
    "- Increase anumber of neurons in each layer\n",
    "- Change optimizer\n",
    "- Change Learning Rate (The most hyperparam for most NN)\n",
    "- Fitting on more data\n",
    "- Fitting for more epochs"
   ]
  },
  {
   "cell_type": "code",
   "execution_count": 99,
   "metadata": {},
   "outputs": [
    {
     "name": "stdout",
     "output_type": "stream",
     "text": [
      "Epoch 1/100\n",
      "1/1 [==============================] - 0s 402ms/step - loss: 9.8723 - mae: 9.8723\n",
      "Epoch 2/100\n",
      "1/1 [==============================] - 0s 16ms/step - loss: 9.1244 - mae: 9.1244\n",
      "Epoch 3/100\n",
      "1/1 [==============================] - 0s 9ms/step - loss: 8.3618 - mae: 8.3618\n",
      "Epoch 4/100\n",
      "1/1 [==============================] - 0s 8ms/step - loss: 7.5810 - mae: 7.5810\n",
      "Epoch 5/100\n",
      "1/1 [==============================] - 0s 8ms/step - loss: 7.1528 - mae: 7.1528\n",
      "Epoch 6/100\n",
      "1/1 [==============================] - 0s 8ms/step - loss: 7.3390 - mae: 7.3390\n",
      "Epoch 7/100\n",
      "1/1 [==============================] - 0s 8ms/step - loss: 7.5389 - mae: 7.5389\n",
      "Epoch 8/100\n",
      "1/1 [==============================] - 0s 9ms/step - loss: 7.5889 - mae: 7.5889\n",
      "Epoch 9/100\n",
      "1/1 [==============================] - 0s 8ms/step - loss: 7.5271 - mae: 7.5271\n",
      "Epoch 10/100\n",
      "1/1 [==============================] - 0s 8ms/step - loss: 7.3815 - mae: 7.3815\n",
      "Epoch 11/100\n",
      "1/1 [==============================] - 0s 10ms/step - loss: 7.1731 - mae: 7.1731\n",
      "Epoch 12/100\n",
      "1/1 [==============================] - 0s 7ms/step - loss: 6.9176 - mae: 6.9176\n",
      "Epoch 13/100\n",
      "1/1 [==============================] - 0s 10ms/step - loss: 6.6274 - mae: 6.6274\n",
      "Epoch 14/100\n",
      "1/1 [==============================] - 0s 0s/step - loss: 6.4772 - mae: 6.4772\n",
      "Epoch 15/100\n",
      "1/1 [==============================] - 0s 8ms/step - loss: 6.4158 - mae: 6.4158\n",
      "Epoch 16/100\n",
      "1/1 [==============================] - 0s 8ms/step - loss: 6.5051 - mae: 6.5051\n",
      "Epoch 17/100\n",
      "1/1 [==============================] - 0s 7ms/step - loss: 6.5296 - mae: 6.5296\n",
      "Epoch 18/100\n",
      "1/1 [==============================] - 0s 10ms/step - loss: 6.4266 - mae: 6.4266\n",
      "Epoch 19/100\n",
      "1/1 [==============================] - 0s 8ms/step - loss: 6.2150 - mae: 6.2150\n",
      "Epoch 20/100\n",
      "1/1 [==============================] - 0s 6ms/step - loss: 5.9822 - mae: 5.9822\n",
      "Epoch 21/100\n",
      "1/1 [==============================] - 0s 8ms/step - loss: 5.8714 - mae: 5.8714\n",
      "Epoch 22/100\n",
      "1/1 [==============================] - 0s 0s/step - loss: 5.7570 - mae: 5.7570\n",
      "Epoch 23/100\n",
      "1/1 [==============================] - 0s 8ms/step - loss: 5.7400 - mae: 5.7400\n",
      "Epoch 24/100\n",
      "1/1 [==============================] - 0s 11ms/step - loss: 5.7108 - mae: 5.7108\n",
      "Epoch 25/100\n",
      "1/1 [==============================] - 0s 0s/step - loss: 5.6230 - mae: 5.6230\n",
      "Epoch 26/100\n",
      "1/1 [==============================] - 0s 8ms/step - loss: 5.4822 - mae: 5.4822\n",
      "Epoch 27/100\n",
      "1/1 [==============================] - 0s 8ms/step - loss: 5.2939 - mae: 5.2939\n",
      "Epoch 28/100\n",
      "1/1 [==============================] - 0s 8ms/step - loss: 5.1117 - mae: 5.1117\n",
      "Epoch 29/100\n",
      "1/1 [==============================] - 0s 0s/step - loss: 5.0062 - mae: 5.0062\n",
      "Epoch 30/100\n",
      "1/1 [==============================] - 0s 0s/step - loss: 4.8931 - mae: 4.8931\n",
      "Epoch 31/100\n",
      "1/1 [==============================] - 0s 8ms/step - loss: 4.7723 - mae: 4.7723\n",
      "Epoch 32/100\n",
      "1/1 [==============================] - 0s 8ms/step - loss: 4.7169 - mae: 4.7169\n",
      "Epoch 33/100\n",
      "1/1 [==============================] - 0s 8ms/step - loss: 4.5244 - mae: 4.5244\n",
      "Epoch 34/100\n",
      "1/1 [==============================] - 0s 7ms/step - loss: 4.3308 - mae: 4.3308\n",
      "Epoch 35/100\n",
      "1/1 [==============================] - 0s 8ms/step - loss: 4.1584 - mae: 4.1584\n",
      "Epoch 36/100\n",
      "1/1 [==============================] - 0s 8ms/step - loss: 4.0603 - mae: 4.0603\n",
      "Epoch 37/100\n",
      "1/1 [==============================] - 0s 8ms/step - loss: 3.9521 - mae: 3.9521\n",
      "Epoch 38/100\n",
      "1/1 [==============================] - 0s 8ms/step - loss: 3.7766 - mae: 3.7766\n",
      "Epoch 39/100\n",
      "1/1 [==============================] - 0s 0s/step - loss: 3.5387 - mae: 3.5387\n",
      "Epoch 40/100\n",
      "1/1 [==============================] - 0s 8ms/step - loss: 3.2987 - mae: 3.2987\n",
      "Epoch 41/100\n",
      "1/1 [==============================] - 0s 9ms/step - loss: 3.1218 - mae: 3.1218\n",
      "Epoch 42/100\n",
      "1/1 [==============================] - 0s 8ms/step - loss: 2.9898 - mae: 2.9898\n",
      "Epoch 43/100\n",
      "1/1 [==============================] - 0s 8ms/step - loss: 2.7436 - mae: 2.7436\n",
      "Epoch 44/100\n",
      "1/1 [==============================] - 0s 8ms/step - loss: 2.4843 - mae: 2.4843\n",
      "Epoch 45/100\n",
      "1/1 [==============================] - 0s 10ms/step - loss: 2.3443 - mae: 2.3443\n",
      "Epoch 46/100\n",
      "1/1 [==============================] - 0s 8ms/step - loss: 2.1746 - mae: 2.1746\n",
      "Epoch 47/100\n",
      "1/1 [==============================] - 0s 7ms/step - loss: 1.9255 - mae: 1.9255\n",
      "Epoch 48/100\n",
      "1/1 [==============================] - 0s 10ms/step - loss: 1.6022 - mae: 1.6022\n",
      "Epoch 49/100\n",
      "1/1 [==============================] - 0s 0s/step - loss: 1.2880 - mae: 1.2880\n",
      "Epoch 50/100\n",
      "1/1 [==============================] - 0s 8ms/step - loss: 1.2146 - mae: 1.2146\n",
      "Epoch 51/100\n",
      "1/1 [==============================] - 0s 8ms/step - loss: 0.9382 - mae: 0.9382\n",
      "Epoch 52/100\n",
      "1/1 [==============================] - 0s 8ms/step - loss: 0.4637 - mae: 0.4637\n",
      "Epoch 53/100\n",
      "1/1 [==============================] - 0s 8ms/step - loss: 0.6275 - mae: 0.6275\n",
      "Epoch 54/100\n",
      "1/1 [==============================] - 0s 0s/step - loss: 0.6054 - mae: 0.6054\n",
      "Epoch 55/100\n",
      "1/1 [==============================] - 0s 5ms/step - loss: 0.4723 - mae: 0.4723\n",
      "Epoch 56/100\n",
      "1/1 [==============================] - 0s 8ms/step - loss: 0.7663 - mae: 0.7663\n",
      "Epoch 57/100\n",
      "1/1 [==============================] - 0s 8ms/step - loss: 1.0778 - mae: 1.0778\n",
      "Epoch 58/100\n",
      "1/1 [==============================] - 0s 8ms/step - loss: 1.0271 - mae: 1.0271\n",
      "Epoch 59/100\n",
      "1/1 [==============================] - 0s 8ms/step - loss: 0.8290 - mae: 0.8290\n",
      "Epoch 60/100\n",
      "1/1 [==============================] - 0s 8ms/step - loss: 1.0488 - mae: 1.0488\n",
      "Epoch 61/100\n",
      "1/1 [==============================] - 0s 0s/step - loss: 1.1482 - mae: 1.1482\n",
      "Epoch 62/100\n",
      "1/1 [==============================] - 0s 8ms/step - loss: 1.0326 - mae: 1.0326\n",
      "Epoch 63/100\n",
      "1/1 [==============================] - 0s 8ms/step - loss: 0.7324 - mae: 0.7324\n",
      "Epoch 64/100\n",
      "1/1 [==============================] - 0s 9ms/step - loss: 0.6299 - mae: 0.6299\n",
      "Epoch 65/100\n",
      "1/1 [==============================] - 0s 8ms/step - loss: 0.6983 - mae: 0.6983\n",
      "Epoch 66/100\n",
      "1/1 [==============================] - 0s 8ms/step - loss: 0.4802 - mae: 0.4802\n",
      "Epoch 67/100\n",
      "1/1 [==============================] - 0s 0s/step - loss: 0.0918 - mae: 0.0918\n",
      "Epoch 68/100\n",
      "1/1 [==============================] - 0s 8ms/step - loss: 0.2484 - mae: 0.2484\n",
      "Epoch 69/100\n",
      "1/1 [==============================] - 0s 9ms/step - loss: 0.2331 - mae: 0.2331\n",
      "Epoch 70/100\n",
      "1/1 [==============================] - 0s 0s/step - loss: 0.4387 - mae: 0.4387\n",
      "Epoch 71/100\n",
      "1/1 [==============================] - 0s 8ms/step - loss: 0.4950 - mae: 0.4950\n",
      "Epoch 72/100\n",
      "1/1 [==============================] - 0s 9ms/step - loss: 0.3840 - mae: 0.3840\n",
      "Epoch 73/100\n",
      "1/1 [==============================] - 0s 7ms/step - loss: 0.5065 - mae: 0.5065\n",
      "Epoch 74/100\n",
      "1/1 [==============================] - 0s 8ms/step - loss: 0.5268 - mae: 0.5268\n",
      "Epoch 75/100\n",
      "1/1 [==============================] - 0s 10ms/step - loss: 0.3047 - mae: 0.3047\n",
      "Epoch 76/100\n",
      "1/1 [==============================] - 0s 0s/step - loss: 0.3625 - mae: 0.3625\n",
      "Epoch 77/100\n",
      "1/1 [==============================] - 0s 7ms/step - loss: 0.4638 - mae: 0.4638\n",
      "Epoch 78/100\n",
      "1/1 [==============================] - 0s 10ms/step - loss: 0.3191 - mae: 0.3191\n",
      "Epoch 79/100\n",
      "1/1 [==============================] - 0s 16ms/step - loss: 0.1330 - mae: 0.1330\n",
      "Epoch 80/100\n",
      "1/1 [==============================] - 0s 4ms/step - loss: 0.3089 - mae: 0.3089\n",
      "Epoch 81/100\n",
      "1/1 [==============================] - 0s 7ms/step - loss: 0.2333 - mae: 0.2333\n",
      "Epoch 82/100\n",
      "1/1 [==============================] - 0s 13ms/step - loss: 0.1156 - mae: 0.1156\n",
      "Epoch 83/100\n",
      "1/1 [==============================] - 0s 8ms/step - loss: 0.1355 - mae: 0.1355\n",
      "Epoch 84/100\n",
      "1/1 [==============================] - 0s 17ms/step - loss: 0.1303 - mae: 0.1303\n",
      "Epoch 85/100\n",
      "1/1 [==============================] - 0s 8ms/step - loss: 0.0810 - mae: 0.0810\n",
      "Epoch 86/100\n",
      "1/1 [==============================] - 0s 8ms/step - loss: 0.2598 - mae: 0.2598\n",
      "Epoch 87/100\n",
      "1/1 [==============================] - 0s 8ms/step - loss: 0.2643 - mae: 0.2643\n",
      "Epoch 88/100\n",
      "1/1 [==============================] - 0s 8ms/step - loss: 0.0814 - mae: 0.0814\n",
      "Epoch 89/100\n",
      "1/1 [==============================] - 0s 8ms/step - loss: 0.3936 - mae: 0.3936\n",
      "Epoch 90/100\n",
      "1/1 [==============================] - 0s 8ms/step - loss: 0.4607 - mae: 0.4607\n",
      "Epoch 91/100\n",
      "1/1 [==============================] - 0s 8ms/step - loss: 0.2572 - mae: 0.2572\n",
      "Epoch 92/100\n",
      "1/1 [==============================] - 0s 0s/step - loss: 0.2275 - mae: 0.2275\n",
      "Epoch 93/100\n",
      "1/1 [==============================] - 0s 8ms/step - loss: 0.3943 - mae: 0.3943\n",
      "Epoch 94/100\n",
      "1/1 [==============================] - 0s 8ms/step - loss: 0.2803 - mae: 0.2803\n",
      "Epoch 95/100\n",
      "1/1 [==============================] - 0s 8ms/step - loss: 0.1546 - mae: 0.1546\n",
      "Epoch 96/100\n",
      "1/1 [==============================] - 0s 8ms/step - loss: 0.2344 - mae: 0.2344\n",
      "Epoch 97/100\n",
      "1/1 [==============================] - 0s 8ms/step - loss: 0.0904 - mae: 0.0904\n",
      "Epoch 98/100\n",
      "1/1 [==============================] - 0s 8ms/step - loss: 0.2939 - mae: 0.2939\n",
      "Epoch 99/100\n",
      "1/1 [==============================] - 0s 8ms/step - loss: 0.3835 - mae: 0.3835\n",
      "Epoch 100/100\n",
      "1/1 [==============================] - 0s 11ms/step - loss: 0.2339 - mae: 0.2339\n"
     ]
    },
    {
     "data": {
      "text/plain": [
       "<keras.callbacks.History at 0x212abb038e0>"
      ]
     },
     "execution_count": 99,
     "metadata": {},
     "output_type": "execute_result"
    }
   ],
   "source": [
    "# Changes: improv1 + hidden layer with 50 layers + Cha\n",
    "\n",
    "# 1. Create a model\n",
    "improv_model2 = tf.keras.Sequential([\n",
    "    tf.keras.layers.Dense(50, activation=None),\n",
    "    tf.keras.layers.Dense(1)\n",
    "])\n",
    "\n",
    "# 2. Compile the model\n",
    "improv_model2.compile(loss = tf.losses.mae,\n",
    "                        optimizer = tf.optimizers.Adam(0.01),\n",
    "                        metrics = [\"mae\"])\n",
    "\n",
    "# 3. Fit the model\n",
    "improv_model2.fit(tf.expand_dims(X,axis=-1),y,epochs=100)"
   ]
  },
  {
   "cell_type": "code",
   "execution_count": 100,
   "metadata": {},
   "outputs": [
    {
     "name": "stdout",
     "output_type": "stream",
     "text": [
      "1/1 [==============================] - 0s 104ms/step\n"
     ]
    },
    {
     "data": {
      "text/plain": [
       "array([[27.319654]], dtype=float32)"
      ]
     },
     "execution_count": 100,
     "metadata": {},
     "output_type": "execute_result"
    }
   ],
   "source": [
    "improv_model2.predict([17.0])\n",
    "\n",
    "# Though our loss is lesser than before, its prediction is worse. This is due to overfitting.\n",
    "# Hence, our model has trained really well on training data, but on unseen data, its results are not good"
   ]
  },
  {
   "attachments": {},
   "cell_type": "markdown",
   "metadata": {},
   "source": [
    "### Evaluating a Model - Visualize, Visualize, Visualize\n",
    "* Visualize the data - What is the data you are working with? How does it look?\n",
    "* Visualize the model - What does our model look like?\n",
    "* Training of model - How does the model look while training?\n",
    "* Predictions of model - How the predictions of the model compare to the ground truth?\n"
   ]
  },
  {
   "cell_type": "code",
   "execution_count": 101,
   "metadata": {},
   "outputs": [
    {
     "data": {
      "text/plain": [
       "(<tf.Tensor: shape=(50,), dtype=int32, numpy=\n",
       " array([-100,  -96,  -92,  -88,  -84,  -80,  -76,  -72,  -68,  -64,  -60,\n",
       "         -56,  -52,  -48,  -44,  -40,  -36,  -32,  -28,  -24,  -20,  -16,\n",
       "         -12,   -8,   -4,    0,    4,    8,   12,   16,   20,   24,   28,\n",
       "          32,   36,   40,   44,   48,   52,   56,   60,   64,   68,   72,\n",
       "          76,   80,   84,   88,   92,   96])>,\n",
       " <tf.Tensor: shape=(50,), dtype=int32, numpy=\n",
       " array([-90, -86, -82, -78, -74, -70, -66, -62, -58, -54, -50, -46, -42,\n",
       "        -38, -34, -30, -26, -22, -18, -14, -10,  -6,  -2,   2,   6,  10,\n",
       "         14,  18,  22,  26,  30,  34,  38,  42,  46,  50,  54,  58,  62,\n",
       "         66,  70,  74,  78,  82,  86,  90,  94,  98, 102, 106])>)"
      ]
     },
     "execution_count": 101,
     "metadata": {},
     "output_type": "execute_result"
    }
   ],
   "source": [
    "# Make a larger dataset\n",
    "X = tf.range(-100,100,4)\n",
    "y = X+10\n",
    "X,y"
   ]
  },
  {
   "cell_type": "code",
   "execution_count": 102,
   "metadata": {},
   "outputs": [
    {
     "data": {
      "text/plain": [
       "<matplotlib.collections.PathCollection at 0x212bd23cfd0>"
      ]
     },
     "execution_count": 102,
     "metadata": {},
     "output_type": "execute_result"
    },
    {
     "data": {
      "image/png": "[encoded data removed]",
      "text/plain": [
       "<Figure size 640x480 with 1 Axes>"
      ]
     },
     "metadata": {},
     "output_type": "display_data"
    }
   ],
   "source": [
    "# Visualize the data\n",
    "plt.plot(X,y)\n",
    "plt.scatter(X,y,color='r')"
   ]
  },
  {
   "attachments": {},
   "cell_type": "markdown",
   "metadata": {},
   "source": [
    "#### The 3 datasets\n",
    "> Training set\n",
    "* Model learns on this data. \n",
    "* This is 70-80% of total data.\n",
    "> Validation set\n",
    "* Model gets tuned on this data. \n",
    "* This is 10-15% of total data.\n",
    "> Test set\n",
    "* Model gets evaluate on this data. \n",
    "* This is 10-15% of total data.\n",
    "\n",
    "`We have these 3 sets to increase the model's ability to generalize`"
   ]
  },
  {
   "cell_type": "code",
   "execution_count": 103,
   "metadata": {},
   "outputs": [
    {
     "data": {
      "text/plain": [
       "50"
      ]
     },
     "execution_count": 103,
     "metadata": {},
     "output_type": "execute_result"
    }
   ],
   "source": [
    "len(X)"
   ]
  },
  {
   "cell_type": "code",
   "execution_count": 104,
   "metadata": {},
   "outputs": [
    {
     "data": {
      "text/plain": [
       "(40, 10, 40, 10)"
      ]
     },
     "execution_count": 104,
     "metadata": {},
     "output_type": "execute_result"
    }
   ],
   "source": [
    "X_train = X[:40] # First 40 samples (80% of the data)\n",
    "y_train = y[:40]\n",
    "\n",
    "X_test = X[40:] # remaining samples (20% of the data)\n",
    "y_test = y[40:] \n",
    "\n",
    "len(X_train),len(X_test), len(y_train), len(y_test)"
   ]
  },
  {
   "attachments": {},
   "cell_type": "markdown",
   "metadata": {},
   "source": [
    "#### Visualizing Data"
   ]
  },
  {
   "cell_type": "code",
   "execution_count": 105,
   "metadata": {},
   "outputs": [
    {
     "data": {
      "text/plain": [
       "<matplotlib.legend.Legend at 0x212bd26e4a0>"
      ]
     },
     "execution_count": 105,
     "metadata": {},
     "output_type": "execute_result"
    },
    {
     "data": {
      "image/png": "[encoded data removed]",
      "text/plain": [
       "<Figure size 1000x700 with 1 Axes>"
      ]
     },
     "metadata": {},
     "output_type": "display_data"
    }
   ],
   "source": [
    "plt.figure(figsize=(10,7))\n",
    "\n",
    "# Plot training data\n",
    "plt.scatter(X_train, y_train, c='b', label = \"Training data\")\n",
    "\n",
    "# Plot testing data\n",
    "plt.scatter(X_test, y_test, c='g', label = \"Testing data\")\n",
    "\n",
    "# Show legend\n",
    "plt.legend()"
   ]
  },
  {
   "attachments": {},
   "cell_type": "markdown",
   "metadata": {},
   "source": [
    "#### Visualizing Model \n",
    "- Model Summary\n",
    "- Plot_model\n"
   ]
  },
  {
   "cell_type": "code",
   "execution_count": 106,
   "metadata": {},
   "outputs": [],
   "source": [
    "# 1. Create a model\n",
    "model = tf.keras.Sequential([\n",
    "    tf.keras.layers.Dense(1)\n",
    "])\n",
    "\n",
    "# 2. compile the model\n",
    "model.compile(\n",
    "    loss = tf.keras.losses.mae,\n",
    "    optimizer = tf.keras.optimizers.SGD(),\n",
    "    metrics=[\"mae\"])\n",
    "\n",
    "# 3. fit the model\n",
    "# model.fit(X_train,y_train, epochs=100)\n"
   ]
  },
  {
   "cell_type": "code",
   "execution_count": 107,
   "metadata": {},
   "outputs": [],
   "source": [
    "## ERROR OCCURS\n",
    "# model.summary()\n",
    "# NOTE: To get model summary without fitting, we need to 'build' the model or provide the input shape so it builds automatically"
   ]
  },
  {
   "cell_type": "code",
   "execution_count": 108,
   "metadata": {},
   "outputs": [
    {
     "data": {
      "text/plain": [
       "TensorShape([])"
      ]
     },
     "execution_count": 108,
     "metadata": {},
     "output_type": "execute_result"
    }
   ],
   "source": [
    "X[0].shape"
   ]
  },
  {
   "cell_type": "code",
   "execution_count": 109,
   "metadata": {},
   "outputs": [],
   "source": [
    "# Let's create a model which builds automatically by defining the input_shape argument in first layer\n",
    "\n",
    "tf.random.set_seed(42)\n",
    "# 1. Create a model\n",
    "model = tf.keras.Sequential([\n",
    "    tf.keras.layers.Dense(10, input_shape=[1], name=\"Input_Layer\"),\n",
    "    tf.keras.layers.Dense(1, name=\"Output_Layer\")\n",
    "], name=\"model_3\")\n",
    "\n",
    "# 2. compile the model\n",
    "model.compile(\n",
    "    loss = tf.keras.losses.mae,\n",
    "    optimizer = tf.keras.optimizers.SGD(),\n",
    "    metrics=[\"mae\"])\n",
    "\n",
    "# 3. fit the model\n",
    "# model.fit(X_train,y_train, epochs=100)\n",
    "\n",
    "# NOTE: To get model summary without fitting, we need to 'build' the model or provide the input shape so it builds automatically"
   ]
  },
  {
   "cell_type": "code",
   "execution_count": 110,
   "metadata": {},
   "outputs": [
    {
     "name": "stdout",
     "output_type": "stream",
     "text": [
      "Model: \"model_3\"\n",
      "_________________________________________________________________\n",
      " Layer (type)                Output Shape              Param #   \n",
      "=================================================================\n",
      " Input_Layer (Dense)         (None, 10)                20        \n",
      "                                                                 \n",
      " Output_Layer (Dense)        (None, 1)                 11        \n",
      "                                                                 \n",
      "=================================================================\n",
      "Total params: 31\n",
      "Trainable params: 31\n",
      "Non-trainable params: 0\n",
      "_________________________________________________________________\n"
     ]
    }
   ],
   "source": [
    "model.summary()"
   ]
  },
  {
   "attachments": {},
   "cell_type": "markdown",
   "metadata": {},
   "source": [
    "* Total parameters - Total number of parameters in the model.\n",
    "* Trainable Parameters - The parameters that the model can update\n",
    "* Non-trainable parameters - The parameters that aren't updated during training (This is typical when you bring in already learned patterns and parameters from other models during **transfer learning**)\n",
    "\n",
    "**Resources:** [MIT's Introduction to Deep Learning](https://introtodeeplearning.com/2022/index.html)"
   ]
  },
  {
   "cell_type": "code",
   "execution_count": 111,
   "metadata": {},
   "outputs": [
    {
     "data": {
      "text/plain": [
       "<keras.callbacks.History at 0x212bd2d2170>"
      ]
     },
     "execution_count": 111,
     "metadata": {},
     "output_type": "execute_result"
    }
   ],
   "source": [
    "model.fit(X_train,y_train,epochs=100,verbose=0)"
   ]
  },
  {
   "cell_type": "code",
   "execution_count": 112,
   "metadata": {},
   "outputs": [
    {
     "data": {
      "image/png": "[encoded data removed]",
      "text/plain": [
       "<IPython.core.display.Image object>"
      ]
     },
     "execution_count": 112,
     "metadata": {},
     "output_type": "execute_result"
    }
   ],
   "source": [
    "from tensorflow.keras.utils import plot_model\n",
    "\n",
    "plot_model(model, show_shapes=True)"
   ]
  },
  {
   "attachments": {},
   "cell_type": "markdown",
   "metadata": {},
   "source": [
    "### Visualize Model's Predictions\n",
    "- Plot the predictions (y_pred) against ground truth labels( y_train / y_test )\n",
    "\n"
   ]
  },
  {
   "cell_type": "code",
   "execution_count": 113,
   "metadata": {},
   "outputs": [
    {
     "name": "stdout",
     "output_type": "stream",
     "text": [
      "1/1 [==============================] - 0s 59ms/step\n"
     ]
    },
    {
     "data": {
      "text/plain": [
       "array([[ 78.25221 ],\n",
       "       [ 83.35277 ],\n",
       "       [ 88.453316],\n",
       "       [ 93.55388 ],\n",
       "       [ 98.65443 ],\n",
       "       [103.75498 ],\n",
       "       [108.85554 ],\n",
       "       [113.95609 ],\n",
       "       [119.05664 ],\n",
       "       [124.157196]], dtype=float32)"
      ]
     },
     "execution_count": 113,
     "metadata": {},
     "output_type": "execute_result"
    }
   ],
   "source": [
    "# Make predictions\n",
    "\n",
    "y_pred = model.predict(X_test)\n",
    "y_pred"
   ]
  },
  {
   "cell_type": "code",
   "execution_count": 114,
   "metadata": {},
   "outputs": [
    {
     "data": {
      "text/plain": [
       "<tf.Tensor: shape=(10,), dtype=int32, numpy=array([ 70,  74,  78,  82,  86,  90,  94,  98, 102, 106])>"
      ]
     },
     "execution_count": 114,
     "metadata": {},
     "output_type": "execute_result"
    }
   ],
   "source": [
    "y_test"
   ]
  },
  {
   "attachments": {},
   "cell_type": "markdown",
   "metadata": {},
   "source": [
    "Create a plotting functions"
   ]
  },
  {
   "cell_type": "code",
   "execution_count": 115,
   "metadata": {},
   "outputs": [],
   "source": [
    "# Create a plotting function\n",
    "\n",
    "def plot_predictions(train_data=X_train, train_labels=y_train, test_data=X_test, test_labels=y_test, predictions=y_pred):\n",
    "    \"\"\" Plots training data, test data and compares the predictions to the ground truth\"\"\"\n",
    "\n",
    "    plt.figure(figsize=(10,7))\n",
    "    \n",
    "    # Plot training data in blue\n",
    "    plt.scatter(train_data,train_labels,c='b',label=\"Training data\")\n",
    "    # Plot testing data in green\n",
    "    plt.scatter(test_data,test_labels,c='g',label=\"Testing data\")\n",
    "    # Plot the predictions in red (predictions were made on the test data)\n",
    "    plt.scatter(test_data,predictions,c='r',label=\"Predictions\")\n",
    "    # Show the legend\n",
    "    plt.legend()"
   ]
  },
  {
   "cell_type": "code",
   "execution_count": 116,
   "metadata": {},
   "outputs": [
    {
     "data": {
      "image/png": "[encoded data removed]",
      "text/plain": [
       "<Figure size 1000x700 with 1 Axes>"
      ]
     },
     "metadata": {},
     "output_type": "display_data"
    }
   ],
   "source": [
    "plot_predictions(train_data=X_train,\n",
    "                train_labels=y_train,\n",
    "                test_data=X_test,\n",
    "                test_labels=y_test,\n",
    "                predictions=y_pred)"
   ]
  },
  {
   "attachments": {},
   "cell_type": "markdown",
   "metadata": {},
   "source": [
    "### Evaluation Metrics for Regression Model\n",
    "\n",
    "* MAE - Mean Absolute Error\n",
    "    * Mean of absolute error\n",
    "    * A starter metric for regression problems\n",
    "    * Adv: It is most Robust to outliers.\n",
    "    * Disadv: MAE is not differential, hence can't apply optimizers like Gradient Descent\n",
    "###\n",
    "* MSE - Mean Squared Error\n",
    "    * Mean of squares of absolute error\n",
    "    * When larger errors are more significant than smaller errors\n",
    "    * Adv: MSE is differential\n",
    "    * Disadv: MSE is not Robust to outliers (Outliers are penalised the most, since the deviation itself is high and we are squaring it too)\n",
    "###\n",
    "* Huber - Combination of MSE and MAE\n",
    "    * Less sensitive to outliers than MSE\n",
    "###\n",
    "* RMSE - Root Mean Squared Error\n",
    "    * Root of mean of squares of absolute errors\n",
    "    * Adv: RMSE is differential and unit is same as output variable\n",
    "    * Disadv: RMSE is not as Robust as MAE, to outliers."
   ]
  },
  {
   "cell_type": "code",
   "execution_count": 117,
   "metadata": {},
   "outputs": [
    {
     "name": "stdout",
     "output_type": "stream",
     "text": [
      "1/1 [==============================] - 0s 129ms/step - loss: 13.2047 - mae: 13.2047\n"
     ]
    },
    {
     "data": {
      "text/plain": [
       "[13.204706192016602, 13.204706192016602]"
      ]
     },
     "execution_count": 117,
     "metadata": {},
     "output_type": "execute_result"
    }
   ],
   "source": [
    "model.evaluate(X_test,y_test)\n",
    "\n",
    "# Metrics is MAE since metrics and loss in compiling is MAE"
   ]
  },
  {
   "cell_type": "code",
   "execution_count": 118,
   "metadata": {},
   "outputs": [
    {
     "data": {
      "text/plain": [
       "(<tf.Tensor: shape=(10,), dtype=int32, numpy=array([ 70,  74,  78,  82,  86,  90,  94,  98, 102, 106])>,\n",
       " <tf.Tensor: shape=(10,), dtype=float32, numpy=\n",
       " array([ 78.25221 ,  83.35277 ,  88.453316,  93.55388 ,  98.65443 ,\n",
       "        103.75498 , 108.85554 , 113.95609 , 119.05664 , 124.157196],\n",
       "       dtype=float32)>)"
      ]
     },
     "execution_count": 118,
     "metadata": {},
     "output_type": "execute_result"
    }
   ],
   "source": [
    "y_test,tf.squeeze(y_pred)"
   ]
  },
  {
   "cell_type": "code",
   "execution_count": 119,
   "metadata": {},
   "outputs": [
    {
     "data": {
      "text/plain": [
       "<tf.Tensor: shape=(), dtype=float32, numpy=13.204706>"
      ]
     },
     "execution_count": 119,
     "metadata": {},
     "output_type": "execute_result"
    }
   ],
   "source": [
    "# Calculate the MAE\n",
    "mae = tf.metrics.mean_absolute_error(y_true=y_test,y_pred=tf.squeeze(y_pred))\n",
    "mae"
   ]
  },
  {
   "cell_type": "code",
   "execution_count": 120,
   "metadata": {},
   "outputs": [
    {
     "data": {
      "text/plain": [
       "<tf.Tensor: shape=(), dtype=float32, numpy=184.35678>"
      ]
     },
     "execution_count": 120,
     "metadata": {},
     "output_type": "execute_result"
    }
   ],
   "source": [
    "# Calculate the MSE\n",
    "mse = tf.metrics.mean_squared_error(y_test,tf.squeeze(y_pred))\n",
    "mse"
   ]
  },
  {
   "cell_type": "code",
   "execution_count": 121,
   "metadata": {},
   "outputs": [],
   "source": [
    "# Make a function to reuse MAE and MSE\n",
    "\n",
    "def MAE(y_true,y_pred):\n",
    "    return tf.metrics.mean_absolute_error(y_true=y_true,y_pred=tf.squeeze(y_pred))\n",
    "\n",
    "def MSE(y_true,y_pred):\n",
    "    return tf.metrics.mean_squared_error(y_true=y_true,y_pred=tf.squeeze(y_pred))\n"
   ]
  },
  {
   "attachments": {},
   "cell_type": "markdown",
   "metadata": {},
   "source": [
    "### Experiments to Improve Models\n",
    "\n",
    "```\n",
    "Build model -> fit -> evaluate -> tweak -> fit -> evaluate -> tweak\n",
    "```\n",
    "1. Get more data for model to train on, to learn patterns and relationships between features and labels\n",
    "\n",
    "2. Build larger models (Complex models)\n",
    "    * More layers and hidden units in each layer\n",
    "##\n",
    "3. Train for more epochs\n",
    "\n",
    "\n",
    "Build 3 models:\n",
    "- Model_1 -> 1 layer and 100 epochs\n",
    "- Model_2 -> 2 layers and 100 epochs\n",
    "- Model_3 -> 2 layers and 500 epochs"
   ]
  },
  {
   "cell_type": "code",
   "execution_count": 122,
   "metadata": {},
   "outputs": [
    {
     "data": {
      "text/plain": [
       "(<tf.Tensor: shape=(40,), dtype=int32, numpy=\n",
       " array([-100,  -96,  -92,  -88,  -84,  -80,  -76,  -72,  -68,  -64,  -60,\n",
       "         -56,  -52,  -48,  -44,  -40,  -36,  -32,  -28,  -24,  -20,  -16,\n",
       "         -12,   -8,   -4,    0,    4,    8,   12,   16,   20,   24,   28,\n",
       "          32,   36,   40,   44,   48,   52,   56])>,\n",
       " <tf.Tensor: shape=(40,), dtype=int32, numpy=\n",
       " array([-90, -86, -82, -78, -74, -70, -66, -62, -58, -54, -50, -46, -42,\n",
       "        -38, -34, -30, -26, -22, -18, -14, -10,  -6,  -2,   2,   6,  10,\n",
       "         14,  18,  22,  26,  30,  34,  38,  42,  46,  50,  54,  58,  62,\n",
       "         66])>)"
      ]
     },
     "execution_count": 122,
     "metadata": {},
     "output_type": "execute_result"
    }
   ],
   "source": [
    "X_train, y_train"
   ]
  },
  {
   "cell_type": "code",
   "execution_count": 123,
   "metadata": {},
   "outputs": [
    {
     "name": "stdout",
     "output_type": "stream",
     "text": [
      "Epoch 1/100\n",
      "2/2 [==============================] - 0s 8ms/step - loss: 50.2639 - mae: 50.2639\n",
      "Epoch 2/100\n",
      "2/2 [==============================] - 0s 3ms/step - loss: 17.4809 - mae: 17.4809\n",
      "Epoch 3/100\n",
      "2/2 [==============================] - 0s 0s/step - loss: 16.7462 - mae: 16.7462\n",
      "Epoch 4/100\n",
      "2/2 [==============================] - 0s 0s/step - loss: 9.0329 - mae: 9.0329\n",
      "Epoch 5/100\n",
      "2/2 [==============================] - 0s 0s/step - loss: 11.0945 - mae: 11.0945\n",
      "Epoch 6/100\n",
      "2/2 [==============================] - 0s 8ms/step - loss: 10.2475 - mae: 10.2475\n",
      "Epoch 7/100\n",
      "2/2 [==============================] - 0s 0s/step - loss: 9.2551 - mae: 9.2551\n",
      "Epoch 8/100\n",
      "2/2 [==============================] - 0s 0s/step - loss: 9.1763 - mae: 9.1763\n",
      "Epoch 9/100\n",
      "2/2 [==============================] - 0s 0s/step - loss: 11.8088 - mae: 11.8088\n",
      "Epoch 10/100\n",
      "2/2 [==============================] - 0s 8ms/step - loss: 13.7390 - mae: 13.7390\n",
      "Epoch 11/100\n",
      "2/2 [==============================] - 0s 8ms/step - loss: 11.8232 - mae: 11.8232\n",
      "Epoch 12/100\n",
      "2/2 [==============================] - 0s 8ms/step - loss: 16.3686 - mae: 16.3686\n",
      "Epoch 13/100\n",
      "2/2 [==============================] - 0s 0s/step - loss: 11.9194 - mae: 11.9194\n",
      "Epoch 14/100\n",
      "2/2 [==============================] - 0s 8ms/step - loss: 13.8379 - mae: 13.8379\n",
      "Epoch 15/100\n",
      "2/2 [==============================] - 0s 8ms/step - loss: 11.2243 - mae: 11.2243\n",
      "Epoch 16/100\n",
      "2/2 [==============================] - 0s 8ms/step - loss: 8.6066 - mae: 8.6066\n",
      "Epoch 17/100\n",
      "2/2 [==============================] - 0s 8ms/step - loss: 13.7784 - mae: 13.7784\n",
      "Epoch 18/100\n",
      "2/2 [==============================] - 0s 8ms/step - loss: 11.6395 - mae: 11.6395\n",
      "Epoch 19/100\n",
      "2/2 [==============================] - 0s 8ms/step - loss: 17.7233 - mae: 17.7233\n",
      "Epoch 20/100\n",
      "2/2 [==============================] - 0s 8ms/step - loss: 14.8594 - mae: 14.8594\n",
      "Epoch 21/100\n",
      "2/2 [==============================] - 0s 8ms/step - loss: 10.7684 - mae: 10.7684\n",
      "Epoch 22/100\n",
      "2/2 [==============================] - 0s 0s/step - loss: 8.5095 - mae: 8.5095\n",
      "Epoch 23/100\n",
      "2/2 [==============================] - 0s 8ms/step - loss: 9.7981 - mae: 9.7981\n",
      "Epoch 24/100\n",
      "2/2 [==============================] - 0s 8ms/step - loss: 10.8682 - mae: 10.8682\n",
      "Epoch 25/100\n",
      "2/2 [==============================] - 0s 0s/step - loss: 9.1309 - mae: 9.1309\n",
      "Epoch 26/100\n",
      "2/2 [==============================] - 0s 0s/step - loss: 13.0982 - mae: 13.0982\n",
      "Epoch 27/100\n",
      "2/2 [==============================] - 0s 8ms/step - loss: 10.4250 - mae: 10.4250\n",
      "Epoch 28/100\n",
      "2/2 [==============================] - 0s 0s/step - loss: 13.4398 - mae: 13.4398\n",
      "Epoch 29/100\n",
      "2/2 [==============================] - 0s 0s/step - loss: 9.6273 - mae: 9.6273\n",
      "Epoch 30/100\n",
      "2/2 [==============================] - 0s 8ms/step - loss: 17.2706 - mae: 17.2706\n",
      "Epoch 31/100\n",
      "2/2 [==============================] - 0s 8ms/step - loss: 22.8064 - mae: 22.8064\n",
      "Epoch 32/100\n",
      "2/2 [==============================] - 0s 0s/step - loss: 7.9261 - mae: 7.9261\n",
      "Epoch 33/100\n",
      "2/2 [==============================] - 0s 0s/step - loss: 14.1874 - mae: 14.1874\n",
      "Epoch 34/100\n",
      "2/2 [==============================] - 0s 8ms/step - loss: 12.4440 - mae: 12.4440\n",
      "Epoch 35/100\n",
      "2/2 [==============================] - 0s 8ms/step - loss: 8.2539 - mae: 8.2539\n",
      "Epoch 36/100\n",
      "2/2 [==============================] - 0s 0s/step - loss: 10.4617 - mae: 10.4617\n",
      "Epoch 37/100\n",
      "2/2 [==============================] - 0s 8ms/step - loss: 10.1131 - mae: 10.1131\n",
      "Epoch 38/100\n",
      "2/2 [==============================] - 0s 8ms/step - loss: 11.2876 - mae: 11.2876\n",
      "Epoch 39/100\n",
      "2/2 [==============================] - 0s 0s/step - loss: 14.8102 - mae: 14.8102\n",
      "Epoch 40/100\n",
      "2/2 [==============================] - 0s 0s/step - loss: 12.9400 - mae: 12.9400\n",
      "Epoch 41/100\n",
      "2/2 [==============================] - 0s 8ms/step - loss: 9.3361 - mae: 9.3361\n",
      "Epoch 42/100\n",
      "2/2 [==============================] - 0s 0s/step - loss: 10.9777 - mae: 10.9777\n",
      "Epoch 43/100\n",
      "2/2 [==============================] - 0s 8ms/step - loss: 8.3362 - mae: 8.3362\n",
      "Epoch 44/100\n",
      "2/2 [==============================] - 0s 0s/step - loss: 12.9948 - mae: 12.9948\n",
      "Epoch 45/100\n",
      "2/2 [==============================] - 0s 6ms/step - loss: 13.7372 - mae: 13.7372\n",
      "Epoch 46/100\n",
      "2/2 [==============================] - 0s 8ms/step - loss: 8.4324 - mae: 8.4324\n",
      "Epoch 47/100\n",
      "2/2 [==============================] - 0s 8ms/step - loss: 9.1739 - mae: 9.1739\n",
      "Epoch 48/100\n",
      "2/2 [==============================] - 0s 0s/step - loss: 10.6757 - mae: 10.6757\n",
      "Epoch 49/100\n",
      "2/2 [==============================] - 0s 8ms/step - loss: 7.7868 - mae: 7.7868\n",
      "Epoch 50/100\n",
      "2/2 [==============================] - 0s 8ms/step - loss: 9.5930 - mae: 9.5930\n",
      "Epoch 51/100\n",
      "2/2 [==============================] - 0s 0s/step - loss: 9.1775 - mae: 9.1775\n",
      "Epoch 52/100\n",
      "2/2 [==============================] - 0s 8ms/step - loss: 16.4589 - mae: 16.4589\n",
      "Epoch 53/100\n",
      "2/2 [==============================] - 0s 8ms/step - loss: 14.0965 - mae: 14.0965\n",
      "Epoch 54/100\n",
      "2/2 [==============================] - 0s 0s/step - loss: 21.0265 - mae: 21.0265\n",
      "Epoch 55/100\n",
      "2/2 [==============================] - 0s 8ms/step - loss: 16.4851 - mae: 16.4851\n",
      "Epoch 56/100\n",
      "2/2 [==============================] - 0s 0s/step - loss: 9.8818 - mae: 9.8818\n",
      "Epoch 57/100\n",
      "2/2 [==============================] - 0s 8ms/step - loss: 9.6621 - mae: 9.6621\n",
      "Epoch 58/100\n",
      "2/2 [==============================] - 0s 0s/step - loss: 8.9836 - mae: 8.9836\n",
      "Epoch 59/100\n",
      "2/2 [==============================] - 0s 0s/step - loss: 10.1897 - mae: 10.1897\n",
      "Epoch 60/100\n",
      "2/2 [==============================] - 0s 8ms/step - loss: 8.4322 - mae: 8.4322\n",
      "Epoch 61/100\n",
      "2/2 [==============================] - 0s 0s/step - loss: 9.2716 - mae: 9.2716\n",
      "Epoch 62/100\n",
      "2/2 [==============================] - 0s 8ms/step - loss: 7.0837 - mae: 7.0837\n",
      "Epoch 63/100\n",
      "2/2 [==============================] - 0s 6ms/step - loss: 8.6604 - mae: 8.6604\n",
      "Epoch 64/100\n",
      "2/2 [==============================] - 0s 0s/step - loss: 9.2375 - mae: 9.2375\n",
      "Epoch 65/100\n",
      "2/2 [==============================] - 0s 0s/step - loss: 10.4985 - mae: 10.4985\n",
      "Epoch 66/100\n",
      "2/2 [==============================] - 0s 8ms/step - loss: 15.6440 - mae: 15.6440\n",
      "Epoch 67/100\n",
      "2/2 [==============================] - 0s 0s/step - loss: 10.0421 - mae: 10.0421\n",
      "Epoch 68/100\n",
      "2/2 [==============================] - 0s 8ms/step - loss: 9.0220 - mae: 9.0220\n",
      "Epoch 69/100\n",
      "2/2 [==============================] - 0s 8ms/step - loss: 12.5147 - mae: 12.5147\n",
      "Epoch 70/100\n",
      "2/2 [==============================] - 0s 0s/step - loss: 8.9925 - mae: 8.9925\n",
      "Epoch 71/100\n",
      "2/2 [==============================] - 0s 8ms/step - loss: 9.9704 - mae: 9.9704\n",
      "Epoch 72/100\n",
      "2/2 [==============================] - 0s 2ms/step - loss: 10.0025 - mae: 10.0025\n",
      "Epoch 73/100\n",
      "2/2 [==============================] - 0s 0s/step - loss: 12.4952 - mae: 12.4952\n",
      "Epoch 74/100\n",
      "2/2 [==============================] - 0s 8ms/step - loss: 10.5306 - mae: 10.5306\n",
      "Epoch 75/100\n",
      "2/2 [==============================] - 0s 0s/step - loss: 9.6644 - mae: 9.6644\n",
      "Epoch 76/100\n",
      "2/2 [==============================] - 0s 0s/step - loss: 11.1406 - mae: 11.1406\n",
      "Epoch 77/100\n",
      "2/2 [==============================] - 0s 8ms/step - loss: 8.3105 - mae: 8.3105\n",
      "Epoch 78/100\n",
      "2/2 [==============================] - 0s 0s/step - loss: 9.0215 - mae: 9.0215\n",
      "Epoch 79/100\n",
      "2/2 [==============================] - 0s 8ms/step - loss: 19.7149 - mae: 19.7149\n",
      "Epoch 80/100\n",
      "2/2 [==============================] - 0s 0s/step - loss: 17.8850 - mae: 17.8850\n",
      "Epoch 81/100\n",
      "2/2 [==============================] - 0s 6ms/step - loss: 7.0600 - mae: 7.0600\n",
      "Epoch 82/100\n",
      "2/2 [==============================] - 0s 8ms/step - loss: 10.4473 - mae: 10.4473\n",
      "Epoch 83/100\n",
      "2/2 [==============================] - 0s 8ms/step - loss: 9.8784 - mae: 9.8784\n",
      "Epoch 84/100\n",
      "2/2 [==============================] - 0s 0s/step - loss: 7.9257 - mae: 7.9257\n",
      "Epoch 85/100\n",
      "2/2 [==============================] - 0s 8ms/step - loss: 9.4226 - mae: 9.4226\n",
      "Epoch 86/100\n",
      "2/2 [==============================] - 0s 0s/step - loss: 9.2486 - mae: 9.2486\n",
      "Epoch 87/100\n",
      "2/2 [==============================] - 0s 8ms/step - loss: 12.0265 - mae: 12.0265\n",
      "Epoch 88/100\n",
      "2/2 [==============================] - 0s 8ms/step - loss: 10.6450 - mae: 10.6450\n",
      "Epoch 89/100\n",
      "2/2 [==============================] - 0s 8ms/step - loss: 7.2711 - mae: 7.2711\n",
      "Epoch 90/100\n",
      "2/2 [==============================] - 0s 0s/step - loss: 12.7850 - mae: 12.7850\n",
      "Epoch 91/100\n",
      "2/2 [==============================] - 0s 0s/step - loss: 7.4737 - mae: 7.4737\n",
      "Epoch 92/100\n",
      "2/2 [==============================] - 0s 0s/step - loss: 6.7601 - mae: 6.7601\n",
      "Epoch 93/100\n",
      "2/2 [==============================] - 0s 8ms/step - loss: 11.9363 - mae: 11.9363\n",
      "Epoch 94/100\n",
      "2/2 [==============================] - 0s 0s/step - loss: 8.8729 - mae: 8.8729\n",
      "Epoch 95/100\n",
      "2/2 [==============================] - 0s 8ms/step - loss: 7.7171 - mae: 7.7171\n",
      "Epoch 96/100\n",
      "2/2 [==============================] - 0s 8ms/step - loss: 6.7533 - mae: 6.7533\n",
      "Epoch 97/100\n",
      "2/2 [==============================] - 0s 8ms/step - loss: 8.6213 - mae: 8.6213\n",
      "Epoch 98/100\n",
      "2/2 [==============================] - 0s 8ms/step - loss: 9.4073 - mae: 9.4073\n",
      "Epoch 99/100\n",
      "2/2 [==============================] - 0s 3ms/step - loss: 9.1411 - mae: 9.1411\n",
      "Epoch 100/100\n",
      "2/2 [==============================] - 0s 8ms/step - loss: 10.5025 - mae: 10.5025\n"
     ]
    },
    {
     "data": {
      "text/plain": [
       "<keras.callbacks.History at 0x212b46fa9b0>"
      ]
     },
     "execution_count": 123,
     "metadata": {},
     "output_type": "execute_result"
    }
   ],
   "source": [
    "# Model_1  -  1 layer and 100 epochs\n",
    "\n",
    "tf.random.set_seed(42)\n",
    "\n",
    "model1 = tf.keras.Sequential([\n",
    "    tf.keras.layers.Dense(1, input_shape=[1])\n",
    "])\n",
    "\n",
    "model1.compile(loss=tf.keras.losses.mae,\n",
    "                optimizer = tf.keras.optimizers.SGD(),\n",
    "                metrics=[\"mae\"])\n",
    "\n",
    "model1.fit(X_train,y_train, epochs=100)"
   ]
  },
  {
   "cell_type": "code",
   "execution_count": 124,
   "metadata": {},
   "outputs": [
    {
     "name": "stdout",
     "output_type": "stream",
     "text": [
      "1/1 [==============================] - 0s 64ms/step\n"
     ]
    },
    {
     "data": {
      "image/png": "[encoded data removed]",
      "text/plain": [
       "<Figure size 1000x700 with 1 Axes>"
      ]
     },
     "metadata": {},
     "output_type": "display_data"
    }
   ],
   "source": [
    "# Make and plot predictions for model1\n",
    "y_pred1 = model1.predict(X_test)\n",
    "plot_predictions(predictions=y_pred1)"
   ]
  },
  {
   "cell_type": "code",
   "execution_count": 125,
   "metadata": {},
   "outputs": [
    {
     "data": {
      "text/plain": [
       "(<tf.Tensor: shape=(), dtype=float32, numpy=14.861667>,\n",
       " <tf.Tensor: shape=(), dtype=float32, numpy=221.69034>)"
      ]
     },
     "execution_count": 125,
     "metadata": {},
     "output_type": "execute_result"
    }
   ],
   "source": [
    "# Calculate model1 evaluation metrics\n",
    "\n",
    "mae1 = MAE(y_true=y_test, y_pred=y_pred1)\n",
    "mse1 = MSE(y_true=y_test, y_pred=y_pred1)\n",
    "mae1,mse1"
   ]
  },
  {
   "cell_type": "code",
   "execution_count": 126,
   "metadata": {},
   "outputs": [
    {
     "name": "stdout",
     "output_type": "stream",
     "text": [
      "Epoch 1/100\n",
      "2/2 [==============================] - 0s 8ms/step - loss: 41.8683 - mse: 2496.5728\n",
      "Epoch 2/100\n",
      "2/2 [==============================] - 0s 8ms/step - loss: 31.6161 - mse: 1318.7043\n",
      "Epoch 3/100\n",
      "2/2 [==============================] - 0s 8ms/step - loss: 34.6460 - mse: 1843.4652\n",
      "Epoch 4/100\n",
      "2/2 [==============================] - 0s 8ms/step - loss: 17.9923 - mse: 456.5104\n",
      "Epoch 5/100\n",
      "2/2 [==============================] - 0s 8ms/step - loss: 23.7515 - mse: 833.9335\n",
      "Epoch 6/100\n",
      "2/2 [==============================] - 0s 0s/step - loss: 11.3356 - mse: 143.9070\n",
      "Epoch 7/100\n",
      "2/2 [==============================] - 0s 0s/step - loss: 12.4356 - mse: 201.1674\n",
      "Epoch 8/100\n",
      "2/2 [==============================] - 0s 0s/step - loss: 11.0828 - mse: 144.2604\n",
      "Epoch 9/100\n",
      "2/2 [==============================] - 0s 8ms/step - loss: 39.5965 - mse: 2447.7070\n",
      "Epoch 10/100\n",
      "2/2 [==============================] - 0s 0s/step - loss: 27.1038 - mse: 1033.1643\n",
      "Epoch 11/100\n",
      "2/2 [==============================] - 0s 0s/step - loss: 11.0590 - mse: 181.0406\n",
      "Epoch 12/100\n",
      "2/2 [==============================] - 0s 8ms/step - loss: 24.5517 - mse: 846.5724\n",
      "Epoch 13/100\n",
      "2/2 [==============================] - 0s 4ms/step - loss: 19.2651 - mse: 522.0458\n",
      "Epoch 14/100\n",
      "2/2 [==============================] - 0s 8ms/step - loss: 23.4886 - mse: 845.1802\n",
      "Epoch 15/100\n",
      "2/2 [==============================] - 0s 8ms/step - loss: 15.2770 - mse: 314.7531\n",
      "Epoch 16/100\n",
      "2/2 [==============================] - 0s 8ms/step - loss: 11.3677 - mse: 150.2351\n",
      "Epoch 17/100\n",
      "2/2 [==============================] - 0s 10ms/step - loss: 23.2187 - mse: 754.9335\n",
      "Epoch 18/100\n",
      "2/2 [==============================] - 0s 8ms/step - loss: 11.7939 - mse: 213.6434\n",
      "Epoch 19/100\n",
      "2/2 [==============================] - 0s 8ms/step - loss: 16.5030 - mse: 436.7917\n",
      "Epoch 20/100\n",
      "2/2 [==============================] - 0s 8ms/step - loss: 8.2447 - mse: 93.4164\n",
      "Epoch 21/100\n",
      "2/2 [==============================] - 0s 8ms/step - loss: 14.4172 - mse: 288.4150\n",
      "Epoch 22/100\n",
      "2/2 [==============================] - 0s 0s/step - loss: 12.8294 - mse: 245.6110\n",
      "Epoch 23/100\n",
      "2/2 [==============================] - 0s 0s/step - loss: 15.4690 - mse: 314.8376\n",
      "Epoch 24/100\n",
      "2/2 [==============================] - 0s 8ms/step - loss: 15.2574 - mse: 315.6243\n",
      "Epoch 25/100\n",
      "2/2 [==============================] - 0s 0s/step - loss: 14.3361 - mse: 272.6959\n",
      "Epoch 26/100\n",
      "2/2 [==============================] - 0s 8ms/step - loss: 19.3330 - mse: 567.2315\n",
      "Epoch 27/100\n",
      "2/2 [==============================] - 0s 8ms/step - loss: 11.4645 - mse: 169.7473\n",
      "Epoch 28/100\n",
      "2/2 [==============================] - 0s 10ms/step - loss: 29.1392 - mse: 1380.4229\n",
      "Epoch 29/100\n",
      "2/2 [==============================] - 0s 8ms/step - loss: 9.2564 - mse: 94.4768\n",
      "Epoch 30/100\n",
      "2/2 [==============================] - 0s 8ms/step - loss: 29.8638 - mse: 1616.4285\n",
      "Epoch 31/100\n",
      "2/2 [==============================] - 0s 8ms/step - loss: 54.1945 - mse: 5262.2373\n",
      "Epoch 32/100\n",
      "2/2 [==============================] - 0s 8ms/step - loss: 9.5824 - mse: 101.3388\n",
      "Epoch 33/100\n",
      "2/2 [==============================] - 0s 0s/step - loss: 12.1750 - mse: 181.7155\n",
      "Epoch 34/100\n",
      "2/2 [==============================] - 0s 6ms/step - loss: 23.9286 - mse: 867.6746\n",
      "Epoch 35/100\n",
      "2/2 [==============================] - 0s 8ms/step - loss: 12.6235 - mse: 243.0035\n",
      "Epoch 36/100\n",
      "2/2 [==============================] - 0s 8ms/step - loss: 21.5270 - mse: 660.9333\n",
      "Epoch 37/100\n",
      "2/2 [==============================] - 0s 8ms/step - loss: 11.3870 - mse: 150.2658\n",
      "Epoch 38/100\n",
      "2/2 [==============================] - 0s 8ms/step - loss: 13.4710 - mse: 269.4393\n",
      "Epoch 39/100\n",
      "2/2 [==============================] - 0s 8ms/step - loss: 10.7971 - mse: 139.4014\n",
      "Epoch 40/100\n",
      "2/2 [==============================] - 0s 0s/step - loss: 16.6046 - mse: 400.0293\n",
      "Epoch 41/100\n",
      "2/2 [==============================] - 0s 10ms/step - loss: 10.9807 - mse: 180.0211\n",
      "Epoch 42/100\n",
      "2/2 [==============================] - 0s 8ms/step - loss: 9.3071 - mse: 115.1943\n",
      "Epoch 43/100\n",
      "2/2 [==============================] - 0s 8ms/step - loss: 9.5982 - mse: 111.0315\n",
      "Epoch 44/100\n",
      "2/2 [==============================] - 0s 8ms/step - loss: 27.9987 - mse: 1257.3636\n",
      "Epoch 45/100\n",
      "2/2 [==============================] - 0s 8ms/step - loss: 11.2913 - mse: 147.1181\n",
      "Epoch 46/100\n",
      "2/2 [==============================] - 0s 8ms/step - loss: 14.0754 - mse: 289.1231\n",
      "Epoch 47/100\n",
      "2/2 [==============================] - 0s 8ms/step - loss: 13.5029 - mse: 256.6705\n",
      "Epoch 48/100\n",
      "2/2 [==============================] - 0s 8ms/step - loss: 17.3397 - mse: 407.8801\n",
      "Epoch 49/100\n",
      "2/2 [==============================] - 0s 0s/step - loss: 9.5215 - mse: 98.7232\n",
      "Epoch 50/100\n",
      "2/2 [==============================] - 0s 8ms/step - loss: 13.7124 - mse: 253.7641\n",
      "Epoch 51/100\n",
      "2/2 [==============================] - 0s 8ms/step - loss: 11.5655 - mse: 153.1615\n",
      "Epoch 52/100\n",
      "2/2 [==============================] - 0s 8ms/step - loss: 30.2238 - mse: 1575.4636\n",
      "Epoch 53/100\n",
      "2/2 [==============================] - 0s 8ms/step - loss: 13.7339 - mse: 279.0816\n",
      "Epoch 54/100\n",
      "2/2 [==============================] - 0s 0s/step - loss: 26.4442 - mse: 1072.5935\n",
      "Epoch 55/100\n",
      "2/2 [==============================] - 0s 6ms/step - loss: 26.0352 - mse: 1028.5699\n",
      "Epoch 56/100\n",
      "2/2 [==============================] - 0s 8ms/step - loss: 11.2451 - mse: 171.5280\n",
      "Epoch 57/100\n",
      "2/2 [==============================] - 0s 0s/step - loss: 13.2248 - mse: 218.6534\n",
      "Epoch 58/100\n",
      "2/2 [==============================] - 0s 8ms/step - loss: 9.8756 - mse: 107.6280\n",
      "Epoch 59/100\n",
      "2/2 [==============================] - 0s 8ms/step - loss: 13.4167 - mse: 255.3923\n",
      "Epoch 60/100\n",
      "2/2 [==============================] - 0s 0s/step - loss: 10.9416 - mse: 141.7047\n",
      "Epoch 61/100\n",
      "2/2 [==============================] - 0s 8ms/step - loss: 13.5656 - mse: 246.5874\n",
      "Epoch 62/100\n",
      "2/2 [==============================] - 0s 8ms/step - loss: 17.8852 - mse: 487.0705\n",
      "Epoch 63/100\n",
      "2/2 [==============================] - 0s 0s/step - loss: 8.7427 - mse: 92.0718\n",
      "Epoch 64/100\n",
      "2/2 [==============================] - 0s 8ms/step - loss: 16.1449 - mse: 373.6264\n",
      "Epoch 65/100\n",
      "2/2 [==============================] - 0s 0s/step - loss: 10.7517 - mse: 146.8348\n",
      "Epoch 66/100\n",
      "2/2 [==============================] - 0s 8ms/step - loss: 22.1957 - mse: 729.9070\n",
      "Epoch 67/100\n",
      "2/2 [==============================] - 0s 8ms/step - loss: 10.2742 - mse: 121.3420\n",
      "Epoch 68/100\n",
      "2/2 [==============================] - 0s 0s/step - loss: 13.4766 - mse: 269.3807\n",
      "Epoch 69/100\n",
      "2/2 [==============================] - 0s 8ms/step - loss: 11.4397 - mse: 163.4349\n",
      "Epoch 70/100\n",
      "2/2 [==============================] - 0s 2ms/step - loss: 13.6254 - mse: 246.1501\n",
      "Epoch 71/100\n",
      "2/2 [==============================] - 0s 8ms/step - loss: 15.6356 - mse: 347.3359\n",
      "Epoch 72/100\n",
      "2/2 [==============================] - 0s 0s/step - loss: 11.8596 - mse: 168.6329\n",
      "Epoch 73/100\n",
      "2/2 [==============================] - 0s 0s/step - loss: 16.6372 - mse: 372.9549\n",
      "Epoch 74/100\n",
      "2/2 [==============================] - 0s 0s/step - loss: 24.1601 - mse: 918.7407\n",
      "Epoch 75/100\n",
      "2/2 [==============================] - 0s 8ms/step - loss: 9.6383 - mse: 149.2558\n",
      "Epoch 76/100\n",
      "2/2 [==============================] - 0s 0s/step - loss: 12.4911 - mse: 190.0398\n",
      "Epoch 77/100\n",
      "2/2 [==============================] - 0s 8ms/step - loss: 16.7291 - mse: 433.9185\n",
      "Epoch 78/100\n",
      "2/2 [==============================] - 0s 8ms/step - loss: 9.0900 - mse: 96.6037\n",
      "Epoch 79/100\n",
      "2/2 [==============================] - 0s 0s/step - loss: 24.0523 - mse: 871.1910\n",
      "Epoch 80/100\n",
      "2/2 [==============================] - 0s 8ms/step - loss: 26.8501 - mse: 1113.9108\n",
      "Epoch 81/100\n",
      "2/2 [==============================] - 0s 8ms/step - loss: 11.7369 - mse: 173.1541\n",
      "Epoch 82/100\n",
      "2/2 [==============================] - 0s 8ms/step - loss: 12.0029 - mse: 211.7177\n",
      "Epoch 83/100\n",
      "2/2 [==============================] - 0s 16ms/step - loss: 17.3950 - mse: 394.1649\n",
      "Epoch 84/100\n",
      "2/2 [==============================] - 0s 7ms/step - loss: 7.2751 - mse: 73.4724\n",
      "Epoch 85/100\n",
      "2/2 [==============================] - 0s 8ms/step - loss: 14.9497 - mse: 312.1963\n",
      "Epoch 86/100\n",
      "2/2 [==============================] - 0s 8ms/step - loss: 15.2760 - mse: 315.2377\n",
      "Epoch 87/100\n",
      "2/2 [==============================] - 0s 8ms/step - loss: 19.0793 - mse: 519.8889\n",
      "Epoch 88/100\n",
      "2/2 [==============================] - 0s 8ms/step - loss: 29.9060 - mse: 1294.8956\n",
      "Epoch 89/100\n",
      "2/2 [==============================] - 0s 0s/step - loss: 10.2046 - mse: 124.5238\n",
      "Epoch 90/100\n",
      "2/2 [==============================] - 0s 8ms/step - loss: 21.5871 - mse: 667.9465\n",
      "Epoch 91/100\n",
      "2/2 [==============================] - 0s 8ms/step - loss: 10.6036 - mse: 161.8914\n",
      "Epoch 92/100\n",
      "2/2 [==============================] - 0s 0s/step - loss: 18.4520 - mse: 466.9889\n",
      "Epoch 93/100\n",
      "2/2 [==============================] - 0s 8ms/step - loss: 7.4340 - mse: 81.9691\n",
      "Epoch 94/100\n",
      "2/2 [==============================] - 0s 8ms/step - loss: 17.7827 - mse: 448.0453\n",
      "Epoch 95/100\n",
      "2/2 [==============================] - 0s 0s/step - loss: 11.1455 - mse: 165.3357\n",
      "Epoch 96/100\n",
      "2/2 [==============================] - 0s 8ms/step - loss: 19.4791 - mse: 512.7827\n",
      "Epoch 97/100\n",
      "2/2 [==============================] - 0s 8ms/step - loss: 12.5176 - mse: 224.8424\n",
      "Epoch 98/100\n",
      "2/2 [==============================] - 0s 0s/step - loss: 10.3110 - mse: 137.5415\n",
      "Epoch 99/100\n",
      "2/2 [==============================] - 0s 8ms/step - loss: 13.8422 - mse: 263.3382\n",
      "Epoch 100/100\n",
      "2/2 [==============================] - 0s 8ms/step - loss: 20.1358 - mse: 603.0306\n"
     ]
    },
    {
     "data": {
      "text/plain": [
       "<keras.callbacks.History at 0x212b47cc820>"
      ]
     },
     "execution_count": 126,
     "metadata": {},
     "output_type": "execute_result"
    }
   ],
   "source": [
    "# Model2 - 2 layer and 100 epochs\n",
    "\n",
    "tf.random.set_seed(42)\n",
    "\n",
    "model2 = tf.keras.Sequential([\n",
    "    tf.keras.layers.Dense(10, input_shape=[1]),\n",
    "    tf.keras.layers.Dense(1)\n",
    "])\n",
    "\n",
    "model2.compile(loss= tf.keras.losses.mae,\n",
    "                optimizer = tf.keras.optimizers.SGD(),\n",
    "                metrics=[\"mse\"])\n",
    "\n",
    "model2.fit(X_train,y_train,epochs=100)"
   ]
  },
  {
   "cell_type": "code",
   "execution_count": 127,
   "metadata": {},
   "outputs": [
    {
     "name": "stdout",
     "output_type": "stream",
     "text": [
      "1/1 [==============================] - 0s 64ms/step\n"
     ]
    },
    {
     "data": {
      "image/png": "[encoded data removed]",
      "text/plain": [
       "<Figure size 1000x700 with 1 Axes>"
      ]
     },
     "metadata": {},
     "output_type": "display_data"
    }
   ],
   "source": [
    "# Make and plot predictions for model2\n",
    "y_pred2 = model2.predict(X_test)\n",
    "plot_predictions(predictions=y_pred2)"
   ]
  },
  {
   "cell_type": "code",
   "execution_count": 128,
   "metadata": {},
   "outputs": [
    {
     "data": {
      "text/plain": [
       "(<tf.Tensor: shape=(), dtype=float32, numpy=2.9097075>,\n",
       " <tf.Tensor: shape=(), dtype=float32, numpy=11.190015>)"
      ]
     },
     "execution_count": 128,
     "metadata": {},
     "output_type": "execute_result"
    }
   ],
   "source": [
    "# Calculate model2 evaluation metrics\n",
    "mae2 = MAE(y_true=y_test, y_pred=y_pred2)\n",
    "mse2 = MSE(y_true=y_test, y_pred=y_pred2)\n",
    "mae2,mse2"
   ]
  },
  {
   "cell_type": "code",
   "execution_count": 129,
   "metadata": {},
   "outputs": [
    {
     "name": "stdout",
     "output_type": "stream",
     "text": [
      "Epoch 1/500\n",
      "2/2 [==============================] - 0s 8ms/step - loss: 31.5672 - mse: 1415.5360\n",
      "Epoch 2/500\n",
      "2/2 [==============================] - 0s 8ms/step - loss: 24.1298 - mse: 759.6805\n",
      "Epoch 3/500\n",
      "2/2 [==============================] - 0s 8ms/step - loss: 30.5965 - mse: 1361.3684\n",
      "Epoch 4/500\n",
      "2/2 [==============================] - 0s 8ms/step - loss: 22.0383 - mse: 694.9868\n",
      "Epoch 5/500\n",
      "2/2 [==============================] - 0s 0s/step - loss: 13.2615 - mse: 214.1096\n",
      "Epoch 6/500\n",
      "2/2 [==============================] - 0s 8ms/step - loss: 10.6963 - mse: 125.5846\n",
      "Epoch 7/500\n",
      "2/2 [==============================] - 0s 8ms/step - loss: 11.6428 - mse: 165.9167\n",
      "Epoch 8/500\n",
      "2/2 [==============================] - 0s 8ms/step - loss: 10.7310 - mse: 124.7434\n",
      "Epoch 9/500\n",
      "2/2 [==============================] - 0s 8ms/step - loss: 36.0026 - mse: 1970.7366\n",
      "Epoch 10/500\n",
      "2/2 [==============================] - 0s 8ms/step - loss: 23.9038 - mse: 799.7142\n",
      "Epoch 11/500\n",
      "2/2 [==============================] - 0s 8ms/step - loss: 11.8280 - mse: 214.3407\n",
      "Epoch 12/500\n",
      "2/2 [==============================] - 0s 8ms/step - loss: 23.7265 - mse: 796.1197\n",
      "Epoch 13/500\n",
      "2/2 [==============================] - 0s 8ms/step - loss: 20.8497 - mse: 617.7744\n",
      "Epoch 14/500\n",
      "2/2 [==============================] - 0s 12ms/step - loss: 23.2352 - mse: 825.7819\n",
      "Epoch 15/500\n",
      "2/2 [==============================] - 0s 8ms/step - loss: 15.1202 - mse: 306.8189\n",
      "Epoch 16/500\n",
      "2/2 [==============================] - 0s 8ms/step - loss: 11.2927 - mse: 147.0131\n",
      "Epoch 17/500\n",
      "2/2 [==============================] - 0s 0s/step - loss: 22.9851 - mse: 737.8651\n",
      "Epoch 18/500\n",
      "2/2 [==============================] - 0s 8ms/step - loss: 11.3392 - mse: 198.0713\n",
      "Epoch 19/500\n",
      "2/2 [==============================] - 0s 8ms/step - loss: 13.9091 - mse: 301.0425\n",
      "Epoch 20/500\n",
      "2/2 [==============================] - 0s 0s/step - loss: 11.1851 - mse: 146.2033\n",
      "Epoch 21/500\n",
      "2/2 [==============================] - 0s 8ms/step - loss: 17.2252 - mse: 419.7314\n",
      "Epoch 22/500\n",
      "2/2 [==============================] - 0s 8ms/step - loss: 15.4623 - mse: 329.1441\n",
      "Epoch 23/500\n",
      "2/2 [==============================] - 0s 8ms/step - loss: 9.2418 - mse: 118.5758\n",
      "Epoch 24/500\n",
      "2/2 [==============================] - 0s 16ms/step - loss: 17.2853 - mse: 409.7271\n",
      "Epoch 25/500\n",
      "2/2 [==============================] - 0s 6ms/step - loss: 15.9527 - mse: 334.5434\n",
      "Epoch 26/500\n",
      "2/2 [==============================] - 0s 8ms/step - loss: 20.9654 - mse: 651.0091\n",
      "Epoch 27/500\n",
      "2/2 [==============================] - 0s 0s/step - loss: 25.8859 - mse: 1044.7179\n",
      "Epoch 28/500\n",
      "2/2 [==============================] - 0s 8ms/step - loss: 18.3936 - mse: 535.3316\n",
      "Epoch 29/500\n",
      "2/2 [==============================] - 0s 8ms/step - loss: 9.2393 - mse: 97.9919\n",
      "Epoch 30/500\n",
      "2/2 [==============================] - 0s 16ms/step - loss: 29.0047 - mse: 1500.7483\n",
      "Epoch 31/500\n",
      "2/2 [==============================] - 0s 15ms/step - loss: 52.5238 - mse: 4931.5757\n",
      "Epoch 32/500\n",
      "2/2 [==============================] - 0s 10ms/step - loss: 11.8928 - mse: 204.8481\n",
      "Epoch 33/500\n",
      "2/2 [==============================] - 0s 0s/step - loss: 15.4645 - mse: 329.3588\n",
      "Epoch 34/500\n",
      "2/2 [==============================] - 0s 8ms/step - loss: 12.5726 - mse: 207.8461\n",
      "Epoch 35/500\n",
      "2/2 [==============================] - 0s 10ms/step - loss: 9.1849 - mse: 91.2424\n",
      "Epoch 36/500\n",
      "2/2 [==============================] - 0s 0s/step - loss: 16.4371 - mse: 392.4979\n",
      "Epoch 37/500\n",
      "2/2 [==============================] - 0s 8ms/step - loss: 11.0948 - mse: 192.1608\n",
      "Epoch 38/500\n",
      "2/2 [==============================] - 0s 8ms/step - loss: 18.2255 - mse: 437.9515\n",
      "Epoch 39/500\n",
      "2/2 [==============================] - 0s 8ms/step - loss: 19.1563 - mse: 534.8763\n",
      "Epoch 40/500\n",
      "2/2 [==============================] - 0s 8ms/step - loss: 20.5331 - mse: 615.7906\n",
      "Epoch 41/500\n",
      "2/2 [==============================] - 0s 14ms/step - loss: 14.7803 - mse: 272.9948\n",
      "Epoch 42/500\n",
      "2/2 [==============================] - 0s 8ms/step - loss: 12.1824 - mse: 181.0384\n",
      "Epoch 43/500\n",
      "2/2 [==============================] - 0s 8ms/step - loss: 10.6852 - mse: 162.1305\n",
      "Epoch 44/500\n",
      "2/2 [==============================] - 0s 0s/step - loss: 32.2099 - mse: 1705.6840\n",
      "Epoch 45/500\n",
      "2/2 [==============================] - 0s 8ms/step - loss: 12.4501 - mse: 200.6550\n",
      "Epoch 46/500\n",
      "2/2 [==============================] - 0s 8ms/step - loss: 17.4704 - mse: 457.2397\n",
      "Epoch 47/500\n",
      "2/2 [==============================] - 0s 8ms/step - loss: 15.7716 - mse: 339.8966\n",
      "Epoch 48/500\n",
      "2/2 [==============================] - 0s 9ms/step - loss: 8.3840 - mse: 112.7645\n",
      "Epoch 49/500\n",
      "2/2 [==============================] - 0s 8ms/step - loss: 13.9988 - mse: 269.0239\n",
      "Epoch 50/500\n",
      "2/2 [==============================] - 0s 0s/step - loss: 12.8390 - mse: 215.7933\n",
      "Epoch 51/500\n",
      "2/2 [==============================] - 0s 0s/step - loss: 14.8459 - mse: 310.0800\n",
      "Epoch 52/500\n",
      "2/2 [==============================] - 0s 1ms/step - loss: 18.7295 - mse: 530.5534\n",
      "Epoch 53/500\n",
      "2/2 [==============================] - 0s 8ms/step - loss: 24.1889 - mse: 829.6281\n",
      "Epoch 54/500\n",
      "2/2 [==============================] - 0s 0s/step - loss: 23.1313 - mse: 800.9552\n",
      "Epoch 55/500\n",
      "2/2 [==============================] - 0s 4ms/step - loss: 23.9749 - mse: 864.5853\n",
      "Epoch 56/500\n",
      "2/2 [==============================] - 0s 0s/step - loss: 11.1402 - mse: 170.9814\n",
      "Epoch 57/500\n",
      "2/2 [==============================] - 0s 0s/step - loss: 13.0882 - mse: 212.8393\n",
      "Epoch 58/500\n",
      "2/2 [==============================] - 0s 8ms/step - loss: 9.7941 - mse: 105.8994\n",
      "Epoch 59/500\n",
      "2/2 [==============================] - 0s 8ms/step - loss: 13.2724 - mse: 247.5270\n",
      "Epoch 60/500\n",
      "2/2 [==============================] - 0s 0s/step - loss: 10.8500 - mse: 138.5935\n",
      "Epoch 61/500\n",
      "2/2 [==============================] - 0s 8ms/step - loss: 13.4435 - mse: 240.0538\n",
      "Epoch 62/500\n",
      "2/2 [==============================] - 0s 0s/step - loss: 17.4475 - mse: 464.3596\n",
      "Epoch 63/500\n",
      "2/2 [==============================] - 0s 8ms/step - loss: 9.1460 - mse: 87.6080\n",
      "Epoch 64/500\n",
      "2/2 [==============================] - 0s 8ms/step - loss: 18.3195 - mse: 487.8755\n",
      "Epoch 65/500\n",
      "2/2 [==============================] - 0s 8ms/step - loss: 10.1012 - mse: 114.3429\n",
      "Epoch 66/500\n",
      "2/2 [==============================] - 0s 0s/step - loss: 24.1685 - mse: 880.8224\n",
      "Epoch 67/500\n",
      "2/2 [==============================] - 0s 8ms/step - loss: 10.8602 - mse: 141.5984\n",
      "Epoch 68/500\n",
      "2/2 [==============================] - 0s 8ms/step - loss: 10.7493 - mse: 157.4160\n",
      "Epoch 69/500\n",
      "2/2 [==============================] - 0s 8ms/step - loss: 23.1467 - mse: 773.9980\n",
      "Epoch 70/500\n",
      "2/2 [==============================] - 0s 0s/step - loss: 8.8312 - mse: 143.0589\n",
      "Epoch 71/500\n",
      "2/2 [==============================] - 0s 8ms/step - loss: 16.0522 - mse: 351.4531\n",
      "Epoch 72/500\n",
      "2/2 [==============================] - 0s 0s/step - loss: 7.7474 - mse: 91.3060\n",
      "Epoch 73/500\n",
      "2/2 [==============================] - 0s 0s/step - loss: 10.1552 - mse: 165.3408\n",
      "Epoch 74/500\n",
      "2/2 [==============================] - 0s 0s/step - loss: 28.3294 - mse: 1123.2551\n",
      "Epoch 75/500\n",
      "2/2 [==============================] - 0s 8ms/step - loss: 10.0100 - mse: 146.0879\n",
      "Epoch 76/500\n",
      "2/2 [==============================] - 0s 8ms/step - loss: 12.9262 - mse: 207.9742\n",
      "Epoch 77/500\n",
      "2/2 [==============================] - 0s 8ms/step - loss: 17.8970 - mse: 499.2012\n",
      "Epoch 78/500\n",
      "2/2 [==============================] - 0s 8ms/step - loss: 8.9614 - mse: 87.8287\n",
      "Epoch 79/500\n",
      "2/2 [==============================] - 0s 14ms/step - loss: 28.7272 - mse: 1303.3845\n",
      "Epoch 80/500\n",
      "2/2 [==============================] - 0s 8ms/step - loss: 31.0659 - mse: 1532.5657\n",
      "Epoch 81/500\n",
      "2/2 [==============================] - 0s 9ms/step - loss: 13.4198 - mse: 252.0176\n",
      "Epoch 82/500\n",
      "2/2 [==============================] - 0s 11ms/step - loss: 14.3205 - mse: 284.3388\n",
      "Epoch 83/500\n",
      "2/2 [==============================] - 0s 5ms/step - loss: 18.8558 - mse: 471.7719\n",
      "Epoch 84/500\n",
      "2/2 [==============================] - 0s 8ms/step - loss: 9.4580 - mse: 149.0678\n",
      "Epoch 85/500\n",
      "2/2 [==============================] - 0s 8ms/step - loss: 25.2516 - mse: 892.6442\n",
      "Epoch 86/500\n",
      "2/2 [==============================] - 0s 8ms/step - loss: 16.4244 - mse: 396.7829\n",
      "Epoch 87/500\n",
      "2/2 [==============================] - 0s 10ms/step - loss: 11.4655 - mse: 156.2694\n",
      "Epoch 88/500\n",
      "2/2 [==============================] - 0s 6ms/step - loss: 27.0282 - mse: 1044.9006\n",
      "Epoch 89/500\n",
      "2/2 [==============================] - 0s 6ms/step - loss: 9.7375 - mse: 128.2812\n",
      "Epoch 90/500\n",
      "2/2 [==============================] - 0s 7ms/step - loss: 19.0712 - mse: 521.5629\n",
      "Epoch 91/500\n",
      "2/2 [==============================] - 0s 6ms/step - loss: 10.5943 - mse: 163.3569\n",
      "Epoch 92/500\n",
      "2/2 [==============================] - 0s 5ms/step - loss: 18.2847 - mse: 457.9808\n",
      "Epoch 93/500\n",
      "2/2 [==============================] - 0s 7ms/step - loss: 6.8596 - mse: 67.8850\n",
      "Epoch 94/500\n",
      "2/2 [==============================] - 0s 6ms/step - loss: 13.0622 - mse: 231.7588\n",
      "Epoch 95/500\n",
      "2/2 [==============================] - 0s 7ms/step - loss: 18.4305 - mse: 501.1923\n",
      "Epoch 96/500\n",
      "2/2 [==============================] - 0s 6ms/step - loss: 10.4015 - mse: 179.3637\n",
      "Epoch 97/500\n",
      "2/2 [==============================] - 0s 4ms/step - loss: 14.1720 - mse: 301.5704\n",
      "Epoch 98/500\n",
      "2/2 [==============================] - 0s 9ms/step - loss: 9.6414 - mse: 137.1082\n",
      "Epoch 99/500\n",
      "2/2 [==============================] - 0s 1ms/step - loss: 11.3358 - mse: 164.2318\n",
      "Epoch 100/500\n",
      "2/2 [==============================] - 0s 8ms/step - loss: 29.2796 - mse: 1319.8395\n",
      "Epoch 101/500\n",
      "2/2 [==============================] - 0s 8ms/step - loss: 15.5789 - mse: 363.0533\n",
      "Epoch 102/500\n",
      "2/2 [==============================] - 0s 8ms/step - loss: 10.9493 - mse: 161.3741\n",
      "Epoch 103/500\n",
      "2/2 [==============================] - 0s 8ms/step - loss: 9.2626 - mse: 96.6030\n",
      "Epoch 104/500\n",
      "2/2 [==============================] - 0s 8ms/step - loss: 24.1777 - mse: 876.9514\n",
      "Epoch 105/500\n",
      "2/2 [==============================] - 0s 0s/step - loss: 10.9938 - mse: 168.3148\n",
      "Epoch 106/500\n",
      "2/2 [==============================] - 0s 0s/step - loss: 11.4319 - mse: 184.0034\n",
      "Epoch 107/500\n",
      "2/2 [==============================] - 0s 8ms/step - loss: 21.7049 - mse: 703.9568\n",
      "Epoch 108/500\n",
      "2/2 [==============================] - 0s 8ms/step - loss: 7.2676 - mse: 73.6554\n",
      "Epoch 109/500\n",
      "2/2 [==============================] - 0s 8ms/step - loss: 18.9224 - mse: 508.6806\n",
      "Epoch 110/500\n",
      "2/2 [==============================] - 0s 8ms/step - loss: 11.0696 - mse: 199.6737\n",
      "Epoch 111/500\n",
      "2/2 [==============================] - 0s 8ms/step - loss: 17.6271 - mse: 448.0465\n",
      "Epoch 112/500\n",
      "2/2 [==============================] - 0s 8ms/step - loss: 6.6166 - mse: 63.8391\n",
      "Epoch 113/500\n",
      "2/2 [==============================] - 0s 8ms/step - loss: 13.5434 - mse: 270.9620\n",
      "Epoch 114/500\n",
      "2/2 [==============================] - 0s 8ms/step - loss: 20.0565 - mse: 609.0839\n",
      "Epoch 115/500\n",
      "2/2 [==============================] - 0s 0s/step - loss: 10.8931 - mse: 143.0851\n",
      "Epoch 116/500\n",
      "2/2 [==============================] - 0s 0s/step - loss: 22.2343 - mse: 716.8578\n",
      "Epoch 117/500\n",
      "2/2 [==============================] - 0s 0s/step - loss: 9.3228 - mse: 129.4364\n",
      "Epoch 118/500\n",
      "2/2 [==============================] - 0s 8ms/step - loss: 10.3319 - mse: 131.8303\n",
      "Epoch 119/500\n",
      "2/2 [==============================] - 0s 12ms/step - loss: 8.0589 - mse: 72.7132\n",
      "Epoch 120/500\n",
      "2/2 [==============================] - 0s 8ms/step - loss: 37.4612 - mse: 2185.4448\n",
      "Epoch 121/500\n",
      "2/2 [==============================] - 0s 8ms/step - loss: 10.6324 - mse: 166.0402\n",
      "Epoch 122/500\n",
      "2/2 [==============================] - 0s 8ms/step - loss: 28.0774 - mse: 1210.3274\n",
      "Epoch 123/500\n",
      "2/2 [==============================] - 0s 8ms/step - loss: 32.6093 - mse: 1562.2314\n",
      "Epoch 124/500\n",
      "2/2 [==============================] - 0s 8ms/step - loss: 19.4284 - mse: 559.8485\n",
      "Epoch 125/500\n",
      "2/2 [==============================] - 0s 8ms/step - loss: 6.4662 - mse: 60.2156\n",
      "Epoch 126/500\n",
      "2/2 [==============================] - 0s 0s/step - loss: 26.6511 - mse: 1031.6836\n",
      "Epoch 127/500\n",
      "2/2 [==============================] - 0s 0s/step - loss: 8.6100 - mse: 96.3253\n",
      "Epoch 128/500\n",
      "2/2 [==============================] - 0s 8ms/step - loss: 13.7672 - mse: 264.9513\n",
      "Epoch 129/500\n",
      "2/2 [==============================] - 0s 0s/step - loss: 10.8974 - mse: 181.2905\n",
      "Epoch 130/500\n",
      "2/2 [==============================] - 0s 8ms/step - loss: 15.3882 - mse: 342.8954\n",
      "Epoch 131/500\n",
      "2/2 [==============================] - 0s 8ms/step - loss: 8.8850 - mse: 89.5436\n",
      "Epoch 132/500\n",
      "2/2 [==============================] - 0s 0s/step - loss: 14.8745 - mse: 332.7263\n",
      "Epoch 133/500\n",
      "2/2 [==============================] - 0s 8ms/step - loss: 7.9677 - mse: 88.2217\n",
      "Epoch 134/500\n",
      "2/2 [==============================] - 0s 8ms/step - loss: 22.4548 - mse: 728.4567\n",
      "Epoch 135/500\n",
      "2/2 [==============================] - 0s 0s/step - loss: 19.9895 - mse: 563.7362\n",
      "Epoch 136/500\n",
      "2/2 [==============================] - 0s 8ms/step - loss: 13.8688 - mse: 266.4747\n",
      "Epoch 137/500\n",
      "2/2 [==============================] - 0s 8ms/step - loss: 25.4066 - mse: 879.4735\n",
      "Epoch 138/500\n",
      "2/2 [==============================] - 0s 8ms/step - loss: 10.0473 - mse: 142.3929\n",
      "Epoch 139/500\n",
      "2/2 [==============================] - 0s 0s/step - loss: 9.5009 - mse: 137.0341\n",
      "Epoch 140/500\n",
      "2/2 [==============================] - 0s 8ms/step - loss: 18.6002 - mse: 493.8079\n",
      "Epoch 141/500\n",
      "2/2 [==============================] - 0s 0s/step - loss: 8.3370 - mse: 74.3981\n",
      "Epoch 142/500\n",
      "2/2 [==============================] - 0s 8ms/step - loss: 33.2837 - mse: 1919.6166\n",
      "Epoch 143/500\n",
      "2/2 [==============================] - 0s 8ms/step - loss: 23.4085 - mse: 767.9889\n",
      "Epoch 144/500\n",
      "2/2 [==============================] - 0s 8ms/step - loss: 10.4924 - mse: 184.7064\n",
      "Epoch 145/500\n",
      "2/2 [==============================] - 0s 8ms/step - loss: 25.8278 - mse: 902.1840\n",
      "Epoch 146/500\n",
      "2/2 [==============================] - 0s 8ms/step - loss: 9.9876 - mse: 131.9413\n",
      "Epoch 147/500\n",
      "2/2 [==============================] - 0s 9ms/step - loss: 14.7356 - mse: 290.8268\n",
      "Epoch 148/500\n",
      "2/2 [==============================] - 0s 8ms/step - loss: 17.8444 - mse: 439.1188\n",
      "Epoch 149/500\n",
      "2/2 [==============================] - 0s 8ms/step - loss: 8.4744 - mse: 106.2520\n",
      "Epoch 150/500\n",
      "2/2 [==============================] - 0s 8ms/step - loss: 7.6401 - mse: 66.6534\n",
      "Epoch 151/500\n",
      "2/2 [==============================] - 0s 8ms/step - loss: 18.8497 - mse: 515.5474\n",
      "Epoch 152/500\n",
      "2/2 [==============================] - 0s 9ms/step - loss: 10.4818 - mse: 136.7208\n",
      "Epoch 153/500\n",
      "2/2 [==============================] - 0s 8ms/step - loss: 30.3653 - mse: 1337.6367\n",
      "Epoch 154/500\n",
      "2/2 [==============================] - 0s 8ms/step - loss: 10.0043 - mse: 178.2752\n",
      "Epoch 155/500\n",
      "2/2 [==============================] - 0s 8ms/step - loss: 15.7528 - mse: 368.3776\n",
      "Epoch 156/500\n",
      "2/2 [==============================] - 0s 8ms/step - loss: 17.6741 - mse: 464.1854\n",
      "Epoch 157/500\n",
      "2/2 [==============================] - 0s 8ms/step - loss: 31.1079 - mse: 1554.9387\n",
      "Epoch 158/500\n",
      "2/2 [==============================] - 0s 11ms/step - loss: 10.2317 - mse: 139.2047\n",
      "Epoch 159/500\n",
      "2/2 [==============================] - 0s 8ms/step - loss: 8.7055 - mse: 98.4831\n",
      "Epoch 160/500\n",
      "2/2 [==============================] - 0s 8ms/step - loss: 20.7347 - mse: 618.3141\n",
      "Epoch 161/500\n",
      "2/2 [==============================] - 0s 0s/step - loss: 11.8210 - mse: 206.3305\n",
      "Epoch 162/500\n",
      "2/2 [==============================] - 0s 0s/step - loss: 21.7082 - mse: 679.4116\n",
      "Epoch 163/500\n",
      "2/2 [==============================] - 0s 0s/step - loss: 19.3840 - mse: 541.0378\n",
      "Epoch 164/500\n",
      "2/2 [==============================] - 0s 16ms/step - loss: 11.1379 - mse: 181.3899\n",
      "Epoch 165/500\n",
      "2/2 [==============================] - 0s 8ms/step - loss: 9.6275 - mse: 181.2800\n",
      "Epoch 166/500\n",
      "2/2 [==============================] - 0s 8ms/step - loss: 21.5598 - mse: 680.3957\n",
      "Epoch 167/500\n",
      "2/2 [==============================] - 0s 9ms/step - loss: 26.3826 - mse: 1057.4670\n",
      "Epoch 168/500\n",
      "2/2 [==============================] - 0s 8ms/step - loss: 9.9302 - mse: 119.5680\n",
      "Epoch 169/500\n",
      "2/2 [==============================] - 0s 8ms/step - loss: 22.6136 - mse: 791.4540\n",
      "Epoch 170/500\n",
      "2/2 [==============================] - 0s 2ms/step - loss: 10.1727 - mse: 197.0734\n",
      "Epoch 171/500\n",
      "2/2 [==============================] - 0s 8ms/step - loss: 18.0429 - mse: 503.0306\n",
      "Epoch 172/500\n",
      "2/2 [==============================] - 0s 0s/step - loss: 28.8536 - mse: 1308.3914\n",
      "Epoch 173/500\n",
      "2/2 [==============================] - 0s 8ms/step - loss: 16.5592 - mse: 434.0224\n",
      "Epoch 174/500\n",
      "2/2 [==============================] - 0s 0s/step - loss: 11.2377 - mse: 200.8554\n",
      "Epoch 175/500\n",
      "2/2 [==============================] - 0s 8ms/step - loss: 27.5863 - mse: 1097.6771\n",
      "Epoch 176/500\n",
      "2/2 [==============================] - 0s 8ms/step - loss: 8.3220 - mse: 78.4536\n",
      "Epoch 177/500\n",
      "2/2 [==============================] - 0s 0s/step - loss: 9.3136 - mse: 109.8253\n",
      "Epoch 178/500\n",
      "2/2 [==============================] - 0s 0s/step - loss: 18.1202 - mse: 465.2160\n",
      "Epoch 179/500\n",
      "2/2 [==============================] - 0s 8ms/step - loss: 10.6285 - mse: 148.7345\n",
      "Epoch 180/500\n",
      "2/2 [==============================] - 0s 8ms/step - loss: 7.9460 - mse: 101.9308\n",
      "Epoch 181/500\n",
      "2/2 [==============================] - 0s 0s/step - loss: 17.3514 - mse: 436.3480\n",
      "Epoch 182/500\n",
      "2/2 [==============================] - 0s 8ms/step - loss: 11.0374 - mse: 157.5141\n",
      "Epoch 183/500\n",
      "2/2 [==============================] - 0s 8ms/step - loss: 11.6867 - mse: 203.3036\n",
      "Epoch 184/500\n",
      "2/2 [==============================] - 0s 9ms/step - loss: 30.2558 - mse: 1373.2434\n",
      "Epoch 185/500\n",
      "2/2 [==============================] - 0s 8ms/step - loss: 8.2223 - mse: 131.0280\n",
      "Epoch 186/500\n",
      "2/2 [==============================] - 0s 8ms/step - loss: 18.7079 - mse: 513.3447\n",
      "Epoch 187/500\n",
      "2/2 [==============================] - 0s 8ms/step - loss: 8.8097 - mse: 146.7797\n",
      "Epoch 188/500\n",
      "2/2 [==============================] - 0s 8ms/step - loss: 23.6979 - mse: 820.3628\n",
      "Epoch 189/500\n",
      "2/2 [==============================] - 0s 8ms/step - loss: 9.4233 - mse: 115.8514\n",
      "Epoch 190/500\n",
      "2/2 [==============================] - 0s 13ms/step - loss: 17.1000 - mse: 400.1830\n",
      "Epoch 191/500\n",
      "2/2 [==============================] - 0s 0s/step - loss: 8.6096 - mse: 138.2448\n",
      "Epoch 192/500\n",
      "2/2 [==============================] - 0s 8ms/step - loss: 15.1899 - mse: 303.6801\n",
      "Epoch 193/500\n",
      "2/2 [==============================] - 0s 8ms/step - loss: 30.0273 - mse: 1245.5731\n",
      "Epoch 194/500\n",
      "2/2 [==============================] - 0s 0s/step - loss: 9.6674 - mse: 165.9626\n",
      "Epoch 195/500\n",
      "2/2 [==============================] - 0s 8ms/step - loss: 12.0356 - mse: 242.7059\n",
      "Epoch 196/500\n",
      "2/2 [==============================] - 0s 8ms/step - loss: 23.4002 - mse: 791.5110\n",
      "Epoch 197/500\n",
      "2/2 [==============================] - 0s 9ms/step - loss: 17.8415 - mse: 468.7375\n",
      "Epoch 198/500\n",
      "2/2 [==============================] - 0s 0s/step - loss: 12.6278 - mse: 241.3681\n",
      "Epoch 199/500\n",
      "2/2 [==============================] - 0s 8ms/step - loss: 18.0965 - mse: 469.6893\n",
      "Epoch 200/500\n",
      "2/2 [==============================] - 0s 0s/step - loss: 13.9258 - mse: 289.3799\n",
      "Epoch 201/500\n",
      "2/2 [==============================] - 0s 0s/step - loss: 6.1113 - mse: 51.9346\n",
      "Epoch 202/500\n",
      "2/2 [==============================] - 0s 0s/step - loss: 22.8975 - mse: 748.0988\n",
      "Epoch 203/500\n",
      "2/2 [==============================] - 0s 8ms/step - loss: 9.0337 - mse: 154.5491\n",
      "Epoch 204/500\n",
      "2/2 [==============================] - 0s 8ms/step - loss: 18.8359 - mse: 532.1807\n",
      "Epoch 205/500\n",
      "2/2 [==============================] - 0s 0s/step - loss: 9.4251 - mse: 128.4714\n",
      "Epoch 206/500\n",
      "2/2 [==============================] - 0s 0s/step - loss: 10.4854 - mse: 143.8866\n",
      "Epoch 207/500\n",
      "2/2 [==============================] - 0s 8ms/step - loss: 21.0205 - mse: 671.9150\n",
      "Epoch 208/500\n",
      "2/2 [==============================] - 0s 8ms/step - loss: 16.4490 - mse: 389.4969\n",
      "Epoch 209/500\n",
      "2/2 [==============================] - 0s 8ms/step - loss: 14.3147 - mse: 316.6685\n",
      "Epoch 210/500\n",
      "2/2 [==============================] - 0s 0s/step - loss: 17.2680 - mse: 435.3833\n",
      "Epoch 211/500\n",
      "2/2 [==============================] - 0s 8ms/step - loss: 10.2921 - mse: 147.5220\n",
      "Epoch 212/500\n",
      "2/2 [==============================] - 0s 0s/step - loss: 19.7178 - mse: 583.9670\n",
      "Epoch 213/500\n",
      "2/2 [==============================] - 0s 0s/step - loss: 14.7021 - mse: 298.3592\n",
      "Epoch 214/500\n",
      "2/2 [==============================] - 0s 8ms/step - loss: 14.3787 - mse: 283.0714\n",
      "Epoch 215/500\n",
      "2/2 [==============================] - 0s 8ms/step - loss: 22.8857 - mse: 772.6718\n",
      "Epoch 216/500\n",
      "2/2 [==============================] - 0s 0s/step - loss: 13.8910 - mse: 296.8491\n",
      "Epoch 217/500\n",
      "2/2 [==============================] - 0s 8ms/step - loss: 10.3385 - mse: 152.6569\n",
      "Epoch 218/500\n",
      "2/2 [==============================] - 0s 8ms/step - loss: 12.2787 - mse: 200.1514\n",
      "Epoch 219/500\n",
      "2/2 [==============================] - 0s 4ms/step - loss: 6.5895 - mse: 61.9861\n",
      "Epoch 220/500\n",
      "2/2 [==============================] - 0s 8ms/step - loss: 7.1774 - mse: 53.3780\n",
      "Epoch 221/500\n",
      "2/2 [==============================] - 0s 8ms/step - loss: 37.4211 - mse: 2396.0425\n",
      "Epoch 222/500\n",
      "2/2 [==============================] - 0s 0s/step - loss: 37.2142 - mse: 2257.4180\n",
      "Epoch 223/500\n",
      "2/2 [==============================] - 0s 8ms/step - loss: 6.6802 - mse: 85.6013\n",
      "Epoch 224/500\n",
      "2/2 [==============================] - 0s 8ms/step - loss: 13.8399 - mse: 272.9725\n",
      "Epoch 225/500\n",
      "2/2 [==============================] - 0s 0s/step - loss: 16.0153 - mse: 330.4035\n",
      "Epoch 226/500\n",
      "2/2 [==============================] - 0s 0s/step - loss: 15.2306 - mse: 330.9528\n",
      "Epoch 227/500\n",
      "2/2 [==============================] - 0s 8ms/step - loss: 15.5628 - mse: 339.0014\n",
      "Epoch 228/500\n",
      "2/2 [==============================] - 0s 0s/step - loss: 13.6236 - mse: 266.6211\n",
      "Epoch 229/500\n",
      "2/2 [==============================] - 0s 8ms/step - loss: 17.7115 - mse: 434.9523\n",
      "Epoch 230/500\n",
      "2/2 [==============================] - 0s 0s/step - loss: 15.2023 - mse: 299.7454\n",
      "Epoch 231/500\n",
      "2/2 [==============================] - 0s 8ms/step - loss: 21.0976 - mse: 663.3096\n",
      "Epoch 232/500\n",
      "2/2 [==============================] - 0s 9ms/step - loss: 25.2506 - mse: 912.1395\n",
      "Epoch 233/500\n",
      "2/2 [==============================] - 0s 8ms/step - loss: 16.3150 - mse: 387.3757\n",
      "Epoch 234/500\n",
      "2/2 [==============================] - 0s 8ms/step - loss: 7.3410 - mse: 67.4418\n",
      "Epoch 235/500\n",
      "2/2 [==============================] - 0s 8ms/step - loss: 16.9431 - mse: 401.4691\n",
      "Epoch 236/500\n",
      "2/2 [==============================] - 0s 8ms/step - loss: 7.1730 - mse: 70.7673\n",
      "Epoch 237/500\n",
      "2/2 [==============================] - 0s 8ms/step - loss: 9.2348 - mse: 119.7392\n",
      "Epoch 238/500\n",
      "2/2 [==============================] - 0s 7ms/step - loss: 8.1427 - mse: 87.7509\n",
      "Epoch 239/500\n",
      "2/2 [==============================] - 0s 8ms/step - loss: 16.9007 - mse: 431.2629\n",
      "Epoch 240/500\n",
      "2/2 [==============================] - 0s 8ms/step - loss: 8.8725 - mse: 108.7054\n",
      "Epoch 241/500\n",
      "2/2 [==============================] - 0s 8ms/step - loss: 12.7117 - mse: 248.1145\n",
      "Epoch 242/500\n",
      "2/2 [==============================] - 0s 8ms/step - loss: 10.8607 - mse: 179.9521\n",
      "Epoch 243/500\n",
      "2/2 [==============================] - 0s 8ms/step - loss: 17.1541 - mse: 453.6808\n",
      "Epoch 244/500\n",
      "2/2 [==============================] - 0s 8ms/step - loss: 14.5782 - mse: 290.7962\n",
      "Epoch 245/500\n",
      "2/2 [==============================] - 0s 6ms/step - loss: 15.1407 - mse: 314.2424\n",
      "Epoch 246/500\n",
      "2/2 [==============================] - 0s 8ms/step - loss: 16.2436 - mse: 400.4954\n",
      "Epoch 247/500\n",
      "2/2 [==============================] - 0s 8ms/step - loss: 18.2608 - mse: 455.0229\n",
      "Epoch 248/500\n",
      "2/2 [==============================] - 0s 8ms/step - loss: 13.7878 - mse: 262.7292\n",
      "Epoch 249/500\n",
      "2/2 [==============================] - 0s 8ms/step - loss: 14.8707 - mse: 308.3719\n",
      "Epoch 250/500\n",
      "2/2 [==============================] - 0s 0s/step - loss: 18.5873 - mse: 472.1844\n",
      "Epoch 251/500\n",
      "2/2 [==============================] - 0s 2ms/step - loss: 13.8708 - mse: 268.9538\n",
      "Epoch 252/500\n",
      "2/2 [==============================] - 0s 8ms/step - loss: 29.4672 - mse: 1216.6571\n",
      "Epoch 253/500\n",
      "2/2 [==============================] - 0s 0s/step - loss: 8.2838 - mse: 105.3417\n",
      "Epoch 254/500\n",
      "2/2 [==============================] - 0s 8ms/step - loss: 11.7533 - mse: 209.7905\n",
      "Epoch 255/500\n",
      "2/2 [==============================] - 0s 0s/step - loss: 15.6746 - mse: 337.4557\n",
      "Epoch 256/500\n",
      "2/2 [==============================] - 0s 0s/step - loss: 9.8219 - mse: 136.1433\n",
      "Epoch 257/500\n",
      "2/2 [==============================] - 0s 8ms/step - loss: 14.3659 - mse: 315.3926\n",
      "Epoch 258/500\n",
      "2/2 [==============================] - 0s 0s/step - loss: 5.8537 - mse: 49.3176\n",
      "Epoch 259/500\n",
      "2/2 [==============================] - 0s 6ms/step - loss: 14.9040 - mse: 361.9485\n",
      "Epoch 260/500\n",
      "2/2 [==============================] - 0s 8ms/step - loss: 7.1529 - mse: 58.0094\n",
      "Epoch 261/500\n",
      "2/2 [==============================] - 0s 0s/step - loss: 19.9180 - mse: 574.1021\n",
      "Epoch 262/500\n",
      "2/2 [==============================] - 0s 8ms/step - loss: 7.3591 - mse: 114.1235\n",
      "Epoch 263/500\n",
      "2/2 [==============================] - 0s 8ms/step - loss: 13.3371 - mse: 257.8845\n",
      "Epoch 264/500\n",
      "2/2 [==============================] - 0s 0s/step - loss: 20.2857 - mse: 612.1677\n",
      "Epoch 265/500\n",
      "2/2 [==============================] - 0s 8ms/step - loss: 9.6916 - mse: 133.0217\n",
      "Epoch 266/500\n",
      "2/2 [==============================] - 0s 6ms/step - loss: 7.7957 - mse: 83.4278\n",
      "Epoch 267/500\n",
      "2/2 [==============================] - 0s 8ms/step - loss: 7.5939 - mse: 95.9500\n",
      "Epoch 268/500\n",
      "2/2 [==============================] - 0s 8ms/step - loss: 18.2011 - mse: 477.0126\n",
      "Epoch 269/500\n",
      "2/2 [==============================] - 0s 0s/step - loss: 21.3715 - mse: 666.9356\n",
      "Epoch 270/500\n",
      "2/2 [==============================] - 0s 8ms/step - loss: 4.6230 - mse: 34.9144\n",
      "Epoch 271/500\n",
      "2/2 [==============================] - 0s 0s/step - loss: 9.9320 - mse: 162.6767\n",
      "Epoch 272/500\n",
      "2/2 [==============================] - 0s 0s/step - loss: 19.5505 - mse: 564.7744\n",
      "Epoch 273/500\n",
      "2/2 [==============================] - 0s 8ms/step - loss: 6.3838 - mse: 84.7181\n",
      "Epoch 274/500\n",
      "2/2 [==============================] - 0s 7ms/step - loss: 14.6893 - mse: 281.2861\n",
      "Epoch 275/500\n",
      "2/2 [==============================] - 0s 0s/step - loss: 30.6067 - mse: 1325.4182\n",
      "Epoch 276/500\n",
      "2/2 [==============================] - 0s 8ms/step - loss: 11.4890 - mse: 258.9098\n",
      "Epoch 277/500\n",
      "2/2 [==============================] - 0s 8ms/step - loss: 29.6269 - mse: 1239.8751\n",
      "Epoch 278/500\n",
      "2/2 [==============================] - 0s 0s/step - loss: 9.6517 - mse: 199.5664\n",
      "Epoch 279/500\n",
      "2/2 [==============================] - 0s 8ms/step - loss: 16.0321 - mse: 383.7176\n",
      "Epoch 280/500\n",
      "2/2 [==============================] - 0s 8ms/step - loss: 21.0727 - mse: 672.8973\n",
      "Epoch 281/500\n",
      "2/2 [==============================] - 0s 6ms/step - loss: 18.1693 - mse: 502.2370\n",
      "Epoch 282/500\n",
      "2/2 [==============================] - 0s 8ms/step - loss: 6.9259 - mse: 93.8405\n",
      "Epoch 283/500\n",
      "2/2 [==============================] - 0s 8ms/step - loss: 8.1087 - mse: 86.9351\n",
      "Epoch 284/500\n",
      "2/2 [==============================] - 0s 8ms/step - loss: 24.6916 - mse: 915.8013\n",
      "Epoch 285/500\n",
      "2/2 [==============================] - 0s 0s/step - loss: 13.5028 - mse: 291.7159\n",
      "Epoch 286/500\n",
      "2/2 [==============================] - 0s 16ms/step - loss: 7.7734 - mse: 115.0689\n",
      "Epoch 287/500\n",
      "2/2 [==============================] - 0s 8ms/step - loss: 23.4099 - mse: 794.4708\n",
      "Epoch 288/500\n",
      "2/2 [==============================] - 0s 7ms/step - loss: 23.4957 - mse: 826.2970\n",
      "Epoch 289/500\n",
      "2/2 [==============================] - 0s 8ms/step - loss: 12.0283 - mse: 243.9551\n",
      "Epoch 290/500\n",
      "2/2 [==============================] - 0s 8ms/step - loss: 16.5981 - mse: 369.9589\n",
      "Epoch 291/500\n",
      "2/2 [==============================] - 0s 8ms/step - loss: 16.8805 - mse: 418.8912\n",
      "Epoch 292/500\n",
      "2/2 [==============================] - 0s 0s/step - loss: 9.5183 - mse: 210.8614\n",
      "Epoch 293/500\n",
      "2/2 [==============================] - 0s 8ms/step - loss: 15.3157 - mse: 320.6014\n",
      "Epoch 294/500\n",
      "2/2 [==============================] - 0s 8ms/step - loss: 22.8045 - mse: 785.9328\n",
      "Epoch 295/500\n",
      "2/2 [==============================] - 0s 8ms/step - loss: 17.7379 - mse: 449.0905\n",
      "Epoch 296/500\n",
      "2/2 [==============================] - 0s 8ms/step - loss: 6.1070 - mse: 59.4074\n",
      "Epoch 297/500\n",
      "2/2 [==============================] - 0s 8ms/step - loss: 10.9825 - mse: 250.9996\n",
      "Epoch 298/500\n",
      "2/2 [==============================] - 0s 8ms/step - loss: 23.2374 - mse: 790.9437\n",
      "Epoch 299/500\n",
      "2/2 [==============================] - 0s 8ms/step - loss: 17.5482 - mse: 460.5842\n",
      "Epoch 300/500\n",
      "2/2 [==============================] - 0s 0s/step - loss: 6.9562 - mse: 63.1736\n",
      "Epoch 301/500\n",
      "2/2 [==============================] - 0s 8ms/step - loss: 24.9657 - mse: 881.0379\n",
      "Epoch 302/500\n",
      "2/2 [==============================] - 0s 8ms/step - loss: 8.8360 - mse: 113.7286\n",
      "Epoch 303/500\n",
      "2/2 [==============================] - 0s 8ms/step - loss: 17.5878 - mse: 453.0419\n",
      "Epoch 304/500\n",
      "2/2 [==============================] - 0s 12ms/step - loss: 10.9163 - mse: 171.9253\n",
      "Epoch 305/500\n",
      "2/2 [==============================] - 0s 8ms/step - loss: 12.7773 - mse: 268.1873\n",
      "Epoch 306/500\n",
      "2/2 [==============================] - 0s 0s/step - loss: 8.3394 - mse: 92.9952\n",
      "Epoch 307/500\n",
      "2/2 [==============================] - 0s 0s/step - loss: 13.2122 - mse: 260.6730\n",
      "Epoch 308/500\n",
      "2/2 [==============================] - 0s 8ms/step - loss: 8.2014 - mse: 92.4426\n",
      "Epoch 309/500\n",
      "2/2 [==============================] - 0s 0s/step - loss: 11.8605 - mse: 226.3991\n",
      "Epoch 310/500\n",
      "2/2 [==============================] - 0s 8ms/step - loss: 6.4077 - mse: 72.4902\n",
      "Epoch 311/500\n",
      "2/2 [==============================] - 0s 8ms/step - loss: 4.2510 - mse: 26.0856\n",
      "Epoch 312/500\n",
      "2/2 [==============================] - 0s 0s/step - loss: 11.9767 - mse: 225.3799\n",
      "Epoch 313/500\n",
      "2/2 [==============================] - 0s 8ms/step - loss: 13.4096 - mse: 267.8926\n",
      "Epoch 314/500\n",
      "2/2 [==============================] - 0s 8ms/step - loss: 13.3374 - mse: 252.2440\n",
      "Epoch 315/500\n",
      "2/2 [==============================] - 0s 0s/step - loss: 23.0693 - mse: 777.8013\n",
      "Epoch 316/500\n",
      "2/2 [==============================] - 0s 8ms/step - loss: 15.3395 - mse: 358.7313\n",
      "Epoch 317/500\n",
      "2/2 [==============================] - 0s 8ms/step - loss: 21.3717 - mse: 622.2396\n",
      "Epoch 318/500\n",
      "2/2 [==============================] - 0s 8ms/step - loss: 8.0131 - mse: 84.3927\n",
      "Epoch 319/500\n",
      "2/2 [==============================] - 0s 0s/step - loss: 18.2302 - mse: 492.1172\n",
      "Epoch 320/500\n",
      "2/2 [==============================] - 0s 0s/step - loss: 10.7149 - mse: 195.3078\n",
      "Epoch 321/500\n",
      "2/2 [==============================] - 0s 9ms/step - loss: 7.0605 - mse: 107.4701\n",
      "Epoch 322/500\n",
      "2/2 [==============================] - 0s 8ms/step - loss: 8.6329 - mse: 171.8918\n",
      "Epoch 323/500\n",
      "2/2 [==============================] - 0s 0s/step - loss: 18.2860 - mse: 516.7827\n",
      "Epoch 324/500\n",
      "2/2 [==============================] - 0s 8ms/step - loss: 16.3375 - mse: 362.0078\n",
      "Epoch 325/500\n",
      "2/2 [==============================] - 0s 8ms/step - loss: 18.3295 - mse: 528.9344\n",
      "Epoch 326/500\n",
      "2/2 [==============================] - 0s 8ms/step - loss: 22.3241 - mse: 747.9129\n",
      "Epoch 327/500\n",
      "2/2 [==============================] - 0s 8ms/step - loss: 8.4433 - mse: 102.0154\n",
      "Epoch 328/500\n",
      "2/2 [==============================] - 0s 16ms/step - loss: 6.9913 - mse: 100.6504\n",
      "Epoch 329/500\n",
      "2/2 [==============================] - 0s 8ms/step - loss: 10.2239 - mse: 161.0086\n",
      "Epoch 330/500\n",
      "2/2 [==============================] - 0s 9ms/step - loss: 9.3862 - mse: 222.4215\n",
      "Epoch 331/500\n",
      "2/2 [==============================] - 0s 0s/step - loss: 22.7308 - mse: 763.8064\n",
      "Epoch 332/500\n",
      "2/2 [==============================] - 0s 8ms/step - loss: 19.8949 - mse: 553.7418\n",
      "Epoch 333/500\n",
      "2/2 [==============================] - 0s 8ms/step - loss: 10.9982 - mse: 200.5943\n",
      "Epoch 334/500\n",
      "2/2 [==============================] - 0s 8ms/step - loss: 9.0655 - mse: 184.5935\n",
      "Epoch 335/500\n",
      "2/2 [==============================] - 0s 8ms/step - loss: 13.0581 - mse: 264.7110\n",
      "Epoch 336/500\n",
      "2/2 [==============================] - 0s 8ms/step - loss: 32.5410 - mse: 1444.7352\n",
      "Epoch 337/500\n",
      "2/2 [==============================] - 0s 8ms/step - loss: 11.0788 - mse: 189.6269\n",
      "Epoch 338/500\n",
      "2/2 [==============================] - 0s 8ms/step - loss: 20.0393 - mse: 590.4456\n",
      "Epoch 339/500\n",
      "2/2 [==============================] - 0s 8ms/step - loss: 34.0732 - mse: 1735.2820\n",
      "Epoch 340/500\n",
      "2/2 [==============================] - 0s 8ms/step - loss: 8.6353 - mse: 106.0949\n",
      "Epoch 341/500\n",
      "2/2 [==============================] - 0s 8ms/step - loss: 21.7738 - mse: 662.2147\n",
      "Epoch 342/500\n",
      "2/2 [==============================] - 0s 8ms/step - loss: 13.9914 - mse: 261.3004\n",
      "Epoch 343/500\n",
      "2/2 [==============================] - 0s 0s/step - loss: 11.5151 - mse: 177.4326\n",
      "Epoch 344/500\n",
      "2/2 [==============================] - 0s 8ms/step - loss: 10.6502 - mse: 235.0267\n",
      "Epoch 345/500\n",
      "2/2 [==============================] - 0s 0s/step - loss: 30.8071 - mse: 1335.6984\n",
      "Epoch 346/500\n",
      "2/2 [==============================] - 0s 8ms/step - loss: 10.5703 - mse: 268.5203\n",
      "Epoch 347/500\n",
      "2/2 [==============================] - 0s 0s/step - loss: 25.4158 - mse: 905.9544\n",
      "Epoch 348/500\n",
      "2/2 [==============================] - 0s 8ms/step - loss: 13.6277 - mse: 285.5185\n",
      "Epoch 349/500\n",
      "2/2 [==============================] - 0s 0s/step - loss: 12.9007 - mse: 249.3588\n",
      "Epoch 350/500\n",
      "2/2 [==============================] - 0s 8ms/step - loss: 15.3464 - mse: 321.6201\n",
      "Epoch 351/500\n",
      "2/2 [==============================] - 0s 8ms/step - loss: 32.7958 - mse: 1510.5178\n",
      "Epoch 352/500\n",
      "2/2 [==============================] - 0s 8ms/step - loss: 13.8393 - mse: 270.2282\n",
      "Epoch 353/500\n",
      "2/2 [==============================] - 0s 8ms/step - loss: 17.8117 - mse: 487.6615\n",
      "Epoch 354/500\n",
      "2/2 [==============================] - 0s 0s/step - loss: 11.3585 - mse: 231.7486\n",
      "Epoch 355/500\n",
      "2/2 [==============================] - 0s 8ms/step - loss: 26.8108 - mse: 1027.4465\n",
      "Epoch 356/500\n",
      "2/2 [==============================] - 0s 0s/step - loss: 9.6840 - mse: 158.2802\n",
      "Epoch 357/500\n",
      "2/2 [==============================] - 0s 0s/step - loss: 17.0682 - mse: 439.5424\n",
      "Epoch 358/500\n",
      "2/2 [==============================] - 0s 8ms/step - loss: 15.7280 - mse: 367.5340\n",
      "Epoch 359/500\n",
      "2/2 [==============================] - 0s 8ms/step - loss: 11.7027 - mse: 303.9825\n",
      "Epoch 360/500\n",
      "2/2 [==============================] - 0s 8ms/step - loss: 20.2655 - mse: 617.7899\n",
      "Epoch 361/500\n",
      "2/2 [==============================] - 0s 0s/step - loss: 11.0140 - mse: 221.0504\n",
      "Epoch 362/500\n",
      "2/2 [==============================] - 0s 2ms/step - loss: 6.8059 - mse: 76.2692\n",
      "Epoch 363/500\n",
      "2/2 [==============================] - 0s 0s/step - loss: 24.0121 - mse: 839.9540\n",
      "Epoch 364/500\n",
      "2/2 [==============================] - 0s 8ms/step - loss: 29.7786 - mse: 1288.0764\n",
      "Epoch 365/500\n",
      "2/2 [==============================] - 0s 9ms/step - loss: 8.3432 - mse: 108.2013\n",
      "Epoch 366/500\n",
      "2/2 [==============================] - 0s 8ms/step - loss: 6.0788 - mse: 48.2944\n",
      "Epoch 367/500\n",
      "2/2 [==============================] - 0s 8ms/step - loss: 34.9509 - mse: 1854.8998\n",
      "Epoch 368/500\n",
      "2/2 [==============================] - 0s 5ms/step - loss: 7.4003 - mse: 100.5545\n",
      "Epoch 369/500\n",
      "2/2 [==============================] - 0s 8ms/step - loss: 9.2287 - mse: 129.5124\n",
      "Epoch 370/500\n",
      "2/2 [==============================] - 0s 8ms/step - loss: 10.9434 - mse: 206.9763\n",
      "Epoch 371/500\n",
      "2/2 [==============================] - 0s 8ms/step - loss: 9.0056 - mse: 141.9711\n",
      "Epoch 372/500\n",
      "2/2 [==============================] - 0s 8ms/step - loss: 7.6827 - mse: 143.7817\n",
      "Epoch 373/500\n",
      "2/2 [==============================] - 0s 8ms/step - loss: 25.0341 - mse: 917.9589\n",
      "Epoch 374/500\n",
      "2/2 [==============================] - 0s 0s/step - loss: 13.2738 - mse: 284.7914\n",
      "Epoch 375/500\n",
      "2/2 [==============================] - 0s 0s/step - loss: 11.8284 - mse: 213.4566\n",
      "Epoch 376/500\n",
      "2/2 [==============================] - 0s 9ms/step - loss: 14.1096 - mse: 284.1208\n",
      "Epoch 377/500\n",
      "2/2 [==============================] - 0s 8ms/step - loss: 15.6925 - mse: 318.2403\n",
      "Epoch 378/500\n",
      "2/2 [==============================] - 0s 0s/step - loss: 17.0037 - mse: 463.1757\n",
      "Epoch 379/500\n",
      "2/2 [==============================] - 0s 11ms/step - loss: 19.4639 - mse: 540.0049\n",
      "Epoch 380/500\n",
      "2/2 [==============================] - 0s 8ms/step - loss: 15.8248 - mse: 389.9388\n",
      "Epoch 381/500\n",
      "2/2 [==============================] - 0s 8ms/step - loss: 11.4322 - mse: 217.5825\n",
      "Epoch 382/500\n",
      "2/2 [==============================] - 0s 8ms/step - loss: 16.3146 - mse: 355.2978\n",
      "Epoch 383/500\n",
      "2/2 [==============================] - 0s 8ms/step - loss: 22.0605 - mse: 750.5643\n",
      "Epoch 384/500\n",
      "2/2 [==============================] - 0s 8ms/step - loss: 7.7771 - mse: 83.8399\n",
      "Epoch 385/500\n",
      "2/2 [==============================] - 0s 7ms/step - loss: 10.5847 - mse: 275.5987\n",
      "Epoch 386/500\n",
      "2/2 [==============================] - 0s 8ms/step - loss: 19.0437 - mse: 568.2974\n",
      "Epoch 387/500\n",
      "2/2 [==============================] - 0s 0s/step - loss: 26.6100 - mse: 1033.7170\n",
      "Epoch 388/500\n",
      "2/2 [==============================] - 0s 0s/step - loss: 10.1578 - mse: 175.7033\n",
      "Epoch 389/500\n",
      "2/2 [==============================] - 0s 8ms/step - loss: 5.1723 - mse: 39.6831\n",
      "Epoch 390/500\n",
      "2/2 [==============================] - 0s 9ms/step - loss: 18.9297 - mse: 518.9489\n",
      "Epoch 391/500\n",
      "2/2 [==============================] - 0s 9ms/step - loss: 9.2965 - mse: 263.4128\n",
      "Epoch 392/500\n",
      "2/2 [==============================] - 0s 7ms/step - loss: 14.3712 - mse: 324.8692\n",
      "Epoch 393/500\n",
      "2/2 [==============================] - 0s 0s/step - loss: 15.3743 - mse: 337.7115\n",
      "Epoch 394/500\n",
      "2/2 [==============================] - 0s 8ms/step - loss: 14.7232 - mse: 318.6779\n",
      "Epoch 395/500\n",
      "2/2 [==============================] - 0s 8ms/step - loss: 24.9349 - mse: 880.2809\n",
      "Epoch 396/500\n",
      "2/2 [==============================] - 0s 9ms/step - loss: 19.2561 - mse: 525.1883\n",
      "Epoch 397/500\n",
      "2/2 [==============================] - 0s 8ms/step - loss: 11.5473 - mse: 284.1353\n",
      "Epoch 398/500\n",
      "2/2 [==============================] - 0s 0s/step - loss: 19.1709 - mse: 578.1367\n",
      "Epoch 399/500\n",
      "2/2 [==============================] - 0s 0s/step - loss: 26.0543 - mse: 1017.6735\n",
      "Epoch 400/500\n",
      "2/2 [==============================] - 0s 8ms/step - loss: 15.7030 - mse: 356.0488\n",
      "Epoch 401/500\n",
      "2/2 [==============================] - 0s 8ms/step - loss: 14.6337 - mse: 281.7147\n",
      "Epoch 402/500\n",
      "2/2 [==============================] - 0s 8ms/step - loss: 24.2366 - mse: 835.9520\n",
      "Epoch 403/500\n",
      "2/2 [==============================] - 0s 8ms/step - loss: 16.5036 - mse: 402.8376\n",
      "Epoch 404/500\n",
      "2/2 [==============================] - 0s 8ms/step - loss: 9.1563 - mse: 159.6744\n",
      "Epoch 405/500\n",
      "2/2 [==============================] - 0s 8ms/step - loss: 10.4303 - mse: 214.0157\n",
      "Epoch 406/500\n",
      "2/2 [==============================] - 0s 8ms/step - loss: 7.3522 - mse: 82.9222\n",
      "Epoch 407/500\n",
      "2/2 [==============================] - 0s 8ms/step - loss: 13.4575 - mse: 299.1764\n",
      "Epoch 408/500\n",
      "2/2 [==============================] - 0s 8ms/step - loss: 5.5897 - mse: 38.6095\n",
      "Epoch 409/500\n",
      "2/2 [==============================] - 0s 0s/step - loss: 29.8086 - mse: 1367.9656\n",
      "Epoch 410/500\n",
      "2/2 [==============================] - 0s 8ms/step - loss: 9.9382 - mse: 236.9431\n",
      "Epoch 411/500\n",
      "2/2 [==============================] - 0s 8ms/step - loss: 14.7900 - mse: 283.6118\n",
      "Epoch 412/500\n",
      "2/2 [==============================] - 0s 8ms/step - loss: 21.6029 - mse: 714.5194\n",
      "Epoch 413/500\n",
      "2/2 [==============================] - 0s 8ms/step - loss: 13.0365 - mse: 264.3528\n",
      "Epoch 414/500\n",
      "2/2 [==============================] - 0s 0s/step - loss: 8.3153 - mse: 181.6100\n",
      "Epoch 415/500\n",
      "2/2 [==============================] - 0s 0s/step - loss: 11.7134 - mse: 240.8408\n",
      "Epoch 416/500\n",
      "2/2 [==============================] - 0s 9ms/step - loss: 25.6591 - mse: 916.2504\n",
      "Epoch 417/500\n",
      "2/2 [==============================] - 0s 0s/step - loss: 15.6392 - mse: 373.7598\n",
      "Epoch 418/500\n",
      "2/2 [==============================] - 0s 8ms/step - loss: 12.6098 - mse: 232.6781\n",
      "Epoch 419/500\n",
      "2/2 [==============================] - 0s 8ms/step - loss: 15.7454 - mse: 362.5558\n",
      "Epoch 420/500\n",
      "2/2 [==============================] - 0s 0s/step - loss: 24.4704 - mse: 832.0856\n",
      "Epoch 421/500\n",
      "2/2 [==============================] - 0s 8ms/step - loss: 18.1702 - mse: 481.9216\n",
      "Epoch 422/500\n",
      "2/2 [==============================] - 0s 8ms/step - loss: 8.6580 - mse: 200.6937\n",
      "Epoch 423/500\n",
      "2/2 [==============================] - 0s 0s/step - loss: 24.6772 - mse: 862.9349\n",
      "Epoch 424/500\n",
      "2/2 [==============================] - 0s 8ms/step - loss: 16.7863 - mse: 435.2287\n",
      "Epoch 425/500\n",
      "2/2 [==============================] - 0s 4ms/step - loss: 7.3127 - mse: 77.7774\n",
      "Epoch 426/500\n",
      "2/2 [==============================] - 0s 8ms/step - loss: 20.9623 - mse: 608.1360\n",
      "Epoch 427/500\n",
      "2/2 [==============================] - 0s 8ms/step - loss: 6.4895 - mse: 82.7642\n",
      "Epoch 428/500\n",
      "2/2 [==============================] - 0s 8ms/step - loss: 13.4255 - mse: 298.6060\n",
      "Epoch 429/500\n",
      "2/2 [==============================] - 0s 0s/step - loss: 11.1571 - mse: 201.1094\n",
      "Epoch 430/500\n",
      "2/2 [==============================] - 0s 8ms/step - loss: 12.0536 - mse: 272.9239\n",
      "Epoch 431/500\n",
      "2/2 [==============================] - 0s 17ms/step - loss: 9.0723 - mse: 163.8382\n",
      "Epoch 432/500\n",
      "2/2 [==============================] - 0s 8ms/step - loss: 15.5699 - mse: 368.1751\n",
      "Epoch 433/500\n",
      "2/2 [==============================] - 0s 8ms/step - loss: 11.9630 - mse: 296.8228\n",
      "Epoch 434/500\n",
      "2/2 [==============================] - 0s 8ms/step - loss: 30.4901 - mse: 1303.9114\n",
      "Epoch 435/500\n",
      "2/2 [==============================] - 0s 8ms/step - loss: 11.1053 - mse: 320.9622\n",
      "Epoch 436/500\n",
      "2/2 [==============================] - 0s 4ms/step - loss: 28.5723 - mse: 1193.3293\n",
      "Epoch 437/500\n",
      "2/2 [==============================] - 0s 0s/step - loss: 6.9208 - mse: 125.6783\n",
      "Epoch 438/500\n",
      "2/2 [==============================] - 0s 8ms/step - loss: 13.2462 - mse: 239.3580\n",
      "Epoch 439/500\n",
      "2/2 [==============================] - 0s 0s/step - loss: 34.3656 - mse: 1633.2830\n",
      "Epoch 440/500\n",
      "2/2 [==============================] - 0s 8ms/step - loss: 16.1172 - mse: 348.4542\n",
      "Epoch 441/500\n",
      "2/2 [==============================] - 0s 0s/step - loss: 19.0428 - mse: 573.0680\n",
      "Epoch 442/500\n",
      "2/2 [==============================] - 0s 0s/step - loss: 25.3788 - mse: 924.3367\n",
      "Epoch 443/500\n",
      "2/2 [==============================] - 0s 0s/step - loss: 7.3352 - mse: 80.3657\n",
      "Epoch 444/500\n",
      "2/2 [==============================] - 0s 8ms/step - loss: 23.1380 - mse: 779.8864\n",
      "Epoch 445/500\n",
      "2/2 [==============================] - 0s 8ms/step - loss: 13.5072 - mse: 259.2159\n",
      "Epoch 446/500\n",
      "2/2 [==============================] - 0s 8ms/step - loss: 15.9529 - mse: 403.2424\n",
      "Epoch 447/500\n",
      "2/2 [==============================] - 0s 8ms/step - loss: 9.2658 - mse: 142.4768\n",
      "Epoch 448/500\n",
      "2/2 [==============================] - 0s 8ms/step - loss: 3.6506 - mse: 20.1148\n",
      "Epoch 449/500\n",
      "2/2 [==============================] - 0s 8ms/step - loss: 13.1760 - mse: 265.8539\n",
      "Epoch 450/500\n",
      "2/2 [==============================] - 0s 8ms/step - loss: 16.0409 - mse: 373.0977\n",
      "Epoch 451/500\n",
      "2/2 [==============================] - 0s 8ms/step - loss: 18.8166 - mse: 545.8167\n",
      "Epoch 452/500\n",
      "2/2 [==============================] - 0s 8ms/step - loss: 40.5508 - mse: 2810.0811\n",
      "Epoch 453/500\n",
      "2/2 [==============================] - 0s 8ms/step - loss: 22.9642 - mse: 745.9303\n",
      "Epoch 454/500\n",
      "2/2 [==============================] - 0s 8ms/step - loss: 19.4634 - mse: 552.3241\n",
      "Epoch 455/500\n",
      "2/2 [==============================] - 0s 8ms/step - loss: 6.2409 - mse: 61.2829\n",
      "Epoch 456/500\n",
      "2/2 [==============================] - 0s 0s/step - loss: 6.8248 - mse: 77.7588\n",
      "Epoch 457/500\n",
      "2/2 [==============================] - 0s 8ms/step - loss: 16.0711 - mse: 394.5745\n",
      "Epoch 458/500\n",
      "2/2 [==============================] - 0s 9ms/step - loss: 11.0168 - mse: 313.3440\n",
      "Epoch 459/500\n",
      "2/2 [==============================] - 0s 8ms/step - loss: 23.0856 - mse: 792.6088\n",
      "Epoch 460/500\n",
      "2/2 [==============================] - 0s 11ms/step - loss: 22.3398 - mse: 717.8773\n",
      "Epoch 461/500\n",
      "2/2 [==============================] - 0s 0s/step - loss: 8.3969 - mse: 223.7626\n",
      "Epoch 462/500\n",
      "2/2 [==============================] - 0s 8ms/step - loss: 13.1394 - mse: 241.3445\n",
      "Epoch 463/500\n",
      "2/2 [==============================] - 0s 8ms/step - loss: 29.1862 - mse: 1191.7830\n",
      "Epoch 464/500\n",
      "2/2 [==============================] - 0s 8ms/step - loss: 7.1840 - mse: 119.5142\n",
      "Epoch 465/500\n",
      "2/2 [==============================] - 0s 8ms/step - loss: 14.7180 - mse: 329.5171\n",
      "Epoch 466/500\n",
      "2/2 [==============================] - 0s 8ms/step - loss: 10.0865 - mse: 272.1110\n",
      "Epoch 467/500\n",
      "2/2 [==============================] - 0s 8ms/step - loss: 21.3797 - mse: 709.6458\n",
      "Epoch 468/500\n",
      "2/2 [==============================] - 0s 0s/step - loss: 24.1551 - mse: 824.5951\n",
      "Epoch 469/500\n",
      "2/2 [==============================] - 0s 8ms/step - loss: 21.5875 - mse: 661.5114\n",
      "Epoch 470/500\n",
      "2/2 [==============================] - 0s 9ms/step - loss: 9.8258 - mse: 184.0322\n",
      "Epoch 471/500\n",
      "2/2 [==============================] - 0s 8ms/step - loss: 16.3422 - mse: 406.4051\n",
      "Epoch 472/500\n",
      "2/2 [==============================] - 0s 0s/step - loss: 14.8431 - mse: 301.2147\n",
      "Epoch 473/500\n",
      "2/2 [==============================] - 0s 11ms/step - loss: 18.1036 - mse: 513.5804\n",
      "Epoch 474/500\n",
      "2/2 [==============================] - 0s 0s/step - loss: 42.5221 - mse: 2856.7495\n",
      "Epoch 475/500\n",
      "2/2 [==============================] - 0s 8ms/step - loss: 18.2270 - mse: 472.8553\n",
      "Epoch 476/500\n",
      "2/2 [==============================] - 0s 8ms/step - loss: 13.1744 - mse: 243.0761\n",
      "Epoch 477/500\n",
      "2/2 [==============================] - 0s 0s/step - loss: 29.1992 - mse: 1192.9465\n",
      "Epoch 478/500\n",
      "2/2 [==============================] - 0s 8ms/step - loss: 5.8927 - mse: 73.8089\n",
      "Epoch 479/500\n",
      "2/2 [==============================] - 0s 8ms/step - loss: 6.4095 - mse: 110.7116\n",
      "Epoch 480/500\n",
      "2/2 [==============================] - 0s 8ms/step - loss: 20.0479 - mse: 622.0683\n",
      "Epoch 481/500\n",
      "2/2 [==============================] - 0s 0s/step - loss: 19.1628 - mse: 540.6024\n",
      "Epoch 482/500\n",
      "2/2 [==============================] - 0s 8ms/step - loss: 7.7690 - mse: 97.9772\n",
      "Epoch 483/500\n",
      "2/2 [==============================] - 0s 8ms/step - loss: 15.6457 - mse: 359.9391\n",
      "Epoch 484/500\n",
      "2/2 [==============================] - 0s 0s/step - loss: 14.1988 - mse: 302.5923\n",
      "Epoch 485/500\n",
      "2/2 [==============================] - 0s 8ms/step - loss: 9.2636 - mse: 260.3661\n",
      "Epoch 486/500\n",
      "2/2 [==============================] - 0s 8ms/step - loss: 18.4154 - mse: 517.8287\n",
      "Epoch 487/500\n",
      "2/2 [==============================] - 0s 7ms/step - loss: 6.2544 - mse: 72.9892\n",
      "Epoch 488/500\n",
      "2/2 [==============================] - 0s 8ms/step - loss: 29.7836 - mse: 1301.1439\n",
      "Epoch 489/500\n",
      "2/2 [==============================] - 0s 8ms/step - loss: 12.6850 - mse: 239.5137\n",
      "Epoch 490/500\n",
      "2/2 [==============================] - 0s 0s/step - loss: 13.1161 - mse: 248.1716\n",
      "Epoch 491/500\n",
      "2/2 [==============================] - 0s 8ms/step - loss: 24.3859 - mse: 884.6340\n",
      "Epoch 492/500\n",
      "2/2 [==============================] - 0s 8ms/step - loss: 18.5821 - mse: 489.1977\n",
      "Epoch 493/500\n",
      "2/2 [==============================] - 0s 3ms/step - loss: 4.7667 - mse: 50.9713\n",
      "Epoch 494/500\n",
      "2/2 [==============================] - 0s 0s/step - loss: 11.9470 - mse: 223.6123\n",
      "Epoch 495/500\n",
      "2/2 [==============================] - 0s 0s/step - loss: 13.7312 - mse: 253.7982\n",
      "Epoch 496/500\n",
      "2/2 [==============================] - 0s 0s/step - loss: 12.9198 - mse: 242.7765\n",
      "Epoch 497/500\n",
      "2/2 [==============================] - 0s 8ms/step - loss: 18.0606 - mse: 536.3698\n",
      "Epoch 498/500\n",
      "2/2 [==============================] - 0s 8ms/step - loss: 22.5681 - mse: 742.7748\n",
      "Epoch 499/500\n",
      "2/2 [==============================] - 0s 0s/step - loss: 8.3646 - mse: 110.2687\n",
      "Epoch 500/500\n",
      "2/2 [==============================] - 0s 7ms/step - loss: 14.0250 - mse: 257.0072\n"
     ]
    },
    {
     "data": {
      "text/plain": [
       "(<tf.Tensor: shape=(40,), dtype=int32, numpy=\n",
       " array([-100,  -96,  -92,  -88,  -84,  -80,  -76,  -72,  -68,  -64,  -60,\n",
       "         -56,  -52,  -48,  -44,  -40,  -36,  -32,  -28,  -24,  -20,  -16,\n",
       "         -12,   -8,   -4,    0,    4,    8,   12,   16,   20,   24,   28,\n",
       "          32,   36,   40,   44,   48,   52,   56])>,\n",
       " <tf.Tensor: shape=(40,), dtype=int32, numpy=\n",
       " array([-90, -86, -82, -78, -74, -70, -66, -62, -58, -54, -50, -46, -42,\n",
       "        -38, -34, -30, -26, -22, -18, -14, -10,  -6,  -2,   2,   6,  10,\n",
       "         14,  18,  22,  26,  30,  34,  38,  42,  46,  50,  54,  58,  62,\n",
       "         66])>)"
      ]
     },
     "execution_count": 129,
     "metadata": {},
     "output_type": "execute_result"
    }
   ],
   "source": [
    "# Model3 - 2 layers and 500 epochs\n",
    "tf.random.set_seed(42)\n",
    "\n",
    "model3 = tf.keras.Sequential([\n",
    "    tf.keras.layers.Dense(10, input_shape=[1]),\n",
    "    tf.keras.layers.Dense(1)\n",
    "])\n",
    "\n",
    "model3.compile(loss= tf.keras.losses.mae,\n",
    "                optimizer = tf.keras.optimizers.SGD(),\n",
    "                metrics=[\"mse\"])\n",
    "\n",
    "model3.fit(X_train,y_train,epochs=500)\n",
    "X_train,y_train"
   ]
  },
  {
   "cell_type": "code",
   "execution_count": 130,
   "metadata": {},
   "outputs": [
    {
     "name": "stdout",
     "output_type": "stream",
     "text": [
      "1/1 [==============================] - 0s 64ms/step\n"
     ]
    },
    {
     "data": {
      "image/png": "[encoded data removed]",
      "text/plain": [
       "<Figure size 1000x700 with 1 Axes>"
      ]
     },
     "metadata": {},
     "output_type": "display_data"
    }
   ],
   "source": [
    "# Make and plot predictions for model2\n",
    "y_pred3 = model3.predict(X_test)\n",
    "plot_predictions(predictions=y_pred3)"
   ]
  },
  {
   "cell_type": "code",
   "execution_count": 131,
   "metadata": {},
   "outputs": [
    {
     "data": {
      "text/plain": [
       "(<tf.Tensor: shape=(), dtype=float32, numpy=67.2999>,\n",
       " <tf.Tensor: shape=(), dtype=float32, numpy=4612.1475>)"
      ]
     },
     "execution_count": 131,
     "metadata": {},
     "output_type": "execute_result"
    }
   ],
   "source": [
    "# Create Evaluation metrics\n",
    "\n",
    "mae3 = MAE(y_test, y_pred3)\n",
    "mse3 = MSE(y_test, y_pred3)\n",
    "mae3, mse3"
   ]
  },
  {
   "attachments": {},
   "cell_type": "markdown",
   "metadata": {},
   "source": [
    "**NOTE:** Start with small experiments and make sure they work and then increase their scale when necessary."
   ]
  },
  {
   "attachments": {},
   "cell_type": "markdown",
   "metadata": {},
   "source": [
    "### Comparing the results of our Experiments"
   ]
  },
  {
   "cell_type": "code",
   "execution_count": 132,
   "metadata": {},
   "outputs": [
    {
     "data": {
      "text/html": [
       "<div>\n",
       "<style scoped>\n",
       "    .dataframe tbody tr th:only-of-type {\n",
       "        vertical-align: middle;\n",
       "    }\n",
       "\n",
       "    .dataframe tbody tr th {\n",
       "        vertical-align: top;\n",
       "    }\n",
       "\n",
       "    .dataframe thead th {\n",
       "        text-align: right;\n",
       "    }\n",
       "</style>\n",
       "<table border=\"1\" class=\"dataframe\">\n",
       "  <thead>\n",
       "    <tr style=\"text-align: right;\">\n",
       "      <th></th>\n",
       "      <th>Model</th>\n",
       "      <th>MAE</th>\n",
       "      <th>MSE</th>\n",
       "    </tr>\n",
       "  </thead>\n",
       "  <tbody>\n",
       "    <tr>\n",
       "      <th>0</th>\n",
       "      <td>model1</td>\n",
       "      <td>14.861667</td>\n",
       "      <td>221.690338</td>\n",
       "    </tr>\n",
       "    <tr>\n",
       "      <th>1</th>\n",
       "      <td>model2</td>\n",
       "      <td>2.909708</td>\n",
       "      <td>11.190015</td>\n",
       "    </tr>\n",
       "    <tr>\n",
       "      <th>2</th>\n",
       "      <td>model3</td>\n",
       "      <td>67.299896</td>\n",
       "      <td>4612.147461</td>\n",
       "    </tr>\n",
       "  </tbody>\n",
       "</table>\n",
       "</div>"
      ],
      "text/plain": [
       "    Model        MAE          MSE\n",
       "0  model1  14.861667   221.690338\n",
       "1  model2   2.909708    11.190015\n",
       "2  model3  67.299896  4612.147461"
      ]
     },
     "execution_count": 132,
     "metadata": {},
     "output_type": "execute_result"
    }
   ],
   "source": [
    "# Let's compare our model results with pandas dataframe\n",
    "\n",
    "model_results = [[\"model1\", mae1.numpy(), mse1.numpy()],\n",
    "                [\"model2\", mae2.numpy(), mse2.numpy()],\n",
    "                [\"model3\", mae3.numpy(), mse3.numpy()]]\n",
    "\n",
    "results = pd.DataFrame(model_results, columns=[\"Model\",\"MAE\",\"MSE\"])\n",
    "results"
   ]
  },
  {
   "cell_type": "code",
   "execution_count": 133,
   "metadata": {},
   "outputs": [
    {
     "name": "stdout",
     "output_type": "stream",
     "text": [
      "Model: \"sequential_23\"\n",
      "_________________________________________________________________\n",
      " Layer (type)                Output Shape              Param #   \n",
      "=================================================================\n",
      " dense_37 (Dense)            (None, 10)                20        \n",
      "                                                                 \n",
      " dense_38 (Dense)            (None, 1)                 11        \n",
      "                                                                 \n",
      "=================================================================\n",
      "Total params: 31\n",
      "Trainable params: 31\n",
      "Non-trainable params: 0\n",
      "_________________________________________________________________\n"
     ]
    }
   ],
   "source": [
    "model2.summary()"
   ]
  },
  {
   "cell_type": "code",
   "execution_count": 134,
   "metadata": {},
   "outputs": [
    {
     "data": {
      "image/png": "[encoded data removed]",
      "text/plain": [
       "<IPython.core.display.Image object>"
      ]
     },
     "execution_count": 134,
     "metadata": {},
     "output_type": "execute_result"
    }
   ],
   "source": [
    "plot_model(model2, show_shapes=True)"
   ]
  },
  {
   "attachments": {},
   "cell_type": "markdown",
   "metadata": {},
   "source": [
    "**NOTE:** A main goal should be to minimize the time between each experiment.\n",
    "EXPERIMENT, EXPERIMENT, EXPERIMENT"
   ]
  },
  {
   "attachments": {},
   "cell_type": "markdown",
   "metadata": {},
   "source": [
    "#### Tracking Model Experiments\n",
    "\n",
    "To track the results of your experiments:\n",
    "**Resource:**\n",
    "- Tensorboard\n",
    "    * A component of TensorFlow lib, to help track modelling experiments\n",
    "##\n",
    "- Weights & Bias\n",
    "    * A tool for tracking all kinds of ML Experiments(plugs directly into Tensorboard)"
   ]
  },
  {
   "attachments": {},
   "cell_type": "markdown",
   "metadata": {},
   "source": [
    "### Saving Models\n",
    "\n",
    "Format:\n",
    "- SavedModel Format - A way to serialize models. Restored with load_model\n",
    "- HDF5 Format - Saved using HDF5 standards. Uses the .h5 \n",
    "    - Best format when using the model universally"
   ]
  },
  {
   "cell_type": "code",
   "execution_count": 135,
   "metadata": {},
   "outputs": [
    {
     "name": "stdout",
     "output_type": "stream",
     "text": [
      "INFO:tensorflow:Assets written to: Best_Reg_model\\assets\n"
     ]
    }
   ],
   "source": [
    "# Save model using SavedModel format\n",
    "model2.save(\"Best_Reg_model\")"
   ]
  },
  {
   "cell_type": "code",
   "execution_count": 136,
   "metadata": {},
   "outputs": [],
   "source": [
    "# Save model using HDF5 format\n",
    "model2.save(\"Best_reg_model_hd5f.h5\")"
   ]
  },
  {
   "attachments": {},
   "cell_type": "markdown",
   "metadata": {},
   "source": [
    "#### Load Models"
   ]
  },
  {
   "cell_type": "code",
   "execution_count": 137,
   "metadata": {},
   "outputs": [
    {
     "name": "stdout",
     "output_type": "stream",
     "text": [
      "Model: \"sequential_23\"\n",
      "_________________________________________________________________\n",
      " Layer (type)                Output Shape              Param #   \n",
      "=================================================================\n",
      " dense_37 (Dense)            (None, 10)                20        \n",
      "                                                                 \n",
      " dense_38 (Dense)            (None, 1)                 11        \n",
      "                                                                 \n",
      "=================================================================\n",
      "Total params: 31\n",
      "Trainable params: 31\n",
      "Non-trainable params: 0\n",
      "_________________________________________________________________\n"
     ]
    }
   ],
   "source": [
    "# Load in SavedModel format model\n",
    "loaded_savedmodel = tf.keras.models.load_model(\"./Best_Reg_model/\")\n",
    "loaded_savedmodel.summary()"
   ]
  },
  {
   "cell_type": "code",
   "execution_count": 138,
   "metadata": {},
   "outputs": [
    {
     "name": "stdout",
     "output_type": "stream",
     "text": [
      "1/1 [==============================] - 0s 48ms/step\n",
      "1/1 [==============================] - 0s 56ms/step\n"
     ]
    },
    {
     "data": {
      "text/plain": [
       "array([[ True],\n",
       "       [ True],\n",
       "       [ True],\n",
       "       [ True],\n",
       "       [ True],\n",
       "       [ True],\n",
       "       [ True],\n",
       "       [ True],\n",
       "       [ True],\n",
       "       [ True]])"
      ]
     },
     "execution_count": 138,
     "metadata": {},
     "output_type": "execute_result"
    }
   ],
   "source": [
    "# compare the model_2 predictions with savedModel format predictions\n",
    "# The predictions are same\n",
    "\n",
    "y_pred2 = model2.predict(X_test)\n",
    "loaded_savedmodel_pred = loaded_savedmodel.predict(X_test)\n",
    "y_pred2 == loaded_savedmodel_pred"
   ]
  },
  {
   "cell_type": "code",
   "execution_count": 139,
   "metadata": {},
   "outputs": [
    {
     "data": {
      "text/plain": [
       "<tf.Tensor: shape=(), dtype=bool, numpy=True>"
      ]
     },
     "execution_count": 139,
     "metadata": {},
     "output_type": "execute_result"
    }
   ],
   "source": [
    "MAE(y_true=y_test, y_pred = y_pred2) == MAE(y_true=y_test, y_pred=loaded_savedmodel_pred)"
   ]
  },
  {
   "cell_type": "code",
   "execution_count": 140,
   "metadata": {},
   "outputs": [
    {
     "name": "stdout",
     "output_type": "stream",
     "text": [
      "Model: \"sequential_23\"\n",
      "_________________________________________________________________\n",
      " Layer (type)                Output Shape              Param #   \n",
      "=================================================================\n",
      " dense_37 (Dense)            (None, 10)                20        \n",
      "                                                                 \n",
      " dense_38 (Dense)            (None, 1)                 11        \n",
      "                                                                 \n",
      "=================================================================\n",
      "Total params: 31\n",
      "Trainable params: 31\n",
      "Non-trainable params: 0\n",
      "_________________________________________________________________\n"
     ]
    }
   ],
   "source": [
    "# Load in HDF5 format model\n",
    "loaded_HDF5_model = tf.keras.models.load_model(\"Best_reg_model_hd5f.h5\")\n",
    "loaded_HDF5_model.summary()"
   ]
  },
  {
   "cell_type": "code",
   "execution_count": 141,
   "metadata": {},
   "outputs": [
    {
     "name": "stdout",
     "output_type": "stream",
     "text": [
      "1/1 [==============================] - 0s 24ms/step\n",
      "1/1 [==============================] - 0s 56ms/step\n"
     ]
    },
    {
     "data": {
      "text/plain": [
       "array([[ True],\n",
       "       [ True],\n",
       "       [ True],\n",
       "       [ True],\n",
       "       [ True],\n",
       "       [ True],\n",
       "       [ True],\n",
       "       [ True],\n",
       "       [ True],\n",
       "       [ True]])"
      ]
     },
     "execution_count": 141,
     "metadata": {},
     "output_type": "execute_result"
    }
   ],
   "source": [
    "y_pred2 = model2.predict(X_test)\n",
    "loaded_HDF5_model_pred = loaded_HDF5_model.predict(X_test)\n",
    "y_pred2 == loaded_HDF5_model_pred"
   ]
  },
  {
   "attachments": {},
   "cell_type": "markdown",
   "metadata": {},
   "source": [
    "## Medical Cost Prediction Dataset"
   ]
  },
  {
   "cell_type": "code",
   "execution_count": 148,
   "metadata": {},
   "outputs": [
    {
     "data": {
      "text/html": [
       "<div>\n",
       "<style scoped>\n",
       "    .dataframe tbody tr th:only-of-type {\n",
       "        vertical-align: middle;\n",
       "    }\n",
       "\n",
       "    .dataframe tbody tr th {\n",
       "        vertical-align: top;\n",
       "    }\n",
       "\n",
       "    .dataframe thead th {\n",
       "        text-align: right;\n",
       "    }\n",
       "</style>\n",
       "<table border=\"1\" class=\"dataframe\">\n",
       "  <thead>\n",
       "    <tr style=\"text-align: right;\">\n",
       "      <th></th>\n",
       "      <th>age</th>\n",
       "      <th>sex</th>\n",
       "      <th>bmi</th>\n",
       "      <th>children</th>\n",
       "      <th>smoker</th>\n",
       "      <th>region</th>\n",
       "      <th>charges</th>\n",
       "    </tr>\n",
       "  </thead>\n",
       "  <tbody>\n",
       "    <tr>\n",
       "      <th>0</th>\n",
       "      <td>19</td>\n",
       "      <td>female</td>\n",
       "      <td>27.900</td>\n",
       "      <td>0</td>\n",
       "      <td>yes</td>\n",
       "      <td>southwest</td>\n",
       "      <td>16884.92400</td>\n",
       "    </tr>\n",
       "    <tr>\n",
       "      <th>1</th>\n",
       "      <td>18</td>\n",
       "      <td>male</td>\n",
       "      <td>33.770</td>\n",
       "      <td>1</td>\n",
       "      <td>no</td>\n",
       "      <td>southeast</td>\n",
       "      <td>1725.55230</td>\n",
       "    </tr>\n",
       "    <tr>\n",
       "      <th>2</th>\n",
       "      <td>28</td>\n",
       "      <td>male</td>\n",
       "      <td>33.000</td>\n",
       "      <td>3</td>\n",
       "      <td>no</td>\n",
       "      <td>southeast</td>\n",
       "      <td>4449.46200</td>\n",
       "    </tr>\n",
       "    <tr>\n",
       "      <th>3</th>\n",
       "      <td>33</td>\n",
       "      <td>male</td>\n",
       "      <td>22.705</td>\n",
       "      <td>0</td>\n",
       "      <td>no</td>\n",
       "      <td>northwest</td>\n",
       "      <td>21984.47061</td>\n",
       "    </tr>\n",
       "    <tr>\n",
       "      <th>4</th>\n",
       "      <td>32</td>\n",
       "      <td>male</td>\n",
       "      <td>28.880</td>\n",
       "      <td>0</td>\n",
       "      <td>no</td>\n",
       "      <td>northwest</td>\n",
       "      <td>3866.85520</td>\n",
       "    </tr>\n",
       "    <tr>\n",
       "      <th>...</th>\n",
       "      <td>...</td>\n",
       "      <td>...</td>\n",
       "      <td>...</td>\n",
       "      <td>...</td>\n",
       "      <td>...</td>\n",
       "      <td>...</td>\n",
       "      <td>...</td>\n",
       "    </tr>\n",
       "    <tr>\n",
       "      <th>1333</th>\n",
       "      <td>50</td>\n",
       "      <td>male</td>\n",
       "      <td>30.970</td>\n",
       "      <td>3</td>\n",
       "      <td>no</td>\n",
       "      <td>northwest</td>\n",
       "      <td>10600.54830</td>\n",
       "    </tr>\n",
       "    <tr>\n",
       "      <th>1334</th>\n",
       "      <td>18</td>\n",
       "      <td>female</td>\n",
       "      <td>31.920</td>\n",
       "      <td>0</td>\n",
       "      <td>no</td>\n",
       "      <td>northeast</td>\n",
       "      <td>2205.98080</td>\n",
       "    </tr>\n",
       "    <tr>\n",
       "      <th>1335</th>\n",
       "      <td>18</td>\n",
       "      <td>female</td>\n",
       "      <td>36.850</td>\n",
       "      <td>0</td>\n",
       "      <td>no</td>\n",
       "      <td>southeast</td>\n",
       "      <td>1629.83350</td>\n",
       "    </tr>\n",
       "    <tr>\n",
       "      <th>1336</th>\n",
       "      <td>21</td>\n",
       "      <td>female</td>\n",
       "      <td>25.800</td>\n",
       "      <td>0</td>\n",
       "      <td>no</td>\n",
       "      <td>southwest</td>\n",
       "      <td>2007.94500</td>\n",
       "    </tr>\n",
       "    <tr>\n",
       "      <th>1337</th>\n",
       "      <td>61</td>\n",
       "      <td>female</td>\n",
       "      <td>29.070</td>\n",
       "      <td>0</td>\n",
       "      <td>yes</td>\n",
       "      <td>northwest</td>\n",
       "      <td>29141.36030</td>\n",
       "    </tr>\n",
       "  </tbody>\n",
       "</table>\n",
       "<p>1338 rows × 7 columns</p>\n",
       "</div>"
      ],
      "text/plain": [
       "      age     sex     bmi  children smoker     region      charges\n",
       "0      19  female  27.900         0    yes  southwest  16884.92400\n",
       "1      18    male  33.770         1     no  southeast   1725.55230\n",
       "2      28    male  33.000         3     no  southeast   4449.46200\n",
       "3      33    male  22.705         0     no  northwest  21984.47061\n",
       "4      32    male  28.880         0     no  northwest   3866.85520\n",
       "...   ...     ...     ...       ...    ...        ...          ...\n",
       "1333   50    male  30.970         3     no  northwest  10600.54830\n",
       "1334   18  female  31.920         0     no  northeast   2205.98080\n",
       "1335   18  female  36.850         0     no  southeast   1629.83350\n",
       "1336   21  female  25.800         0     no  southwest   2007.94500\n",
       "1337   61  female  29.070         0    yes  northwest  29141.36030\n",
       "\n",
       "[1338 rows x 7 columns]"
      ]
     },
     "execution_count": 148,
     "metadata": {},
     "output_type": "execute_result"
    }
   ],
   "source": [
    "insurance = pd.read_csv(\"Datasets\\insurance.csv\")\n",
    "insurance"
   ]
  },
  {
   "cell_type": "code",
   "execution_count": 149,
   "metadata": {},
   "outputs": [
    {
     "data": {
      "text/html": [
       "<div>\n",
       "<style scoped>\n",
       "    .dataframe tbody tr th:only-of-type {\n",
       "        vertical-align: middle;\n",
       "    }\n",
       "\n",
       "    .dataframe tbody tr th {\n",
       "        vertical-align: top;\n",
       "    }\n",
       "\n",
       "    .dataframe thead th {\n",
       "        text-align: right;\n",
       "    }\n",
       "</style>\n",
       "<table border=\"1\" class=\"dataframe\">\n",
       "  <thead>\n",
       "    <tr style=\"text-align: right;\">\n",
       "      <th></th>\n",
       "      <th>age</th>\n",
       "      <th>bmi</th>\n",
       "      <th>children</th>\n",
       "      <th>charges</th>\n",
       "      <th>sex_female</th>\n",
       "      <th>sex_male</th>\n",
       "      <th>smoker_no</th>\n",
       "      <th>smoker_yes</th>\n",
       "      <th>region_northeast</th>\n",
       "      <th>region_northwest</th>\n",
       "      <th>region_southeast</th>\n",
       "      <th>region_southwest</th>\n",
       "    </tr>\n",
       "  </thead>\n",
       "  <tbody>\n",
       "    <tr>\n",
       "      <th>0</th>\n",
       "      <td>19</td>\n",
       "      <td>27.900</td>\n",
       "      <td>0</td>\n",
       "      <td>16884.92400</td>\n",
       "      <td>True</td>\n",
       "      <td>False</td>\n",
       "      <td>False</td>\n",
       "      <td>True</td>\n",
       "      <td>False</td>\n",
       "      <td>False</td>\n",
       "      <td>False</td>\n",
       "      <td>True</td>\n",
       "    </tr>\n",
       "    <tr>\n",
       "      <th>1</th>\n",
       "      <td>18</td>\n",
       "      <td>33.770</td>\n",
       "      <td>1</td>\n",
       "      <td>1725.55230</td>\n",
       "      <td>False</td>\n",
       "      <td>True</td>\n",
       "      <td>True</td>\n",
       "      <td>False</td>\n",
       "      <td>False</td>\n",
       "      <td>False</td>\n",
       "      <td>True</td>\n",
       "      <td>False</td>\n",
       "    </tr>\n",
       "    <tr>\n",
       "      <th>2</th>\n",
       "      <td>28</td>\n",
       "      <td>33.000</td>\n",
       "      <td>3</td>\n",
       "      <td>4449.46200</td>\n",
       "      <td>False</td>\n",
       "      <td>True</td>\n",
       "      <td>True</td>\n",
       "      <td>False</td>\n",
       "      <td>False</td>\n",
       "      <td>False</td>\n",
       "      <td>True</td>\n",
       "      <td>False</td>\n",
       "    </tr>\n",
       "    <tr>\n",
       "      <th>3</th>\n",
       "      <td>33</td>\n",
       "      <td>22.705</td>\n",
       "      <td>0</td>\n",
       "      <td>21984.47061</td>\n",
       "      <td>False</td>\n",
       "      <td>True</td>\n",
       "      <td>True</td>\n",
       "      <td>False</td>\n",
       "      <td>False</td>\n",
       "      <td>True</td>\n",
       "      <td>False</td>\n",
       "      <td>False</td>\n",
       "    </tr>\n",
       "    <tr>\n",
       "      <th>4</th>\n",
       "      <td>32</td>\n",
       "      <td>28.880</td>\n",
       "      <td>0</td>\n",
       "      <td>3866.85520</td>\n",
       "      <td>False</td>\n",
       "      <td>True</td>\n",
       "      <td>True</td>\n",
       "      <td>False</td>\n",
       "      <td>False</td>\n",
       "      <td>True</td>\n",
       "      <td>False</td>\n",
       "      <td>False</td>\n",
       "    </tr>\n",
       "    <tr>\n",
       "      <th>...</th>\n",
       "      <td>...</td>\n",
       "      <td>...</td>\n",
       "      <td>...</td>\n",
       "      <td>...</td>\n",
       "      <td>...</td>\n",
       "      <td>...</td>\n",
       "      <td>...</td>\n",
       "      <td>...</td>\n",
       "      <td>...</td>\n",
       "      <td>...</td>\n",
       "      <td>...</td>\n",
       "      <td>...</td>\n",
       "    </tr>\n",
       "    <tr>\n",
       "      <th>1333</th>\n",
       "      <td>50</td>\n",
       "      <td>30.970</td>\n",
       "      <td>3</td>\n",
       "      <td>10600.54830</td>\n",
       "      <td>False</td>\n",
       "      <td>True</td>\n",
       "      <td>True</td>\n",
       "      <td>False</td>\n",
       "      <td>False</td>\n",
       "      <td>True</td>\n",
       "      <td>False</td>\n",
       "      <td>False</td>\n",
       "    </tr>\n",
       "    <tr>\n",
       "      <th>1334</th>\n",
       "      <td>18</td>\n",
       "      <td>31.920</td>\n",
       "      <td>0</td>\n",
       "      <td>2205.98080</td>\n",
       "      <td>True</td>\n",
       "      <td>False</td>\n",
       "      <td>True</td>\n",
       "      <td>False</td>\n",
       "      <td>True</td>\n",
       "      <td>False</td>\n",
       "      <td>False</td>\n",
       "      <td>False</td>\n",
       "    </tr>\n",
       "    <tr>\n",
       "      <th>1335</th>\n",
       "      <td>18</td>\n",
       "      <td>36.850</td>\n",
       "      <td>0</td>\n",
       "      <td>1629.83350</td>\n",
       "      <td>True</td>\n",
       "      <td>False</td>\n",
       "      <td>True</td>\n",
       "      <td>False</td>\n",
       "      <td>False</td>\n",
       "      <td>False</td>\n",
       "      <td>True</td>\n",
       "      <td>False</td>\n",
       "    </tr>\n",
       "    <tr>\n",
       "      <th>1336</th>\n",
       "      <td>21</td>\n",
       "      <td>25.800</td>\n",
       "      <td>0</td>\n",
       "      <td>2007.94500</td>\n",
       "      <td>True</td>\n",
       "      <td>False</td>\n",
       "      <td>True</td>\n",
       "      <td>False</td>\n",
       "      <td>False</td>\n",
       "      <td>False</td>\n",
       "      <td>False</td>\n",
       "      <td>True</td>\n",
       "    </tr>\n",
       "    <tr>\n",
       "      <th>1337</th>\n",
       "      <td>61</td>\n",
       "      <td>29.070</td>\n",
       "      <td>0</td>\n",
       "      <td>29141.36030</td>\n",
       "      <td>True</td>\n",
       "      <td>False</td>\n",
       "      <td>False</td>\n",
       "      <td>True</td>\n",
       "      <td>False</td>\n",
       "      <td>True</td>\n",
       "      <td>False</td>\n",
       "      <td>False</td>\n",
       "    </tr>\n",
       "  </tbody>\n",
       "</table>\n",
       "<p>1338 rows × 12 columns</p>\n",
       "</div>"
      ],
      "text/plain": [
       "      age     bmi  children      charges  sex_female  sex_male  smoker_no   \n",
       "0      19  27.900         0  16884.92400        True     False      False  \\\n",
       "1      18  33.770         1   1725.55230       False      True       True   \n",
       "2      28  33.000         3   4449.46200       False      True       True   \n",
       "3      33  22.705         0  21984.47061       False      True       True   \n",
       "4      32  28.880         0   3866.85520       False      True       True   \n",
       "...   ...     ...       ...          ...         ...       ...        ...   \n",
       "1333   50  30.970         3  10600.54830       False      True       True   \n",
       "1334   18  31.920         0   2205.98080        True     False       True   \n",
       "1335   18  36.850         0   1629.83350        True     False       True   \n",
       "1336   21  25.800         0   2007.94500        True     False       True   \n",
       "1337   61  29.070         0  29141.36030        True     False      False   \n",
       "\n",
       "      smoker_yes  region_northeast  region_northwest  region_southeast   \n",
       "0           True             False             False             False  \\\n",
       "1          False             False             False              True   \n",
       "2          False             False             False              True   \n",
       "3          False             False              True             False   \n",
       "4          False             False              True             False   \n",
       "...          ...               ...               ...               ...   \n",
       "1333       False             False              True             False   \n",
       "1334       False              True             False             False   \n",
       "1335       False             False             False              True   \n",
       "1336       False             False             False             False   \n",
       "1337        True             False              True             False   \n",
       "\n",
       "      region_southwest  \n",
       "0                 True  \n",
       "1                False  \n",
       "2                False  \n",
       "3                False  \n",
       "4                False  \n",
       "...                ...  \n",
       "1333             False  \n",
       "1334             False  \n",
       "1335             False  \n",
       "1336              True  \n",
       "1337             False  \n",
       "\n",
       "[1338 rows x 12 columns]"
      ]
     },
     "execution_count": 149,
     "metadata": {},
     "output_type": "execute_result"
    }
   ],
   "source": [
    "# Numerical Encoding (To convert all values to numerical values)\n",
    "#   -> One Hot Encoding\n",
    "insurance_onehot = pd.get_dummies(insurance,)\n",
    "insurance_onehot"
   ]
  },
  {
   "cell_type": "code",
   "execution_count": 150,
   "metadata": {},
   "outputs": [
    {
     "data": {
      "text/plain": [
       "0    16884.92400\n",
       "1     1725.55230\n",
       "2     4449.46200\n",
       "3    21984.47061\n",
       "4     3866.85520\n",
       "Name: charges, dtype: float64"
      ]
     },
     "execution_count": 150,
     "metadata": {},
     "output_type": "execute_result"
    }
   ],
   "source": [
    "# Create X & y (Features and Labels)\n",
    "X = insurance_onehot.drop(\"charges\",axis=1)\n",
    "y = insurance_onehot[\"charges\"]\n",
    "y.head()\n"
   ]
  },
  {
   "cell_type": "code",
   "execution_count": 161,
   "metadata": {},
   "outputs": [
    {
     "data": {
      "text/plain": [
       "(1338, 1070, 268)"
      ]
     },
     "execution_count": 161,
     "metadata": {},
     "output_type": "execute_result"
    }
   ],
   "source": [
    "# Splitting Train and Test\n",
    "from sklearn.model_selection import train_test_split\n",
    "X_train,X_test,y_train,y_test = train_test_split(X.values.astype(np.float32),y.values.astype(np.float32),test_size=0.2, random_state=42)\n",
    "len(X),len(X_train),len(X_test)"
   ]
  },
  {
   "cell_type": "code",
   "execution_count": 162,
   "metadata": {},
   "outputs": [
    {
     "data": {
      "text/plain": [
       "array([[46.   , 19.95 ,  2.   , ...,  1.   ,  0.   ,  0.   ],\n",
       "       [47.   , 24.32 ,  0.   , ...,  0.   ,  0.   ,  0.   ],\n",
       "       [52.   , 24.86 ,  0.   , ...,  0.   ,  1.   ,  0.   ],\n",
       "       ...,\n",
       "       [58.   , 25.175,  0.   , ...,  0.   ,  0.   ,  0.   ],\n",
       "       [37.   , 47.6  ,  2.   , ...,  0.   ,  0.   ,  1.   ],\n",
       "       [55.   , 29.9  ,  0.   , ...,  0.   ,  0.   ,  1.   ]],\n",
       "      dtype=float32)"
      ]
     },
     "execution_count": 162,
     "metadata": {},
     "output_type": "execute_result"
    }
   ],
   "source": [
    "X_train"
   ]
  },
  {
   "cell_type": "code",
   "execution_count": 164,
   "metadata": {},
   "outputs": [
    {
     "name": "stdout",
     "output_type": "stream",
     "text": [
      "Epoch 1/100\n",
      "34/34 [==============================] - 1s 6ms/step - loss: 8723.5410 - MAE: 8723.5410\n",
      "Epoch 2/100\n",
      "34/34 [==============================] - 0s 5ms/step - loss: 7860.4404 - MAE: 7860.4404\n",
      "Epoch 3/100\n",
      "34/34 [==============================] - 0s 4ms/step - loss: 7583.4209 - MAE: 7583.4209\n",
      "Epoch 4/100\n",
      "34/34 [==============================] - 0s 3ms/step - loss: 7770.9629 - MAE: 7770.9629\n",
      "Epoch 5/100\n",
      "34/34 [==============================] - 0s 4ms/step - loss: 7692.5308 - MAE: 7692.5308\n",
      "Epoch 6/100\n",
      "34/34 [==============================] - 0s 3ms/step - loss: 7622.6475 - MAE: 7622.6475\n",
      "Epoch 7/100\n",
      "34/34 [==============================] - 0s 3ms/step - loss: 7549.3213 - MAE: 7549.3213\n",
      "Epoch 8/100\n",
      "34/34 [==============================] - 0s 5ms/step - loss: 7773.0024 - MAE: 7773.0024\n",
      "Epoch 9/100\n",
      "34/34 [==============================] - 0s 4ms/step - loss: 7583.5479 - MAE: 7583.5479\n",
      "Epoch 10/100\n",
      "34/34 [==============================] - 0s 5ms/step - loss: 7739.4668 - MAE: 7739.4668\n",
      "Epoch 11/100\n",
      "34/34 [==============================] - 0s 4ms/step - loss: 7630.7119 - MAE: 7630.7119\n",
      "Epoch 12/100\n",
      "34/34 [==============================] - 0s 4ms/step - loss: 7652.9946 - MAE: 7652.9946\n",
      "Epoch 13/100\n",
      "34/34 [==============================] - 0s 3ms/step - loss: 7640.1919 - MAE: 7640.1919\n",
      "Epoch 14/100\n",
      "34/34 [==============================] - 0s 3ms/step - loss: 7708.4258 - MAE: 7708.4258\n",
      "Epoch 15/100\n",
      "34/34 [==============================] - 0s 4ms/step - loss: 7572.9004 - MAE: 7572.9004\n",
      "Epoch 16/100\n",
      "34/34 [==============================] - 0s 3ms/step - loss: 7734.1152 - MAE: 7734.1152\n",
      "Epoch 17/100\n",
      "34/34 [==============================] - 0s 3ms/step - loss: 7597.2852 - MAE: 7597.2852\n",
      "Epoch 18/100\n",
      "34/34 [==============================] - 0s 3ms/step - loss: 7790.9106 - MAE: 7790.9106\n",
      "Epoch 19/100\n",
      "34/34 [==============================] - 0s 3ms/step - loss: 7794.7598 - MAE: 7794.7598\n",
      "Epoch 20/100\n",
      "34/34 [==============================] - 0s 3ms/step - loss: 7819.5049 - MAE: 7819.5049\n",
      "Epoch 21/100\n",
      "34/34 [==============================] - 0s 3ms/step - loss: 7458.9341 - MAE: 7458.9341\n",
      "Epoch 22/100\n",
      "34/34 [==============================] - 0s 3ms/step - loss: 7801.3188 - MAE: 7801.3188\n",
      "Epoch 23/100\n",
      "34/34 [==============================] - 0s 3ms/step - loss: 7625.9165 - MAE: 7625.9165\n",
      "Epoch 24/100\n",
      "34/34 [==============================] - 0s 3ms/step - loss: 7549.6377 - MAE: 7549.6377\n",
      "Epoch 25/100\n",
      "34/34 [==============================] - 0s 3ms/step - loss: 7544.0728 - MAE: 7544.0728\n",
      "Epoch 26/100\n",
      "34/34 [==============================] - 0s 3ms/step - loss: 7668.8101 - MAE: 7668.8101\n",
      "Epoch 27/100\n",
      "34/34 [==============================] - 0s 3ms/step - loss: 7573.8594 - MAE: 7573.8594\n",
      "Epoch 28/100\n",
      "34/34 [==============================] - 0s 3ms/step - loss: 7519.3472 - MAE: 7519.3472\n",
      "Epoch 29/100\n",
      "34/34 [==============================] - 0s 3ms/step - loss: 7685.0010 - MAE: 7685.0010\n",
      "Epoch 30/100\n",
      "34/34 [==============================] - 0s 4ms/step - loss: 7553.5439 - MAE: 7553.5439\n",
      "Epoch 31/100\n",
      "34/34 [==============================] - 0s 3ms/step - loss: 7733.1328 - MAE: 7733.1328\n",
      "Epoch 32/100\n",
      "34/34 [==============================] - 0s 3ms/step - loss: 7522.1216 - MAE: 7522.1216\n",
      "Epoch 33/100\n",
      "34/34 [==============================] - 0s 3ms/step - loss: 7466.3013 - MAE: 7466.3013\n",
      "Epoch 34/100\n",
      "34/34 [==============================] - 0s 3ms/step - loss: 7455.6050 - MAE: 7455.6050\n",
      "Epoch 35/100\n",
      "34/34 [==============================] - 0s 3ms/step - loss: 7544.1855 - MAE: 7544.1855\n",
      "Epoch 36/100\n",
      "34/34 [==============================] - 0s 3ms/step - loss: 7526.9185 - MAE: 7526.9185\n",
      "Epoch 37/100\n",
      "34/34 [==============================] - 0s 3ms/step - loss: 7515.4897 - MAE: 7515.4897\n",
      "Epoch 38/100\n",
      "34/34 [==============================] - 0s 3ms/step - loss: 7254.2388 - MAE: 7254.2388\n",
      "Epoch 39/100\n",
      "34/34 [==============================] - 0s 3ms/step - loss: 7517.3818 - MAE: 7517.3818\n",
      "Epoch 40/100\n",
      "34/34 [==============================] - 0s 3ms/step - loss: 7411.5918 - MAE: 7411.5918\n",
      "Epoch 41/100\n",
      "34/34 [==============================] - 0s 3ms/step - loss: 7761.1392 - MAE: 7761.1392\n",
      "Epoch 42/100\n",
      "34/34 [==============================] - 0s 3ms/step - loss: 7727.8584 - MAE: 7727.8584\n",
      "Epoch 43/100\n",
      "34/34 [==============================] - 0s 5ms/step - loss: 7727.7275 - MAE: 7727.7275\n",
      "Epoch 44/100\n",
      "34/34 [==============================] - 0s 3ms/step - loss: 7502.4399 - MAE: 7502.4399\n",
      "Epoch 45/100\n",
      "34/34 [==============================] - 0s 3ms/step - loss: 7507.8198 - MAE: 7507.8198\n",
      "Epoch 46/100\n",
      "34/34 [==============================] - 0s 3ms/step - loss: 7403.7686 - MAE: 7403.7686\n",
      "Epoch 47/100\n",
      "34/34 [==============================] - 0s 3ms/step - loss: 7442.4136 - MAE: 7442.4136\n",
      "Epoch 48/100\n",
      "34/34 [==============================] - 0s 4ms/step - loss: 7515.3184 - MAE: 7515.3184\n",
      "Epoch 49/100\n",
      "34/34 [==============================] - 0s 4ms/step - loss: 7531.2197 - MAE: 7531.2197\n",
      "Epoch 50/100\n",
      "34/34 [==============================] - 0s 3ms/step - loss: 7483.6128 - MAE: 7483.6128\n",
      "Epoch 51/100\n",
      "34/34 [==============================] - 0s 3ms/step - loss: 7389.6099 - MAE: 7389.6099\n",
      "Epoch 52/100\n",
      "34/34 [==============================] - 0s 3ms/step - loss: 7395.3521 - MAE: 7395.3521\n",
      "Epoch 53/100\n",
      "34/34 [==============================] - 0s 3ms/step - loss: 7537.3389 - MAE: 7537.3389\n",
      "Epoch 54/100\n",
      "34/34 [==============================] - 0s 3ms/step - loss: 7253.7559 - MAE: 7253.7559\n",
      "Epoch 55/100\n",
      "34/34 [==============================] - 0s 4ms/step - loss: 7391.2856 - MAE: 7391.2856\n",
      "Epoch 56/100\n",
      "34/34 [==============================] - 0s 4ms/step - loss: 7263.9297 - MAE: 7263.9297\n",
      "Epoch 57/100\n",
      "34/34 [==============================] - 0s 4ms/step - loss: 7425.5039 - MAE: 7425.5039\n",
      "Epoch 58/100\n",
      "34/34 [==============================] - 0s 3ms/step - loss: 7312.8394 - MAE: 7312.8394\n",
      "Epoch 59/100\n",
      "34/34 [==============================] - 0s 3ms/step - loss: 7575.5723 - MAE: 7575.5723\n",
      "Epoch 60/100\n",
      "34/34 [==============================] - 0s 3ms/step - loss: 7463.7983 - MAE: 7463.7983\n",
      "Epoch 61/100\n",
      "34/34 [==============================] - 0s 4ms/step - loss: 7448.8315 - MAE: 7448.8315\n",
      "Epoch 62/100\n",
      "34/34 [==============================] - 0s 5ms/step - loss: 7255.4478 - MAE: 7255.4478\n",
      "Epoch 63/100\n",
      "34/34 [==============================] - 0s 4ms/step - loss: 7369.7979 - MAE: 7369.7979\n",
      "Epoch 64/100\n",
      "34/34 [==============================] - 0s 4ms/step - loss: 7211.5317 - MAE: 7211.5317\n",
      "Epoch 65/100\n",
      "34/34 [==============================] - 0s 3ms/step - loss: 7432.8491 - MAE: 7432.8491\n",
      "Epoch 66/100\n",
      "34/34 [==============================] - 0s 4ms/step - loss: 7416.8486 - MAE: 7416.8486\n",
      "Epoch 67/100\n",
      "34/34 [==============================] - 0s 4ms/step - loss: 7303.6016 - MAE: 7303.6016\n",
      "Epoch 68/100\n",
      "34/34 [==============================] - 0s 4ms/step - loss: 7410.9390 - MAE: 7410.9390\n",
      "Epoch 69/100\n",
      "34/34 [==============================] - 0s 4ms/step - loss: 7495.6362 - MAE: 7495.6362\n",
      "Epoch 70/100\n",
      "34/34 [==============================] - 0s 4ms/step - loss: 7339.3794 - MAE: 7339.3794\n",
      "Epoch 71/100\n",
      "34/34 [==============================] - 0s 4ms/step - loss: 7377.6396 - MAE: 7377.6396\n",
      "Epoch 72/100\n",
      "34/34 [==============================] - 0s 4ms/step - loss: 7435.5225 - MAE: 7435.5225\n",
      "Epoch 73/100\n",
      "34/34 [==============================] - 0s 4ms/step - loss: 7360.5439 - MAE: 7360.5439\n",
      "Epoch 74/100\n",
      "34/34 [==============================] - 0s 4ms/step - loss: 7430.2207 - MAE: 7430.2207\n",
      "Epoch 75/100\n",
      "34/34 [==============================] - 0s 4ms/step - loss: 7153.2988 - MAE: 7153.2988\n",
      "Epoch 76/100\n",
      "34/34 [==============================] - 0s 4ms/step - loss: 7082.0308 - MAE: 7082.0308\n",
      "Epoch 77/100\n",
      "34/34 [==============================] - 0s 4ms/step - loss: 7507.4028 - MAE: 7507.4028\n",
      "Epoch 78/100\n",
      "34/34 [==============================] - 0s 5ms/step - loss: 7264.5601 - MAE: 7264.5601\n",
      "Epoch 79/100\n",
      "34/34 [==============================] - 0s 4ms/step - loss: 7424.2310 - MAE: 7424.2310\n",
      "Epoch 80/100\n",
      "34/34 [==============================] - 0s 4ms/step - loss: 7251.8340 - MAE: 7251.8340\n",
      "Epoch 81/100\n",
      "34/34 [==============================] - 0s 3ms/step - loss: 7242.6846 - MAE: 7242.6846\n",
      "Epoch 82/100\n",
      "34/34 [==============================] - 0s 3ms/step - loss: 7263.6147 - MAE: 7263.6147\n",
      "Epoch 83/100\n",
      "34/34 [==============================] - 0s 3ms/step - loss: 7501.6733 - MAE: 7501.6733\n",
      "Epoch 84/100\n",
      "34/34 [==============================] - 0s 3ms/step - loss: 7409.5938 - MAE: 7409.5938\n",
      "Epoch 85/100\n",
      "34/34 [==============================] - 0s 3ms/step - loss: 7557.7349 - MAE: 7557.7349\n",
      "Epoch 86/100\n",
      "34/34 [==============================] - 0s 4ms/step - loss: 7585.0830 - MAE: 7585.0830\n",
      "Epoch 87/100\n",
      "34/34 [==============================] - 0s 4ms/step - loss: 7359.2793 - MAE: 7359.2793\n",
      "Epoch 88/100\n",
      "34/34 [==============================] - 0s 3ms/step - loss: 7206.9155 - MAE: 7206.9155\n",
      "Epoch 89/100\n",
      "34/34 [==============================] - 0s 3ms/step - loss: 7431.8638 - MAE: 7431.8638\n",
      "Epoch 90/100\n",
      "34/34 [==============================] - 0s 3ms/step - loss: 6993.9668 - MAE: 6993.9668\n",
      "Epoch 91/100\n",
      "34/34 [==============================] - 0s 3ms/step - loss: 7208.0957 - MAE: 7208.0957\n",
      "Epoch 92/100\n",
      "34/34 [==============================] - 0s 3ms/step - loss: 7276.4385 - MAE: 7276.4385\n",
      "Epoch 93/100\n",
      "34/34 [==============================] - 0s 3ms/step - loss: 7506.6084 - MAE: 7506.6084\n",
      "Epoch 94/100\n",
      "34/34 [==============================] - 0s 4ms/step - loss: 7339.8271 - MAE: 7339.8271\n",
      "Epoch 95/100\n",
      "34/34 [==============================] - 0s 4ms/step - loss: 7370.7837 - MAE: 7370.7837\n",
      "Epoch 96/100\n",
      "34/34 [==============================] - 0s 4ms/step - loss: 7368.3198 - MAE: 7368.3198\n",
      "Epoch 97/100\n",
      "34/34 [==============================] - 0s 4ms/step - loss: 7144.6685 - MAE: 7144.6685\n",
      "Epoch 98/100\n",
      "34/34 [==============================] - 0s 4ms/step - loss: 7463.2554 - MAE: 7463.2554\n",
      "Epoch 99/100\n",
      "34/34 [==============================] - 0s 4ms/step - loss: 7379.2378 - MAE: 7379.2378\n",
      "Epoch 100/100\n",
      "34/34 [==============================] - 0s 3ms/step - loss: 7231.3882 - MAE: 7231.3882\n"
     ]
    },
    {
     "data": {
      "text/plain": [
       "<keras.callbacks.History at 0x212c1029420>"
      ]
     },
     "execution_count": 164,
     "metadata": {},
     "output_type": "execute_result"
    }
   ],
   "source": [
    "# Neural Network\n",
    "\n",
    "tf.random.set_seed(42)\n",
    "\n",
    "insurance_model = tf.keras.Sequential([\n",
    "    tf.keras.layers.Dense(10),\n",
    "    tf.keras.layers.Dense(1)\n",
    "])\n",
    "\n",
    "insurance_model.compile(loss=tf.keras.losses.mae,\n",
    "                        optimizer = tf.keras.optimizers.SGD(),\n",
    "                        metrics=[\"MAE\"])\n",
    "\n",
    "insurance_model.fit(X_train,y_train,epochs=100)"
   ]
  },
  {
   "cell_type": "code",
   "execution_count": 165,
   "metadata": {},
   "outputs": [
    {
     "name": "stdout",
     "output_type": "stream",
     "text": [
      "9/9 [==============================] - 0s 5ms/step - loss: 8854.0898 - MAE: 8854.0898\n"
     ]
    },
    {
     "data": {
      "text/plain": [
       "[8854.08984375, 8854.08984375]"
      ]
     },
     "execution_count": 165,
     "metadata": {},
     "output_type": "execute_result"
    }
   ],
   "source": [
    "insurance_model.evaluate(X_test,y_test)"
   ]
  },
  {
   "attachments": {},
   "cell_type": "markdown",
   "metadata": {},
   "source": [
    "##### Experiments\n",
    "- Add extra layers with more hidden units\n",
    "- Train for longer"
   ]
  },
  {
   "cell_type": "code",
   "execution_count": 169,
   "metadata": {},
   "outputs": [],
   "source": [
    "tf.random.set_seed(42)\n",
    "\n",
    "insurance_model_1 = tf.keras.Sequential([\n",
    "    tf.keras.layers.Dense(100),\n",
    "    tf.keras.layers.Dense(10),\n",
    "    tf.keras.layers.Dense(1)\n",
    "])\n",
    "\n",
    "insurance_model_1.compile(loss= tf.keras.losses.mae,\n",
    "                        optimizer = tf.keras.optimizers.Adam(),\n",
    "                        metrics = [\"mae\"])\n",
    "\n",
    "history = insurance_model_1.fit(X_train,y_train,epochs=100,verbose=0)"
   ]
  },
  {
   "cell_type": "code",
   "execution_count": 170,
   "metadata": {},
   "outputs": [
    {
     "name": "stdout",
     "output_type": "stream",
     "text": [
      "9/9 [==============================] - 0s 4ms/step - loss: 4765.3379 - mae: 4765.3379\n"
     ]
    },
    {
     "data": {
      "text/plain": [
       "[4765.337890625, 4765.337890625]"
      ]
     },
     "execution_count": 170,
     "metadata": {},
     "output_type": "execute_result"
    }
   ],
   "source": [
    "insurance_model_1.evaluate(X_test,y_test)"
   ]
  },
  {
   "attachments": {},
   "cell_type": "markdown",
   "metadata": {},
   "source": [
    "#### Plotting the loss curve:"
   ]
  },
  {
   "cell_type": "code",
   "execution_count": 171,
   "metadata": {},
   "outputs": [
    {
     "data": {
      "image/png": "[encoded data removed]",
      "text/plain": [
       "<Figure size 640x480 with 1 Axes>"
      ]
     },
     "metadata": {},
     "output_type": "display_data"
    }
   ],
   "source": [
    "# Plot history (also known as a loss curve)\n",
    "pd.DataFrame(history.history).plot()\n",
    "plt.ylabel(\"loss\")\n",
    "plt.xlabel(\"epochs\");"
   ]
  },
  {
   "attachments": {},
   "cell_type": "markdown",
   "metadata": {},
   "source": [
    "From this, it looks like our model's loss (and MAE) were both still decreasing (in our case, MAE and loss are the same, hence the lines in the plot overlap eachother)."
   ]
  },
  {
   "attachments": {},
   "cell_type": "markdown",
   "metadata": {},
   "source": [
    "### Preprocessing data\n",
    "- Normalization\n",
    "- Standardization"
   ]
  },
  {
   "cell_type": "code",
   "execution_count": null,
   "metadata": {},
   "outputs": [],
   "source": []
  }
 ],
 "metadata": {
  "kernelspec": {
   "display_name": "Python 3",
   "language": "python",
   "name": "python3"
  },
  "language_info": {
   "codemirror_mode": {
    "name": "ipython",
    "version": 3
   },
   "file_extension": ".py",
   "mimetype": "text/x-python",
   "name": "python",
   "nbconvert_exporter": "python",
   "pygments_lexer": "ipython3",
   "version": "3.10.7"
  },
  "orig_nbformat": 4
 },
 "nbformat": 4,
 "nbformat_minor": 2
}
